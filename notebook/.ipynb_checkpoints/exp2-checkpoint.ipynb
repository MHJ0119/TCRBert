{
 "cells": [
  {
   "cell_type": "markdown",
   "metadata": {},
   "source": [
    "# Experiment 2 \n",
    "\n",
    "- Fine-tuning of the pre-trained TAPE model in a progressively specialized manner while extending the frozen layers\n",
    "- Performance evaluation using two external datasets, Shomuradova and ImmuneCODE datatsets, which contain SARS-CoV-2 S-protein <sub>269~-277</sub>(YLQPRTFLL) epitope-specific TCR CDR3βs "
   ]
  },
  {
   "cell_type": "markdown",
   "metadata": {},
   "source": [
    "## Training process and model architecture\n",
    "\n",
    "\n",
    "<img src='res/fig1.png' width='70%'>\n",
    "\n",
    "Training process for the proposed model. The initial model is cloned from pre-trained Tasks Assessing Protein Embeddings (TAPE) model, adding a classification layer at the end. The pre-trained model is fine-tuned in two rounds in a progressively specialized manner while extending the frozen layers between rounds.\n",
    "\n",
    "<img src='res/fig2.png' width='30%'>\n",
    "\n",
    "The proposed model architecture. Input amino acid sequences concatenated by epitope and CDR3β sequences are first encoded into tokens using a tokenizer. Each token is then embedded into a 768-dimensional vector in the pre-trained Tasks Assessing Protein Embeddings (TAPE) model which has 12 encoding layers with 12 self-attention heads in each layer. The final classifier, a 2-layer feed forward network, is then used to predict either binder or not from the output of the TAPE model."
   ]
  },
  {
   "cell_type": "markdown",
   "metadata": {},
   "source": [
    "## Global configurations"
   ]
  },
  {
   "cell_type": "code",
   "execution_count": 1,
   "metadata": {
    "scrolled": true
   },
   "outputs": [
    {
     "name": "stdout",
     "output_type": "stream",
     "text": [
      "2022-01-14 21:46:58 [INFO]: Loaded exp_conf: {'title': 'exp2', 'description': 'Fine-tuning of pre-trained TAPE model in a progressively specialized manner', 'paper': 'exp2', 'model_config': '../config/bert-base/', 'outdir': '../output/exp2', 'train': {'pretrained_model': {'type': 'tape', 'location': '../config/bert-base/'}, 'data_parallel': False, 'backup': 'train.bak.{date}.tar.gz', 'rounds': [{'data': 'dash_vdjdb_mcpas', 'exclude_eval_data_by': ['index', 'cdr3b'], 'test_size': 0.2, 'batch_size': 128, 'n_epochs': 150, 'n_workers': 12, 'metrics': ['accuracy'], 'optimizer': {'type': 'adam', 'lr': 0.0001}, 'train_bert_encoders': [-10, None], 'early_stopper': {'monitor': 'accuracy', 'patience': 15}, 'model_checkpoint': {'chk': 'train.{round}.model_{epoch}.chk', 'monitor': 'accuracy', 'save_best_only': True, 'period': 1}, 'result': 'train.{round}.result.json'}, {'data': 'iedb_sars2', 'exclude_eval_data_by': ['index', 'cdr3b'], 'test_size': 0.2, 'batch_size': 128, 'n_epochs': 100, 'n_workers': 12, 'metrics': ['accuracy'], 'optimizer': {'type': 'adam', 'lr': 0.0001}, 'train_bert_encoders': [-6, None], 'early_stopper': {'monitor': 'accuracy', 'patience': 10}, 'model_checkpoint': {'chk': 'train.{round}.model_{epoch}.chk', 'monitor': 'accuracy', 'save_best_only': True, 'period': 1}, 'result': 'train.{round}.result.json'}]}, 'eval': {'data_parallel': False, 'batch_size': 128, 'n_workers': 12, 'metrics': ['accuracy', 'f1', 'roc_auc'], 'output_attentions': False, 'tests': [{'data': 'shomuradova', 'result': 'eval.shomuradova.result.json'}, {'data': 'immunecode', 'result': 'eval.immunecode.result.json'}, {'data': 'pTMnet', 'result': 'eval.pTMnet.result.json'}]}}\n"
     ]
    },
    {
     "data": {
      "text/plain": [
       "{'title': 'exp2',\n",
       " 'description': 'Fine-tuning of pre-trained TAPE model in a progressively specialized manner',\n",
       " 'paper': 'exp2',\n",
       " 'model_config': '../config/bert-base/',\n",
       " 'outdir': '../output/exp2',\n",
       " 'train': {'pretrained_model': {'type': 'tape',\n",
       "   'location': '../config/bert-base/'},\n",
       "  'data_parallel': False,\n",
       "  'backup': 'train.bak.{date}.tar.gz',\n",
       "  'rounds': [{'data': 'dash_vdjdb_mcpas',\n",
       "    'exclude_eval_data_by': ['index', 'cdr3b'],\n",
       "    'test_size': 0.2,\n",
       "    'batch_size': 128,\n",
       "    'n_epochs': 150,\n",
       "    'n_workers': 12,\n",
       "    'metrics': ['accuracy'],\n",
       "    'optimizer': {'type': 'adam', 'lr': 0.0001},\n",
       "    'train_bert_encoders': [-10, None],\n",
       "    'early_stopper': {'monitor': 'accuracy', 'patience': 15},\n",
       "    'model_checkpoint': {'chk': 'train.{round}.model_{epoch}.chk',\n",
       "     'monitor': 'accuracy',\n",
       "     'save_best_only': True,\n",
       "     'period': 1},\n",
       "    'result': 'train.{round}.result.json'},\n",
       "   {'data': 'iedb_sars2',\n",
       "    'exclude_eval_data_by': ['index', 'cdr3b'],\n",
       "    'test_size': 0.2,\n",
       "    'batch_size': 128,\n",
       "    'n_epochs': 100,\n",
       "    'n_workers': 12,\n",
       "    'metrics': ['accuracy'],\n",
       "    'optimizer': {'type': 'adam', 'lr': 0.0001},\n",
       "    'train_bert_encoders': [-6, None],\n",
       "    'early_stopper': {'monitor': 'accuracy', 'patience': 10},\n",
       "    'model_checkpoint': {'chk': 'train.{round}.model_{epoch}.chk',\n",
       "     'monitor': 'accuracy',\n",
       "     'save_best_only': True,\n",
       "     'period': 1},\n",
       "    'result': 'train.{round}.result.json'}]},\n",
       " 'eval': {'data_parallel': False,\n",
       "  'batch_size': 128,\n",
       "  'n_workers': 12,\n",
       "  'metrics': ['accuracy', 'f1', 'roc_auc'],\n",
       "  'output_attentions': False,\n",
       "  'tests': [{'data': 'shomuradova', 'result': 'eval.shomuradova.result.json'},\n",
       "   {'data': 'immunecode', 'result': 'eval.immunecode.result.json'},\n",
       "   {'data': 'pTMnet', 'result': 'eval.pTMnet.result.json'}]}}"
      ]
     },
     "metadata": {},
     "output_type": "display_data"
    }
   ],
   "source": [
    "import logging\n",
    "import logging.config\n",
    "import os\n",
    "import sys\n",
    "import warnings\n",
    "from enum import auto\n",
    "import pandas as pd\n",
    "import numpy as np\n",
    "from IPython.core.display import display\n",
    "\n",
    "rootdir = '/home/hym/trunk/TCRBert'\n",
    "workdir = '%s/notebook' % rootdir\n",
    "datadir = '%s/data' % rootdir\n",
    "srcdir = '%s/tcrbert' % rootdir\n",
    "outdir = '%s/output' % rootdir\n",
    "\n",
    "os.chdir(workdir)\n",
    "\n",
    "sys.path.append(rootdir)\n",
    "sys.path.append(srcdir)\n",
    "\n",
    "from tcrbert.exp import Experiment\n",
    "from tcrbert.predlistener import PredResultRecoder\n",
    "\n",
    "\n",
    "# Display\n",
    "pd.set_option('display.max.rows', 2000)\n",
    "pd.set_option('display.max.columns', 2000)\n",
    "\n",
    "# Logger\n",
    "warnings.filterwarnings('ignore')\n",
    "logging.config.fileConfig('../config/logging.conf')\n",
    "logger = logging.getLogger('tcrbert')\n",
    "logger.setLevel(logging.INFO)\n",
    "\n",
    "# Target experiment\n",
    "exp_key = 'exp2'\n",
    "experiment = Experiment.from_key(exp_key, reload=True)\n",
    "\n",
    "exp_conf = experiment.exp_conf\n",
    "\n",
    "display(exp_conf)"
   ]
  },
  {
   "cell_type": "code",
   "execution_count": 2,
   "metadata": {},
   "outputs": [
    {
     "data": {
      "text/plain": [
       "['/home/hym/trunk/TCRBert/notebook',\n",
       " '/home/hym/trunk/TCRBert/notebook',\n",
       " '/home/hym/trunk/kvacc',\n",
       " '/home/hym/trunk/kvacc/kvacc',\n",
       " '/home/hym/trunk/lib',\n",
       " '/home/hym/trunk',\n",
       " '/home/hym/trunk/TCRBert',\n",
       " '/home/hym/trunk/TCRBert/tcrbert',\n",
       " '/home/hym/anaconda3/envs/py37-torch/lib/python37.zip',\n",
       " '/home/hym/anaconda3/envs/py37-torch/lib/python3.7',\n",
       " '/home/hym/anaconda3/envs/py37-torch/lib/python3.7/lib-dynload',\n",
       " '',\n",
       " '/home/hym/anaconda3/envs/py37-torch/lib/python3.7/site-packages',\n",
       " '/home/hym/anaconda3/envs/py37-torch/lib/python3.7/site-packages/IPython/extensions',\n",
       " '/home/hym/.ipython',\n",
       " '/home/hym/trunk/TCRBert',\n",
       " '/home/hym/trunk/TCRBert/tcrbert']"
      ]
     },
     "execution_count": 2,
     "metadata": {},
     "output_type": "execute_result"
    }
   ],
   "source": [
    "import sys\n",
    "\n",
    "sys.path.remove('/home/hym/trunk/epidab')\n",
    "sys.path.remove('/home/hym/trunk/epidab/epidab')\n",
    "sys.path"
   ]
  },
  {
   "cell_type": "markdown",
   "metadata": {},
   "source": [
    "## Fine-tuning"
   ]
  },
  {
   "cell_type": "code",
   "execution_count": 3,
   "metadata": {},
   "outputs": [
    {
     "name": "stdout",
     "output_type": "stream",
     "text": [
      "2022-01-14 21:47:40 [INFO]: ======================\n",
      "2022-01-14 21:47:40 [INFO]: Begin train at 2022-01-14 21:47:40.340682\n",
      "2022-01-14 21:47:40 [INFO]: Loading the TAPE pretrained model from ../config/bert-base/\n",
      "2022-01-14 21:47:43 [INFO]: Start 2 train rounds of exp2 at 2022-01-14 21:47:40.340682\n",
      "2022-01-14 21:47:43 [INFO]: train_conf: {'pretrained_model': {'type': 'tape', 'location': '../config/bert-base/'}, 'data_parallel': False, 'backup': 'train.bak.{date}.tar.gz', 'rounds': [{'data': 'dash_vdjdb_mcpas', 'exclude_eval_data_by': ['index', 'cdr3b'], 'test_size': 0.2, 'batch_size': 128, 'n_epochs': 150, 'n_workers': 12, 'metrics': ['accuracy'], 'optimizer': {'type': 'adam', 'lr': 0.0001}, 'train_bert_encoders': [-10, None], 'early_stopper': {'monitor': 'accuracy', 'patience': 15}, 'model_checkpoint': {'chk': 'train.{round}.model_{epoch}.chk', 'monitor': 'accuracy', 'save_best_only': True, 'period': 1}, 'result': 'train.{round}.result.json'}, {'data': 'iedb_sars2', 'exclude_eval_data_by': ['index', 'cdr3b'], 'test_size': 0.2, 'batch_size': 128, 'n_epochs': 100, 'n_workers': 12, 'metrics': ['accuracy'], 'optimizer': {'type': 'adam', 'lr': 0.0001}, 'train_bert_encoders': [-6, None], 'early_stopper': {'monitor': 'accuracy', 'patience': 10}, 'model_checkpoint': {'chk': 'train.{round}.model_{epoch}.chk', 'monitor': 'accuracy', 'save_best_only': True, 'period': 1}, 'result': 'train.{round}.result.json'}]}\n",
      "2022-01-14 21:47:43 [INFO]: Start 0 train round using data: dash_vdjdb_mcpas, round_conf: {'data': 'dash_vdjdb_mcpas', 'exclude_eval_data_by': ['index', 'cdr3b'], 'test_size': 0.2, 'batch_size': 128, 'n_epochs': 150, 'n_workers': 12, 'metrics': ['accuracy'], 'optimizer': {'type': 'adam', 'lr': 0.0001}, 'train_bert_encoders': [-10, None], 'early_stopper': {'monitor': 'accuracy', 'patience': 15}, 'model_checkpoint': {'chk': 'train.{round}.model_{epoch}.chk', 'monitor': 'accuracy', 'save_best_only': True, 'period': 1}, 'result': 'train.{round}.result.json'}\n",
      "2022-01-14 21:47:44 [INFO]: dash_vdjdb_mcpas dataset was loaded from ../output/dash_vdjdb_mcpas.data.csv, df.shape: (25138, 10)\n",
      "2022-01-14 21:47:44 [INFO]: Start to exclude eval data from train data, df.shape: (25138, 10), target_cols: ['index', 'cdr3b']\n",
      "2022-01-14 21:47:44 [INFO]: shomuradova dataset was loaded from ../output/shomuradova.data.csv, df.shape: (610, 9)\n",
      "2022-01-14 21:47:44 [INFO]: Excluding shomuradova eval data by index from train data\n",
      "2022-01-14 21:47:44 [INFO]: Current train data.shape: (25138, 10)\n",
      "2022-01-14 21:47:44 [INFO]: Excluding shomuradova eval data by cdr3b from train data\n",
      "2022-01-14 21:47:45 [INFO]: Current train data.shape: (24674, 10)\n",
      "2022-01-14 21:47:45 [INFO]: immunecode dataset was loaded from ../output/immunecode.data.csv, df.shape: (742, 9)\n",
      "2022-01-14 21:47:45 [INFO]: Excluding immunecode eval data by index from train data\n",
      "2022-01-14 21:47:45 [INFO]: Current train data.shape: (24674, 10)\n",
      "2022-01-14 21:47:45 [INFO]: Excluding immunecode eval data by cdr3b from train data\n",
      "2022-01-14 21:47:46 [INFO]: Current train data.shape: (24088, 10)\n",
      "2022-01-14 21:47:46 [INFO]: pTMnet dataset was loaded from ../output/pTMnet.data.csv, df.shape: (1198, 10)\n",
      "2022-01-14 21:47:46 [INFO]: Excluding pTMnet eval data by index from train data\n",
      "2022-01-14 21:47:47 [INFO]: Current train data.shape: (24071, 10)\n",
      "2022-01-14 21:47:47 [INFO]: Excluding pTMnet eval data by cdr3b from train data\n",
      "2022-01-14 21:47:47 [INFO]: Current train data.shape: (23230, 10)\n",
      "2022-01-14 21:47:47 [INFO]: Final train data.shape: (23230, 10)\n",
      "2022-01-14 21:47:47 [INFO]: The bert encoders to be trained: [-10, None]\n",
      "2022-01-14 21:47:50 [INFO]: ======================\n",
      "2022-01-14 21:47:50 [INFO]: Begin training...\n",
      "2022-01-14 21:47:50 [INFO]: use_cuda, device: True, cuda:0\n",
      "2022-01-14 21:47:50 [INFO]: train.n_data: 18584, test.n_data: 4646\n",
      "2022-01-14 21:47:50 [INFO]: optimizer: Adam (\n",
      "Parameter Group 0\n",
      "    amsgrad: False\n",
      "    betas: (0.9, 0.999)\n",
      "    eps: 1e-08\n",
      "    lr: 0.0001\n",
      "    weight_decay: 0\n",
      ")\n",
      "2022-01-14 21:47:50 [INFO]: evaluator: <tcrbert.model.BertTCREpitopeModel.PredictionEvaluator object at 0x7f0d5062c650>\n",
      "2022-01-14 21:47:50 [INFO]: n_epochs: 150\n",
      "2022-01-14 21:47:50 [INFO]: train.batch_size: 128\n",
      "2022-01-14 21:47:50 [INFO]: test.batch_size: 128\n"
     ]
    },
    {
     "name": "stderr",
     "output_type": "stream",
     "text": [
      "Training in epoch 0/150: 100%|██████████| 146/146 [03:03<00:00,  1.26s/batch]\n",
      "Validating in epoch 0/150: 100%|██████████| 37/37 [00:34<00:00,  1.08batch/s]"
     ]
    },
    {
     "name": "stdout",
     "output_type": "stream",
     "text": [
      "2022-01-14 21:51:28 [INFO]: [EvalScoreRecoder]: In epoch 0/150, loss train score: 0.6776995826257418, val score: 0.6421012282371521\n",
      "2022-01-14 21:51:28 [INFO]: [EvalScoreRecoder]: In epoch 0/150, accuracy train score: 0.568279109589041, val score: 0.6075413406827881\n",
      "2022-01-14 21:51:28 [INFO]: [EarlyStopper]: In epoch 0/150, accuracy score: 0.6075413406827881, best accuracy score: -inf;update best score to 0.6075413406827881\n",
      "2022-01-14 21:51:28 [INFO]: [ModelCheckpoint]: Checkpoint at epoch 0: accuracy improved from -inf to 0.6075413406827881, saving model to ../output/exp2/train.0.model_0.chk\n"
     ]
    },
    {
     "name": "stderr",
     "output_type": "stream",
     "text": [
      "\n",
      "Training in epoch 1/150: 100%|██████████| 146/146 [03:02<00:00,  1.25s/batch]\n",
      "Validating in epoch 1/150: 100%|██████████| 37/37 [00:34<00:00,  1.08batch/s]"
     ]
    },
    {
     "name": "stdout",
     "output_type": "stream",
     "text": [
      "2022-01-14 21:55:07 [INFO]: [EvalScoreRecoder]: In epoch 1/150, loss train score: 0.6108396200284566, val score: 0.5824068776659064\n",
      "2022-01-14 21:55:07 [INFO]: [EvalScoreRecoder]: In epoch 1/150, accuracy train score: 0.6440674942922374, val score: 0.666451813655761\n",
      "2022-01-14 21:55:07 [INFO]: [EarlyStopper]: In epoch 1/150, accuracy score: 0.666451813655761, best accuracy score: 0.6075413406827881;update best score to 0.666451813655761\n",
      "2022-01-14 21:55:07 [INFO]: [ModelCheckpoint]: Checkpoint at epoch 1: accuracy improved from 0.6075413406827881 to 0.666451813655761, saving model to ../output/exp2/train.0.model_1.chk\n"
     ]
    },
    {
     "name": "stderr",
     "output_type": "stream",
     "text": [
      "\n",
      "Training in epoch 2/150: 100%|██████████| 146/146 [03:04<00:00,  1.26s/batch]\n",
      "Validating in epoch 2/150: 100%|██████████| 37/37 [00:34<00:00,  1.08batch/s]"
     ]
    },
    {
     "name": "stdout",
     "output_type": "stream",
     "text": [
      "2022-01-14 21:58:46 [INFO]: [EvalScoreRecoder]: In epoch 2/150, loss train score: 0.5410990431292416, val score: 0.5854322918363519\n",
      "2022-01-14 21:58:46 [INFO]: [EvalScoreRecoder]: In epoch 2/150, accuracy train score: 0.7048730022831051, val score: 0.6837660028449501\n",
      "2022-01-14 21:58:46 [INFO]: [EarlyStopper]: In epoch 2/150, accuracy score: 0.6837660028449501, best accuracy score: 0.666451813655761;update best score to 0.6837660028449501\n",
      "2022-01-14 21:58:46 [INFO]: [ModelCheckpoint]: Checkpoint at epoch 2: accuracy improved from 0.666451813655761 to 0.6837660028449501, saving model to ../output/exp2/train.0.model_2.chk\n"
     ]
    },
    {
     "name": "stderr",
     "output_type": "stream",
     "text": [
      "\n",
      "Training in epoch 3/150: 100%|██████████| 146/146 [03:04<00:00,  1.27s/batch]\n",
      "Validating in epoch 3/150: 100%|██████████| 37/37 [00:34<00:00,  1.07batch/s]"
     ]
    },
    {
     "name": "stdout",
     "output_type": "stream",
     "text": [
      "2022-01-14 22:02:27 [INFO]: [EvalScoreRecoder]: In epoch 3/150, loss train score: 0.47195082004756145, val score: 0.6717683801779876\n",
      "2022-01-14 22:02:27 [INFO]: [EvalScoreRecoder]: In epoch 3/150, accuracy train score: 0.7591145833333333, val score: 0.6971461593172119\n",
      "2022-01-14 22:02:27 [INFO]: [EarlyStopper]: In epoch 3/150, accuracy score: 0.6971461593172119, best accuracy score: 0.6837660028449501;update best score to 0.6971461593172119\n",
      "2022-01-14 22:02:27 [INFO]: [ModelCheckpoint]: Checkpoint at epoch 3: accuracy improved from 0.6837660028449501 to 0.6971461593172119, saving model to ../output/exp2/train.0.model_3.chk\n"
     ]
    },
    {
     "name": "stderr",
     "output_type": "stream",
     "text": [
      "\n",
      "Training in epoch 4/150: 100%|██████████| 146/146 [03:02<00:00,  1.25s/batch]\n",
      "Validating in epoch 4/150: 100%|██████████| 37/37 [00:34<00:00,  1.08batch/s]"
     ]
    },
    {
     "name": "stdout",
     "output_type": "stream",
     "text": [
      "2022-01-14 22:06:05 [INFO]: [EvalScoreRecoder]: In epoch 4/150, loss train score: 0.402221897081153, val score: 0.6935203784220928\n",
      "2022-01-14 22:06:05 [INFO]: [EvalScoreRecoder]: In epoch 4/150, accuracy train score: 0.804562642694064, val score: 0.7153605085348506\n",
      "2022-01-14 22:06:05 [INFO]: [EarlyStopper]: In epoch 4/150, accuracy score: 0.7153605085348506, best accuracy score: 0.6971461593172119;update best score to 0.7153605085348506\n",
      "2022-01-14 22:06:05 [INFO]: [ModelCheckpoint]: Checkpoint at epoch 4: accuracy improved from 0.6971461593172119 to 0.7153605085348506, saving model to ../output/exp2/train.0.model_4.chk\n"
     ]
    },
    {
     "name": "stderr",
     "output_type": "stream",
     "text": [
      "\n",
      "Training in epoch 5/150: 100%|██████████| 146/146 [03:04<00:00,  1.26s/batch]\n",
      "Validating in epoch 5/150: 100%|██████████| 37/37 [00:34<00:00,  1.08batch/s]"
     ]
    },
    {
     "name": "stdout",
     "output_type": "stream",
     "text": [
      "2022-01-14 22:09:44 [INFO]: [EvalScoreRecoder]: In epoch 5/150, loss train score: 0.3452529236674309, val score: 0.7454712149259206\n",
      "2022-01-14 22:09:44 [INFO]: [EvalScoreRecoder]: In epoch 5/150, accuracy train score: 0.8415560787671232, val score: 0.7154938655761025\n",
      "2022-01-14 22:09:44 [INFO]: [EarlyStopper]: In epoch 5/150, accuracy score: 0.7154938655761025, best accuracy score: 0.7153605085348506;update best score to 0.7154938655761025\n",
      "2022-01-14 22:09:44 [INFO]: [ModelCheckpoint]: Checkpoint at epoch 5: accuracy improved from 0.7153605085348506 to 0.7154938655761025, saving model to ../output/exp2/train.0.model_5.chk\n"
     ]
    },
    {
     "name": "stderr",
     "output_type": "stream",
     "text": [
      "\n",
      "Training in epoch 6/150: 100%|██████████| 146/146 [03:03<00:00,  1.26s/batch]\n",
      "Training in epoch 7/150: 100%|██████████| 146/146 [03:04<00:00,  1.26s/batch]\n",
      "Validating in epoch 7/150: 100%|██████████| 37/37 [00:34<00:00,  1.08batch/s]"
     ]
    },
    {
     "name": "stdout",
     "output_type": "stream",
     "text": [
      "2022-01-14 22:17:01 [INFO]: [EvalScoreRecoder]: In epoch 7/150, loss train score: 0.24295146592369635, val score: 0.68364512759286\n",
      "2022-01-14 22:17:01 [INFO]: [EvalScoreRecoder]: In epoch 7/150, accuracy train score: 0.8952268835616438, val score: 0.7383757112375533\n",
      "2022-01-14 22:17:01 [INFO]: [EarlyStopper]: In epoch 7/150, accuracy score: 0.7383757112375533, best accuracy score: 0.7177387091038407;update best score to 0.7383757112375533\n",
      "2022-01-14 22:17:01 [INFO]: [ModelCheckpoint]: Checkpoint at epoch 7: accuracy improved from 0.7177387091038407 to 0.7383757112375533, saving model to ../output/exp2/train.0.model_7.chk\n"
     ]
    },
    {
     "name": "stderr",
     "output_type": "stream",
     "text": [
      "\n",
      "Training in epoch 8/150: 100%|██████████| 146/146 [03:03<00:00,  1.26s/batch]\n",
      "Validating in epoch 8/150: 100%|██████████| 37/37 [00:34<00:00,  1.07batch/s]"
     ]
    },
    {
     "name": "stdout",
     "output_type": "stream",
     "text": [
      "2022-01-14 22:20:40 [INFO]: [EvalScoreRecoder]: In epoch 8/150, loss train score: 0.19922885217078745, val score: 0.8832718971613291\n",
      "2022-01-14 22:20:40 [INFO]: [EvalScoreRecoder]: In epoch 8/150, accuracy train score: 0.9185930365296803, val score: 0.7411428698435277\n",
      "2022-01-14 22:20:40 [INFO]: [EarlyStopper]: In epoch 8/150, accuracy score: 0.7411428698435277, best accuracy score: 0.7383757112375533;update best score to 0.7411428698435277\n",
      "2022-01-14 22:20:40 [INFO]: [ModelCheckpoint]: Checkpoint at epoch 8: accuracy improved from 0.7383757112375533 to 0.7411428698435277, saving model to ../output/exp2/train.0.model_8.chk\n"
     ]
    },
    {
     "name": "stderr",
     "output_type": "stream",
     "text": [
      "\n",
      "Training in epoch 9/150: 100%|██████████| 146/146 [03:03<00:00,  1.26s/batch]\n",
      "Validating in epoch 9/150: 100%|██████████| 37/37 [00:34<00:00,  1.07batch/s]"
     ]
    },
    {
     "name": "stdout",
     "output_type": "stream",
     "text": [
      "2022-01-14 22:24:18 [INFO]: [EvalScoreRecoder]: In epoch 9/150, loss train score: 0.15666917703841646, val score: 0.8242223552755408\n",
      "2022-01-14 22:24:18 [INFO]: [EvalScoreRecoder]: In epoch 9/150, accuracy train score: 0.9377497146118721, val score: 0.7388758001422475\n",
      "2022-01-14 22:24:18 [INFO]: [EarlyStopper]: In epoch 9/150, accuracy score: 0.7388758001422475, best accuracy score: 0.7411428698435277;accuracy score was not improved\n",
      "2022-01-14 22:24:18 [INFO]: [EarlyStopper]: Current wait count: 1, patience: 15\n",
      "2022-01-14 22:24:18 [INFO]: [ModelCheckpoint]: Checkpoint at epoch 9: accuracy did not improve\n"
     ]
    },
    {
     "name": "stderr",
     "output_type": "stream",
     "text": [
      "\n",
      "Training in epoch 10/150: 100%|██████████| 146/146 [03:05<00:00,  1.27s/batch]\n",
      "Validating in epoch 10/150: 100%|██████████| 37/37 [00:34<00:00,  1.07batch/s]"
     ]
    },
    {
     "name": "stdout",
     "output_type": "stream",
     "text": [
      "2022-01-14 22:27:58 [INFO]: [EvalScoreRecoder]: In epoch 10/150, loss train score: 0.13997245502135117, val score: 0.8414914011955261\n",
      "2022-01-14 22:27:58 [INFO]: [EvalScoreRecoder]: In epoch 10/150, accuracy train score: 0.9448309075342466, val score: 0.7486664295874822\n",
      "2022-01-14 22:27:58 [INFO]: [EarlyStopper]: In epoch 10/150, accuracy score: 0.7486664295874822, best accuracy score: 0.7411428698435277;update best score to 0.7486664295874822\n",
      "2022-01-14 22:27:58 [INFO]: [ModelCheckpoint]: Checkpoint at epoch 10: accuracy improved from 0.7411428698435277 to 0.7486664295874822, saving model to ../output/exp2/train.0.model_10.chk\n"
     ]
    },
    {
     "name": "stderr",
     "output_type": "stream",
     "text": [
      "\n",
      "Training in epoch 11/150: 100%|██████████| 146/146 [03:04<00:00,  1.27s/batch]\n",
      "Validating in epoch 11/150: 100%|██████████| 37/37 [00:34<00:00,  1.07batch/s]"
     ]
    },
    {
     "name": "stdout",
     "output_type": "stream",
     "text": [
      "2022-01-14 22:31:37 [INFO]: [EvalScoreRecoder]: In epoch 11/150, loss train score: 0.11261330336995728, val score: 0.9031975269317627\n",
      "2022-01-14 22:31:37 [INFO]: [EvalScoreRecoder]: In epoch 11/150, accuracy train score: 0.9558361872146117, val score: 0.753545074679943\n",
      "2022-01-14 22:31:37 [INFO]: [EarlyStopper]: In epoch 11/150, accuracy score: 0.753545074679943, best accuracy score: 0.7486664295874822;update best score to 0.753545074679943\n",
      "2022-01-14 22:31:37 [INFO]: [ModelCheckpoint]: Checkpoint at epoch 11: accuracy improved from 0.7486664295874822 to 0.753545074679943, saving model to ../output/exp2/train.0.model_11.chk\n"
     ]
    },
    {
     "name": "stderr",
     "output_type": "stream",
     "text": [
      "\n",
      "Training in epoch 12/150: 100%|██████████| 146/146 [03:03<00:00,  1.26s/batch]\n",
      "Validating in epoch 12/150: 100%|██████████| 37/37 [00:33<00:00,  1.09batch/s]"
     ]
    },
    {
     "name": "stdout",
     "output_type": "stream",
     "text": [
      "2022-01-14 22:35:15 [INFO]: [EvalScoreRecoder]: In epoch 12/150, loss train score: 0.08642889890972882, val score: 0.8602037719778113\n",
      "2022-01-14 22:35:15 [INFO]: [EvalScoreRecoder]: In epoch 12/150, accuracy train score: 0.9691780821917808, val score: 0.7521225995732574\n",
      "2022-01-14 22:35:15 [INFO]: [EarlyStopper]: In epoch 12/150, accuracy score: 0.7521225995732574, best accuracy score: 0.753545074679943;accuracy score was not improved\n",
      "2022-01-14 22:35:15 [INFO]: [EarlyStopper]: Current wait count: 1, patience: 15\n",
      "2022-01-14 22:35:15 [INFO]: [ModelCheckpoint]: Checkpoint at epoch 12: accuracy did not improve\n"
     ]
    },
    {
     "name": "stderr",
     "output_type": "stream",
     "text": [
      "\n",
      "Training in epoch 13/150: 100%|██████████| 146/146 [03:01<00:00,  1.25s/batch]\n",
      "Validating in epoch 13/150: 100%|██████████| 37/37 [00:33<00:00,  1.10batch/s]"
     ]
    },
    {
     "name": "stdout",
     "output_type": "stream",
     "text": [
      "2022-01-14 22:38:51 [INFO]: [EvalScoreRecoder]: In epoch 13/150, loss train score: 0.07998221210038213, val score: 0.9780154494014947\n",
      "2022-01-14 22:38:51 [INFO]: [EvalScoreRecoder]: In epoch 13/150, accuracy train score: 0.9714790239726028, val score: 0.7597795163584637\n",
      "2022-01-14 22:38:51 [INFO]: [EarlyStopper]: In epoch 13/150, accuracy score: 0.7597795163584637, best accuracy score: 0.753545074679943;update best score to 0.7597795163584637\n",
      "2022-01-14 22:38:51 [INFO]: [ModelCheckpoint]: Checkpoint at epoch 13: accuracy improved from 0.753545074679943 to 0.7597795163584637, saving model to ../output/exp2/train.0.model_13.chk\n"
     ]
    },
    {
     "name": "stderr",
     "output_type": "stream",
     "text": [
      "\n",
      "Training in epoch 14/150: 100%|██████████| 146/146 [03:03<00:00,  1.26s/batch]\n",
      "Validating in epoch 14/150: 100%|██████████| 37/37 [00:33<00:00,  1.09batch/s]"
     ]
    },
    {
     "name": "stdout",
     "output_type": "stream",
     "text": [
      "2022-01-14 22:42:29 [INFO]: [EvalScoreRecoder]: In epoch 14/150, loss train score: 0.06340155588927016, val score: 1.1292198461455267\n",
      "2022-01-14 22:42:29 [INFO]: [EvalScoreRecoder]: In epoch 14/150, accuracy train score: 0.976830051369863, val score: 0.7551564722617353\n",
      "2022-01-14 22:42:29 [INFO]: [EarlyStopper]: In epoch 14/150, accuracy score: 0.7551564722617353, best accuracy score: 0.7597795163584637;accuracy score was not improved\n",
      "2022-01-14 22:42:29 [INFO]: [EarlyStopper]: Current wait count: 1, patience: 15\n",
      "2022-01-14 22:42:29 [INFO]: [ModelCheckpoint]: Checkpoint at epoch 14: accuracy did not improve\n"
     ]
    },
    {
     "name": "stderr",
     "output_type": "stream",
     "text": [
      "\n",
      "Training in epoch 15/150:  23%|██▎       | 34/146 [00:42<02:19,  1.25s/batch]IOPub message rate exceeded.\n",
      "The notebook server will temporarily stop sending output\n",
      "to the client in order to avoid crashing it.\n",
      "To change this limit, set the config variable\n",
      "`--NotebookApp.iopub_msg_rate_limit`.\n",
      "\n",
      "Current values:\n",
      "NotebookApp.iopub_msg_rate_limit=1000.0 (msgs/sec)\n",
      "NotebookApp.rate_limit_window=3.0 (secs)\n",
      "\n",
      "Training in epoch 15/150: 100%|██████████| 146/146 [03:03<00:00,  1.26s/batch]\n",
      "Validating in epoch 15/150: 100%|██████████| 37/37 [00:35<00:00,  1.05batch/s]"
     ]
    },
    {
     "name": "stdout",
     "output_type": "stream",
     "text": [
      "2022-01-14 22:46:08 [INFO]: [EvalScoreRecoder]: In epoch 15/150, loss train score: 0.06634681968916246, val score: 1.1280166458439183\n",
      "2022-01-14 22:46:08 [INFO]: [EvalScoreRecoder]: In epoch 15/150, accuracy train score: 0.9755458047945206, val score: 0.7504334103840683\n",
      "2022-01-14 22:46:08 [INFO]: [EarlyStopper]: In epoch 15/150, accuracy score: 0.7504334103840683, best accuracy score: 0.7597795163584637;accuracy score was not improved\n",
      "2022-01-14 22:46:08 [INFO]: [EarlyStopper]: Current wait count: 2, patience: 15\n",
      "2022-01-14 22:46:08 [INFO]: [ModelCheckpoint]: Checkpoint at epoch 15: accuracy did not improve\n"
     ]
    },
    {
     "name": "stderr",
     "output_type": "stream",
     "text": [
      "\n",
      "Training in epoch 16/150: 100%|██████████| 146/146 [03:04<00:00,  1.26s/batch]\n",
      "Validating in epoch 16/150: 100%|██████████| 37/37 [00:34<00:00,  1.06batch/s]"
     ]
    },
    {
     "name": "stdout",
     "output_type": "stream",
     "text": [
      "2022-01-14 22:49:47 [INFO]: [EvalScoreRecoder]: In epoch 16/150, loss train score: 0.060515413590234844, val score: 0.94117264409323\n",
      "2022-01-14 22:49:47 [INFO]: [EvalScoreRecoder]: In epoch 16/150, accuracy train score: 0.9780607876712328, val score: 0.7478440611664295\n",
      "2022-01-14 22:49:47 [INFO]: [EarlyStopper]: In epoch 16/150, accuracy score: 0.7478440611664295, best accuracy score: 0.7597795163584637;accuracy score was not improved\n",
      "2022-01-14 22:49:47 [INFO]: [EarlyStopper]: Current wait count: 3, patience: 15\n",
      "2022-01-14 22:49:47 [INFO]: [ModelCheckpoint]: Checkpoint at epoch 16: accuracy did not improve\n"
     ]
    },
    {
     "name": "stderr",
     "output_type": "stream",
     "text": [
      "\n",
      "Training in epoch 17/150: 100%|██████████| 146/146 [03:04<00:00,  1.26s/batch]\n",
      "Validating in epoch 17/150: 100%|██████████| 37/37 [00:34<00:00,  1.08batch/s]"
     ]
    },
    {
     "name": "stdout",
     "output_type": "stream",
     "text": [
      "2022-01-14 22:53:26 [INFO]: [EvalScoreRecoder]: In epoch 17/150, loss train score: 0.05855980226514886, val score: 0.9711683360305993\n",
      "2022-01-14 22:53:26 [INFO]: [EvalScoreRecoder]: In epoch 17/150, accuracy train score: 0.9788456050228309, val score: 0.7400871266002845\n",
      "2022-01-14 22:53:26 [INFO]: [EarlyStopper]: In epoch 17/150, accuracy score: 0.7400871266002845, best accuracy score: 0.7597795163584637;accuracy score was not improved\n",
      "2022-01-14 22:53:26 [INFO]: [EarlyStopper]: Current wait count: 4, patience: 15\n",
      "2022-01-14 22:53:26 [INFO]: [ModelCheckpoint]: Checkpoint at epoch 17: accuracy did not improve\n"
     ]
    },
    {
     "name": "stderr",
     "output_type": "stream",
     "text": [
      "\n",
      "Training in epoch 18/150: 100%|██████████| 146/146 [03:04<00:00,  1.26s/batch]\n",
      "Validating in epoch 18/150: 100%|██████████| 37/37 [00:33<00:00,  1.09batch/s]"
     ]
    },
    {
     "name": "stdout",
     "output_type": "stream",
     "text": [
      "2022-01-14 22:57:05 [INFO]: [EvalScoreRecoder]: In epoch 18/150, loss train score: 0.05402562404705263, val score: 1.1834356978132918\n",
      "2022-01-14 22:57:05 [INFO]: [EvalScoreRecoder]: In epoch 18/150, accuracy train score: 0.9806292808219178, val score: 0.7466549608819346\n",
      "2022-01-14 22:57:05 [INFO]: [EarlyStopper]: In epoch 18/150, accuracy score: 0.7466549608819346, best accuracy score: 0.7597795163584637;accuracy score was not improved\n",
      "2022-01-14 22:57:05 [INFO]: [EarlyStopper]: Current wait count: 5, patience: 15\n",
      "2022-01-14 22:57:05 [INFO]: [ModelCheckpoint]: Checkpoint at epoch 18: accuracy did not improve\n"
     ]
    },
    {
     "name": "stderr",
     "output_type": "stream",
     "text": [
      "\n",
      "Training in epoch 19/150: 100%|██████████| 146/146 [03:04<00:00,  1.27s/batch]\n",
      "Validating in epoch 19/150: 100%|██████████| 37/37 [00:34<00:00,  1.08batch/s]"
     ]
    },
    {
     "name": "stdout",
     "output_type": "stream",
     "text": [
      "2022-01-14 23:00:44 [INFO]: [EvalScoreRecoder]: In epoch 19/150, loss train score: 0.04874164085159053, val score: 1.0110292289708112\n",
      "2022-01-14 23:00:44 [INFO]: [EvalScoreRecoder]: In epoch 19/150, accuracy train score: 0.9834118150684932, val score: 0.7686922119487909\n",
      "2022-01-14 23:00:44 [INFO]: [EarlyStopper]: In epoch 19/150, accuracy score: 0.7686922119487909, best accuracy score: 0.7597795163584637;update best score to 0.7686922119487909\n",
      "2022-01-14 23:00:44 [INFO]: [ModelCheckpoint]: Checkpoint at epoch 19: accuracy improved from 0.7597795163584637 to 0.7686922119487909, saving model to ../output/exp2/train.0.model_19.chk\n"
     ]
    },
    {
     "name": "stderr",
     "output_type": "stream",
     "text": [
      "\n",
      "Training in epoch 20/150: 100%|██████████| 146/146 [03:04<00:00,  1.26s/batch]\n",
      "Validating in epoch 20/150: 100%|██████████| 37/37 [00:34<00:00,  1.09batch/s]"
     ]
    },
    {
     "name": "stdout",
     "output_type": "stream",
     "text": [
      "2022-01-14 23:04:22 [INFO]: [EvalScoreRecoder]: In epoch 20/150, loss train score: 0.047239221071932874, val score: 1.0999417868820396\n",
      "2022-01-14 23:04:22 [INFO]: [EvalScoreRecoder]: In epoch 20/150, accuracy train score: 0.9839469178082192, val score: 0.7665029338549075\n",
      "2022-01-14 23:04:22 [INFO]: [EarlyStopper]: In epoch 20/150, accuracy score: 0.7665029338549075, best accuracy score: 0.7686922119487909;accuracy score was not improved\n",
      "2022-01-14 23:04:22 [INFO]: [EarlyStopper]: Current wait count: 1, patience: 15\n",
      "2022-01-14 23:04:22 [INFO]: [ModelCheckpoint]: Checkpoint at epoch 20: accuracy did not improve\n"
     ]
    },
    {
     "name": "stderr",
     "output_type": "stream",
     "text": [
      "\n",
      "Training in epoch 21/150: 100%|██████████| 146/146 [03:04<00:00,  1.26s/batch]\n",
      "Validating in epoch 21/150: 100%|██████████| 37/37 [00:33<00:00,  1.09batch/s]"
     ]
    },
    {
     "name": "stdout",
     "output_type": "stream",
     "text": [
      "2022-01-14 23:08:00 [INFO]: [EvalScoreRecoder]: In epoch 21/150, loss train score: 0.04465142988969814, val score: 0.9052409674670245\n",
      "2022-01-14 23:08:00 [INFO]: [EvalScoreRecoder]: In epoch 21/150, accuracy train score: 0.9847495719178082, val score: 0.7744487908961593\n",
      "2022-01-14 23:08:00 [INFO]: [EarlyStopper]: In epoch 21/150, accuracy score: 0.7744487908961593, best accuracy score: 0.7686922119487909;update best score to 0.7744487908961593\n",
      "2022-01-14 23:08:00 [INFO]: [ModelCheckpoint]: Checkpoint at epoch 21: accuracy improved from 0.7686922119487909 to 0.7744487908961593, saving model to ../output/exp2/train.0.model_21.chk\n"
     ]
    },
    {
     "name": "stderr",
     "output_type": "stream",
     "text": [
      "\n",
      "Training in epoch 22/150: 100%|██████████| 146/146 [03:06<00:00,  1.27s/batch]\n",
      "Validating in epoch 22/150: 100%|██████████| 37/37 [00:33<00:00,  1.09batch/s]"
     ]
    },
    {
     "name": "stdout",
     "output_type": "stream",
     "text": [
      "2022-01-14 23:11:41 [INFO]: [EvalScoreRecoder]: In epoch 22/150, loss train score: 0.04485806454553537, val score: 1.0836185925715678\n",
      "2022-01-14 23:11:41 [INFO]: [EvalScoreRecoder]: In epoch 22/150, accuracy train score: 0.9843214897260274, val score: 0.7739487019914651\n",
      "2022-01-14 23:11:41 [INFO]: [EarlyStopper]: In epoch 22/150, accuracy score: 0.7739487019914651, best accuracy score: 0.7744487908961593;accuracy score was not improved\n",
      "2022-01-14 23:11:41 [INFO]: [EarlyStopper]: Current wait count: 1, patience: 15\n",
      "2022-01-14 23:11:41 [INFO]: [ModelCheckpoint]: Checkpoint at epoch 22: accuracy did not improve\n"
     ]
    },
    {
     "name": "stderr",
     "output_type": "stream",
     "text": [
      "\n",
      "Training in epoch 23/150: 100%|██████████| 146/146 [03:03<00:00,  1.26s/batch]\n",
      "Validating in epoch 23/150: 100%|██████████| 37/37 [00:34<00:00,  1.08batch/s]"
     ]
    },
    {
     "name": "stdout",
     "output_type": "stream",
     "text": [
      "2022-01-14 23:15:19 [INFO]: [EvalScoreRecoder]: In epoch 23/150, loss train score: 0.03903637166543264, val score: 1.0170462260375153\n",
      "2022-01-14 23:15:19 [INFO]: [EvalScoreRecoder]: In epoch 23/150, accuracy train score: 0.9860338184931506, val score: 0.7677698257467994\n",
      "2022-01-14 23:15:19 [INFO]: [EarlyStopper]: In epoch 23/150, accuracy score: 0.7677698257467994, best accuracy score: 0.7744487908961593;accuracy score was not improved\n",
      "2022-01-14 23:15:19 [INFO]: [EarlyStopper]: Current wait count: 2, patience: 15\n",
      "2022-01-14 23:15:19 [INFO]: [ModelCheckpoint]: Checkpoint at epoch 23: accuracy did not improve\n"
     ]
    },
    {
     "name": "stderr",
     "output_type": "stream",
     "text": [
      "\n",
      "Training in epoch 24/150: 100%|██████████| 146/146 [03:02<00:00,  1.25s/batch]\n",
      "Validating in epoch 24/150: 100%|██████████| 37/37 [00:34<00:00,  1.08batch/s]"
     ]
    },
    {
     "name": "stdout",
     "output_type": "stream",
     "text": [
      "2022-01-14 23:18:55 [INFO]: [EvalScoreRecoder]: In epoch 24/150, loss train score: 0.03160490786342974, val score: 1.1249145994315277\n",
      "2022-01-14 23:18:55 [INFO]: [EvalScoreRecoder]: In epoch 24/150, accuracy train score: 0.9888698630136986, val score: 0.7774826635846372\n",
      "2022-01-14 23:18:55 [INFO]: [EarlyStopper]: In epoch 24/150, accuracy score: 0.7774826635846372, best accuracy score: 0.7744487908961593;update best score to 0.7774826635846372\n",
      "2022-01-14 23:18:55 [INFO]: [ModelCheckpoint]: Checkpoint at epoch 24: accuracy improved from 0.7744487908961593 to 0.7774826635846372, saving model to ../output/exp2/train.0.model_24.chk\n"
     ]
    },
    {
     "name": "stderr",
     "output_type": "stream",
     "text": [
      "\n",
      "Training in epoch 26/150: 100%|██████████| 146/146 [03:02<00:00,  1.25s/batch]\n",
      "Validating in epoch 26/150: 100%|██████████| 37/37 [00:34<00:00,  1.08batch/s]"
     ]
    },
    {
     "name": "stdout",
     "output_type": "stream",
     "text": [
      "2022-01-14 23:26:10 [INFO]: [EvalScoreRecoder]: In epoch 26/150, loss train score: 0.040345057084429245, val score: 0.9514331205471142\n",
      "2022-01-14 23:26:10 [INFO]: [EvalScoreRecoder]: In epoch 26/150, accuracy train score: 0.9867294520547946, val score: 0.7716816322901849\n",
      "2022-01-14 23:26:10 [INFO]: [EarlyStopper]: In epoch 26/150, accuracy score: 0.7716816322901849, best accuracy score: 0.7774826635846372;accuracy score was not improved\n",
      "2022-01-14 23:26:10 [INFO]: [EarlyStopper]: Current wait count: 2, patience: 15\n",
      "2022-01-14 23:26:10 [INFO]: [ModelCheckpoint]: Checkpoint at epoch 26: accuracy did not improve\n"
     ]
    },
    {
     "name": "stderr",
     "output_type": "stream",
     "text": [
      "\n",
      "Training in epoch 27/150: 100%|██████████| 146/146 [03:04<00:00,  1.26s/batch]\n",
      "Validating in epoch 27/150: 100%|██████████| 37/37 [00:35<00:00,  1.03batch/s]"
     ]
    },
    {
     "name": "stdout",
     "output_type": "stream",
     "text": [
      "2022-01-14 23:29:50 [INFO]: [EvalScoreRecoder]: In epoch 27/150, loss train score: 0.03772626264811787, val score: 1.1592724001085437\n",
      "2022-01-14 23:29:50 [INFO]: [EvalScoreRecoder]: In epoch 27/150, accuracy train score: 0.9868899828767124, val score: 0.7726818100995733\n",
      "2022-01-14 23:29:50 [INFO]: [EarlyStopper]: In epoch 27/150, accuracy score: 0.7726818100995733, best accuracy score: 0.7774826635846372;accuracy score was not improved\n",
      "2022-01-14 23:29:50 [INFO]: [EarlyStopper]: Current wait count: 3, patience: 15\n",
      "2022-01-14 23:29:50 [INFO]: [ModelCheckpoint]: Checkpoint at epoch 27: accuracy did not improve\n"
     ]
    },
    {
     "name": "stderr",
     "output_type": "stream",
     "text": [
      "\n",
      "Training in epoch 28/150: 100%|██████████| 146/146 [03:04<00:00,  1.26s/batch]\n",
      "Validating in epoch 28/150: 100%|██████████| 37/37 [00:34<00:00,  1.08batch/s]"
     ]
    },
    {
     "name": "stdout",
     "output_type": "stream",
     "text": [
      "2022-01-14 23:33:29 [INFO]: [EvalScoreRecoder]: In epoch 28/150, loss train score: 0.036075857874007626, val score: 1.1623447650187724\n",
      "2022-01-14 23:33:29 [INFO]: [EvalScoreRecoder]: In epoch 28/150, accuracy train score: 0.9883882705479452, val score: 0.7759268314366998\n",
      "2022-01-14 23:33:29 [INFO]: [EarlyStopper]: In epoch 28/150, accuracy score: 0.7759268314366998, best accuracy score: 0.7774826635846372;accuracy score was not improved\n",
      "2022-01-14 23:33:29 [INFO]: [EarlyStopper]: Current wait count: 4, patience: 15\n",
      "2022-01-14 23:33:29 [INFO]: [ModelCheckpoint]: Checkpoint at epoch 28: accuracy did not improve\n"
     ]
    },
    {
     "name": "stderr",
     "output_type": "stream",
     "text": [
      "\n",
      "Training in epoch 29/150: 100%|██████████| 146/146 [03:04<00:00,  1.26s/batch]\n",
      "Validating in epoch 29/150: 100%|██████████| 37/37 [00:34<00:00,  1.08batch/s]"
     ]
    },
    {
     "name": "stdout",
     "output_type": "stream",
     "text": [
      "2022-01-14 23:37:07 [INFO]: [EvalScoreRecoder]: In epoch 29/150, loss train score: 0.035348228421317386, val score: 1.0360470091974414\n",
      "2022-01-14 23:37:07 [INFO]: [EvalScoreRecoder]: In epoch 29/150, accuracy train score: 0.9875321061643836, val score: 0.7773826458036984\n",
      "2022-01-14 23:37:07 [INFO]: [EarlyStopper]: In epoch 29/150, accuracy score: 0.7773826458036984, best accuracy score: 0.7774826635846372;accuracy score was not improved\n",
      "2022-01-14 23:37:07 [INFO]: [EarlyStopper]: Current wait count: 5, patience: 15\n",
      "2022-01-14 23:37:07 [INFO]: [ModelCheckpoint]: Checkpoint at epoch 29: accuracy did not improve\n"
     ]
    },
    {
     "name": "stderr",
     "output_type": "stream",
     "text": [
      "\n",
      "Training in epoch 30/150: 100%|██████████| 146/146 [03:04<00:00,  1.27s/batch]\n",
      "Validating in epoch 30/150: 100%|██████████| 37/37 [00:34<00:00,  1.07batch/s]"
     ]
    },
    {
     "name": "stdout",
     "output_type": "stream",
     "text": [
      "2022-01-14 23:40:47 [INFO]: [EvalScoreRecoder]: In epoch 30/150, loss train score: 0.034031090945362635, val score: 1.1054319884326007\n",
      "2022-01-14 23:40:47 [INFO]: [EvalScoreRecoder]: In epoch 30/150, accuracy train score: 0.9886558219178082, val score: 0.773393047652916\n",
      "2022-01-14 23:40:47 [INFO]: [EarlyStopper]: In epoch 30/150, accuracy score: 0.773393047652916, best accuracy score: 0.7774826635846372;accuracy score was not improved\n",
      "2022-01-14 23:40:47 [INFO]: [EarlyStopper]: Current wait count: 6, patience: 15\n",
      "2022-01-14 23:40:47 [INFO]: [ModelCheckpoint]: Checkpoint at epoch 30: accuracy did not improve\n"
     ]
    },
    {
     "name": "stderr",
     "output_type": "stream",
     "text": [
      "\n",
      "Training in epoch 31/150: 100%|██████████| 146/146 [03:03<00:00,  1.26s/batch]\n",
      "Validating in epoch 31/150: 100%|██████████| 37/37 [00:34<00:00,  1.08batch/s]"
     ]
    },
    {
     "name": "stdout",
     "output_type": "stream",
     "text": [
      "2022-01-14 23:44:25 [INFO]: [EvalScoreRecoder]: In epoch 31/150, loss train score: 0.03703624155684948, val score: 0.9630340853252927\n",
      "2022-01-14 23:44:25 [INFO]: [EvalScoreRecoder]: In epoch 31/150, accuracy train score: 0.9869970034246576, val score: 0.7715482752489332\n",
      "2022-01-14 23:44:25 [INFO]: [EarlyStopper]: In epoch 31/150, accuracy score: 0.7715482752489332, best accuracy score: 0.7774826635846372;accuracy score was not improved\n",
      "2022-01-14 23:44:25 [INFO]: [EarlyStopper]: Current wait count: 7, patience: 15\n",
      "2022-01-14 23:44:25 [INFO]: [ModelCheckpoint]: Checkpoint at epoch 31: accuracy did not improve\n"
     ]
    },
    {
     "name": "stderr",
     "output_type": "stream",
     "text": [
      "\n",
      "Training in epoch 32/150: 100%|██████████| 146/146 [03:02<00:00,  1.25s/batch]\n",
      "Validating in epoch 32/150: 100%|██████████| 37/37 [00:34<00:00,  1.07batch/s]"
     ]
    },
    {
     "name": "stdout",
     "output_type": "stream",
     "text": [
      "2022-01-14 23:48:02 [INFO]: [EvalScoreRecoder]: In epoch 32/150, loss train score: 0.03608862190724236, val score: 1.0074998156444446\n",
      "2022-01-14 23:48:02 [INFO]: [EvalScoreRecoder]: In epoch 32/150, accuracy train score: 0.9873537385844747, val score: 0.7761379800853485\n",
      "2022-01-14 23:48:02 [INFO]: [EarlyStopper]: In epoch 32/150, accuracy score: 0.7761379800853485, best accuracy score: 0.7774826635846372;accuracy score was not improved\n",
      "2022-01-14 23:48:02 [INFO]: [EarlyStopper]: Current wait count: 8, patience: 15\n",
      "2022-01-14 23:48:02 [INFO]: [ModelCheckpoint]: Checkpoint at epoch 32: accuracy did not improve\n"
     ]
    },
    {
     "name": "stderr",
     "output_type": "stream",
     "text": [
      "\n",
      "Training in epoch 33/150: 100%|██████████| 146/146 [03:02<00:00,  1.25s/batch]\n",
      "Validating in epoch 33/150: 100%|██████████| 37/37 [00:34<00:00,  1.08batch/s]"
     ]
    },
    {
     "name": "stdout",
     "output_type": "stream",
     "text": [
      "2022-01-14 23:51:39 [INFO]: [EvalScoreRecoder]: In epoch 33/150, loss train score: 0.028446573740663166, val score: 1.1399695808823045\n",
      "2022-01-14 23:51:39 [INFO]: [EvalScoreRecoder]: In epoch 33/150, accuracy train score: 0.9905286815068494, val score: 0.780649893314367\n",
      "2022-01-14 23:51:39 [INFO]: [EarlyStopper]: In epoch 33/150, accuracy score: 0.780649893314367, best accuracy score: 0.7774826635846372;update best score to 0.780649893314367\n",
      "2022-01-14 23:51:39 [INFO]: [ModelCheckpoint]: Checkpoint at epoch 33: accuracy improved from 0.7774826635846372 to 0.780649893314367, saving model to ../output/exp2/train.0.model_33.chk\n"
     ]
    },
    {
     "name": "stderr",
     "output_type": "stream",
     "text": [
      "\n",
      "Training in epoch 34/150: 100%|██████████| 146/146 [03:04<00:00,  1.27s/batch]\n",
      "Validating in epoch 34/150: 100%|██████████| 37/37 [00:34<00:00,  1.09batch/s]"
     ]
    },
    {
     "name": "stdout",
     "output_type": "stream",
     "text": [
      "2022-01-14 23:55:18 [INFO]: [EvalScoreRecoder]: In epoch 34/150, loss train score: 0.03240146069912629, val score: 1.1401745387025781\n",
      "2022-01-14 23:55:18 [INFO]: [EvalScoreRecoder]: In epoch 34/150, accuracy train score: 0.988816352739726, val score: 0.7811499822190612\n",
      "2022-01-14 23:55:18 [INFO]: [EarlyStopper]: In epoch 34/150, accuracy score: 0.7811499822190612, best accuracy score: 0.780649893314367;update best score to 0.7811499822190612\n",
      "2022-01-14 23:55:18 [INFO]: [ModelCheckpoint]: Checkpoint at epoch 34: accuracy improved from 0.780649893314367 to 0.7811499822190612, saving model to ../output/exp2/train.0.model_34.chk\n"
     ]
    },
    {
     "name": "stderr",
     "output_type": "stream",
     "text": [
      "\n",
      "Training in epoch 35/150: 100%|██████████| 146/146 [03:04<00:00,  1.26s/batch]\n",
      "Validating in epoch 35/150: 100%|██████████| 37/37 [00:34<00:00,  1.09batch/s]"
     ]
    },
    {
     "name": "stdout",
     "output_type": "stream",
     "text": [
      "2022-01-14 23:58:57 [INFO]: [EvalScoreRecoder]: In epoch 35/150, loss train score: 0.029973184933873173, val score: 1.1373205458795703\n",
      "2022-01-14 23:58:57 [INFO]: [EvalScoreRecoder]: In epoch 35/150, accuracy train score: 0.9898330479452054, val score: 0.7738931365576103\n",
      "2022-01-14 23:58:57 [INFO]: [EarlyStopper]: In epoch 35/150, accuracy score: 0.7738931365576103, best accuracy score: 0.7811499822190612;accuracy score was not improved\n",
      "2022-01-14 23:58:57 [INFO]: [EarlyStopper]: Current wait count: 1, patience: 15\n",
      "2022-01-14 23:58:57 [INFO]: [ModelCheckpoint]: Checkpoint at epoch 35: accuracy did not improve\n"
     ]
    },
    {
     "name": "stderr",
     "output_type": "stream",
     "text": [
      "\n",
      "Training in epoch 36/150: 100%|██████████| 146/146 [03:02<00:00,  1.25s/batch]\n",
      "Validating in epoch 36/150: 100%|██████████| 37/37 [00:34<00:00,  1.07batch/s]"
     ]
    },
    {
     "name": "stdout",
     "output_type": "stream",
     "text": [
      "2022-01-15 00:02:34 [INFO]: [EvalScoreRecoder]: In epoch 36/150, loss train score: 0.02658664792367857, val score: 1.491303292480675\n",
      "2022-01-15 00:02:34 [INFO]: [EvalScoreRecoder]: In epoch 36/150, accuracy train score: 0.9911708047945206, val score: 0.7789607041251778\n",
      "2022-01-15 00:02:34 [INFO]: [EarlyStopper]: In epoch 36/150, accuracy score: 0.7789607041251778, best accuracy score: 0.7811499822190612;accuracy score was not improved\n",
      "2022-01-15 00:02:34 [INFO]: [EarlyStopper]: Current wait count: 2, patience: 15\n",
      "2022-01-15 00:02:34 [INFO]: [ModelCheckpoint]: Checkpoint at epoch 36: accuracy did not improve\n"
     ]
    },
    {
     "name": "stderr",
     "output_type": "stream",
     "text": [
      "\n",
      "Training in epoch 37/150: 100%|██████████| 146/146 [03:04<00:00,  1.26s/batch]\n",
      "Validating in epoch 37/150: 100%|██████████| 37/37 [00:34<00:00,  1.08batch/s]"
     ]
    },
    {
     "name": "stdout",
     "output_type": "stream",
     "text": [
      "2022-01-15 00:06:13 [INFO]: [EvalScoreRecoder]: In epoch 37/150, loss train score: 0.03685926055306033, val score: 1.0060747813534092\n",
      "2022-01-15 00:06:13 [INFO]: [EvalScoreRecoder]: In epoch 37/150, accuracy train score: 0.987746147260274, val score: 0.7835281827880511\n",
      "2022-01-15 00:06:13 [INFO]: [EarlyStopper]: In epoch 37/150, accuracy score: 0.7835281827880511, best accuracy score: 0.7811499822190612;update best score to 0.7835281827880511\n",
      "2022-01-15 00:06:13 [INFO]: [ModelCheckpoint]: Checkpoint at epoch 37: accuracy improved from 0.7811499822190612 to 0.7835281827880511, saving model to ../output/exp2/train.0.model_37.chk\n"
     ]
    },
    {
     "name": "stderr",
     "output_type": "stream",
     "text": [
      "\n",
      "Training in epoch 38/150: 100%|██████████| 146/146 [03:04<00:00,  1.26s/batch]\n",
      "Validating in epoch 38/150: 100%|██████████| 37/37 [00:33<00:00,  1.10batch/s]"
     ]
    },
    {
     "name": "stdout",
     "output_type": "stream",
     "text": [
      "2022-01-15 00:09:51 [INFO]: [EvalScoreRecoder]: In epoch 38/150, loss train score: 0.034504584926627065, val score: 1.0835822740116634\n",
      "2022-01-15 00:09:51 [INFO]: [EvalScoreRecoder]: In epoch 38/150, accuracy train score: 0.9884239440639269, val score: 0.780649893314367\n",
      "2022-01-15 00:09:51 [INFO]: [EarlyStopper]: In epoch 38/150, accuracy score: 0.780649893314367, best accuracy score: 0.7835281827880511;accuracy score was not improved\n",
      "2022-01-15 00:09:51 [INFO]: [EarlyStopper]: Current wait count: 1, patience: 15\n",
      "2022-01-15 00:09:51 [INFO]: [ModelCheckpoint]: Checkpoint at epoch 38: accuracy did not improve\n"
     ]
    },
    {
     "name": "stderr",
     "output_type": "stream",
     "text": [
      "\n",
      "Training in epoch 39/150: 100%|██████████| 146/146 [03:04<00:00,  1.27s/batch]\n",
      "Validating in epoch 39/150: 100%|██████████| 37/37 [00:34<00:00,  1.08batch/s]"
     ]
    },
    {
     "name": "stdout",
     "output_type": "stream",
     "text": [
      "2022-01-15 00:13:30 [INFO]: [EvalScoreRecoder]: In epoch 39/150, loss train score: 0.034815601889707455, val score: 1.104028437588666\n",
      "2022-01-15 00:13:30 [INFO]: [EvalScoreRecoder]: In epoch 39/150, accuracy train score: 0.9884417808219178, val score: 0.7833948257467994\n",
      "2022-01-15 00:13:30 [INFO]: [EarlyStopper]: In epoch 39/150, accuracy score: 0.7833948257467994, best accuracy score: 0.7835281827880511;accuracy score was not improved\n",
      "2022-01-15 00:13:30 [INFO]: [EarlyStopper]: Current wait count: 2, patience: 15\n",
      "2022-01-15 00:13:30 [INFO]: [ModelCheckpoint]: Checkpoint at epoch 39: accuracy did not improve\n"
     ]
    },
    {
     "name": "stderr",
     "output_type": "stream",
     "text": [
      "\n",
      "Training in epoch 40/150: 100%|██████████| 146/146 [03:04<00:00,  1.26s/batch]\n",
      "Validating in epoch 40/150: 100%|██████████| 37/37 [00:34<00:00,  1.08batch/s]"
     ]
    },
    {
     "name": "stdout",
     "output_type": "stream",
     "text": [
      "2022-01-15 00:17:09 [INFO]: [EvalScoreRecoder]: In epoch 40/150, loss train score: 0.02803859265508411, val score: 1.1590047075941756\n",
      "2022-01-15 00:17:09 [INFO]: [EvalScoreRecoder]: In epoch 40/150, accuracy train score: 0.9911708047945206, val score: 0.775849039829303\n",
      "2022-01-15 00:17:09 [INFO]: [EarlyStopper]: In epoch 40/150, accuracy score: 0.775849039829303, best accuracy score: 0.7835281827880511;accuracy score was not improved\n",
      "2022-01-15 00:17:09 [INFO]: [EarlyStopper]: Current wait count: 3, patience: 15\n",
      "2022-01-15 00:17:09 [INFO]: [ModelCheckpoint]: Checkpoint at epoch 40: accuracy did not improve\n"
     ]
    },
    {
     "name": "stderr",
     "output_type": "stream",
     "text": [
      "\n",
      "Training in epoch 41/150: 100%|██████████| 146/146 [03:03<00:00,  1.26s/batch]\n",
      "Validating in epoch 41/150: 100%|██████████| 37/37 [00:34<00:00,  1.08batch/s]"
     ]
    },
    {
     "name": "stdout",
     "output_type": "stream",
     "text": [
      "2022-01-15 00:20:46 [INFO]: [EvalScoreRecoder]: In epoch 41/150, loss train score: 0.0305178426525058, val score: 0.9613909544171514\n",
      "2022-01-15 00:20:46 [INFO]: [EvalScoreRecoder]: In epoch 41/150, accuracy train score: 0.9887450057077625, val score: 0.7709148293029873\n",
      "2022-01-15 00:20:46 [INFO]: [EarlyStopper]: In epoch 41/150, accuracy score: 0.7709148293029873, best accuracy score: 0.7835281827880511;accuracy score was not improved\n",
      "2022-01-15 00:20:46 [INFO]: [EarlyStopper]: Current wait count: 4, patience: 15\n",
      "2022-01-15 00:20:46 [INFO]: [ModelCheckpoint]: Checkpoint at epoch 41: accuracy did not improve\n"
     ]
    },
    {
     "name": "stderr",
     "output_type": "stream",
     "text": [
      "\n",
      "Training in epoch 42/150: 100%|██████████| 146/146 [03:02<00:00,  1.25s/batch]\n",
      "Validating in epoch 42/150: 100%|██████████| 37/37 [00:34<00:00,  1.08batch/s]"
     ]
    },
    {
     "name": "stdout",
     "output_type": "stream",
     "text": [
      "2022-01-15 00:24:23 [INFO]: [EvalScoreRecoder]: In epoch 42/150, loss train score: 0.031846212707172875, val score: 1.0486304614994977\n",
      "2022-01-15 00:24:23 [INFO]: [EvalScoreRecoder]: In epoch 42/150, accuracy train score: 0.9891374143835616, val score: 0.7647359530583214\n",
      "2022-01-15 00:24:23 [INFO]: [EarlyStopper]: In epoch 42/150, accuracy score: 0.7647359530583214, best accuracy score: 0.7835281827880511;accuracy score was not improved\n",
      "2022-01-15 00:24:23 [INFO]: [EarlyStopper]: Current wait count: 5, patience: 15\n",
      "2022-01-15 00:24:23 [INFO]: [ModelCheckpoint]: Checkpoint at epoch 42: accuracy did not improve\n"
     ]
    },
    {
     "name": "stderr",
     "output_type": "stream",
     "text": [
      "\n",
      "Training in epoch 43/150: 100%|██████████| 146/146 [03:03<00:00,  1.25s/batch]\n",
      "Validating in epoch 43/150: 100%|██████████| 37/37 [00:34<00:00,  1.08batch/s]"
     ]
    },
    {
     "name": "stdout",
     "output_type": "stream",
     "text": [
      "2022-01-15 00:28:00 [INFO]: [EvalScoreRecoder]: In epoch 43/150, loss train score: 0.03159601155673281, val score: 1.0728328840152637\n",
      "2022-01-15 00:28:00 [INFO]: [EvalScoreRecoder]: In epoch 43/150, accuracy train score: 0.9897260273972602, val score: 0.7816278449502133\n",
      "2022-01-15 00:28:00 [INFO]: [EarlyStopper]: In epoch 43/150, accuracy score: 0.7816278449502133, best accuracy score: 0.7835281827880511;accuracy score was not improved\n",
      "2022-01-15 00:28:00 [INFO]: [EarlyStopper]: Current wait count: 6, patience: 15\n",
      "2022-01-15 00:28:00 [INFO]: [ModelCheckpoint]: Checkpoint at epoch 43: accuracy did not improve\n"
     ]
    },
    {
     "name": "stderr",
     "output_type": "stream",
     "text": [
      "\n",
      "Training in epoch 44/150: 100%|██████████| 146/146 [03:03<00:00,  1.25s/batch]\n",
      "Validating in epoch 44/150: 100%|██████████| 37/37 [00:34<00:00,  1.08batch/s]"
     ]
    },
    {
     "name": "stdout",
     "output_type": "stream",
     "text": [
      "2022-01-15 00:31:38 [INFO]: [EvalScoreRecoder]: In epoch 44/150, loss train score: 0.02450746671641118, val score: 1.1495370204384263\n",
      "2022-01-15 00:31:38 [INFO]: [EvalScoreRecoder]: In epoch 44/150, accuracy train score: 0.9917059075342466, val score: 0.7744487908961593\n",
      "2022-01-15 00:31:38 [INFO]: [EarlyStopper]: In epoch 44/150, accuracy score: 0.7744487908961593, best accuracy score: 0.7835281827880511;accuracy score was not improved\n",
      "2022-01-15 00:31:38 [INFO]: [EarlyStopper]: Current wait count: 7, patience: 15\n",
      "2022-01-15 00:31:38 [INFO]: [ModelCheckpoint]: Checkpoint at epoch 44: accuracy did not improve\n"
     ]
    },
    {
     "name": "stderr",
     "output_type": "stream",
     "text": [
      "\n",
      "Training in epoch 45/150: 100%|██████████| 146/146 [03:04<00:00,  1.26s/batch]\n",
      "Validating in epoch 45/150: 100%|██████████| 37/37 [00:34<00:00,  1.08batch/s]"
     ]
    },
    {
     "name": "stdout",
     "output_type": "stream",
     "text": [
      "2022-01-15 00:35:17 [INFO]: [EvalScoreRecoder]: In epoch 45/150, loss train score: 0.02687618118544964, val score: 1.0093026612256024\n",
      "2022-01-15 00:35:17 [INFO]: [EvalScoreRecoder]: In epoch 45/150, accuracy train score: 0.9909389269406391, val score: 0.7765602773826458\n",
      "2022-01-15 00:35:17 [INFO]: [EarlyStopper]: In epoch 45/150, accuracy score: 0.7765602773826458, best accuracy score: 0.7835281827880511;accuracy score was not improved\n",
      "2022-01-15 00:35:17 [INFO]: [EarlyStopper]: Current wait count: 8, patience: 15\n",
      "2022-01-15 00:35:17 [INFO]: [ModelCheckpoint]: Checkpoint at epoch 45: accuracy did not improve\n"
     ]
    },
    {
     "name": "stderr",
     "output_type": "stream",
     "text": [
      "\n",
      "Training in epoch 46/150: 100%|██████████| 146/146 [03:03<00:00,  1.26s/batch]\n",
      "Validating in epoch 46/150: 100%|██████████| 37/37 [00:34<00:00,  1.07batch/s]"
     ]
    },
    {
     "name": "stdout",
     "output_type": "stream",
     "text": [
      "2022-01-15 00:38:55 [INFO]: [EvalScoreRecoder]: In epoch 46/150, loss train score: 0.030824920487883566, val score: 1.139572267596786\n",
      "2022-01-15 00:38:55 [INFO]: [EvalScoreRecoder]: In epoch 46/150, accuracy train score: 0.9905286815068494, val score: 0.7764824857752489\n",
      "2022-01-15 00:38:55 [INFO]: [EarlyStopper]: In epoch 46/150, accuracy score: 0.7764824857752489, best accuracy score: 0.7835281827880511;accuracy score was not improved\n",
      "2022-01-15 00:38:55 [INFO]: [EarlyStopper]: Current wait count: 9, patience: 15\n",
      "2022-01-15 00:38:55 [INFO]: [ModelCheckpoint]: Checkpoint at epoch 46: accuracy did not improve\n"
     ]
    },
    {
     "name": "stderr",
     "output_type": "stream",
     "text": [
      "\n",
      "Training in epoch 47/150: 100%|██████████| 146/146 [03:06<00:00,  1.28s/batch]\n",
      "Validating in epoch 47/150: 100%|██████████| 37/37 [00:34<00:00,  1.09batch/s]"
     ]
    },
    {
     "name": "stdout",
     "output_type": "stream",
     "text": [
      "2022-01-15 00:42:36 [INFO]: [EvalScoreRecoder]: In epoch 47/150, loss train score: 0.026688382804572378, val score: 1.201612641682496\n",
      "2022-01-15 00:42:36 [INFO]: [EvalScoreRecoder]: In epoch 47/150, accuracy train score: 0.9907783961187213, val score: 0.7799942211948792\n",
      "2022-01-15 00:42:36 [INFO]: [EarlyStopper]: In epoch 47/150, accuracy score: 0.7799942211948792, best accuracy score: 0.7835281827880511;accuracy score was not improved\n",
      "2022-01-15 00:42:36 [INFO]: [EarlyStopper]: Current wait count: 10, patience: 15\n",
      "2022-01-15 00:42:36 [INFO]: [ModelCheckpoint]: Checkpoint at epoch 47: accuracy did not improve\n"
     ]
    },
    {
     "name": "stderr",
     "output_type": "stream",
     "text": [
      "\n",
      "Training in epoch 48/150: 100%|██████████| 146/146 [03:05<00:00,  1.27s/batch]\n",
      "Validating in epoch 48/150: 100%|██████████| 37/37 [00:34<00:00,  1.07batch/s]"
     ]
    },
    {
     "name": "stdout",
     "output_type": "stream",
     "text": [
      "2022-01-15 00:46:16 [INFO]: [EvalScoreRecoder]: In epoch 48/150, loss train score: 0.03489369967926855, val score: 0.9497781508677715\n",
      "2022-01-15 00:46:16 [INFO]: [EvalScoreRecoder]: In epoch 48/150, accuracy train score: 0.9891374143835616, val score: 0.7858508179231863\n",
      "2022-01-15 00:46:16 [INFO]: [EarlyStopper]: In epoch 48/150, accuracy score: 0.7858508179231863, best accuracy score: 0.7835281827880511;update best score to 0.7858508179231863\n",
      "2022-01-15 00:46:16 [INFO]: [ModelCheckpoint]: Checkpoint at epoch 48: accuracy improved from 0.7835281827880511 to 0.7858508179231863, saving model to ../output/exp2/train.0.model_48.chk\n"
     ]
    },
    {
     "name": "stderr",
     "output_type": "stream",
     "text": [
      "\n",
      "Training in epoch 49/150: 100%|██████████| 146/146 [03:05<00:00,  1.27s/batch]\n",
      "Validating in epoch 49/150: 100%|██████████| 37/37 [00:34<00:00,  1.07batch/s]"
     ]
    },
    {
     "name": "stdout",
     "output_type": "stream",
     "text": [
      "2022-01-15 00:49:56 [INFO]: [EvalScoreRecoder]: In epoch 49/150, loss train score: 0.028250028095399476, val score: 0.9119517384348689\n",
      "2022-01-15 00:49:56 [INFO]: [EvalScoreRecoder]: In epoch 49/150, accuracy train score: 0.990582191780822, val score: 0.7857730263157894\n",
      "2022-01-15 00:49:56 [INFO]: [EarlyStopper]: In epoch 49/150, accuracy score: 0.7857730263157894, best accuracy score: 0.7858508179231863;accuracy score was not improved\n",
      "2022-01-15 00:49:56 [INFO]: [EarlyStopper]: Current wait count: 1, patience: 15\n",
      "2022-01-15 00:49:56 [INFO]: [ModelCheckpoint]: Checkpoint at epoch 49: accuracy did not improve\n"
     ]
    },
    {
     "name": "stderr",
     "output_type": "stream",
     "text": [
      "\n",
      "Validating in epoch 50/150: 100%|██████████| 37/37 [00:34<00:00,  1.06batch/s]"
     ]
    },
    {
     "name": "stdout",
     "output_type": "stream",
     "text": [
      "2022-01-15 00:53:40 [INFO]: [EvalScoreRecoder]: In epoch 50/150, loss train score: 0.023611317827762584, val score: 1.227788335568196\n",
      "2022-01-15 00:53:40 [INFO]: [EvalScoreRecoder]: In epoch 50/150, accuracy train score: 0.9921339897260274, val score: 0.7802831614509246\n",
      "2022-01-15 00:53:40 [INFO]: [EarlyStopper]: In epoch 50/150, accuracy score: 0.7802831614509246, best accuracy score: 0.7858508179231863;accuracy score was not improved\n",
      "2022-01-15 00:53:40 [INFO]: [EarlyStopper]: Current wait count: 2, patience: 15\n",
      "2022-01-15 00:53:40 [INFO]: [ModelCheckpoint]: Checkpoint at epoch 50: accuracy did not improve\n"
     ]
    },
    {
     "name": "stderr",
     "output_type": "stream",
     "text": [
      "\n",
      "Training in epoch 51/150: 100%|██████████| 146/146 [03:08<00:00,  1.29s/batch]\n",
      "Validating in epoch 51/150: 100%|██████████| 37/37 [00:34<00:00,  1.06batch/s]"
     ]
    },
    {
     "name": "stdout",
     "output_type": "stream",
     "text": [
      "2022-01-15 00:57:23 [INFO]: [EvalScoreRecoder]: In epoch 51/150, loss train score: 0.02669871855233732, val score: 1.0292902943250295\n",
      "2022-01-15 00:57:23 [INFO]: [EvalScoreRecoder]: In epoch 51/150, accuracy train score: 0.990582191780822, val score: 0.7827613798008535\n",
      "2022-01-15 00:57:23 [INFO]: [EarlyStopper]: In epoch 51/150, accuracy score: 0.7827613798008535, best accuracy score: 0.7858508179231863;accuracy score was not improved\n",
      "2022-01-15 00:57:23 [INFO]: [EarlyStopper]: Current wait count: 3, patience: 15\n",
      "2022-01-15 00:57:23 [INFO]: [ModelCheckpoint]: Checkpoint at epoch 51: accuracy did not improve\n"
     ]
    },
    {
     "name": "stderr",
     "output_type": "stream",
     "text": [
      "\n",
      "Training in epoch 52/150: 100%|██████████| 146/146 [03:05<00:00,  1.27s/batch]\n",
      "Validating in epoch 52/150: 100%|██████████| 37/37 [00:35<00:00,  1.04batch/s]"
     ]
    },
    {
     "name": "stdout",
     "output_type": "stream",
     "text": [
      "2022-01-15 01:01:03 [INFO]: [EvalScoreRecoder]: In epoch 52/150, loss train score: 0.020826926017945557, val score: 1.1253838442467354\n",
      "2022-01-15 01:01:03 [INFO]: [EvalScoreRecoder]: In epoch 52/150, accuracy train score: 0.9928831335616438, val score: 0.7803609530583214\n",
      "2022-01-15 01:01:03 [INFO]: [EarlyStopper]: In epoch 52/150, accuracy score: 0.7803609530583214, best accuracy score: 0.7858508179231863;accuracy score was not improved\n",
      "2022-01-15 01:01:03 [INFO]: [EarlyStopper]: Current wait count: 4, patience: 15\n",
      "2022-01-15 01:01:03 [INFO]: [ModelCheckpoint]: Checkpoint at epoch 52: accuracy did not improve\n"
     ]
    },
    {
     "name": "stderr",
     "output_type": "stream",
     "text": [
      "\n",
      "Training in epoch 53/150: 100%|██████████| 146/146 [03:39<00:00,  1.51s/batch]\n",
      "Validating in epoch 53/150: 100%|██████████| 37/37 [00:37<00:00,  1.02s/batch]"
     ]
    },
    {
     "name": "stdout",
     "output_type": "stream",
     "text": [
      "2022-01-15 01:05:21 [INFO]: [EvalScoreRecoder]: In epoch 53/150, loss train score: 0.0265203288832858, val score: 1.1327310494474463\n",
      "2022-01-15 01:05:21 [INFO]: [EvalScoreRecoder]: In epoch 53/150, accuracy train score: 0.9909567636986302, val score: 0.7816278449502133\n",
      "2022-01-15 01:05:21 [INFO]: [EarlyStopper]: In epoch 53/150, accuracy score: 0.7816278449502133, best accuracy score: 0.7858508179231863;accuracy score was not improved\n",
      "2022-01-15 01:05:21 [INFO]: [EarlyStopper]: Current wait count: 5, patience: 15\n",
      "2022-01-15 01:05:21 [INFO]: [ModelCheckpoint]: Checkpoint at epoch 53: accuracy did not improve\n"
     ]
    },
    {
     "name": "stderr",
     "output_type": "stream",
     "text": [
      "\n",
      "Training in epoch 54/150: 100%|██████████| 146/146 [03:11<00:00,  1.31s/batch]\n",
      "Validating in epoch 54/150: 100%|██████████| 37/37 [00:35<00:00,  1.03batch/s]"
     ]
    },
    {
     "name": "stdout",
     "output_type": "stream",
     "text": [
      "2022-01-15 01:09:09 [INFO]: [EvalScoreRecoder]: In epoch 54/150, loss train score: 0.026083390442144177, val score: 0.9483264040302586\n",
      "2022-01-15 01:09:09 [INFO]: [EvalScoreRecoder]: In epoch 54/150, accuracy train score: 0.9912243150684932, val score: 0.7846394914651494\n",
      "2022-01-15 01:09:09 [INFO]: [EarlyStopper]: In epoch 54/150, accuracy score: 0.7846394914651494, best accuracy score: 0.7858508179231863;accuracy score was not improved\n",
      "2022-01-15 01:09:09 [INFO]: [EarlyStopper]: Current wait count: 6, patience: 15\n",
      "2022-01-15 01:09:09 [INFO]: [ModelCheckpoint]: Checkpoint at epoch 54: accuracy did not improve\n"
     ]
    },
    {
     "name": "stderr",
     "output_type": "stream",
     "text": [
      "\n",
      "Training in epoch 55/150: 100%|██████████| 146/146 [03:11<00:00,  1.31s/batch]\n",
      "Validating in epoch 55/150: 100%|██████████| 37/37 [00:35<00:00,  1.04batch/s]"
     ]
    },
    {
     "name": "stdout",
     "output_type": "stream",
     "text": [
      "2022-01-15 01:12:56 [INFO]: [EvalScoreRecoder]: In epoch 55/150, loss train score: 0.023820932909897338, val score: 1.1025278052768193\n",
      "2022-01-15 01:12:56 [INFO]: [EvalScoreRecoder]: In epoch 55/150, accuracy train score: 0.9921339897260274, val score: 0.7865620554765291\n",
      "2022-01-15 01:12:56 [INFO]: [EarlyStopper]: In epoch 55/150, accuracy score: 0.7865620554765291, best accuracy score: 0.7858508179231863;update best score to 0.7865620554765291\n",
      "2022-01-15 01:12:56 [INFO]: [ModelCheckpoint]: Checkpoint at epoch 55: accuracy improved from 0.7858508179231863 to 0.7865620554765291, saving model to ../output/exp2/train.0.model_55.chk\n"
     ]
    },
    {
     "name": "stderr",
     "output_type": "stream",
     "text": [
      "\n",
      "Training in epoch 56/150: 100%|██████████| 146/146 [03:12<00:00,  1.32s/batch]\n",
      "Validating in epoch 56/150: 100%|██████████| 37/37 [00:36<00:00,  1.03batch/s]"
     ]
    },
    {
     "name": "stdout",
     "output_type": "stream",
     "text": [
      "2022-01-15 01:16:45 [INFO]: [EvalScoreRecoder]: In epoch 56/150, loss train score: 0.021092212805604204, val score: 1.1260109044410087\n",
      "2022-01-15 01:16:45 [INFO]: [EvalScoreRecoder]: In epoch 56/150, accuracy train score: 0.9924015410958904, val score: 0.7796497155049786\n",
      "2022-01-15 01:16:45 [INFO]: [EarlyStopper]: In epoch 56/150, accuracy score: 0.7796497155049786, best accuracy score: 0.7865620554765291;accuracy score was not improved\n",
      "2022-01-15 01:16:45 [INFO]: [EarlyStopper]: Current wait count: 1, patience: 15\n",
      "2022-01-15 01:16:45 [INFO]: [ModelCheckpoint]: Checkpoint at epoch 56: accuracy did not improve\n"
     ]
    },
    {
     "name": "stderr",
     "output_type": "stream",
     "text": [
      "\n",
      "Training in epoch 57/150: 100%|██████████| 146/146 [03:14<00:00,  1.33s/batch]\n",
      "Validating in epoch 57/150: 100%|██████████| 37/37 [00:35<00:00,  1.04batch/s]"
     ]
    },
    {
     "name": "stdout",
     "output_type": "stream",
     "text": [
      "2022-01-15 01:20:34 [INFO]: [EvalScoreRecoder]: In epoch 57/150, loss train score: 0.03009819368022886, val score: 1.2158404782011702\n",
      "2022-01-15 01:20:34 [INFO]: [EvalScoreRecoder]: In epoch 57/150, accuracy train score: 0.9907427226027398, val score: 0.777671586059744\n",
      "2022-01-15 01:20:34 [INFO]: [EarlyStopper]: In epoch 57/150, accuracy score: 0.777671586059744, best accuracy score: 0.7865620554765291;accuracy score was not improved\n",
      "2022-01-15 01:20:34 [INFO]: [EarlyStopper]: Current wait count: 2, patience: 15\n",
      "2022-01-15 01:20:34 [INFO]: [ModelCheckpoint]: Checkpoint at epoch 57: accuracy did not improve\n"
     ]
    },
    {
     "name": "stderr",
     "output_type": "stream",
     "text": [
      "\n",
      "Validating in epoch 58/150: 100%|██████████| 37/37 [00:35<00:00,  1.04batch/s]"
     ]
    },
    {
     "name": "stdout",
     "output_type": "stream",
     "text": [
      "2022-01-15 01:24:22 [INFO]: [EvalScoreRecoder]: In epoch 58/150, loss train score: 0.02277882472765058, val score: 1.342778653711886\n",
      "2022-01-15 01:24:22 [INFO]: [EvalScoreRecoder]: In epoch 58/150, accuracy train score: 0.9918129280821918, val score: 0.7756156650071123\n",
      "2022-01-15 01:24:22 [INFO]: [EarlyStopper]: In epoch 58/150, accuracy score: 0.7756156650071123, best accuracy score: 0.7865620554765291;accuracy score was not improved\n",
      "2022-01-15 01:24:22 [INFO]: [EarlyStopper]: Current wait count: 3, patience: 15\n",
      "2022-01-15 01:24:22 [INFO]: [ModelCheckpoint]: Checkpoint at epoch 58: accuracy did not improve\n"
     ]
    },
    {
     "name": "stderr",
     "output_type": "stream",
     "text": [
      "\n",
      "Training in epoch 59/150: 100%|██████████| 146/146 [03:06<00:00,  1.28s/batch]\n",
      "Validating in epoch 59/150: 100%|██████████| 37/37 [00:34<00:00,  1.06batch/s]"
     ]
    },
    {
     "name": "stdout",
     "output_type": "stream",
     "text": [
      "2022-01-15 01:28:04 [INFO]: [EvalScoreRecoder]: In epoch 59/150, loss train score: 0.024806852181352777, val score: 1.034551767078606\n",
      "2022-01-15 01:28:04 [INFO]: [EvalScoreRecoder]: In epoch 59/150, accuracy train score: 0.9914918664383562, val score: 0.7739487019914651\n",
      "2022-01-15 01:28:04 [INFO]: [EarlyStopper]: In epoch 59/150, accuracy score: 0.7739487019914651, best accuracy score: 0.7865620554765291;accuracy score was not improved\n",
      "2022-01-15 01:28:04 [INFO]: [EarlyStopper]: Current wait count: 4, patience: 15\n",
      "2022-01-15 01:28:04 [INFO]: [ModelCheckpoint]: Checkpoint at epoch 59: accuracy did not improve\n"
     ]
    },
    {
     "name": "stderr",
     "output_type": "stream",
     "text": [
      "\n",
      "Training in epoch 60/150: 100%|██████████| 146/146 [03:07<00:00,  1.28s/batch]\n",
      "Validating in epoch 60/150: 100%|██████████| 37/37 [00:34<00:00,  1.07batch/s]"
     ]
    },
    {
     "name": "stdout",
     "output_type": "stream",
     "text": [
      "2022-01-15 01:31:45 [INFO]: [EvalScoreRecoder]: In epoch 60/150, loss train score: 0.025884235348737454, val score: 1.0481072841463863\n",
      "2022-01-15 01:31:45 [INFO]: [EvalScoreRecoder]: In epoch 60/150, accuracy train score: 0.9914918664383562, val score: 0.7769270092460883\n",
      "2022-01-15 01:31:45 [INFO]: [EarlyStopper]: In epoch 60/150, accuracy score: 0.7769270092460883, best accuracy score: 0.7865620554765291;accuracy score was not improved\n",
      "2022-01-15 01:31:45 [INFO]: [EarlyStopper]: Current wait count: 5, patience: 15\n",
      "2022-01-15 01:31:45 [INFO]: [ModelCheckpoint]: Checkpoint at epoch 60: accuracy did not improve\n"
     ]
    },
    {
     "name": "stderr",
     "output_type": "stream",
     "text": [
      "\n",
      "Training in epoch 61/150: 100%|██████████| 146/146 [03:05<00:00,  1.27s/batch]\n",
      "Validating in epoch 61/150: 100%|██████████| 37/37 [00:33<00:00,  1.09batch/s]"
     ]
    },
    {
     "name": "stdout",
     "output_type": "stream",
     "text": [
      "2022-01-15 01:35:24 [INFO]: [EvalScoreRecoder]: In epoch 61/150, loss train score: 0.022335077697739694, val score: 1.1368159845068648\n",
      "2022-01-15 01:35:24 [INFO]: [EvalScoreRecoder]: In epoch 61/150, accuracy train score: 0.9926690924657534, val score: 0.7819723506401137\n",
      "2022-01-15 01:35:24 [INFO]: [EarlyStopper]: In epoch 61/150, accuracy score: 0.7819723506401137, best accuracy score: 0.7865620554765291;accuracy score was not improved\n",
      "2022-01-15 01:35:24 [INFO]: [EarlyStopper]: Current wait count: 6, patience: 15\n",
      "2022-01-15 01:35:24 [INFO]: [ModelCheckpoint]: Checkpoint at epoch 61: accuracy did not improve\n"
     ]
    },
    {
     "name": "stderr",
     "output_type": "stream",
     "text": [
      "\n",
      "Training in epoch 62/150: 100%|██████████| 146/146 [03:04<00:00,  1.27s/batch]\n",
      "Validating in epoch 62/150: 100%|██████████| 37/37 [00:44<00:00,  1.21s/batch]"
     ]
    },
    {
     "name": "stdout",
     "output_type": "stream",
     "text": [
      "2022-01-15 01:39:14 [INFO]: [EvalScoreRecoder]: In epoch 62/150, loss train score: 0.024627309251889228, val score: 1.2143819912059888\n",
      "2022-01-15 01:39:14 [INFO]: [EvalScoreRecoder]: In epoch 62/150, accuracy train score: 0.9923480308219178, val score: 0.7772715149359886\n",
      "2022-01-15 01:39:14 [INFO]: [EarlyStopper]: In epoch 62/150, accuracy score: 0.7772715149359886, best accuracy score: 0.7865620554765291;accuracy score was not improved\n",
      "2022-01-15 01:39:14 [INFO]: [EarlyStopper]: Current wait count: 7, patience: 15\n",
      "2022-01-15 01:39:14 [INFO]: [ModelCheckpoint]: Checkpoint at epoch 62: accuracy did not improve\n"
     ]
    },
    {
     "name": "stderr",
     "output_type": "stream",
     "text": [
      "\n",
      "Training in epoch 63/150: 100%|██████████| 146/146 [03:04<00:00,  1.26s/batch]\n",
      "Validating in epoch 63/150: 100%|██████████| 37/37 [00:34<00:00,  1.07batch/s]"
     ]
    },
    {
     "name": "stdout",
     "output_type": "stream",
     "text": [
      "2022-01-15 01:42:53 [INFO]: [EvalScoreRecoder]: In epoch 63/150, loss train score: 0.022231089415296605, val score: 0.8800241769971074\n",
      "2022-01-15 01:42:53 [INFO]: [EvalScoreRecoder]: In epoch 63/150, accuracy train score: 0.9926690924657534, val score: 0.7760379623044097\n",
      "2022-01-15 01:42:53 [INFO]: [EarlyStopper]: In epoch 63/150, accuracy score: 0.7760379623044097, best accuracy score: 0.7865620554765291;accuracy score was not improved\n",
      "2022-01-15 01:42:53 [INFO]: [EarlyStopper]: Current wait count: 8, patience: 15\n",
      "2022-01-15 01:42:53 [INFO]: [ModelCheckpoint]: Checkpoint at epoch 63: accuracy did not improve\n"
     ]
    },
    {
     "name": "stderr",
     "output_type": "stream",
     "text": [
      "\n",
      "Training in epoch 64/150: 100%|██████████| 146/146 [03:04<00:00,  1.26s/batch]\n",
      "Validating in epoch 64/150: 100%|██████████| 37/37 [00:34<00:00,  1.07batch/s]"
     ]
    },
    {
     "name": "stdout",
     "output_type": "stream",
     "text": [
      "2022-01-15 01:46:32 [INFO]: [EvalScoreRecoder]: In epoch 64/150, loss train score: 0.023165649590911726, val score: 1.0954376942402608\n",
      "2022-01-15 01:46:32 [INFO]: [EvalScoreRecoder]: In epoch 64/150, accuracy train score: 0.9917594178082192, val score: 0.7749488798008535\n",
      "2022-01-15 01:46:32 [INFO]: [EarlyStopper]: In epoch 64/150, accuracy score: 0.7749488798008535, best accuracy score: 0.7865620554765291;accuracy score was not improved\n",
      "2022-01-15 01:46:32 [INFO]: [EarlyStopper]: Current wait count: 9, patience: 15\n",
      "2022-01-15 01:46:32 [INFO]: [ModelCheckpoint]: Checkpoint at epoch 64: accuracy did not improve\n"
     ]
    },
    {
     "name": "stderr",
     "output_type": "stream",
     "text": [
      "\n",
      "Training in epoch 65/150: 100%|██████████| 146/146 [03:06<00:00,  1.28s/batch]\n",
      "Validating in epoch 65/150: 100%|██████████| 37/37 [00:34<00:00,  1.07batch/s]"
     ]
    },
    {
     "name": "stdout",
     "output_type": "stream",
     "text": [
      "2022-01-15 01:50:13 [INFO]: [EvalScoreRecoder]: In epoch 65/150, loss train score: 0.02033280876380621, val score: 1.228417908823168\n",
      "2022-01-15 01:50:13 [INFO]: [EvalScoreRecoder]: In epoch 65/150, accuracy train score: 0.9934717465753424, val score: 0.7737375533428165\n",
      "2022-01-15 01:50:13 [INFO]: [EarlyStopper]: In epoch 65/150, accuracy score: 0.7737375533428165, best accuracy score: 0.7865620554765291;accuracy score was not improved\n",
      "2022-01-15 01:50:13 [INFO]: [EarlyStopper]: Current wait count: 10, patience: 15\n",
      "2022-01-15 01:50:13 [INFO]: [ModelCheckpoint]: Checkpoint at epoch 65: accuracy did not improve\n"
     ]
    },
    {
     "name": "stderr",
     "output_type": "stream",
     "text": [
      "\n",
      "Training in epoch 66/150: 100%|██████████| 146/146 [03:10<00:00,  1.30s/batch]\n",
      "Validating in epoch 66/150: 100%|██████████| 37/37 [00:34<00:00,  1.08batch/s]"
     ]
    },
    {
     "name": "stdout",
     "output_type": "stream",
     "text": [
      "2022-01-15 01:53:58 [INFO]: [EvalScoreRecoder]: In epoch 66/150, loss train score: 0.026204493454950926, val score: 1.0834484986356787\n",
      "2022-01-15 01:53:58 [INFO]: [EvalScoreRecoder]: In epoch 66/150, accuracy train score: 0.9912778253424658, val score: 0.7923964260312945\n",
      "2022-01-15 01:53:58 [INFO]: [EarlyStopper]: In epoch 66/150, accuracy score: 0.7923964260312945, best accuracy score: 0.7865620554765291;update best score to 0.7923964260312945\n",
      "2022-01-15 01:53:58 [INFO]: [ModelCheckpoint]: Checkpoint at epoch 66: accuracy improved from 0.7865620554765291 to 0.7923964260312945, saving model to ../output/exp2/train.0.model_66.chk\n"
     ]
    },
    {
     "name": "stderr",
     "output_type": "stream",
     "text": [
      "\n",
      "Training in epoch 67/150: 100%|██████████| 146/146 [03:05<00:00,  1.27s/batch]\n",
      "Validating in epoch 67/150: 100%|██████████| 37/37 [00:34<00:00,  1.07batch/s]"
     ]
    },
    {
     "name": "stdout",
     "output_type": "stream",
     "text": [
      "2022-01-15 01:57:37 [INFO]: [EvalScoreRecoder]: In epoch 67/150, loss train score: 0.018010183915776745, val score: 1.1739595886823293\n",
      "2022-01-15 01:57:37 [INFO]: [EvalScoreRecoder]: In epoch 67/150, accuracy train score: 0.9943279109589042, val score: 0.7916296230440967\n",
      "2022-01-15 01:57:37 [INFO]: [EarlyStopper]: In epoch 67/150, accuracy score: 0.7916296230440967, best accuracy score: 0.7923964260312945;accuracy score was not improved\n",
      "2022-01-15 01:57:37 [INFO]: [EarlyStopper]: Current wait count: 1, patience: 15\n",
      "2022-01-15 01:57:37 [INFO]: [ModelCheckpoint]: Checkpoint at epoch 67: accuracy did not improve\n"
     ]
    },
    {
     "name": "stderr",
     "output_type": "stream",
     "text": [
      "\n",
      "Training in epoch 68/150: 100%|██████████| 146/146 [03:09<00:00,  1.30s/batch]\n",
      "Validating in epoch 68/150: 100%|██████████| 37/37 [00:34<00:00,  1.07batch/s]"
     ]
    },
    {
     "name": "stdout",
     "output_type": "stream",
     "text": [
      "2022-01-15 02:01:21 [INFO]: [EvalScoreRecoder]: In epoch 68/150, loss train score: 0.021586221148425788, val score: 1.1287887273608028\n",
      "2022-01-15 02:01:21 [INFO]: [EvalScoreRecoder]: In epoch 68/150, accuracy train score: 0.9931506849315068, val score: 0.7777493776671408\n",
      "2022-01-15 02:01:21 [INFO]: [EarlyStopper]: In epoch 68/150, accuracy score: 0.7777493776671408, best accuracy score: 0.7923964260312945;accuracy score was not improved\n",
      "2022-01-15 02:01:21 [INFO]: [EarlyStopper]: Current wait count: 2, patience: 15\n",
      "2022-01-15 02:01:21 [INFO]: [ModelCheckpoint]: Checkpoint at epoch 68: accuracy did not improve\n"
     ]
    },
    {
     "name": "stderr",
     "output_type": "stream",
     "text": [
      "\n",
      "Training in epoch 69/150: 100%|██████████| 146/146 [03:04<00:00,  1.26s/batch]\n",
      "Validating in epoch 69/150: 100%|██████████| 37/37 [00:34<00:00,  1.08batch/s]"
     ]
    },
    {
     "name": "stdout",
     "output_type": "stream",
     "text": [
      "2022-01-15 02:04:59 [INFO]: [EvalScoreRecoder]: In epoch 69/150, loss train score: 0.021073741729894322, val score: 1.0384027474635356\n",
      "2022-01-15 02:04:59 [INFO]: [EvalScoreRecoder]: In epoch 69/150, accuracy train score: 0.9933647260273972, val score: 0.7777493776671408\n",
      "2022-01-15 02:04:59 [INFO]: [EarlyStopper]: In epoch 69/150, accuracy score: 0.7777493776671408, best accuracy score: 0.7923964260312945;accuracy score was not improved\n",
      "2022-01-15 02:04:59 [INFO]: [EarlyStopper]: Current wait count: 3, patience: 15\n",
      "2022-01-15 02:04:59 [INFO]: [ModelCheckpoint]: Checkpoint at epoch 69: accuracy did not improve\n"
     ]
    },
    {
     "name": "stderr",
     "output_type": "stream",
     "text": [
      "\n",
      "Training in epoch 70/150: 100%|██████████| 146/146 [03:04<00:00,  1.26s/batch]\n",
      "Validating in epoch 70/150: 100%|██████████| 37/37 [00:34<00:00,  1.08batch/s]"
     ]
    },
    {
     "name": "stdout",
     "output_type": "stream",
     "text": [
      "2022-01-15 02:08:38 [INFO]: [EvalScoreRecoder]: In epoch 70/150, loss train score: 0.0223092573658206, val score: 1.0154046899563558\n",
      "2022-01-15 02:08:38 [INFO]: [EvalScoreRecoder]: In epoch 70/150, accuracy train score: 0.9923480308219178, val score: 0.7880956614509246\n",
      "2022-01-15 02:08:38 [INFO]: [EarlyStopper]: In epoch 70/150, accuracy score: 0.7880956614509246, best accuracy score: 0.7923964260312945;accuracy score was not improved\n",
      "2022-01-15 02:08:38 [INFO]: [EarlyStopper]: Current wait count: 4, patience: 15\n",
      "2022-01-15 02:08:38 [INFO]: [ModelCheckpoint]: Checkpoint at epoch 70: accuracy did not improve\n"
     ]
    },
    {
     "name": "stderr",
     "output_type": "stream",
     "text": [
      "\n",
      "Training in epoch 71/150: 100%|██████████| 146/146 [03:04<00:00,  1.27s/batch]\n",
      "Validating in epoch 71/150: 100%|██████████| 37/37 [00:34<00:00,  1.07batch/s]"
     ]
    },
    {
     "name": "stdout",
     "output_type": "stream",
     "text": [
      "2022-01-15 02:12:18 [INFO]: [EvalScoreRecoder]: In epoch 71/150, loss train score: 0.021384470121120103, val score: 1.1555063080143284\n",
      "2022-01-15 02:12:18 [INFO]: [EvalScoreRecoder]: In epoch 71/150, accuracy train score: 0.9929366438356164, val score: 0.7787495554765291\n",
      "2022-01-15 02:12:18 [INFO]: [EarlyStopper]: In epoch 71/150, accuracy score: 0.7787495554765291, best accuracy score: 0.7923964260312945;accuracy score was not improved\n",
      "2022-01-15 02:12:18 [INFO]: [EarlyStopper]: Current wait count: 5, patience: 15\n",
      "2022-01-15 02:12:18 [INFO]: [ModelCheckpoint]: Checkpoint at epoch 71: accuracy did not improve\n"
     ]
    },
    {
     "name": "stderr",
     "output_type": "stream",
     "text": [
      "\n",
      "Training in epoch 72/150:  98%|█████████▊| 143/146 [03:03<00:03,  1.28s/batch]IOPub message rate exceeded.\n",
      "The notebook server will temporarily stop sending output\n",
      "to the client in order to avoid crashing it.\n",
      "To change this limit, set the config variable\n",
      "`--NotebookApp.iopub_msg_rate_limit`.\n",
      "\n",
      "Current values:\n",
      "NotebookApp.iopub_msg_rate_limit=1000.0 (msgs/sec)\n",
      "NotebookApp.rate_limit_window=3.0 (secs)\n",
      "\n",
      "Training in epoch 2/100: 100%|██████████| 567/567 [11:07<00:00,  1.18s/batch]\n",
      "Validating in epoch 2/100: 100%|██████████| 142/142 [02:15<00:00,  1.05batch/s]"
     ]
    },
    {
     "name": "stdout",
     "output_type": "stream",
     "text": [
      "2022-01-15 03:28:34 [INFO]: [EvalScoreRecoder]: In epoch 2/100, loss train score: 0.1556207891126579, val score: 0.3434092118076875\n",
      "2022-01-15 03:28:34 [INFO]: [EvalScoreRecoder]: In epoch 2/100, accuracy train score: 0.9402557319223986, val score: 0.8862886123559539\n",
      "2022-01-15 03:28:34 [INFO]: [EarlyStopper]: In epoch 2/100, accuracy score: 0.8862886123559539, best accuracy score: 0.8901565167520273;accuracy score was not improved\n",
      "2022-01-15 03:28:34 [INFO]: [EarlyStopper]: Current wait count: 1, patience: 10\n",
      "2022-01-15 03:28:34 [INFO]: [ModelCheckpoint]: Checkpoint at epoch 2: accuracy did not improve\n"
     ]
    },
    {
     "name": "stderr",
     "output_type": "stream",
     "text": [
      "\n",
      "Training in epoch 3/100: 100%|██████████| 567/567 [10:37<00:00,  1.12s/batch]\n",
      "Validating in epoch 3/100: 100%|██████████| 142/142 [02:09<00:00,  1.10batch/s]"
     ]
    },
    {
     "name": "stdout",
     "output_type": "stream",
     "text": [
      "2022-01-15 03:41:21 [INFO]: [EvalScoreRecoder]: In epoch 3/100, loss train score: 0.10869639858971407, val score: 0.2817424919298837\n",
      "2022-01-15 03:41:21 [INFO]: [EvalScoreRecoder]: In epoch 3/100, accuracy train score: 0.9593529541446209, val score: 0.9091309218950064\n",
      "2022-01-15 03:41:21 [INFO]: [EarlyStopper]: In epoch 3/100, accuracy score: 0.9091309218950064, best accuracy score: 0.8901565167520273;update best score to 0.9091309218950064\n",
      "2022-01-15 03:41:21 [INFO]: [ModelCheckpoint]: Checkpoint at epoch 3: accuracy improved from 0.8901565167520273 to 0.9091309218950064, saving model to ../output/exp2/train.1.model_3.chk\n"
     ]
    },
    {
     "name": "stderr",
     "output_type": "stream",
     "text": [
      "\n",
      "Training in epoch 4/100:  88%|████████▊ | 497/567 [09:20<01:18,  1.12s/batch]IOPub message rate exceeded.\n",
      "The notebook server will temporarily stop sending output\n",
      "to the client in order to avoid crashing it.\n",
      "To change this limit, set the config variable\n",
      "`--NotebookApp.iopub_msg_rate_limit`.\n",
      "\n",
      "Current values:\n",
      "NotebookApp.iopub_msg_rate_limit=1000.0 (msgs/sec)\n",
      "NotebookApp.rate_limit_window=3.0 (secs)\n",
      "\n",
      "Training in epoch 10/100: 100%|██████████| 567/567 [10:37<00:00,  1.12s/batch]\n",
      "Validating in epoch 10/100: 100%|██████████| 142/142 [02:09<00:00,  1.10batch/s]"
     ]
    },
    {
     "name": "stdout",
     "output_type": "stream",
     "text": [
      "2022-01-15 05:10:40 [INFO]: [EvalScoreRecoder]: In epoch 10/100, loss train score: 0.046665216972673645, val score: 0.3381368429727957\n",
      "2022-01-15 05:10:40 [INFO]: [EvalScoreRecoder]: In epoch 10/100, accuracy train score: 0.9833967151675485, val score: 0.9228336400981646\n",
      "2022-01-15 05:10:40 [INFO]: [EarlyStopper]: In epoch 10/100, accuracy score: 0.9228336400981646, best accuracy score: 0.9243741330559111;accuracy score was not improved\n",
      "2022-01-15 05:10:40 [INFO]: [EarlyStopper]: Current wait count: 4, patience: 10\n",
      "2022-01-15 05:10:40 [INFO]: [ModelCheckpoint]: Checkpoint at epoch 10: accuracy did not improve\n"
     ]
    },
    {
     "name": "stderr",
     "output_type": "stream",
     "text": [
      "\n",
      "Training in epoch 11/100: 100%|██████████| 567/567 [10:32<00:00,  1.12s/batch]\n",
      "Training in epoch 12/100: 100%|██████████| 567/567 [10:37<00:00,  1.12s/batch]s]\n",
      "Validating in epoch 12/100: 100%|██████████| 142/142 [02:09<00:00,  1.10batch/s]"
     ]
    },
    {
     "name": "stdout",
     "output_type": "stream",
     "text": [
      "2022-01-15 05:36:10 [INFO]: [EvalScoreRecoder]: In epoch 12/100, loss train score: 0.041467091100655065, val score: 0.2448142933803545\n",
      "2022-01-15 05:36:10 [INFO]: [EvalScoreRecoder]: In epoch 12/100, accuracy train score: 0.9858630952380952, val score: 0.928933925522834\n",
      "2022-01-15 05:36:10 [INFO]: [EarlyStopper]: In epoch 12/100, accuracy score: 0.928933925522834, best accuracy score: 0.9294290839735383;accuracy score was not improved\n",
      "2022-01-15 05:36:10 [INFO]: [EarlyStopper]: Current wait count: 1, patience: 10\n",
      "2022-01-15 05:36:10 [INFO]: [ModelCheckpoint]: Checkpoint at epoch 12: accuracy did not improve\n"
     ]
    },
    {
     "name": "stderr",
     "output_type": "stream",
     "text": [
      "\n",
      "Training in epoch 13/100: 100%|██████████| 567/567 [10:35<00:00,  1.12s/batch]\n",
      "Validating in epoch 13/100: 100%|██████████| 142/142 [02:08<00:00,  1.10batch/s]"
     ]
    },
    {
     "name": "stdout",
     "output_type": "stream",
     "text": [
      "2022-01-15 05:48:55 [INFO]: [EvalScoreRecoder]: In epoch 13/100, loss train score: 0.040527761343873155, val score: 0.24500990884614662\n",
      "2022-01-15 05:48:55 [INFO]: [EvalScoreRecoder]: In epoch 13/100, accuracy train score: 0.9858906525573192, val score: 0.9335520699957319\n",
      "2022-01-15 05:48:55 [INFO]: [EarlyStopper]: In epoch 13/100, accuracy score: 0.9335520699957319, best accuracy score: 0.9294290839735383;update best score to 0.9335520699957319\n",
      "2022-01-15 05:48:55 [INFO]: [ModelCheckpoint]: Checkpoint at epoch 13: accuracy improved from 0.9294290839735383 to 0.9335520699957319, saving model to ../output/exp2/train.1.model_13.chk\n"
     ]
    },
    {
     "name": "stderr",
     "output_type": "stream",
     "text": [
      "\n",
      "Training in epoch 14/100:  23%|██▎       | 128/567 [02:24<08:14,  1.13s/batch]IOPub message rate exceeded.\n",
      "The notebook server will temporarily stop sending output\n",
      "to the client in order to avoid crashing it.\n",
      "To change this limit, set the config variable\n",
      "`--NotebookApp.iopub_msg_rate_limit`.\n",
      "\n",
      "Current values:\n",
      "NotebookApp.iopub_msg_rate_limit=1000.0 (msgs/sec)\n",
      "NotebookApp.rate_limit_window=3.0 (secs)\n",
      "\n",
      "Training in epoch 19/100: 100%|██████████| 567/567 [10:36<00:00,  1.12s/batch]\n",
      "Validating in epoch 19/100: 100%|██████████| 142/142 [02:09<00:00,  1.10batch/s]"
     ]
    },
    {
     "name": "stdout",
     "output_type": "stream",
     "text": [
      "2022-01-15 07:05:36 [INFO]: [EvalScoreRecoder]: In epoch 19/100, loss train score: 0.03362257702759019, val score: 0.32880026721198796\n",
      "2022-01-15 07:05:36 [INFO]: [EvalScoreRecoder]: In epoch 19/100, accuracy train score: 0.9881090167548501, val score: 0.9264097844643618\n",
      "2022-01-15 07:05:36 [INFO]: [EarlyStopper]: In epoch 19/100, accuracy score: 0.9264097844643618, best accuracy score: 0.9365230206999573;accuracy score was not improved\n",
      "2022-01-15 07:05:36 [INFO]: [EarlyStopper]: Current wait count: 1, patience: 10\n",
      "2022-01-15 07:05:36 [INFO]: [ModelCheckpoint]: Checkpoint at epoch 19: accuracy did not improve\n"
     ]
    },
    {
     "name": "stderr",
     "output_type": "stream",
     "text": [
      "\n",
      "Training in epoch 20/100: 100%|██████████| 567/567 [10:36<00:00,  1.12s/batch]\n",
      "Validating in epoch 20/100: 100%|██████████| 142/142 [02:08<00:00,  1.10batch/s]"
     ]
    },
    {
     "name": "stdout",
     "output_type": "stream",
     "text": [
      "2022-01-15 07:18:21 [INFO]: [EvalScoreRecoder]: In epoch 20/100, loss train score: 0.032407749993677334, val score: 0.30129011405605666\n",
      "2022-01-15 07:18:21 [INFO]: [EvalScoreRecoder]: In epoch 20/100, accuracy train score: 0.9884672619047619, val score: 0.928658837494665\n",
      "2022-01-15 07:18:21 [INFO]: [EarlyStopper]: In epoch 20/100, accuracy score: 0.928658837494665, best accuracy score: 0.9365230206999573;accuracy score was not improved\n",
      "2022-01-15 07:18:21 [INFO]: [EarlyStopper]: Current wait count: 2, patience: 10\n",
      "2022-01-15 07:18:21 [INFO]: [ModelCheckpoint]: Checkpoint at epoch 20: accuracy did not improve\n"
     ]
    },
    {
     "name": "stderr",
     "output_type": "stream",
     "text": [
      "\n",
      "Training in epoch 21/100: 100%|██████████| 567/567 [10:34<00:00,  1.12s/batch]\n",
      "Training in epoch 22/100: 100%|██████████| 567/567 [10:34<00:00,  1.12s/batch]s]\n",
      "Validating in epoch 22/100: 100%|██████████| 142/142 [02:09<00:00,  1.09batch/s]"
     ]
    },
    {
     "name": "stdout",
     "output_type": "stream",
     "text": [
      "2022-01-15 07:43:51 [INFO]: [EvalScoreRecoder]: In epoch 22/100, loss train score: 0.02987581372057372, val score: 0.2692141888636938\n",
      "2022-01-15 07:43:51 [INFO]: [EvalScoreRecoder]: In epoch 22/100, accuracy train score: 0.9895419973544973, val score: 0.930746172108408\n",
      "2022-01-15 07:43:51 [INFO]: [EarlyStopper]: In epoch 22/100, accuracy score: 0.930746172108408, best accuracy score: 0.9365230206999573;accuracy score was not improved\n",
      "2022-01-15 07:43:51 [INFO]: [EarlyStopper]: Current wait count: 4, patience: 10\n",
      "2022-01-15 07:43:51 [INFO]: [ModelCheckpoint]: Checkpoint at epoch 22: accuracy did not improve\n"
     ]
    },
    {
     "name": "stderr",
     "output_type": "stream",
     "text": [
      "\n",
      "Training in epoch 23/100: 100%|██████████| 567/567 [10:31<00:00,  1.11s/batch]\n",
      "Validating in epoch 23/100: 100%|██████████| 142/142 [02:09<00:00,  1.09batch/s]"
     ]
    },
    {
     "name": "stdout",
     "output_type": "stream",
     "text": [
      "2022-01-15 07:56:32 [INFO]: [EvalScoreRecoder]: In epoch 23/100, loss train score: 0.030230146515753113, val score: 0.2786972022182505\n",
      "2022-01-15 07:56:32 [INFO]: [EvalScoreRecoder]: In epoch 23/100, accuracy train score: 0.9897624559082893, val score: 0.9307428377080664\n",
      "2022-01-15 07:56:32 [INFO]: [EarlyStopper]: In epoch 23/100, accuracy score: 0.9307428377080664, best accuracy score: 0.9365230206999573;accuracy score was not improved\n",
      "2022-01-15 07:56:32 [INFO]: [EarlyStopper]: Current wait count: 5, patience: 10\n",
      "2022-01-15 07:56:32 [INFO]: [ModelCheckpoint]: Checkpoint at epoch 23: accuracy did not improve\n"
     ]
    },
    {
     "name": "stderr",
     "output_type": "stream",
     "text": [
      "\n",
      "Training in epoch 24/100:  28%|██▊       | 159/567 [02:57<07:33,  1.11s/batch]IOPub message rate exceeded.\n",
      "The notebook server will temporarily stop sending output\n",
      "to the client in order to avoid crashing it.\n",
      "To change this limit, set the config variable\n",
      "`--NotebookApp.iopub_msg_rate_limit`.\n",
      "\n",
      "Current values:\n",
      "NotebookApp.iopub_msg_rate_limit=1000.0 (msgs/sec)\n",
      "NotebookApp.rate_limit_window=3.0 (secs)\n",
      "\n",
      "Training in epoch 29/100: 100%|██████████| 567/567 [10:38<00:00,  1.13s/batch]\n",
      "Validating in epoch 29/100: 100%|██████████| 142/142 [02:10<00:00,  1.09batch/s]"
     ]
    },
    {
     "name": "stdout",
     "output_type": "stream",
     "text": [
      "2022-01-15 09:13:07 [INFO]: [EvalScoreRecoder]: In epoch 29/100, loss train score: 0.027060390193002198, val score: 0.28140799901907293\n",
      "2022-01-15 09:13:07 [INFO]: [EvalScoreRecoder]: In epoch 29/100, accuracy train score: 0.9909474206349206, val score: 0.9376817248186087\n",
      "2022-01-15 09:13:07 [INFO]: [EarlyStopper]: In epoch 29/100, accuracy score: 0.9376817248186087, best accuracy score: 0.9438370278489115;accuracy score was not improved\n",
      "2022-01-15 09:13:07 [INFO]: [EarlyStopper]: Current wait count: 2, patience: 10\n",
      "2022-01-15 09:13:07 [INFO]: [ModelCheckpoint]: Checkpoint at epoch 29: accuracy did not improve\n"
     ]
    },
    {
     "name": "stderr",
     "output_type": "stream",
     "text": [
      "\n",
      "Training in epoch 30/100: 100%|██████████| 567/567 [10:33<00:00,  1.12s/batch]\n",
      "Validating in epoch 30/100: 100%|██████████| 142/142 [02:11<00:00,  1.08batch/s]"
     ]
    },
    {
     "name": "stdout",
     "output_type": "stream",
     "text": [
      "2022-01-15 09:25:51 [INFO]: [EvalScoreRecoder]: In epoch 30/100, loss train score: 0.027165277889803236, val score: 0.28591009040533655\n",
      "2022-01-15 09:25:51 [INFO]: [EvalScoreRecoder]: In epoch 30/100, accuracy train score: 0.9906580687830688, val score: 0.9241473938326932\n",
      "2022-01-15 09:25:51 [INFO]: [EarlyStopper]: In epoch 30/100, accuracy score: 0.9241473938326932, best accuracy score: 0.9438370278489115;accuracy score was not improved\n",
      "2022-01-15 09:25:51 [INFO]: [EarlyStopper]: Current wait count: 3, patience: 10\n",
      "2022-01-15 09:25:51 [INFO]: [ModelCheckpoint]: Checkpoint at epoch 30: accuracy did not improve\n"
     ]
    },
    {
     "name": "stderr",
     "output_type": "stream",
     "text": [
      "\n",
      "Training in epoch 31/100: 100%|██████████| 567/567 [10:42<00:00,  1.13s/batch]\n",
      "Validating in epoch 31/100: 100%|██████████| 142/142 [02:09<00:00,  1.10batch/s]"
     ]
    },
    {
     "name": "stdout",
     "output_type": "stream",
     "text": [
      "2022-01-15 09:38:43 [INFO]: [EvalScoreRecoder]: In epoch 31/100, loss train score: 0.02639111958943452, val score: 0.23665513591447346\n",
      "2022-01-15 09:38:43 [INFO]: [EvalScoreRecoder]: In epoch 31/100, accuracy train score: 0.9909060846560847, val score: 0.9350408797481862\n",
      "2022-01-15 09:38:43 [INFO]: [EarlyStopper]: In epoch 31/100, accuracy score: 0.9350408797481862, best accuracy score: 0.9438370278489115;accuracy score was not improved\n",
      "2022-01-15 09:38:43 [INFO]: [EarlyStopper]: Current wait count: 4, patience: 10\n",
      "2022-01-15 09:38:43 [INFO]: [ModelCheckpoint]: Checkpoint at epoch 31: accuracy did not improve\n"
     ]
    },
    {
     "name": "stderr",
     "output_type": "stream",
     "text": [
      "\n",
      "Training in epoch 32/100: 100%|██████████| 567/567 [10:31<00:00,  1.11s/batch]\n",
      "Validating in epoch 32/100: 100%|██████████| 142/142 [02:10<00:00,  1.09batch/s]"
     ]
    },
    {
     "name": "stdout",
     "output_type": "stream",
     "text": [
      "2022-01-15 09:51:24 [INFO]: [EvalScoreRecoder]: In epoch 32/100, loss train score: 0.027226719448451328, val score: 0.26630457254572654\n",
      "2022-01-15 09:51:24 [INFO]: [EvalScoreRecoder]: In epoch 32/100, accuracy train score: 0.9905478395061729, val score: 0.9364163198890313\n",
      "2022-01-15 09:51:24 [INFO]: [EarlyStopper]: In epoch 32/100, accuracy score: 0.9364163198890313, best accuracy score: 0.9438370278489115;accuracy score was not improved\n",
      "2022-01-15 09:51:24 [INFO]: [EarlyStopper]: Current wait count: 5, patience: 10\n",
      "2022-01-15 09:51:24 [INFO]: [ModelCheckpoint]: Checkpoint at epoch 32: accuracy did not improve\n"
     ]
    },
    {
     "name": "stderr",
     "output_type": "stream",
     "text": [
      "\n",
      "Training in epoch 33/100:  79%|███████▉  | 449/567 [08:37<02:14,  1.14s/batch]IOPub message rate exceeded.\n",
      "The notebook server will temporarily stop sending output\n",
      "to the client in order to avoid crashing it.\n",
      "To change this limit, set the config variable\n",
      "`--NotebookApp.iopub_msg_rate_limit`.\n",
      "\n",
      "Current values:\n",
      "NotebookApp.iopub_msg_rate_limit=1000.0 (msgs/sec)\n",
      "NotebookApp.rate_limit_window=3.0 (secs)\n",
      "\n",
      "Training in epoch 39/100: 100%|██████████| 567/567 [10:41<00:00,  1.13s/batch]\n",
      "Validating in epoch 39/100: 100%|██████████| 142/142 [02:11<00:00,  1.08batch/s]"
     ]
    },
    {
     "name": "stdout",
     "output_type": "stream",
     "text": [
      "2022-01-15 11:22:08 [INFO]: [EvalScoreRecoder]: In epoch 39/100, loss train score: 0.024027511724673302, val score: 0.2291898469794804\n",
      "2022-01-15 11:22:08 [INFO]: [EvalScoreRecoder]: In epoch 39/100, accuracy train score: 0.9918981481481481, val score: 0.9456492744344857\n",
      "2022-01-15 11:22:08 [INFO]: [EarlyStopper]: In epoch 39/100, accuracy score: 0.9456492744344857, best accuracy score: 0.9445489223218096;update best score to 0.9456492744344857\n",
      "2022-01-15 11:22:08 [INFO]: [ModelCheckpoint]: Checkpoint at epoch 39: accuracy improved from 0.9445489223218096 to 0.9456492744344857, saving model to ../output/exp2/train.1.model_39.chk\n"
     ]
    },
    {
     "name": "stderr",
     "output_type": "stream",
     "text": [
      "\n",
      "Validating in epoch 40/100: 100%|██████████| 142/142 [02:19<00:00,  1.02batch/s]"
     ]
    },
    {
     "name": "stdout",
     "output_type": "stream",
     "text": [
      "2022-01-15 11:36:00 [INFO]: [EvalScoreRecoder]: In epoch 40/100, loss train score: 0.02351566615212229, val score: 0.28190754112643257\n",
      "2022-01-15 11:36:00 [INFO]: [EvalScoreRecoder]: In epoch 40/100, accuracy train score: 0.99204971340388, val score: 0.9378951264404608\n",
      "2022-01-15 11:36:00 [INFO]: [EarlyStopper]: In epoch 40/100, accuracy score: 0.9378951264404608, best accuracy score: 0.9456492744344857;accuracy score was not improved\n",
      "2022-01-15 11:36:00 [INFO]: [EarlyStopper]: Current wait count: 1, patience: 10\n",
      "2022-01-15 11:36:00 [INFO]: [ModelCheckpoint]: Checkpoint at epoch 40: accuracy did not improve\n"
     ]
    },
    {
     "name": "stderr",
     "output_type": "stream",
     "text": [
      "\n",
      "Training in epoch 41/100: 100%|██████████| 567/567 [10:45<00:00,  1.14s/batch]\n",
      "Validating in epoch 41/100: 100%|██████████| 142/142 [02:16<00:00,  1.04batch/s]"
     ]
    },
    {
     "name": "stdout",
     "output_type": "stream",
     "text": [
      "2022-01-15 11:49:02 [INFO]: [EvalScoreRecoder]: In epoch 41/100, loss train score: 0.021886513568871578, val score: 0.18651773143087474\n",
      "2022-01-15 11:49:02 [INFO]: [EvalScoreRecoder]: In epoch 41/100, accuracy train score: 0.9927524250440917, val score: 0.9479049962654716\n",
      "2022-01-15 11:49:02 [INFO]: [EarlyStopper]: In epoch 41/100, accuracy score: 0.9479049962654716, best accuracy score: 0.9456492744344857;update best score to 0.9479049962654716\n",
      "2022-01-15 11:49:02 [INFO]: [ModelCheckpoint]: Checkpoint at epoch 41: accuracy improved from 0.9456492744344857 to 0.9479049962654716, saving model to ../output/exp2/train.1.model_41.chk\n"
     ]
    },
    {
     "name": "stderr",
     "output_type": "stream",
     "text": [
      "\n",
      "Training in epoch 42/100: 100%|██████████| 567/567 [10:55<00:00,  1.16s/batch]\n",
      "Validating in epoch 42/100:  54%|█████▎    | 76/142 [01:11<01:00,  1.09batch/s]IOPub message rate exceeded.\n",
      "The notebook server will temporarily stop sending output\n",
      "to the client in order to avoid crashing it.\n",
      "To change this limit, set the config variable\n",
      "`--NotebookApp.iopub_msg_rate_limit`.\n",
      "\n",
      "Current values:\n",
      "NotebookApp.iopub_msg_rate_limit=1000.0 (msgs/sec)\n",
      "NotebookApp.rate_limit_window=3.0 (secs)\n",
      "\n",
      "Training in epoch 48/100: 100%|██████████| 567/567 [10:43<00:00,  1.14s/batch]\n",
      "Validating in epoch 48/100: 100%|██████████| 142/142 [02:12<00:00,  1.07batch/s]"
     ]
    },
    {
     "name": "stdout",
     "output_type": "stream",
     "text": [
      "2022-01-15 13:20:20 [INFO]: [EvalScoreRecoder]: In epoch 48/100, loss train score: 0.02356099763908136, val score: 0.25978528178283866\n",
      "2022-01-15 13:20:20 [INFO]: [EvalScoreRecoder]: In epoch 48/100, accuracy train score: 0.9917328042328042, val score: 0.9420831332693129\n",
      "2022-01-15 13:20:20 [INFO]: [EarlyStopper]: In epoch 48/100, accuracy score: 0.9420831332693129, best accuracy score: 0.9479049962654716;accuracy score was not improved\n",
      "2022-01-15 13:20:20 [INFO]: [EarlyStopper]: Current wait count: 7, patience: 10\n",
      "2022-01-15 13:20:20 [INFO]: [ModelCheckpoint]: Checkpoint at epoch 48: accuracy did not improve\n"
     ]
    },
    {
     "name": "stderr",
     "output_type": "stream",
     "text": [
      "\n",
      "Training in epoch 49/100: 100%|██████████| 567/567 [10:51<00:00,  1.15s/batch]\n",
      "Training in epoch 50/100: 100%|██████████| 567/567 [10:42<00:00,  1.13s/batch]s]\n",
      "Validating in epoch 50/100: 100%|██████████| 142/142 [02:13<00:00,  1.07batch/s]"
     ]
    },
    {
     "name": "stdout",
     "output_type": "stream",
     "text": [
      "2022-01-15 13:46:18 [INFO]: [EvalScoreRecoder]: In epoch 50/100, loss train score: 0.02451728376505709, val score: 0.22742276790906008\n",
      "2022-01-15 13:46:18 [INFO]: [EvalScoreRecoder]: In epoch 50/100, accuracy train score: 0.9918154761904762, val score: 0.9458143272513871\n",
      "2022-01-15 13:46:18 [INFO]: [EarlyStopper]: In epoch 50/100, accuracy score: 0.9458143272513871, best accuracy score: 0.9479049962654716;accuracy score was not improved\n",
      "2022-01-15 13:46:18 [INFO]: [EarlyStopper]: Current wait count: 9, patience: 10\n",
      "2022-01-15 13:46:18 [INFO]: [ModelCheckpoint]: Checkpoint at epoch 50: accuracy did not improve\n"
     ]
    },
    {
     "name": "stderr",
     "output_type": "stream",
     "text": [
      "\n",
      "Training in epoch 51/100: 100%|██████████| 567/567 [10:39<00:00,  1.13s/batch]\n",
      "Validating in epoch 51/100: 100%|██████████| 142/142 [02:14<00:00,  1.05batch/s]"
     ]
    },
    {
     "name": "stdout",
     "output_type": "stream",
     "text": [
      "2022-01-15 13:59:13 [INFO]: [EvalScoreRecoder]: In epoch 51/100, loss train score: 0.020438690130258837, val score: 0.33974123531034295\n",
      "2022-01-15 13:59:13 [INFO]: [EvalScoreRecoder]: In epoch 51/100, accuracy train score: 0.9930279982363316, val score: 0.9321766298548869\n",
      "2022-01-15 13:59:13 [INFO]: [EarlyStopper]: In epoch 51/100, accuracy score: 0.9321766298548869, best accuracy score: 0.9479049962654716;accuracy score was not improved\n",
      "2022-01-15 13:59:13 [INFO]: [EarlyStopper]: Current wait count: 10, patience: 10\n",
      "2022-01-15 13:59:13 [INFO]: [EarlyStopper]: Early stopping training: wait 10 >= patience 10 at epoch 51/100\n",
      "2022-01-15 13:59:13 [INFO]: [ModelCheckpoint]: Checkpoint at epoch 51: accuracy did not improve\n",
      "2022-01-15 13:59:13 [INFO]: [EvalScoreRecoder]: loss train socres: [0.5036002967302972, 0.27025919933220277, 0.1556207891126579, 0.10869639858971407, 0.0796002666999765, 0.06650233911465347, 0.059966555256987845, 0.054797331728632485, 0.05094907838420867, 0.05169474590500748, 0.046665216972673645, 0.04588666946481013, 0.041467091100655065, 0.040527761343873155, 0.038090025580683605, 0.03625633492096733, 0.0347166326590132, 0.03569600299884429, 0.03369672693611111, 0.03362257702759019, 0.032407749993677334, 0.029785582924678894, 0.02987581372057372, 0.030230146515753113, 0.02995925973131727, 0.031191231444727702, 0.026988522919565047, 0.02746967706218283, 0.028947521528357237, 0.027060390193002198, 0.027165277889803236, 0.02639111958943452, 0.027226719448451328, 0.026355476149832552, 0.025807486724673492, 0.02260378759840546, 0.024590598797915107, 0.02389153552683468, 0.02625023700441423, 0.024027511724673302, 0.02351566615212229, 0.021886513568871578, 0.023365998097795604, 0.022533254993576852, 0.02480986784951436, 0.02115803995256754, 0.02209691839322211, 0.021304902840303865, 0.02356099763908136, 0.02285147240595659, 0.02451728376505709, 0.020438690130258837], val scores: [0.366127824699375, 0.2725559395383781, 0.3434092118076875, 0.2817424919298837, 0.2768511806260532, 0.2875085530514029, 0.2526052645342031, 0.34491429887187314, 0.3129989466511867, 0.3158522758265616, 0.3381368429727957, 0.28177450901605716, 0.2448142933803545, 0.24500990884614662, 0.2458991830197858, 0.2895503632304534, 0.28179421005639393, 0.25287053209375326, 0.2553393055724216, 0.32880026721198796, 0.30129011405605666, 0.2871906850224649, 0.2692141888636938, 0.2786972022182505, 0.2768384700404926, 0.32348452072957873, 0.2321702236519523, 0.2021851194366603, 0.2525781948171871, 0.28140799901907293, 0.28591009040533655, 0.23665513591447346, 0.26630457254572654, 0.23628372958743235, 0.3546993152146608, 0.25734241099529703, 0.2934433372402695, 0.32550162265838034, 0.233330260253918, 0.2291898469794804, 0.28190754112643257, 0.18651773143087474, 0.2871410079877561, 0.26391325985461894, 0.29622016506085935, 0.3691869131748525, 0.2511541206966823, 0.3170935768161861, 0.25978528178283866, 0.26599670297295697, 0.22742276790906008, 0.33974123531034295]\n",
      "2022-01-15 13:59:13 [INFO]: [EvalScoreRecoder]: accuracy train socres: [0.7588458994708994, 0.8879381613756614, 0.9402557319223986, 0.9593529541446209, 0.9709545855379189, 0.9763695987654321, 0.9784226190476191, 0.9803240740740741, 0.9817019400352733, 0.9815228174603174, 0.9833967151675485, 0.9841545414462081, 0.9858630952380952, 0.9858906525573192, 0.986359126984127, 0.9872960758377425, 0.9874889770723104, 0.9878334435626103, 0.98817791005291, 0.9881090167548501, 0.9884672619047619, 0.9896246693121693, 0.9895419973544973, 0.9897624559082893, 0.9899691358024691, 0.9891424162257496, 0.9909336419753086, 0.9907269620811288, 0.9904376102292769, 0.9909474206349206, 0.9906580687830688, 0.9909060846560847, 0.9905478395061729, 0.9913194444444444, 0.9908234126984127, 0.9921186067019401, 0.9911541005291006, 0.9919808201058201, 0.9908509700176367, 0.9918981481481481, 0.99204971340388, 0.9927524250440917, 0.9925044091710759, 0.9925595238095238, 0.9917465828924162, 0.9926559744268078, 0.9927662037037037, 0.9928350970017636, 0.9917328042328042, 0.99232528659612, 0.9918154761904762, 0.9930279982363316], val scores: [0.8424529182671788, 0.8901565167520273, 0.8862886123559539, 0.9091309218950064, 0.916664999466496, 0.9160598058045242, 0.9243741330559111, 0.9120468549935979, 0.9106097284464362, 0.9179270699957319, 0.9228336400981646, 0.9294290839735383, 0.928933925522834, 0.9335520699957319, 0.9251927283397354, 0.933545401195049, 0.9336104220017073, 0.9344940380921894, 0.9365230206999573, 0.9264097844643618, 0.928658837494665, 0.9281119958386683, 0.930746172108408, 0.9307428377080664, 0.9387203905249679, 0.9228853233034571, 0.9337688060179257, 0.9438370278489115, 0.9344390204865557, 0.9376817248186087, 0.9241473938326932, 0.9350408797481862, 0.9364163198890313, 0.9444422215108834, 0.9253611155569782, 0.942571622919334, 0.9349208413358941, 0.9379468096457533, 0.9445489223218096, 0.9456492744344857, 0.9378951264404608, 0.9479049962654716, 0.9392672321809645, 0.9406976899274434, 0.9299725912291932, 0.9317364890098164, 0.9312996825650875, 0.9308562073196757, 0.9420831332693129, 0.9382802496798974, 0.9458143272513871, 0.9321766298548869]\n",
      "2022-01-15 13:59:13 [INFO]: [EarlyStopper]: Early stopped at the epoch 51/100\n",
      "2022-01-15 13:59:13 [INFO]: End training...\n",
      "2022-01-15 13:59:13 [INFO]: ======================\n",
      "2022-01-15 13:59:13 [INFO]: 1 train round result: {'metrics': ['accuracy'], 'train.score': OrderedDict([('loss', [0.5036002967302972, 0.27025919933220277, 0.1556207891126579, 0.10869639858971407, 0.0796002666999765, 0.06650233911465347, 0.059966555256987845, 0.054797331728632485, 0.05094907838420867, 0.05169474590500748, 0.046665216972673645, 0.04588666946481013, 0.041467091100655065, 0.040527761343873155, 0.038090025580683605, 0.03625633492096733, 0.0347166326590132, 0.03569600299884429, 0.03369672693611111, 0.03362257702759019, 0.032407749993677334, 0.029785582924678894, 0.02987581372057372, 0.030230146515753113, 0.02995925973131727, 0.031191231444727702, 0.026988522919565047, 0.02746967706218283, 0.028947521528357237, 0.027060390193002198, 0.027165277889803236, 0.02639111958943452, 0.027226719448451328, 0.026355476149832552, 0.025807486724673492, 0.02260378759840546, 0.024590598797915107, 0.02389153552683468, 0.02625023700441423, 0.024027511724673302, 0.02351566615212229, 0.021886513568871578, 0.023365998097795604, 0.022533254993576852, 0.02480986784951436, 0.02115803995256754, 0.02209691839322211, 0.021304902840303865, 0.02356099763908136, 0.02285147240595659, 0.02451728376505709, 0.020438690130258837]), ('accuracy', [0.7588458994708994, 0.8879381613756614, 0.9402557319223986, 0.9593529541446209, 0.9709545855379189, 0.9763695987654321, 0.9784226190476191, 0.9803240740740741, 0.9817019400352733, 0.9815228174603174, 0.9833967151675485, 0.9841545414462081, 0.9858630952380952, 0.9858906525573192, 0.986359126984127, 0.9872960758377425, 0.9874889770723104, 0.9878334435626103, 0.98817791005291, 0.9881090167548501, 0.9884672619047619, 0.9896246693121693, 0.9895419973544973, 0.9897624559082893, 0.9899691358024691, 0.9891424162257496, 0.9909336419753086, 0.9907269620811288, 0.9904376102292769, 0.9909474206349206, 0.9906580687830688, 0.9909060846560847, 0.9905478395061729, 0.9913194444444444, 0.9908234126984127, 0.9921186067019401, 0.9911541005291006, 0.9919808201058201, 0.9908509700176367, 0.9918981481481481, 0.99204971340388, 0.9927524250440917, 0.9925044091710759, 0.9925595238095238, 0.9917465828924162, 0.9926559744268078, 0.9927662037037037, 0.9928350970017636, 0.9917328042328042, 0.99232528659612, 0.9918154761904762, 0.9930279982363316])]), 'val.score': OrderedDict([('loss', [0.366127824699375, 0.2725559395383781, 0.3434092118076875, 0.2817424919298837, 0.2768511806260532, 0.2875085530514029, 0.2526052645342031, 0.34491429887187314, 0.3129989466511867, 0.3158522758265616, 0.3381368429727957, 0.28177450901605716, 0.2448142933803545, 0.24500990884614662, 0.2458991830197858, 0.2895503632304534, 0.28179421005639393, 0.25287053209375326, 0.2553393055724216, 0.32880026721198796, 0.30129011405605666, 0.2871906850224649, 0.2692141888636938, 0.2786972022182505, 0.2768384700404926, 0.32348452072957873, 0.2321702236519523, 0.2021851194366603, 0.2525781948171871, 0.28140799901907293, 0.28591009040533655, 0.23665513591447346, 0.26630457254572654, 0.23628372958743235, 0.3546993152146608, 0.25734241099529703, 0.2934433372402695, 0.32550162265838034, 0.233330260253918, 0.2291898469794804, 0.28190754112643257, 0.18651773143087474, 0.2871410079877561, 0.26391325985461894, 0.29622016506085935, 0.3691869131748525, 0.2511541206966823, 0.3170935768161861, 0.25978528178283866, 0.26599670297295697, 0.22742276790906008, 0.33974123531034295]), ('accuracy', [0.8424529182671788, 0.8901565167520273, 0.8862886123559539, 0.9091309218950064, 0.916664999466496, 0.9160598058045242, 0.9243741330559111, 0.9120468549935979, 0.9106097284464362, 0.9179270699957319, 0.9228336400981646, 0.9294290839735383, 0.928933925522834, 0.9335520699957319, 0.9251927283397354, 0.933545401195049, 0.9336104220017073, 0.9344940380921894, 0.9365230206999573, 0.9264097844643618, 0.928658837494665, 0.9281119958386683, 0.930746172108408, 0.9307428377080664, 0.9387203905249679, 0.9228853233034571, 0.9337688060179257, 0.9438370278489115, 0.9344390204865557, 0.9376817248186087, 0.9241473938326932, 0.9350408797481862, 0.9364163198890313, 0.9444422215108834, 0.9253611155569782, 0.942571622919334, 0.9349208413358941, 0.9379468096457533, 0.9445489223218096, 0.9456492744344857, 0.9378951264404608, 0.9479049962654716, 0.9392672321809645, 0.9406976899274434, 0.9299725912291932, 0.9317364890098164, 0.9312996825650875, 0.9308562073196757, 0.9420831332693129, 0.9382802496798974, 0.9458143272513871, 0.9321766298548869])]), 'n_epochs': 100, 'stopped_epoch': 51, 'monitor': 'accuracy', 'best_epoch': 41, 'best_score': 0.9479049962654716, 'best_chk': '../output/exp2/train.1.model_41.chk'}, writing to ../output/exp2/train.1.result.json\n"
     ]
    },
    {
     "name": "stdout",
     "output_type": "stream",
     "text": [
      "2022-01-15 13:59:13 [INFO]: End of 1 train round.\n",
      "2022-01-15 13:59:13 [INFO]: End of 2 train rounds of exp2, collapsed: 16:11:32.699608\n",
      "2022-01-15 13:59:13 [INFO]: ======================\n"
     ]
    },
    {
     "name": "stderr",
     "output_type": "stream",
     "text": [
      "\n"
     ]
    }
   ],
   "source": [
    "experiment.train()"
   ]
  },
  {
   "cell_type": "markdown",
   "metadata": {},
   "source": [
    "## Fine-tuning results"
   ]
  },
  {
   "cell_type": "code",
   "execution_count": 5,
   "metadata": {},
   "outputs": [
    {
     "name": "stdout",
     "output_type": "stream",
     "text": [
      "2022-01-15 23:47:37 [DEBUG]: Loaded backend module://ipykernel.pylab.backend_inline version unknown.\n",
      "Populating the interactive namespace from numpy and matplotlib\n",
      "##############################\n",
      "n_epochs: 150\n",
      "stopped_epoch: 81\n",
      "best_epoch: 66\n",
      "best_score: 0.7923964260312945\n",
      "best_chk: ../output/exp2/train.0.model_66.chk\n",
      "##############################\n",
      "n_epochs: 100\n",
      "stopped_epoch: 51\n",
      "best_epoch: 41\n",
      "best_score: 0.9479049962654716\n",
      "best_chk: ../output/exp2/train.1.model_41.chk\n"
     ]
    },
    {
     "data": {
      "image/png": "[encoded data removed]",
      "text/plain": [
       "<Figure size 720x288 with 2 Axes>"
      ]
     },
     "metadata": {
      "needs_background": "light"
     },
     "output_type": "display_data"
    }
   ],
   "source": [
    "%pylab inline\n",
    "\n",
    "def show_train_result(train_result=None, ax=None, title=None):\n",
    "    df = pd.DataFrame({\n",
    "        'train_loss': train_result['train.score']['loss'],\n",
    "        'val_loss': train_result['val.score']['loss'],\n",
    "        'train_accuracy': train_result['train.score']['accuracy'],\n",
    "        'val_accuracy': train_result['val.score']['accuracy']\n",
    "    })\n",
    "\n",
    "    ax = df.loc[:, ['train_accuracy', 'val_accuracy']].plot(ax=ax, title=title)\n",
    "    bs = train_result['best_score']\n",
    "    n_epochs = train_result['stopped_epoch']\n",
    "    ax.axhline(y=bs, ls='--', c='red')\n",
    "    ax.xaxis.set_major_locator(MaxNLocator(integer=True))\n",
    "    ax.legend([\"Train accuracy\", \"Validation accuracy\", \"Best accuracy = %0.3f\" % bs], prop={\"size\": 11})\n",
    "    \n",
    "    print('##############################')\n",
    "    print('n_epochs: %s' % train_result['n_epochs'])\n",
    "    print('stopped_epoch: %s' % train_result['stopped_epoch'])\n",
    "    print('best_epoch: %s' % train_result['best_epoch'])\n",
    "    print('best_score: %s' % train_result['best_score'])\n",
    "    print('best_chk: %s' % train_result['best_chk'])\n",
    "\n",
    "\n",
    "fig, axes = plt.subplots(nrows=1, ncols=2)\n",
    "fig.set_figwidth(10)\n",
    "fig.set_figheight(4)\n",
    "plt.tight_layout(h_pad=2, w_pad=2)\n",
    "\n",
    "show_train_result(train_result=experiment.get_train_result(0), \n",
    "                  ax=axes[0])\n",
    "show_train_result(train_result=experiment.get_train_result(1), \n",
    "                  ax=axes[1])\n"
   ]
  },
  {
   "cell_type": "markdown",
   "metadata": {},
   "source": [
    "## Loading final fine-tuned model"
   ]
  },
  {
   "cell_type": "code",
   "execution_count": 6,
   "metadata": {},
   "outputs": [
    {
     "name": "stdout",
     "output_type": "stream",
     "text": [
      "2022-01-15 23:48:08 [INFO]: Create TAPE model using config: ../config/bert-base/\n",
      "2022-01-15 23:48:10 [INFO]: Loading the eval model from ../output/exp2/train.1.model_41.chk\n"
     ]
    },
    {
     "data": {
      "text/plain": [
       "BertTCREpitopeModel(\n",
       "  (bert): ProteinBertModel(\n",
       "    (embeddings): ProteinBertEmbeddings(\n",
       "      (word_embeddings): Embedding(30, 768, padding_idx=0)\n",
       "      (position_embeddings): Embedding(8192, 768)\n",
       "      (token_type_embeddings): Embedding(1, 768)\n",
       "      (LayerNorm): LayerNorm()\n",
       "      (dropout): Dropout(p=0.1)\n",
       "    )\n",
       "    (encoder): ProteinBertEncoder(\n",
       "      (layer): ModuleList(\n",
       "        (0): ProteinBertLayer(\n",
       "          (attention): ProteinBertAttention(\n",
       "            (self): ProteinBertSelfAttention(\n",
       "              (query): Linear(in_features=768, out_features=768, bias=True)\n",
       "              (key): Linear(in_features=768, out_features=768, bias=True)\n",
       "              (value): Linear(in_features=768, out_features=768, bias=True)\n",
       "              (dropout): Dropout(p=0.1)\n",
       "            )\n",
       "            (output): ProteinBertSelfOutput(\n",
       "              (dense): Linear(in_features=768, out_features=768, bias=True)\n",
       "              (LayerNorm): LayerNorm()\n",
       "              (dropout): Dropout(p=0.1)\n",
       "            )\n",
       "          )\n",
       "          (intermediate): ProteinBertIntermediate(\n",
       "            (dense): Linear(in_features=768, out_features=3072, bias=True)\n",
       "          )\n",
       "          (output): ProteinBertOutput(\n",
       "            (dense): Linear(in_features=3072, out_features=768, bias=True)\n",
       "            (LayerNorm): LayerNorm()\n",
       "            (dropout): Dropout(p=0.1)\n",
       "          )\n",
       "        )\n",
       "        (1): ProteinBertLayer(\n",
       "          (attention): ProteinBertAttention(\n",
       "            (self): ProteinBertSelfAttention(\n",
       "              (query): Linear(in_features=768, out_features=768, bias=True)\n",
       "              (key): Linear(in_features=768, out_features=768, bias=True)\n",
       "              (value): Linear(in_features=768, out_features=768, bias=True)\n",
       "              (dropout): Dropout(p=0.1)\n",
       "            )\n",
       "            (output): ProteinBertSelfOutput(\n",
       "              (dense): Linear(in_features=768, out_features=768, bias=True)\n",
       "              (LayerNorm): LayerNorm()\n",
       "              (dropout): Dropout(p=0.1)\n",
       "            )\n",
       "          )\n",
       "          (intermediate): ProteinBertIntermediate(\n",
       "            (dense): Linear(in_features=768, out_features=3072, bias=True)\n",
       "          )\n",
       "          (output): ProteinBertOutput(\n",
       "            (dense): Linear(in_features=3072, out_features=768, bias=True)\n",
       "            (LayerNorm): LayerNorm()\n",
       "            (dropout): Dropout(p=0.1)\n",
       "          )\n",
       "        )\n",
       "        (2): ProteinBertLayer(\n",
       "          (attention): ProteinBertAttention(\n",
       "            (self): ProteinBertSelfAttention(\n",
       "              (query): Linear(in_features=768, out_features=768, bias=True)\n",
       "              (key): Linear(in_features=768, out_features=768, bias=True)\n",
       "              (value): Linear(in_features=768, out_features=768, bias=True)\n",
       "              (dropout): Dropout(p=0.1)\n",
       "            )\n",
       "            (output): ProteinBertSelfOutput(\n",
       "              (dense): Linear(in_features=768, out_features=768, bias=True)\n",
       "              (LayerNorm): LayerNorm()\n",
       "              (dropout): Dropout(p=0.1)\n",
       "            )\n",
       "          )\n",
       "          (intermediate): ProteinBertIntermediate(\n",
       "            (dense): Linear(in_features=768, out_features=3072, bias=True)\n",
       "          )\n",
       "          (output): ProteinBertOutput(\n",
       "            (dense): Linear(in_features=3072, out_features=768, bias=True)\n",
       "            (LayerNorm): LayerNorm()\n",
       "            (dropout): Dropout(p=0.1)\n",
       "          )\n",
       "        )\n",
       "        (3): ProteinBertLayer(\n",
       "          (attention): ProteinBertAttention(\n",
       "            (self): ProteinBertSelfAttention(\n",
       "              (query): Linear(in_features=768, out_features=768, bias=True)\n",
       "              (key): Linear(in_features=768, out_features=768, bias=True)\n",
       "              (value): Linear(in_features=768, out_features=768, bias=True)\n",
       "              (dropout): Dropout(p=0.1)\n",
       "            )\n",
       "            (output): ProteinBertSelfOutput(\n",
       "              (dense): Linear(in_features=768, out_features=768, bias=True)\n",
       "              (LayerNorm): LayerNorm()\n",
       "              (dropout): Dropout(p=0.1)\n",
       "            )\n",
       "          )\n",
       "          (intermediate): ProteinBertIntermediate(\n",
       "            (dense): Linear(in_features=768, out_features=3072, bias=True)\n",
       "          )\n",
       "          (output): ProteinBertOutput(\n",
       "            (dense): Linear(in_features=3072, out_features=768, bias=True)\n",
       "            (LayerNorm): LayerNorm()\n",
       "            (dropout): Dropout(p=0.1)\n",
       "          )\n",
       "        )\n",
       "        (4): ProteinBertLayer(\n",
       "          (attention): ProteinBertAttention(\n",
       "            (self): ProteinBertSelfAttention(\n",
       "              (query): Linear(in_features=768, out_features=768, bias=True)\n",
       "              (key): Linear(in_features=768, out_features=768, bias=True)\n",
       "              (value): Linear(in_features=768, out_features=768, bias=True)\n",
       "              (dropout): Dropout(p=0.1)\n",
       "            )\n",
       "            (output): ProteinBertSelfOutput(\n",
       "              (dense): Linear(in_features=768, out_features=768, bias=True)\n",
       "              (LayerNorm): LayerNorm()\n",
       "              (dropout): Dropout(p=0.1)\n",
       "            )\n",
       "          )\n",
       "          (intermediate): ProteinBertIntermediate(\n",
       "            (dense): Linear(in_features=768, out_features=3072, bias=True)\n",
       "          )\n",
       "          (output): ProteinBertOutput(\n",
       "            (dense): Linear(in_features=3072, out_features=768, bias=True)\n",
       "            (LayerNorm): LayerNorm()\n",
       "            (dropout): Dropout(p=0.1)\n",
       "          )\n",
       "        )\n",
       "        (5): ProteinBertLayer(\n",
       "          (attention): ProteinBertAttention(\n",
       "            (self): ProteinBertSelfAttention(\n",
       "              (query): Linear(in_features=768, out_features=768, bias=True)\n",
       "              (key): Linear(in_features=768, out_features=768, bias=True)\n",
       "              (value): Linear(in_features=768, out_features=768, bias=True)\n",
       "              (dropout): Dropout(p=0.1)\n",
       "            )\n",
       "            (output): ProteinBertSelfOutput(\n",
       "              (dense): Linear(in_features=768, out_features=768, bias=True)\n",
       "              (LayerNorm): LayerNorm()\n",
       "              (dropout): Dropout(p=0.1)\n",
       "            )\n",
       "          )\n",
       "          (intermediate): ProteinBertIntermediate(\n",
       "            (dense): Linear(in_features=768, out_features=3072, bias=True)\n",
       "          )\n",
       "          (output): ProteinBertOutput(\n",
       "            (dense): Linear(in_features=3072, out_features=768, bias=True)\n",
       "            (LayerNorm): LayerNorm()\n",
       "            (dropout): Dropout(p=0.1)\n",
       "          )\n",
       "        )\n",
       "        (6): ProteinBertLayer(\n",
       "          (attention): ProteinBertAttention(\n",
       "            (self): ProteinBertSelfAttention(\n",
       "              (query): Linear(in_features=768, out_features=768, bias=True)\n",
       "              (key): Linear(in_features=768, out_features=768, bias=True)\n",
       "              (value): Linear(in_features=768, out_features=768, bias=True)\n",
       "              (dropout): Dropout(p=0.1)\n",
       "            )\n",
       "            (output): ProteinBertSelfOutput(\n",
       "              (dense): Linear(in_features=768, out_features=768, bias=True)\n",
       "              (LayerNorm): LayerNorm()\n",
       "              (dropout): Dropout(p=0.1)\n",
       "            )\n",
       "          )\n",
       "          (intermediate): ProteinBertIntermediate(\n",
       "            (dense): Linear(in_features=768, out_features=3072, bias=True)\n",
       "          )\n",
       "          (output): ProteinBertOutput(\n",
       "            (dense): Linear(in_features=3072, out_features=768, bias=True)\n",
       "            (LayerNorm): LayerNorm()\n",
       "            (dropout): Dropout(p=0.1)\n",
       "          )\n",
       "        )\n",
       "        (7): ProteinBertLayer(\n",
       "          (attention): ProteinBertAttention(\n",
       "            (self): ProteinBertSelfAttention(\n",
       "              (query): Linear(in_features=768, out_features=768, bias=True)\n",
       "              (key): Linear(in_features=768, out_features=768, bias=True)\n",
       "              (value): Linear(in_features=768, out_features=768, bias=True)\n",
       "              (dropout): Dropout(p=0.1)\n",
       "            )\n",
       "            (output): ProteinBertSelfOutput(\n",
       "              (dense): Linear(in_features=768, out_features=768, bias=True)\n",
       "              (LayerNorm): LayerNorm()\n",
       "              (dropout): Dropout(p=0.1)\n",
       "            )\n",
       "          )\n",
       "          (intermediate): ProteinBertIntermediate(\n",
       "            (dense): Linear(in_features=768, out_features=3072, bias=True)\n",
       "          )\n",
       "          (output): ProteinBertOutput(\n",
       "            (dense): Linear(in_features=3072, out_features=768, bias=True)\n",
       "            (LayerNorm): LayerNorm()\n",
       "            (dropout): Dropout(p=0.1)\n",
       "          )\n",
       "        )\n",
       "        (8): ProteinBertLayer(\n",
       "          (attention): ProteinBertAttention(\n",
       "            (self): ProteinBertSelfAttention(\n",
       "              (query): Linear(in_features=768, out_features=768, bias=True)\n",
       "              (key): Linear(in_features=768, out_features=768, bias=True)\n",
       "              (value): Linear(in_features=768, out_features=768, bias=True)\n",
       "              (dropout): Dropout(p=0.1)\n",
       "            )\n",
       "            (output): ProteinBertSelfOutput(\n",
       "              (dense): Linear(in_features=768, out_features=768, bias=True)\n",
       "              (LayerNorm): LayerNorm()\n",
       "              (dropout): Dropout(p=0.1)\n",
       "            )\n",
       "          )\n",
       "          (intermediate): ProteinBertIntermediate(\n",
       "            (dense): Linear(in_features=768, out_features=3072, bias=True)\n",
       "          )\n",
       "          (output): ProteinBertOutput(\n",
       "            (dense): Linear(in_features=3072, out_features=768, bias=True)\n",
       "            (LayerNorm): LayerNorm()\n",
       "            (dropout): Dropout(p=0.1)\n",
       "          )\n",
       "        )\n",
       "        (9): ProteinBertLayer(\n",
       "          (attention): ProteinBertAttention(\n",
       "            (self): ProteinBertSelfAttention(\n",
       "              (query): Linear(in_features=768, out_features=768, bias=True)\n",
       "              (key): Linear(in_features=768, out_features=768, bias=True)\n",
       "              (value): Linear(in_features=768, out_features=768, bias=True)\n",
       "              (dropout): Dropout(p=0.1)\n",
       "            )\n",
       "            (output): ProteinBertSelfOutput(\n",
       "              (dense): Linear(in_features=768, out_features=768, bias=True)\n",
       "              (LayerNorm): LayerNorm()\n",
       "              (dropout): Dropout(p=0.1)\n",
       "            )\n",
       "          )\n",
       "          (intermediate): ProteinBertIntermediate(\n",
       "            (dense): Linear(in_features=768, out_features=3072, bias=True)\n",
       "          )\n",
       "          (output): ProteinBertOutput(\n",
       "            (dense): Linear(in_features=3072, out_features=768, bias=True)\n",
       "            (LayerNorm): LayerNorm()\n",
       "            (dropout): Dropout(p=0.1)\n",
       "          )\n",
       "        )\n",
       "        (10): ProteinBertLayer(\n",
       "          (attention): ProteinBertAttention(\n",
       "            (self): ProteinBertSelfAttention(\n",
       "              (query): Linear(in_features=768, out_features=768, bias=True)\n",
       "              (key): Linear(in_features=768, out_features=768, bias=True)\n",
       "              (value): Linear(in_features=768, out_features=768, bias=True)\n",
       "              (dropout): Dropout(p=0.1)\n",
       "            )\n",
       "            (output): ProteinBertSelfOutput(\n",
       "              (dense): Linear(in_features=768, out_features=768, bias=True)\n",
       "              (LayerNorm): LayerNorm()\n",
       "              (dropout): Dropout(p=0.1)\n",
       "            )\n",
       "          )\n",
       "          (intermediate): ProteinBertIntermediate(\n",
       "            (dense): Linear(in_features=768, out_features=3072, bias=True)\n",
       "          )\n",
       "          (output): ProteinBertOutput(\n",
       "            (dense): Linear(in_features=3072, out_features=768, bias=True)\n",
       "            (LayerNorm): LayerNorm()\n",
       "            (dropout): Dropout(p=0.1)\n",
       "          )\n",
       "        )\n",
       "        (11): ProteinBertLayer(\n",
       "          (attention): ProteinBertAttention(\n",
       "            (self): ProteinBertSelfAttention(\n",
       "              (query): Linear(in_features=768, out_features=768, bias=True)\n",
       "              (key): Linear(in_features=768, out_features=768, bias=True)\n",
       "              (value): Linear(in_features=768, out_features=768, bias=True)\n",
       "              (dropout): Dropout(p=0.1)\n",
       "            )\n",
       "            (output): ProteinBertSelfOutput(\n",
       "              (dense): Linear(in_features=768, out_features=768, bias=True)\n",
       "              (LayerNorm): LayerNorm()\n",
       "              (dropout): Dropout(p=0.1)\n",
       "            )\n",
       "          )\n",
       "          (intermediate): ProteinBertIntermediate(\n",
       "            (dense): Linear(in_features=768, out_features=3072, bias=True)\n",
       "          )\n",
       "          (output): ProteinBertOutput(\n",
       "            (dense): Linear(in_features=3072, out_features=768, bias=True)\n",
       "            (LayerNorm): LayerNorm()\n",
       "            (dropout): Dropout(p=0.1)\n",
       "          )\n",
       "        )\n",
       "      )\n",
       "    )\n",
       "    (pooler): ProteinBertPooler(\n",
       "      (dense): Linear(in_features=768, out_features=768, bias=True)\n",
       "      (activation): Tanh()\n",
       "    )\n",
       "  )\n",
       "  (classifier): SimpleMLP(\n",
       "    (main): Sequential(\n",
       "      (0): Linear(in_features=768, out_features=512, bias=True)\n",
       "      (1): ReLU()\n",
       "      (2): Dropout(p=0.0, inplace)\n",
       "      (3): Linear(in_features=512, out_features=2, bias=True)\n",
       "    )\n",
       "  )\n",
       ")"
      ]
     },
     "metadata": {},
     "output_type": "display_data"
    }
   ],
   "source": [
    "model = experiment.load_eval_model()\n",
    "display(model)\n",
    "\n",
    "# Eval result recoder\n",
    "eval_recoder = PredResultRecoder(output_attentions=True, output_hidden_states=True)\n",
    "model.add_pred_listener(eval_recoder)"
   ]
  },
  {
   "cell_type": "markdown",
   "metadata": {},
   "source": [
    "## Model evaluations"
   ]
  },
  {
   "cell_type": "markdown",
   "metadata": {},
   "source": [
    "### Shomuradova <i>et al.</i>\n",
    "\n",
    "- Performance evaluation for the dataset containing COVID-19 S-protein<sub>266-277</sub>(YLQPRTFLL) epitope-specific CDR3βs from  Shomuradova <i>et al.</i>"
   ]
  },
  {
   "cell_type": "markdown",
   "metadata": {},
   "source": [
    "#### Loading eval dataset"
   ]
  },
  {
   "cell_type": "code",
   "execution_count": 7,
   "metadata": {
    "scrolled": true
   },
   "outputs": [
    {
     "name": "stdout",
     "output_type": "stream",
     "text": [
      "2022-01-15 23:48:40 [INFO]: shomuradova dataset was loaded from ../output/shomuradova.data.csv, df.shape: (610, 9)\n",
      "shomuradova\n"
     ]
    },
    {
     "data": {
      "text/html": [
       "<div>\n",
       "<style scoped>\n",
       "    .dataframe tbody tr th:only-of-type {\n",
       "        vertical-align: middle;\n",
       "    }\n",
       "\n",
       "    .dataframe tbody tr th {\n",
       "        vertical-align: top;\n",
       "    }\n",
       "\n",
       "    .dataframe thead th {\n",
       "        text-align: right;\n",
       "    }\n",
       "</style>\n",
       "<table border=\"1\" class=\"dataframe\">\n",
       "  <thead>\n",
       "    <tr style=\"text-align: right;\">\n",
       "      <th></th>\n",
       "      <th>epitope</th>\n",
       "      <th>epitope_gene</th>\n",
       "      <th>epitope_species</th>\n",
       "      <th>species</th>\n",
       "      <th>cdr3b</th>\n",
       "      <th>mhc</th>\n",
       "      <th>source</th>\n",
       "      <th>label</th>\n",
       "      <th>sentence</th>\n",
       "    </tr>\n",
       "  </thead>\n",
       "  <tbody>\n",
       "    <tr>\n",
       "      <th>YLQPRTFLL_CASSFQNTGELFF</th>\n",
       "      <td>YLQPRTFLL</td>\n",
       "      <td>Spike</td>\n",
       "      <td>SARS-CoV-2</td>\n",
       "      <td>HomoSapiens</td>\n",
       "      <td>CASSFQNTGELFF</td>\n",
       "      <td>HLA-A*02</td>\n",
       "      <td>Shomuradova</td>\n",
       "      <td>1</td>\n",
       "      <td>[2, 28, 15, 20, 19, 21, 23, 10, 15, 15, 7, 5, ...</td>\n",
       "    </tr>\n",
       "    <tr>\n",
       "      <th>YLQPRTFLL_CASSSVNNNEQFF</th>\n",
       "      <td>YLQPRTFLL</td>\n",
       "      <td>Spike</td>\n",
       "      <td>SARS-CoV-2</td>\n",
       "      <td>HomoSapiens</td>\n",
       "      <td>CASSSVNNNEQFF</td>\n",
       "      <td>HLA-A*02</td>\n",
       "      <td>Shomuradova</td>\n",
       "      <td>1</td>\n",
       "      <td>[2, 28, 15, 20, 19, 21, 23, 10, 15, 15, 7, 5, ...</td>\n",
       "    </tr>\n",
       "    <tr>\n",
       "      <th>YLQPRTFLL_CAVGEANTGELFF</th>\n",
       "      <td>YLQPRTFLL</td>\n",
       "      <td>Spike</td>\n",
       "      <td>SARS-CoV-2</td>\n",
       "      <td>HomoSapiens</td>\n",
       "      <td>CAVGEANTGELFF</td>\n",
       "      <td>HLA-A*02</td>\n",
       "      <td>Shomuradova</td>\n",
       "      <td>1</td>\n",
       "      <td>[2, 28, 15, 20, 19, 21, 23, 10, 15, 15, 7, 5, ...</td>\n",
       "    </tr>\n",
       "    <tr>\n",
       "      <th>YLQPRTFLL_CAYQEVNTGELFF</th>\n",
       "      <td>YLQPRTFLL</td>\n",
       "      <td>Spike</td>\n",
       "      <td>SARS-CoV-2</td>\n",
       "      <td>HomoSapiens</td>\n",
       "      <td>CAYQEVNTGELFF</td>\n",
       "      <td>HLA-A*02</td>\n",
       "      <td>Shomuradova</td>\n",
       "      <td>1</td>\n",
       "      <td>[2, 28, 15, 20, 19, 21, 23, 10, 15, 15, 7, 5, ...</td>\n",
       "    </tr>\n",
       "    <tr>\n",
       "      <th>YLQPRTFLL_CSARDDQAVNTGELFF</th>\n",
       "      <td>YLQPRTFLL</td>\n",
       "      <td>Spike</td>\n",
       "      <td>SARS-CoV-2</td>\n",
       "      <td>HomoSapiens</td>\n",
       "      <td>CSARDDQAVNTGELFF</td>\n",
       "      <td>HLA-A*02</td>\n",
       "      <td>Shomuradova</td>\n",
       "      <td>1</td>\n",
       "      <td>[2, 28, 15, 20, 19, 21, 23, 10, 15, 15, 7, 22,...</td>\n",
       "    </tr>\n",
       "  </tbody>\n",
       "</table>\n",
       "</div>"
      ],
      "text/plain": [
       "                              epitope epitope_gene epitope_species  \\\n",
       "YLQPRTFLL_CASSFQNTGELFF     YLQPRTFLL        Spike      SARS-CoV-2   \n",
       "YLQPRTFLL_CASSSVNNNEQFF     YLQPRTFLL        Spike      SARS-CoV-2   \n",
       "YLQPRTFLL_CAVGEANTGELFF     YLQPRTFLL        Spike      SARS-CoV-2   \n",
       "YLQPRTFLL_CAYQEVNTGELFF     YLQPRTFLL        Spike      SARS-CoV-2   \n",
       "YLQPRTFLL_CSARDDQAVNTGELFF  YLQPRTFLL        Spike      SARS-CoV-2   \n",
       "\n",
       "                                species             cdr3b       mhc  \\\n",
       "YLQPRTFLL_CASSFQNTGELFF     HomoSapiens     CASSFQNTGELFF  HLA-A*02   \n",
       "YLQPRTFLL_CASSSVNNNEQFF     HomoSapiens     CASSSVNNNEQFF  HLA-A*02   \n",
       "YLQPRTFLL_CAVGEANTGELFF     HomoSapiens     CAVGEANTGELFF  HLA-A*02   \n",
       "YLQPRTFLL_CAYQEVNTGELFF     HomoSapiens     CAYQEVNTGELFF  HLA-A*02   \n",
       "YLQPRTFLL_CSARDDQAVNTGELFF  HomoSapiens  CSARDDQAVNTGELFF  HLA-A*02   \n",
       "\n",
       "                                 source  label  \\\n",
       "YLQPRTFLL_CASSFQNTGELFF     Shomuradova      1   \n",
       "YLQPRTFLL_CASSSVNNNEQFF     Shomuradova      1   \n",
       "YLQPRTFLL_CAVGEANTGELFF     Shomuradova      1   \n",
       "YLQPRTFLL_CAYQEVNTGELFF     Shomuradova      1   \n",
       "YLQPRTFLL_CSARDDQAVNTGELFF  Shomuradova      1   \n",
       "\n",
       "                                                                     sentence  \n",
       "YLQPRTFLL_CASSFQNTGELFF     [2, 28, 15, 20, 19, 21, 23, 10, 15, 15, 7, 5, ...  \n",
       "YLQPRTFLL_CASSSVNNNEQFF     [2, 28, 15, 20, 19, 21, 23, 10, 15, 15, 7, 5, ...  \n",
       "YLQPRTFLL_CAVGEANTGELFF     [2, 28, 15, 20, 19, 21, 23, 10, 15, 15, 7, 5, ...  \n",
       "YLQPRTFLL_CAYQEVNTGELFF     [2, 28, 15, 20, 19, 21, 23, 10, 15, 15, 7, 5, ...  \n",
       "YLQPRTFLL_CSARDDQAVNTGELFF  [2, 28, 15, 20, 19, 21, 23, 10, 15, 15, 7, 22,...  "
      ]
     },
     "metadata": {},
     "output_type": "display_data"
    },
    {
     "data": {
      "text/plain": [
       "(610, 9)"
      ]
     },
     "metadata": {},
     "output_type": "display_data"
    },
    {
     "ename": "NameError",
     "evalue": "name 'summary_df' is not defined",
     "output_type": "error",
     "traceback": [
      "\u001b[0;31m---------------------------------------------------------------------------\u001b[0m",
      "\u001b[0;31mNameError\u001b[0m                                 Traceback (most recent call last)",
      "\u001b[0;32m<ipython-input-7-0b0d8f600727>\u001b[0m in \u001b[0;36m<module>\u001b[0;34m\u001b[0m\n\u001b[1;32m     12\u001b[0m \u001b[0mprint\u001b[0m\u001b[0;34m(\u001b[0m\u001b[0msh_ds\u001b[0m\u001b[0;34m.\u001b[0m\u001b[0mname\u001b[0m\u001b[0;34m)\u001b[0m\u001b[0;34m\u001b[0m\u001b[0;34m\u001b[0m\u001b[0m\n\u001b[1;32m     13\u001b[0m \u001b[0mdisplay\u001b[0m\u001b[0;34m(\u001b[0m\u001b[0msh_df\u001b[0m\u001b[0;34m.\u001b[0m\u001b[0mhead\u001b[0m\u001b[0;34m(\u001b[0m\u001b[0;34m)\u001b[0m\u001b[0;34m,\u001b[0m \u001b[0msh_df\u001b[0m\u001b[0;34m.\u001b[0m\u001b[0mshape\u001b[0m\u001b[0;34m)\u001b[0m\u001b[0;34m\u001b[0m\u001b[0;34m\u001b[0m\u001b[0m\n\u001b[0;32m---> 14\u001b[0;31m \u001b[0msummary_df\u001b[0m\u001b[0;34m(\u001b[0m\u001b[0msh_df\u001b[0m\u001b[0;34m)\u001b[0m\u001b[0;34m\u001b[0m\u001b[0;34m\u001b[0m\u001b[0m\n\u001b[0m",
      "\u001b[0;31mNameError\u001b[0m: name 'summary_df' is not defined"
     ]
    }
   ],
   "source": [
    "from torch.utils.data import DataLoader\n",
    "from tcrbert.dataset import TCREpitopeSentenceDataset\n",
    "import numpy as np\n",
    "from tcrbert.dataset import CN\n",
    "from tcrbert.bioseq import write_fa\n",
    "\n",
    "epitope = 'YLQPRTFLL'\n",
    "\n",
    "sh_ds = TCREpitopeSentenceDataset.from_key('shomuradova')\n",
    "sh_df = sh_ds.df_enc\n",
    "\n",
    "print(sh_ds.name)\n",
    "display(sh_df.head(), sh_df.shape)\n",
    "summary_df(sh_df)"
   ]
  },
  {
   "cell_type": "markdown",
   "metadata": {},
   "source": [
    "#### Performance evaluation for Shomuradova dataset"
   ]
  },
  {
   "cell_type": "code",
   "execution_count": 8,
   "metadata": {},
   "outputs": [
    {
     "name": "stdout",
     "output_type": "stream",
     "text": [
      "2022-01-15 23:48:53 [DEBUG]: Loaded backend module://ipykernel.pylab.backend_inline version unknown.\n",
      "Populating the interactive namespace from numpy and matplotlib\n",
      "2022-01-15 23:48:53 [INFO]: ======================\n",
      "2022-01-15 23:48:53 [INFO]: Begin predict...\n",
      "2022-01-15 23:48:53 [INFO]: use_cuda, device: False, cpu\n",
      "2022-01-15 23:48:53 [INFO]: n_data: 610\n",
      "2022-01-15 23:48:53 [INFO]: batch_size: 610\n",
      "2022-01-15 23:48:53 [INFO]: [PredResultRecoder]: on_predict_begin...\n",
      "2022-01-15 23:48:53 [INFO]: Begin 0/1 prediction batch\n",
      "2022-01-15 23:49:09 [INFO]: End 0/1 prediction batch\n",
      "2022-01-15 23:49:09 [INFO]: [PredResultRecoder]: on_predict_end...\n",
      "2022-01-15 23:49:11 [INFO]: Done to predict...\n",
      "2022-01-15 23:49:11 [INFO]: ======================\n",
      "score_map: OrderedDict([('accuracy', 0.5426229508196722), ('f1', 0.6666666666666667), ('roc_auc', 0.48728298844396667)])\n"
     ]
    },
    {
     "data": {
      "text/plain": [
       "<matplotlib.legend.Legend at 0x7f0d12034cd0>"
      ]
     },
     "execution_count": 8,
     "metadata": {},
     "output_type": "execute_result"
    },
    {
     "data": {
      "image/png": "[encoded data removed]",
      "text/plain": [
       "<Figure size 432x288 with 1 Axes>"
      ]
     },
     "metadata": {
      "needs_background": "light"
     },
     "output_type": "display_data"
    }
   ],
   "source": [
    "%pylab inline\n",
    "\n",
    "import matplotlib.pyplot as plt\n",
    "import seaborn as sns\n",
    "from sklearn.metrics import roc_curve, auc\n",
    "import numpy as np\n",
    "\n",
    "metrics = ['accuracy', 'f1', 'roc_auc']\n",
    "\n",
    "data_loader = DataLoader(sh_ds, batch_size=len(sh_ds), shuffle=False, num_workers=2)\n",
    "model.predict(data_loader=data_loader, metrics=metrics)\n",
    "print('score_map: %s' % eval_recoder.result_map['score_map'])\n",
    "\n",
    "input_labels  = np.array(eval_recoder.result_map['input_labels'])\n",
    "output_labels = np.array(eval_recoder.result_map['output_labels'])\n",
    "output_probs  = np.array(eval_recoder.result_map['output_probs'])\n",
    "\n",
    "fpr, tpr, _ = roc_curve(input_labels, output_probs)\n",
    "score = auc(fpr, tpr)\n",
    "plt.plot(fpr, tpr, color='darkorange', label='ROC curve (AUROC = %0.3f)' % score)\n",
    "plt.plot([0, 1], [0, 1], color='navy', linestyle='--')\n",
    "plt.xlim([0.0, 1.0])\n",
    "plt.ylim([0.0, 1.05])\n",
    "plt.xlabel('False Positive Rate')\n",
    "plt.ylabel('True Positive Rate')\n",
    "plt.legend(loc=\"lower right\")\n",
    "\n",
    "\n",
    "\n",
    "# Epitope-specific ROC curves\n",
    "# epitopes = sh_df[CN.epitope].unique()\n",
    "\n",
    "# fig, axes = plt.subplots(nrows=epitopes.shape[0], ncols=1)\n",
    "# fig.set_figwidth(5)\n",
    "# fig.set_figheight(4*len(epitopes))\n",
    "# plt.tight_layout(h_pad=5, w_pad=3)\n",
    "\n",
    "# for i, epitope in enumerate(epitopes):\n",
    "#     indices = np.where(sh_df[CN.epitope] == epitope)[0]\n",
    "# #     title = '%s-specific CDR3βs' % epitope\n",
    "#     print(indices, len(indices))\n",
    "#     title = None\n",
    "#     ax = axes[i] if epitopes.shape[0] > 1 else axes\n",
    "#     show_roc_curve(input_labels[indices], output_probs[indices], title=title, ax=ax)"
   ]
  },
  {
   "cell_type": "markdown",
   "metadata": {},
   "source": [
    "#### Investigating position-wise attention weights \n",
    "\n",
    "##### Selecting target CDR3β sequences with most common lengths and predicted as a binder"
   ]
  },
  {
   "cell_type": "code",
   "execution_count": 20,
   "metadata": {
    "scrolled": false
   },
   "outputs": [
    {
     "name": "stdout",
     "output_type": "stream",
     "text": [
      "2022-01-16 00:01:10 [DEBUG]: Loaded backend module://ipykernel.pylab.backend_inline version unknown.\n",
      "Populating the interactive namespace from numpy and matplotlib\n"
     ]
    },
    {
     "ename": "IndexError",
     "evalue": "index 610 is out of bounds for axis 0 with size 610",
     "output_type": "error",
     "traceback": [
      "\u001b[0;31m---------------------------------------------------------------------------\u001b[0m",
      "\u001b[0;31mIndexError\u001b[0m                                Traceback (most recent call last)",
      "\u001b[0;32m<ipython-input-20-9f3edbcf7139>\u001b[0m in \u001b[0;36m<module>\u001b[0;34m\u001b[0m\n\u001b[1;32m      9\u001b[0m \u001b[0mpos_indices\u001b[0m \u001b[0;34m=\u001b[0m \u001b[0mnp\u001b[0m\u001b[0;34m.\u001b[0m\u001b[0mwhere\u001b[0m\u001b[0;34m(\u001b[0m\u001b[0moutput_labels\u001b[0m \u001b[0;34m==\u001b[0m \u001b[0;36m1\u001b[0m\u001b[0;34m)\u001b[0m\u001b[0;34m[\u001b[0m\u001b[0;36m0\u001b[0m\u001b[0;34m]\u001b[0m\u001b[0;34m\u001b[0m\u001b[0;34m\u001b[0m\u001b[0m\n\u001b[1;32m     10\u001b[0m \u001b[0;31m# print('pos_indices: %s(%s)' % (pos_indices, str(pos_indices.shape)))\u001b[0m\u001b[0;34m\u001b[0m\u001b[0;34m\u001b[0m\u001b[0;34m\u001b[0m\u001b[0m\n\u001b[0;32m---> 11\u001b[0;31m \u001b[0mpos_cdr3b\u001b[0m \u001b[0;34m=\u001b[0m \u001b[0msh_df\u001b[0m\u001b[0;34m[\u001b[0m\u001b[0mCN\u001b[0m\u001b[0;34m.\u001b[0m\u001b[0mcdr3b\u001b[0m\u001b[0;34m]\u001b[0m\u001b[0;34m.\u001b[0m\u001b[0mvalues\u001b[0m\u001b[0;34m[\u001b[0m\u001b[0mpos_indices\u001b[0m\u001b[0;34m]\u001b[0m\u001b[0;34m\u001b[0m\u001b[0;34m\u001b[0m\u001b[0m\n\u001b[0m\u001b[1;32m     12\u001b[0m \u001b[0;34m\u001b[0m\u001b[0m\n\u001b[1;32m     13\u001b[0m \u001b[0;31m##########################################\u001b[0m\u001b[0;34m\u001b[0m\u001b[0;34m\u001b[0m\u001b[0;34m\u001b[0m\u001b[0m\n",
      "\u001b[0;31mIndexError\u001b[0m: index 610 is out of bounds for axis 0 with size 610"
     ]
    }
   ],
   "source": [
    "%pylab inline\n",
    "\n",
    "import matplotlib.pyplot as plt\n",
    "import matplotlib.image as image\n",
    "\n",
    "import seaborn as sns\n",
    "from collections import Counter, OrderedDict\n",
    "\n",
    "pos_indices = np.where(output_labels == 1)[0]\n",
    "# print('pos_indices: %s(%s)' % (pos_indices, str(pos_indices.shape)))\n",
    "pos_cdr3b = sh_df[CN.cdr3b].values[pos_indices]\n",
    "\n",
    "##########################################\n",
    "lens, cnts = zip(*sorted(Counter(map(lambda x: len(x), pos_cdr3b)).items()))\n",
    "lens = np.array(lens)\n",
    "cnts = np.array(cnts)\n",
    "ax = sns.barplot(x=lens, y=cnts, color='blue')\n",
    "ax.set_title('Length distribution of postives')\n",
    "ax.set_xlabel('CDR3β sequence length')\n",
    "ax.set_ylabel('# of positives')\n",
    "\n",
    "# Select target indices by cdr3b sequence lenghts\n",
    "target_index_map = OrderedDict()\n",
    "order = np.argsort(cnts)[::-1]\n",
    "cum_cnt = 0\n",
    "for cur_len, cur_cnt in zip(lens[order], cnts[order]):\n",
    "    cum_cnt += cur_cnt\n",
    "    cum_ratio = cum_cnt/pos_indices.shape[0]\n",
    "    print('cum_ratio: %s/%s=%s' % (cum_cnt, pos_indices.shape[0], cum_ratio))\n",
    "    if cum_ratio < 0.8:\n",
    "        target_indices = np.where((output_labels == 1) & (sh_df[CN.cdr3b].map(lambda x: len(x) == cur_len)))[0]\n",
    "        print('target_indices for %s: %s(%s)' % (cur_len, target_indices, target_indices.shape[0]))\n",
    "        target_index_map[cur_len] = target_indices\n",
    "\n"
   ]
  },
  {
   "cell_type": "markdown",
   "metadata": {},
   "source": [
    "##### Marginalized position-wise attention weights for target YLQPRTFLL-CDR3b sequences \n",
    "\n",
    "- The output attention weights have the dimension $(L, N, H, S, S)$, where $L$ is the number of encoding layers, $N$ is the number of YLQPRTFLL-CDR3β sequence pairs, $H$ is the number of attention heads, and $S$ is the fixed-length of the sequences. The attention weights were marginalized into a one-dimensional vector of length of $S$. A value of the vector at the position $m$, $Am$ is given by the following equation:\n",
    "\n",
    "<img src='res/eq1.png' width='50%'>"
   ]
  },
  {
   "cell_type": "code",
   "execution_count": 11,
   "metadata": {
    "scrolled": false
   },
   "outputs": [
    {
     "name": "stdout",
     "output_type": "stream",
     "text": [
      "2022-01-15 23:50:13 [DEBUG]: Loaded backend module://ipykernel.pylab.backend_inline version unknown.\n",
      "Populating the interactive namespace from numpy and matplotlib\n",
      "attentions.shape: (12, 610, 12, 40, 40)\n",
      "Attention weights for 13: [0.01706129 0.01891893 0.0178337  0.02314952 0.01949481 0.01550497\n",
      " 0.02155742 0.02195318 0.01917138 0.02105661 0.02201836 0.0268105\n",
      " 0.03149682 0.04628762 0.0475379  0.03940248 0.03647336 0.03156495\n",
      " 0.02691555 0.02892539 0.03158692 0.02634213]\n",
      "Attention weights for 16: [0.01737299 0.01810959 0.01716978 0.0218718  0.01903961 0.01483669\n",
      " 0.02095988 0.01975837 0.01869462 0.01872536 0.01898655 0.02269883\n",
      " 0.02521842 0.04279419 0.03919717 0.0395553  0.03635787 0.04266348\n",
      " 0.03631223 0.03370997 0.03193724 0.02604593 0.02416383 0.02268275\n",
      " 0.02185124]\n",
      "Attention weights for 14: [0.01722793 0.01894257 0.01876449 0.02298339 0.01964586 0.01551659\n",
      " 0.02188842 0.02097216 0.01890542 0.01946782 0.02175982 0.02326239\n",
      " 0.02740384 0.04140854 0.04318967 0.04335693 0.04144453 0.03701589\n",
      " 0.03122406 0.02656123 0.02684681 0.02747184 0.02173949]\n",
      "Attention weights for 15: [0.01746271 0.01896632 0.01830923 0.02266962 0.01954834 0.0153618\n",
      " 0.02176396 0.0214272  0.01903992 0.01943285 0.02159893 0.0208676\n",
      " 0.02262148 0.03909095 0.04285063 0.03810888 0.03879528 0.03684689\n",
      " 0.0337824  0.03388819 0.0273992  0.0257071  0.02407856 0.02119801]\n"
     ]
    },
    {
     "ename": "IndexError",
     "evalue": "index 3 is out of bounds for axis 0 with size 3",
     "output_type": "error",
     "traceback": [
      "\u001b[0;31m---------------------------------------------------------------------------\u001b[0m",
      "\u001b[0;31mIndexError\u001b[0m                                Traceback (most recent call last)",
      "\u001b[0;32m<ipython-input-11-8539b46c39cd>\u001b[0m in \u001b[0;36m<module>\u001b[0;34m\u001b[0m\n\u001b[1;32m     27\u001b[0m     \u001b[0mprint\u001b[0m\u001b[0;34m(\u001b[0m\u001b[0;34m'Attention weights for %s: %s'\u001b[0m \u001b[0;34m%\u001b[0m \u001b[0;34m(\u001b[0m\u001b[0mcur_len\u001b[0m\u001b[0;34m,\u001b[0m \u001b[0mattns\u001b[0m\u001b[0;34m)\u001b[0m\u001b[0;34m)\u001b[0m\u001b[0;34m\u001b[0m\u001b[0;34m\u001b[0m\u001b[0m\n\u001b[1;32m     28\u001b[0m \u001b[0;34m\u001b[0m\u001b[0m\n\u001b[0;32m---> 29\u001b[0;31m     \u001b[0max\u001b[0m \u001b[0;34m=\u001b[0m \u001b[0mpd\u001b[0m\u001b[0;34m.\u001b[0m\u001b[0mSeries\u001b[0m\u001b[0;34m(\u001b[0m\u001b[0mattns\u001b[0m\u001b[0;34m)\u001b[0m\u001b[0;34m.\u001b[0m\u001b[0mplot\u001b[0m\u001b[0;34m(\u001b[0m\u001b[0mkind\u001b[0m\u001b[0;34m=\u001b[0m\u001b[0;34m'bar'\u001b[0m\u001b[0;34m,\u001b[0m \u001b[0max\u001b[0m\u001b[0;34m=\u001b[0m\u001b[0maxes\u001b[0m\u001b[0;34m[\u001b[0m\u001b[0mi\u001b[0m\u001b[0;34m]\u001b[0m\u001b[0;34m,\u001b[0m \u001b[0mrot\u001b[0m\u001b[0;34m=\u001b[0m\u001b[0;36m0\u001b[0m\u001b[0;34m)\u001b[0m\u001b[0;34m\u001b[0m\u001b[0;34m\u001b[0m\u001b[0m\n\u001b[0m\u001b[1;32m     30\u001b[0m     \u001b[0max\u001b[0m\u001b[0;34m.\u001b[0m\u001b[0mset_title\u001b[0m\u001b[0;34m(\u001b[0m\u001b[0;34m'%smer CDR3β sequences'\u001b[0m \u001b[0;34m%\u001b[0m \u001b[0mcur_len\u001b[0m\u001b[0;34m)\u001b[0m\u001b[0;34m\u001b[0m\u001b[0;34m\u001b[0m\u001b[0m\n\u001b[1;32m     31\u001b[0m \u001b[0;34m\u001b[0m\u001b[0m\n",
      "\u001b[0;31mIndexError\u001b[0m: index 3 is out of bounds for axis 0 with size 3"
     ]
    },
    {
     "data": {
      "image/png": "[encoded data removed]",
      "text/plain": [
       "<Figure size 504x864 with 3 Axes>"
      ]
     },
     "metadata": {
      "needs_background": "light"
     },
     "output_type": "display_data"
    }
   ],
   "source": [
    "%pylab inline\n",
    "\n",
    "# n_layers = model.config.num_hidden_layers\n",
    "# n_data = len(eval_ds)\n",
    "# n_heads = model.config.num_attention_heads\n",
    "# max_len = eval_ds.max_len\n",
    "\n",
    "epitope_len = len(epitope)\n",
    "\n",
    "attentions = eval_recoder.result_map['attentions']\n",
    "# attentions.shape: (n_layers, n_data, n_heads, max_len, max_len)\n",
    "print('attentions.shape: %s' % str(attentions.shape))\n",
    "\n",
    "# target_attn_map = OrderedDict()\n",
    "\n",
    "fig, axes = plt.subplots(nrows=3, ncols=1)\n",
    "fig.set_figwidth(7)\n",
    "fig.set_figheight(12)\n",
    "plt.tight_layout(h_pad=3, w_pad=3)\n",
    "\n",
    "for i, (cur_len, cur_indices) in enumerate(target_index_map.items()):\n",
    "    attns = attentions[:, cur_indices]\n",
    "    sent_len = epitope_len + cur_len\n",
    "    \n",
    "    # Position-wise marginal attentions by mean\n",
    "    attns = np.mean(attns, axis=(0, 1, 2, 3))[1:sent_len+1]\n",
    "    print('Attention weights for %s: %s' % (cur_len, attns))\n",
    "    \n",
    "    ax = pd.Series(attns).plot(kind='bar', ax=axes[i], rot=0)\n",
    "    ax.set_title('%smer CDR3β sequences' % cur_len)\n",
    "\n",
    "    ticks = list(epitope) + list(range(1, cur_len + 1))\n",
    "    mark_ratio = 0.1\n",
    "    mark_pos = []\n",
    "\n",
    "    for rank, pos in enumerate(np.argsort(attns[:epitope_len])[::-1]):\n",
    "        if rank < (epitope_len*mark_ratio):\n",
    "            ticks[pos] = '%s\\n•' % (ticks[pos])\n",
    "            mark_pos.append(pos)\n",
    "\n",
    "    for rank, pos in enumerate(np.argsort(attns[epitope_len:])[::-1]):\n",
    "        if rank < (cur_len*mark_ratio):\n",
    "            ticks[epitope_len+pos] = '%s\\n•' % (ticks[epitope_len+pos])\n",
    "            mark_pos.append(epitope_len+pos)\n",
    "\n",
    "    ax.set_xticklabels(ticks) \n",
    "    for i, tick in enumerate(ax.get_xticklabels()):\n",
    "        if i < epitope_len:\n",
    "            tick.set_color('green')\n",
    "        else:\n",
    "            tick.set_color('black')\n",
    "        if i in mark_pos:\n",
    "            tick.set_color('darkred')"
   ]
  },
  {
   "cell_type": "markdown",
   "metadata": {},
   "source": [
    "### ImmuneCODE dataset\n",
    "\n",
    "-  The dataset contained 718 COVID-19 S-protein<sub>269-277</sub>-specific TCRs from the ImmuneRACE study launched by Adaptive Biotechnologies and Microsoft (https://immunerace.adaptivebiotech.com, June 10, 2020 dataset, from hereafter referred to as ImmuneCODE dataset"
   ]
  },
  {
   "cell_type": "markdown",
   "metadata": {},
   "source": [
    "#### Loading eval dataset"
   ]
  },
  {
   "cell_type": "code",
   "execution_count": 13,
   "metadata": {},
   "outputs": [
    {
     "name": "stdout",
     "output_type": "stream",
     "text": [
      "2022-01-15 23:51:39 [INFO]: immunecode dataset was loaded from ../output/immunecode.data.csv, df.shape: (742, 9)\n"
     ]
    },
    {
     "data": {
      "text/plain": [
       "'immunecode'"
      ]
     },
     "metadata": {},
     "output_type": "display_data"
    },
    {
     "data": {
      "text/plain": [
       "742"
      ]
     },
     "metadata": {},
     "output_type": "display_data"
    },
    {
     "name": "stdout",
     "output_type": "stream",
     "text": [
      "After removing duplicates, len(im_ds): 718\n"
     ]
    },
    {
     "data": {
      "text/html": [
       "<div>\n",
       "<style scoped>\n",
       "    .dataframe tbody tr th:only-of-type {\n",
       "        vertical-align: middle;\n",
       "    }\n",
       "\n",
       "    .dataframe tbody tr th {\n",
       "        vertical-align: top;\n",
       "    }\n",
       "\n",
       "    .dataframe thead th {\n",
       "        text-align: right;\n",
       "    }\n",
       "</style>\n",
       "<table border=\"1\" class=\"dataframe\">\n",
       "  <thead>\n",
       "    <tr style=\"text-align: right;\">\n",
       "      <th></th>\n",
       "      <th>epitope</th>\n",
       "      <th>epitope_gene</th>\n",
       "      <th>epitope_species</th>\n",
       "      <th>species</th>\n",
       "      <th>cdr3b</th>\n",
       "      <th>mhc</th>\n",
       "      <th>source</th>\n",
       "      <th>label</th>\n",
       "      <th>sentence</th>\n",
       "    </tr>\n",
       "  </thead>\n",
       "  <tbody>\n",
       "    <tr>\n",
       "      <th>YLQPRTFLL_CAKGLANTGELFF</th>\n",
       "      <td>YLQPRTFLL</td>\n",
       "      <td>Spike</td>\n",
       "      <td>SARS-CoV-2</td>\n",
       "      <td>human</td>\n",
       "      <td>CAKGLANTGELFF</td>\n",
       "      <td>NaN</td>\n",
       "      <td>ImmuneCODE</td>\n",
       "      <td>1</td>\n",
       "      <td>[2, 28, 15, 20, 19, 21, 23, 10, 15, 15, 7, 5, ...</td>\n",
       "    </tr>\n",
       "    <tr>\n",
       "      <th>YLQPRTFLL_RKQWQGEETQYF</th>\n",
       "      <td>YLQPRTFLL</td>\n",
       "      <td>Spike</td>\n",
       "      <td>SARS-CoV-2</td>\n",
       "      <td>human</td>\n",
       "      <td>RKQWQGEETQYF</td>\n",
       "      <td>NaN</td>\n",
       "      <td>ImmuneCODE</td>\n",
       "      <td>1</td>\n",
       "      <td>[2, 28, 15, 20, 19, 21, 23, 10, 15, 15, 21, 14...</td>\n",
       "    </tr>\n",
       "    <tr>\n",
       "      <th>YLQPRTFLL_CASSYRNTGELFF</th>\n",
       "      <td>YLQPRTFLL</td>\n",
       "      <td>Spike</td>\n",
       "      <td>SARS-CoV-2</td>\n",
       "      <td>human</td>\n",
       "      <td>CASSYRNTGELFF</td>\n",
       "      <td>NaN</td>\n",
       "      <td>ImmuneCODE</td>\n",
       "      <td>1</td>\n",
       "      <td>[2, 28, 15, 20, 19, 21, 23, 10, 15, 15, 7, 5, ...</td>\n",
       "    </tr>\n",
       "    <tr>\n",
       "      <th>YLQPRTFLL_CSARDNWAVNTGELFF</th>\n",
       "      <td>YLQPRTFLL</td>\n",
       "      <td>Spike</td>\n",
       "      <td>SARS-CoV-2</td>\n",
       "      <td>human</td>\n",
       "      <td>CSARDNWAVNTGELFF</td>\n",
       "      <td>NaN</td>\n",
       "      <td>ImmuneCODE</td>\n",
       "      <td>1</td>\n",
       "      <td>[2, 28, 15, 20, 19, 21, 23, 10, 15, 15, 7, 22,...</td>\n",
       "    </tr>\n",
       "    <tr>\n",
       "      <th>YLQPRTFLL_CSAREREGQGANTGELFF</th>\n",
       "      <td>YLQPRTFLL</td>\n",
       "      <td>Spike</td>\n",
       "      <td>SARS-CoV-2</td>\n",
       "      <td>human</td>\n",
       "      <td>CSAREREGQGANTGELFF</td>\n",
       "      <td>NaN</td>\n",
       "      <td>ImmuneCODE</td>\n",
       "      <td>1</td>\n",
       "      <td>[2, 28, 15, 20, 19, 21, 23, 10, 15, 15, 7, 22,...</td>\n",
       "    </tr>\n",
       "  </tbody>\n",
       "</table>\n",
       "</div>"
      ],
      "text/plain": [
       "                                epitope epitope_gene epitope_species species  \\\n",
       "YLQPRTFLL_CAKGLANTGELFF       YLQPRTFLL        Spike      SARS-CoV-2   human   \n",
       "YLQPRTFLL_RKQWQGEETQYF        YLQPRTFLL        Spike      SARS-CoV-2   human   \n",
       "YLQPRTFLL_CASSYRNTGELFF       YLQPRTFLL        Spike      SARS-CoV-2   human   \n",
       "YLQPRTFLL_CSARDNWAVNTGELFF    YLQPRTFLL        Spike      SARS-CoV-2   human   \n",
       "YLQPRTFLL_CSAREREGQGANTGELFF  YLQPRTFLL        Spike      SARS-CoV-2   human   \n",
       "\n",
       "                                           cdr3b  mhc      source  label  \\\n",
       "YLQPRTFLL_CAKGLANTGELFF            CAKGLANTGELFF  NaN  ImmuneCODE      1   \n",
       "YLQPRTFLL_RKQWQGEETQYF              RKQWQGEETQYF  NaN  ImmuneCODE      1   \n",
       "YLQPRTFLL_CASSYRNTGELFF            CASSYRNTGELFF  NaN  ImmuneCODE      1   \n",
       "YLQPRTFLL_CSARDNWAVNTGELFF      CSARDNWAVNTGELFF  NaN  ImmuneCODE      1   \n",
       "YLQPRTFLL_CSAREREGQGANTGELFF  CSAREREGQGANTGELFF  NaN  ImmuneCODE      1   \n",
       "\n",
       "                                                                       sentence  \n",
       "YLQPRTFLL_CAKGLANTGELFF       [2, 28, 15, 20, 19, 21, 23, 10, 15, 15, 7, 5, ...  \n",
       "YLQPRTFLL_RKQWQGEETQYF        [2, 28, 15, 20, 19, 21, 23, 10, 15, 15, 21, 14...  \n",
       "YLQPRTFLL_CASSYRNTGELFF       [2, 28, 15, 20, 19, 21, 23, 10, 15, 15, 7, 5, ...  \n",
       "YLQPRTFLL_CSARDNWAVNTGELFF    [2, 28, 15, 20, 19, 21, 23, 10, 15, 15, 7, 22,...  \n",
       "YLQPRTFLL_CSAREREGQGANTGELFF  [2, 28, 15, 20, 19, 21, 23, 10, 15, 15, 7, 22,...  "
      ]
     },
     "metadata": {},
     "output_type": "display_data"
    },
    {
     "data": {
      "text/plain": [
       "(718, 9)"
      ]
     },
     "metadata": {},
     "output_type": "display_data"
    }
   ],
   "source": [
    "im_ds = TCREpitopeSentenceDataset.from_key('immunecode')\n",
    "display(im_ds.name, len(im_ds))\n",
    "\n",
    "# Remove duplicated CDR3beta seqs with Shomuradova\n",
    "im_ds.df_enc = im_ds.df_enc[\n",
    "        im_ds.df_enc[CN.cdr3b].map(lambda seq: seq not in sh_df[CN.cdr3b].values)\n",
    "]\n",
    "im_df = im_ds.df_enc\n",
    "print('After removing duplicates, len(im_ds): %s' % len(im_ds))\n",
    "display(im_df.head(), im_df.shape)"
   ]
  },
  {
   "cell_type": "markdown",
   "metadata": {},
   "source": [
    "#### Performance evaluation for the ImmuneCODE dataset"
   ]
  },
  {
   "cell_type": "code",
   "execution_count": 14,
   "metadata": {},
   "outputs": [
    {
     "name": "stdout",
     "output_type": "stream",
     "text": [
      "2022-01-15 23:51:51 [DEBUG]: Loaded backend module://ipykernel.pylab.backend_inline version unknown.\n",
      "Populating the interactive namespace from numpy and matplotlib\n",
      "2022-01-15 23:51:51 [INFO]: ======================\n",
      "2022-01-15 23:51:51 [INFO]: Begin predict...\n",
      "2022-01-15 23:51:51 [INFO]: use_cuda, device: False, cpu\n",
      "2022-01-15 23:51:51 [INFO]: n_data: 718\n",
      "2022-01-15 23:51:51 [INFO]: batch_size: 718\n",
      "2022-01-15 23:51:51 [INFO]: [PredResultRecoder]: on_predict_begin...\n",
      "2022-01-15 23:51:51 [INFO]: Begin 0/1 prediction batch\n",
      "2022-01-15 23:52:11 [INFO]: End 0/1 prediction batch\n",
      "2022-01-15 23:52:11 [INFO]: [PredResultRecoder]: on_predict_end...\n",
      "2022-01-15 23:52:13 [INFO]: Done to predict...\n",
      "2022-01-15 23:52:13 [INFO]: ======================\n",
      "score_map: OrderedDict([('accuracy', 0.541782729805014), ('f1', 0.6518518518518519), ('roc_auc', 0.5963258286429018)])\n"
     ]
    },
    {
     "data": {
      "image/png": "[encoded data removed]",
      "text/plain": [
       "<Figure size 432x288 with 1 Axes>"
      ]
     },
     "metadata": {
      "needs_background": "light"
     },
     "output_type": "display_data"
    }
   ],
   "source": [
    "%pylab inline\n",
    "\n",
    "from sklearn.metrics import roc_curve, auc\n",
    "\n",
    "data_loader = DataLoader(im_ds, batch_size=len(im_ds), shuffle=False, num_workers=2)\n",
    "model.predict(data_loader=data_loader, metrics=metrics)\n",
    "\n",
    "input_labels  = np.array(eval_recoder.result_map['input_labels'])\n",
    "output_labels = np.array(eval_recoder.result_map['output_labels'])\n",
    "output_probs  = np.array(eval_recoder.result_map['output_probs'])\n",
    "\n",
    "fpr, tpr, _ = roc_curve(input_labels, output_probs)\n",
    "score = auc(fpr, tpr)\n",
    "plt.plot(fpr, tpr, color='darkorange', label='ROC curve (AUROC = %0.3f)' % score)\n",
    "plt.plot([0, 1], [0, 1], color='navy', linestyle='--')\n",
    "plt.xlim([0.0, 1.0])\n",
    "plt.ylim([0.0, 1.05])\n",
    "plt.xlabel('False Positive Rate')\n",
    "plt.ylabel('True Positive Rate')\n",
    "plt.legend(loc=\"lower right\")\n",
    "\n",
    "print('score_map: %s' % eval_recoder.result_map['score_map'])"
   ]
  },
  {
   "cell_type": "markdown",
   "metadata": {},
   "source": [
    "#### Investigating position-wise attention weights\n",
    "\n",
    "##### Selecting target CDR3β sequences with most common lengths and predicted as a binder"
   ]
  },
  {
   "cell_type": "code",
   "execution_count": 15,
   "metadata": {},
   "outputs": [
    {
     "name": "stdout",
     "output_type": "stream",
     "text": [
      "2022-01-15 23:52:52 [DEBUG]: Loaded backend module://ipykernel.pylab.backend_inline version unknown.\n",
      "Populating the interactive namespace from numpy and matplotlib\n",
      "cum_ratio: 194/617=0.31442463533225284\n",
      "target_indices for 13: [  0   2   5   9  10  16  17  18  21  23  26  27  28  30  32  33  36  40\n",
      "  41  42  44  45  46  47  48  55  56  60  63  65  68  69  71  72  74  75\n",
      "  77  81  84  85  86  87  90  93  94 100 105 106 107 109 110 111 113 114\n",
      " 118 126 127 131 133 135 138 140 145 147 148 151 154 157 163 166 167 168\n",
      " 170 172 174 175 176 177 181 183 184 188 190 191 192 194 196 199 200 201\n",
      " 202 203 204 207 208 209 210 211 216 219 222 223 226 230 231 233 234 235\n",
      " 239 240 247 255 256 258 259 260 261 263 264 265 269 280 281 282 283 286\n",
      " 289 290 292 293 295 297 298 299 304 306 308 310 312 314 317 318 319 320\n",
      " 321 323 324 325 326 327 342 355 357 375 378 392 397 403 406 408 411 422\n",
      " 467 479 489 492 494 510 512 521 534 538 541 551 554 562 565 577 595 605\n",
      " 607 625 636 639 648 660 668 675 676 694 695 697 711 715](194)\n",
      "cum_ratio: 333/617=0.539708265802269\n",
      "target_indices for 14: [  7  22  29  37  39  49  52  53  54  78  82  83  88 101 102 103 104 108\n",
      " 117 120 121 128 134 136 142 144 150 152 159 160 161 164 178 179 185 186\n",
      " 193 205 212 229 236 238 242 248 273 279 285 287 291 294 296 300 303 328\n",
      " 334 335 338 345 351 354 365 366 376 383 393 394 398 404 405 413 415 416\n",
      " 418 421 423 425 428 432 440 443 452 455 456 460 462 463 470 476 480 485\n",
      " 487 495 499 504 505 516 526 528 529 537 539 549 553 557 561 573 585 587\n",
      " 588 593 597 598 604 612 617 629 630 631 632 633 637 638 646 654 656 664\n",
      " 666 678 680 682 685 691 692 698 701 704 705 709 714](139)\n",
      "cum_ratio: 434/617=0.7034035656401945\n",
      "target_indices for 16: [  3  12  13  14  24  25  35  38  58  61  62  64  67  73  79  80  89  91\n",
      "  92  95  96  98 116 122 124 125 130 137 139 141 149 153 158 162 165 182\n",
      " 197 198 206 214 217 225 232 237 241 245 250 271 275 277 288 302 305 307\n",
      " 311 316 348 358 359 368 371 380 385 434 435 437 442 444 445 450 457 459\n",
      " 482 507 514 518 527 530 535 543 567 574 583 590 601 602 608 610 611 613\n",
      " 655 659 662 665 667 671 693 699 700 712 713](101)\n",
      "cum_ratio: 524/617=0.8492706645056726\n",
      "target_indices for 15: [ 20  31  97 119 132 169 189 215 221 227 249 252 253 329 331 333 336 340\n",
      " 343 346 349 352 367 369 370 373 381 389 395 399 400 407 409 410 412 419\n",
      " 424 427 430 431 433 436 441 448 453 465 466 468 477 481 484 490 496 498\n",
      " 503 511 513 519 520 524 532 564 566 570 571 575 580 589 592 600 614 619\n",
      " 622 623 626 634 640 650 652 653 658 669 672 673 679 689 696 703 708 716](90)\n",
      "cum_ratio: 551/617=0.893030794165316\n",
      "cum_ratio: 575/617=0.9319286871961102\n",
      "cum_ratio: 598/617=0.9692058346839546\n",
      "cum_ratio: 607/617=0.9837925445705025\n",
      "cum_ratio: 613/617=0.993517017828201\n",
      "cum_ratio: 615/617=0.9967585089141004\n",
      "cum_ratio: 617/617=1.0\n"
     ]
    },
    {
     "data": {
      "image/png": "[encoded data removed]",
      "text/plain": [
       "<Figure size 432x288 with 1 Axes>"
      ]
     },
     "metadata": {
      "needs_background": "light"
     },
     "output_type": "display_data"
    }
   ],
   "source": [
    "%pylab inline\n",
    "\n",
    "import matplotlib.pyplot as plt\n",
    "import matplotlib.image as image\n",
    "\n",
    "import seaborn as sns\n",
    "from collections import Counter, OrderedDict\n",
    "\n",
    "pos_indices = np.where(output_labels == 1)[0]\n",
    "# print('pos_indices: %s(%s)' % (pos_indices, str(pos_indices.shape)))\n",
    "pos_cdr3b = im_df[CN.cdr3b].values[pos_indices]\n",
    "\n",
    "##########################################\n",
    "lens, cnts = zip(*sorted(Counter(map(lambda x: len(x), pos_cdr3b)).items()))\n",
    "lens = np.array(lens)\n",
    "cnts = np.array(cnts)\n",
    "ax = sns.barplot(x=lens, y=cnts, color='blue')\n",
    "ax.set_title('Length distribution of postives')\n",
    "ax.set_xlabel('Length')\n",
    "\n",
    "# Select target indices by cdr3b sequence lenghts\n",
    "target_index_map = OrderedDict()\n",
    "order = np.argsort(cnts)[::-1]\n",
    "cum_cnt = 0\n",
    "for cur_len, cur_cnt in zip(lens[order], cnts[order]):\n",
    "    cum_cnt += cur_cnt\n",
    "    cum_ratio = cum_cnt/pos_indices.shape[0]\n",
    "    print('cum_ratio: %s/%s=%s' % (cum_cnt, pos_indices.shape[0], cum_ratio))\n",
    "    if cum_ratio < 0.85:\n",
    "        target_indices = np.where((output_labels == 1) & (im_df[CN.cdr3b].map(lambda x: len(x) == cur_len)))[0]\n",
    "        print('target_indices for %s: %s(%s)' % (cur_len, target_indices, target_indices.shape[0]))\n",
    "        target_index_map[cur_len] = target_indices\n"
   ]
  },
  {
   "cell_type": "markdown",
   "metadata": {},
   "source": [
    "##### Marginalized position-wise attention weights for target YLQPRTFLL-CDR3b sequences "
   ]
  },
  {
   "cell_type": "code",
   "execution_count": 16,
   "metadata": {},
   "outputs": [
    {
     "name": "stdout",
     "output_type": "stream",
     "text": [
      "2022-01-15 23:53:04 [DEBUG]: Loaded backend module://ipykernel.pylab.backend_inline version unknown.\n",
      "Populating the interactive namespace from numpy and matplotlib\n",
      "attentions.shape: (12, 718, 12, 40, 40)\n",
      "Current attns for 13: [0.01425208 0.0178635  0.01805703 0.01922366 0.01847445 0.01494284\n",
      " 0.01868972 0.02074929 0.01801605 0.01860016 0.0235516  0.02737205\n",
      " 0.03435135 0.04754912 0.05112723 0.04349361 0.04115221 0.03313752\n",
      " 0.02754154 0.03135731 0.03160159 0.02541284]\n",
      "Current attns for 14: [0.0145338  0.01799554 0.01938415 0.01912587 0.01880283 0.01503094\n",
      " 0.01885596 0.02007646 0.01755985 0.01691932 0.02406552 0.0241316\n",
      " 0.02847215 0.04581309 0.04675963 0.04410057 0.04241509 0.03889627\n",
      " 0.03346591 0.02802233 0.02843568 0.02775665 0.01988594]\n",
      "Current attns for 16: [0.01473282 0.01701754 0.01740882 0.01812062 0.01807983 0.01434897\n",
      " 0.01789891 0.01836039 0.01709072 0.01628514 0.02044669 0.02273053\n",
      " 0.02627513 0.04564986 0.04143266 0.04139192 0.03829776 0.04649414\n",
      " 0.03842724 0.03534525 0.03335102 0.02692512 0.02345818 0.02165111\n",
      " 0.02001547]\n",
      "Current attns for 15: [0.01470599 0.01801517 0.01906328 0.01892854 0.01841719 0.01482338\n",
      " 0.0185811  0.01951897 0.0172025  0.01596524 0.02175455 0.01966389\n",
      " 0.02354048 0.0418196  0.04390407 0.04246222 0.04550645 0.04178215\n",
      " 0.03859094 0.03558426 0.02738473 0.02645995 0.02337472 0.01893369]\n"
     ]
    },
    {
     "ename": "IndexError",
     "evalue": "index 3 is out of bounds for axis 0 with size 3",
     "output_type": "error",
     "traceback": [
      "\u001b[0;31m---------------------------------------------------------------------------\u001b[0m",
      "\u001b[0;31mIndexError\u001b[0m                                Traceback (most recent call last)",
      "\u001b[0;32m<ipython-input-16-50ba2dd58d4c>\u001b[0m in \u001b[0;36m<module>\u001b[0;34m\u001b[0m\n\u001b[1;32m     27\u001b[0m     \u001b[0mprint\u001b[0m\u001b[0;34m(\u001b[0m\u001b[0;34m'Current attns for %s: %s'\u001b[0m \u001b[0;34m%\u001b[0m \u001b[0;34m(\u001b[0m\u001b[0mcur_len\u001b[0m\u001b[0;34m,\u001b[0m \u001b[0mattns\u001b[0m\u001b[0;34m)\u001b[0m\u001b[0;34m)\u001b[0m\u001b[0;34m\u001b[0m\u001b[0;34m\u001b[0m\u001b[0m\n\u001b[1;32m     28\u001b[0m \u001b[0;34m\u001b[0m\u001b[0m\n\u001b[0;32m---> 29\u001b[0;31m     \u001b[0max\u001b[0m \u001b[0;34m=\u001b[0m \u001b[0mpd\u001b[0m\u001b[0;34m.\u001b[0m\u001b[0mSeries\u001b[0m\u001b[0;34m(\u001b[0m\u001b[0mattns\u001b[0m\u001b[0;34m)\u001b[0m\u001b[0;34m.\u001b[0m\u001b[0mplot\u001b[0m\u001b[0;34m(\u001b[0m\u001b[0mkind\u001b[0m\u001b[0;34m=\u001b[0m\u001b[0;34m'bar'\u001b[0m\u001b[0;34m,\u001b[0m \u001b[0max\u001b[0m\u001b[0;34m=\u001b[0m\u001b[0maxes\u001b[0m\u001b[0;34m[\u001b[0m\u001b[0mi\u001b[0m\u001b[0;34m]\u001b[0m\u001b[0;34m,\u001b[0m \u001b[0mrot\u001b[0m\u001b[0;34m=\u001b[0m\u001b[0;36m0\u001b[0m\u001b[0;34m)\u001b[0m\u001b[0;34m\u001b[0m\u001b[0;34m\u001b[0m\u001b[0m\n\u001b[0m\u001b[1;32m     30\u001b[0m     \u001b[0max\u001b[0m\u001b[0;34m.\u001b[0m\u001b[0mset_title\u001b[0m\u001b[0;34m(\u001b[0m\u001b[0;34m'%smer CDR3β sequences'\u001b[0m \u001b[0;34m%\u001b[0m \u001b[0mcur_len\u001b[0m\u001b[0;34m)\u001b[0m\u001b[0;34m\u001b[0m\u001b[0;34m\u001b[0m\u001b[0m\n\u001b[1;32m     31\u001b[0m \u001b[0;34m\u001b[0m\u001b[0m\n",
      "\u001b[0;31mIndexError\u001b[0m: index 3 is out of bounds for axis 0 with size 3"
     ]
    },
    {
     "data": {
      "image/png": "[encoded data removed]",
      "text/plain": [
       "<Figure size 504x864 with 3 Axes>"
      ]
     },
     "metadata": {
      "needs_background": "light"
     },
     "output_type": "display_data"
    }
   ],
   "source": [
    "%pylab inline\n",
    "\n",
    "# n_layers = model.config.num_hidden_layers\n",
    "# n_data = len(eval_ds)\n",
    "# n_heads = model.config.num_attention_heads\n",
    "# max_len = eval_ds.max_len\n",
    "\n",
    "epitope_len = len(epitope)\n",
    "\n",
    "attentions = eval_recoder.result_map['attentions']\n",
    "# attentions.shape: (n_layers, n_data, n_heads, max_len, max_len)\n",
    "print('attentions.shape: %s' % str(attentions.shape))\n",
    "\n",
    "# target_attn_map = OrderedDict()\n",
    "\n",
    "fig, axes = plt.subplots(nrows=3, ncols=1)\n",
    "fig.set_figwidth(7)\n",
    "fig.set_figheight(12)\n",
    "plt.tight_layout(h_pad=3, w_pad=3)\n",
    "\n",
    "for i, (cur_len, cur_indices) in enumerate(target_index_map.items()):\n",
    "    attns = attentions[:, cur_indices]\n",
    "    sent_len = epitope_len + cur_len\n",
    "    \n",
    "    # Position-wise marginal attentions by mean\n",
    "    attns = np.mean(attns[-10:], axis=(0, 1, 2, 3))[1:sent_len+1]\n",
    "    print('Current attns for %s: %s' % (cur_len, attns))\n",
    "    \n",
    "    ax = pd.Series(attns).plot(kind='bar', ax=axes[i], rot=0)\n",
    "    ax.set_title('%smer CDR3β sequences' % cur_len)\n",
    "\n",
    "    ticks = list(epitope) + list(range(1, cur_len + 1))\n",
    "    mark_ratio = 0.1\n",
    "    mark_pos = []\n",
    "\n",
    "    for rank, pos in enumerate(np.argsort(attns[:epitope_len])[::-1]):\n",
    "        if rank < (epitope_len*mark_ratio):\n",
    "            ticks[pos] = '%s\\n•' % (ticks[pos])\n",
    "            mark_pos.append(pos)\n",
    "\n",
    "    for rank, pos in enumerate(np.argsort(attns[epitope_len:])[::-1]):\n",
    "        if rank < (cur_len*mark_ratio):\n",
    "            ticks[epitope_len+pos] = '%s\\n•' % (ticks[epitope_len+pos])\n",
    "            mark_pos.append(epitope_len+pos)\n",
    "\n",
    "    ax.set_xticklabels(ticks) \n",
    "    for i, tick in enumerate(ax.get_xticklabels()):\n",
    "        if i < epitope_len:\n",
    "            tick.set_color('darkgreen')\n",
    "        else:\n",
    "            tick.set_color('black')\n",
    "        if i in mark_pos:\n",
    "            tick.set_color('darkred')\n",
    "    "
   ]
  },
  {
   "cell_type": "markdown",
   "metadata": {},
   "source": [
    "### Performance evaluation for the dataset from Lu, T. et al\n",
    "\n",
    "- Performance evaluation for independent test dataset from the recent pMHC-TCR interaction study[Lu, T. et al, 2021]\n",
    "- The dataset contains 619 pMHC-TCR sequence pairs compiled from VDJdb\n",
    "- The same number of negative examples were added\n",
    "- Lu, T., Zhang, Z., Zhu, J. et al. Deep learning-based prediction of the T cell receptor–antigen binding specificity. Nat Mach Intell 3, 864–875 (2021). https://doi.org/10.1038/s42256-021-00383-2\n"
   ]
  },
  {
   "cell_type": "code",
   "execution_count": 17,
   "metadata": {
    "pycharm": {
     "name": "#%%\n"
    },
    "scrolled": true
   },
   "outputs": [
    {
     "name": "stdout",
     "output_type": "stream",
     "text": [
      "2022-01-15 23:53:22 [INFO]: pTMnet dataset was loaded from ../output/pTMnet.data.csv, df.shape: (1198, 10)\n"
     ]
    },
    {
     "data": {
      "text/plain": [
       "'pTMnet'"
      ]
     },
     "metadata": {},
     "output_type": "display_data"
    },
    {
     "data": {
      "text/plain": [
       "1198"
      ]
     },
     "metadata": {},
     "output_type": "display_data"
    },
    {
     "data": {
      "text/html": [
       "<div>\n",
       "<style scoped>\n",
       "    .dataframe tbody tr th:only-of-type {\n",
       "        vertical-align: middle;\n",
       "    }\n",
       "\n",
       "    .dataframe tbody tr th {\n",
       "        vertical-align: top;\n",
       "    }\n",
       "\n",
       "    .dataframe thead th {\n",
       "        text-align: right;\n",
       "    }\n",
       "</style>\n",
       "<table border=\"1\" class=\"dataframe\">\n",
       "  <thead>\n",
       "    <tr style=\"text-align: right;\">\n",
       "      <th></th>\n",
       "      <th>epitope</th>\n",
       "      <th>epitope_gene</th>\n",
       "      <th>epitope_species</th>\n",
       "      <th>species</th>\n",
       "      <th>cdr3b</th>\n",
       "      <th>mhc</th>\n",
       "      <th>source</th>\n",
       "      <th>ref_id</th>\n",
       "      <th>label</th>\n",
       "      <th>sentence</th>\n",
       "    </tr>\n",
       "  </thead>\n",
       "  <tbody>\n",
       "    <tr>\n",
       "      <th>SMLGIGIYPV_CASSLSFGTEAFF</th>\n",
       "      <td>SMLGIGIYPV</td>\n",
       "      <td>NaN</td>\n",
       "      <td>NaN</td>\n",
       "      <td>NaN</td>\n",
       "      <td>CASSLSFGTEAFF</td>\n",
       "      <td>A*02:01</td>\n",
       "      <td>pTMnet</td>\n",
       "      <td>lu2021deep</td>\n",
       "      <td>1</td>\n",
       "      <td>[2, 22, 16, 15, 11, 13, 11, 13, 28, 19, 25, 7,...</td>\n",
       "    </tr>\n",
       "    <tr>\n",
       "      <th>LMFDRGMSLL_CASSLSFGTEAFF</th>\n",
       "      <td>LMFDRGMSLL</td>\n",
       "      <td>NaN</td>\n",
       "      <td>NaN</td>\n",
       "      <td>NaN</td>\n",
       "      <td>CASSLSFGTEAFF</td>\n",
       "      <td>A*02:01</td>\n",
       "      <td>pTMnet</td>\n",
       "      <td>lu2021deep</td>\n",
       "      <td>1</td>\n",
       "      <td>[2, 15, 16, 10, 8, 21, 11, 16, 22, 15, 15, 7, ...</td>\n",
       "    </tr>\n",
       "    <tr>\n",
       "      <th>ILEDRGFNQV_CASSLSFGTEAFF</th>\n",
       "      <td>ILEDRGFNQV</td>\n",
       "      <td>NaN</td>\n",
       "      <td>NaN</td>\n",
       "      <td>NaN</td>\n",
       "      <td>CASSLSFGTEAFF</td>\n",
       "      <td>A*02:01</td>\n",
       "      <td>pTMnet</td>\n",
       "      <td>lu2021deep</td>\n",
       "      <td>1</td>\n",
       "      <td>[2, 13, 15, 9, 8, 21, 11, 10, 17, 20, 25, 7, 5...</td>\n",
       "    </tr>\n",
       "    <tr>\n",
       "      <th>MMWDRGLGMM_CASSLSFGTEAFF</th>\n",
       "      <td>MMWDRGLGMM</td>\n",
       "      <td>NaN</td>\n",
       "      <td>NaN</td>\n",
       "      <td>NaN</td>\n",
       "      <td>CASSLSFGTEAFF</td>\n",
       "      <td>A*02:01</td>\n",
       "      <td>pTMnet</td>\n",
       "      <td>lu2021deep</td>\n",
       "      <td>1</td>\n",
       "      <td>[2, 16, 16, 26, 8, 21, 11, 15, 11, 16, 16, 7, ...</td>\n",
       "    </tr>\n",
       "    <tr>\n",
       "      <th>NLSNLGILPV_CASSLSFGTEAFF</th>\n",
       "      <td>NLSNLGILPV</td>\n",
       "      <td>NaN</td>\n",
       "      <td>NaN</td>\n",
       "      <td>NaN</td>\n",
       "      <td>CASSLSFGTEAFF</td>\n",
       "      <td>A*02:01</td>\n",
       "      <td>pTMnet</td>\n",
       "      <td>lu2021deep</td>\n",
       "      <td>1</td>\n",
       "      <td>[2, 17, 15, 22, 17, 15, 11, 13, 15, 19, 25, 7,...</td>\n",
       "    </tr>\n",
       "  </tbody>\n",
       "</table>\n",
       "</div>"
      ],
      "text/plain": [
       "                             epitope  epitope_gene  epitope_species  species  \\\n",
       "SMLGIGIYPV_CASSLSFGTEAFF  SMLGIGIYPV           NaN              NaN      NaN   \n",
       "LMFDRGMSLL_CASSLSFGTEAFF  LMFDRGMSLL           NaN              NaN      NaN   \n",
       "ILEDRGFNQV_CASSLSFGTEAFF  ILEDRGFNQV           NaN              NaN      NaN   \n",
       "MMWDRGLGMM_CASSLSFGTEAFF  MMWDRGLGMM           NaN              NaN      NaN   \n",
       "NLSNLGILPV_CASSLSFGTEAFF  NLSNLGILPV           NaN              NaN      NaN   \n",
       "\n",
       "                                  cdr3b      mhc  source      ref_id  label  \\\n",
       "SMLGIGIYPV_CASSLSFGTEAFF  CASSLSFGTEAFF  A*02:01  pTMnet  lu2021deep      1   \n",
       "LMFDRGMSLL_CASSLSFGTEAFF  CASSLSFGTEAFF  A*02:01  pTMnet  lu2021deep      1   \n",
       "ILEDRGFNQV_CASSLSFGTEAFF  CASSLSFGTEAFF  A*02:01  pTMnet  lu2021deep      1   \n",
       "MMWDRGLGMM_CASSLSFGTEAFF  CASSLSFGTEAFF  A*02:01  pTMnet  lu2021deep      1   \n",
       "NLSNLGILPV_CASSLSFGTEAFF  CASSLSFGTEAFF  A*02:01  pTMnet  lu2021deep      1   \n",
       "\n",
       "                                                                   sentence  \n",
       "SMLGIGIYPV_CASSLSFGTEAFF  [2, 22, 16, 15, 11, 13, 11, 13, 28, 19, 25, 7,...  \n",
       "LMFDRGMSLL_CASSLSFGTEAFF  [2, 15, 16, 10, 8, 21, 11, 16, 22, 15, 15, 7, ...  \n",
       "ILEDRGFNQV_CASSLSFGTEAFF  [2, 13, 15, 9, 8, 21, 11, 10, 17, 20, 25, 7, 5...  \n",
       "MMWDRGLGMM_CASSLSFGTEAFF  [2, 16, 16, 26, 8, 21, 11, 15, 11, 16, 16, 7, ...  \n",
       "NLSNLGILPV_CASSLSFGTEAFF  [2, 17, 15, 22, 17, 15, 11, 13, 15, 19, 25, 7,...  "
      ]
     },
     "metadata": {},
     "output_type": "display_data"
    },
    {
     "data": {
      "text/plain": [
       "(1198, 10)"
      ]
     },
     "metadata": {},
     "output_type": "display_data"
    }
   ],
   "source": [
    "\n",
    "pm_ds = TCREpitopeSentenceDataset.from_key('pTMnet')\n",
    "display(pm_ds.name, len(pm_ds))\n",
    "\n",
    "pm_df = pm_ds.df_enc\n",
    "display(pm_df.head(), pm_df.shape)"
   ]
  },
  {
   "cell_type": "markdown",
   "metadata": {},
   "source": [
    "#### Remove duplicated entries in the fine-tuning datasets"
   ]
  },
  {
   "cell_type": "code",
   "execution_count": 18,
   "metadata": {},
   "outputs": [
    {
     "ename": "KeyboardInterrupt",
     "evalue": "",
     "output_type": "error",
     "traceback": [
      "\u001b[0;31m---------------------------------------------------------------------------\u001b[0m",
      "\u001b[0;31mKeyboardInterrupt\u001b[0m                         Traceback (most recent call last)",
      "\u001b[0;32m<ipython-input-18-cd8b204ff6dc>\u001b[0m in \u001b[0;36m<module>\u001b[0;34m\u001b[0m\n\u001b[1;32m      1\u001b[0m \u001b[0;32mimport\u001b[0m \u001b[0mnumpy\u001b[0m \u001b[0;32mas\u001b[0m \u001b[0mnp\u001b[0m\u001b[0;34m\u001b[0m\u001b[0;34m\u001b[0m\u001b[0m\n\u001b[1;32m      2\u001b[0m \u001b[0;34m\u001b[0m\u001b[0m\n\u001b[0;32m----> 3\u001b[0;31m ft_dss =[TCREpitopeSentenceDataset.from_key('dash_vdjdb_mcpas'),\n\u001b[0m\u001b[1;32m      4\u001b[0m           TCREpitopeSentenceDataset.from_key('iedb_sars2')]\n\u001b[1;32m      5\u001b[0m \u001b[0;34m\u001b[0m\u001b[0m\n",
      "\u001b[0;32m~/trunk/TCRBert/tcrbert/dataset.py\u001b[0m in \u001b[0;36mfrom_key\u001b[0;34m(cls, data_key)\u001b[0m\n\u001b[1;32m    707\u001b[0m             \u001b[0mlogger\u001b[0m\u001b[0;34m.\u001b[0m\u001b[0minfo\u001b[0m\u001b[0;34m(\u001b[0m\u001b[0;34m'%s dataset was saved to %s, df.shape: %s'\u001b[0m \u001b[0;34m%\u001b[0m \u001b[0;34m(\u001b[0m\u001b[0mdata_key\u001b[0m\u001b[0;34m,\u001b[0m \u001b[0moutput_csv\u001b[0m\u001b[0;34m,\u001b[0m \u001b[0mstr\u001b[0m\u001b[0;34m(\u001b[0m\u001b[0mdf\u001b[0m\u001b[0;34m.\u001b[0m\u001b[0mshape\u001b[0m\u001b[0;34m)\u001b[0m\u001b[0;34m)\u001b[0m\u001b[0;34m)\u001b[0m\u001b[0;34m\u001b[0m\u001b[0;34m\u001b[0m\u001b[0m\n\u001b[1;32m    708\u001b[0m         \u001b[0;32melse\u001b[0m\u001b[0;34m:\u001b[0m\u001b[0;34m\u001b[0m\u001b[0;34m\u001b[0m\u001b[0m\n\u001b[0;32m--> 709\u001b[0;31m             \u001b[0mdf\u001b[0m \u001b[0;34m=\u001b[0m \u001b[0mpd\u001b[0m\u001b[0;34m.\u001b[0m\u001b[0mread_csv\u001b[0m\u001b[0;34m(\u001b[0m\u001b[0moutput_csv\u001b[0m\u001b[0;34m,\u001b[0m \u001b[0mindex_col\u001b[0m\u001b[0;34m=\u001b[0m\u001b[0;36m0\u001b[0m\u001b[0;34m,\u001b[0m \u001b[0mconverters\u001b[0m\u001b[0;34m=\u001b[0m\u001b[0;34m{\u001b[0m\u001b[0mcls\u001b[0m\u001b[0;34m.\u001b[0m\u001b[0mCN_SENTENCE\u001b[0m\u001b[0;34m:\u001b[0m \u001b[0;32mlambda\u001b[0m \u001b[0mx\u001b[0m\u001b[0;34m:\u001b[0m \u001b[0meval\u001b[0m\u001b[0;34m(\u001b[0m\u001b[0mx\u001b[0m\u001b[0;34m)\u001b[0m\u001b[0;34m}\u001b[0m\u001b[0;34m)\u001b[0m\u001b[0;34m\u001b[0m\u001b[0;34m\u001b[0m\u001b[0m\n\u001b[0m\u001b[1;32m    710\u001b[0m             \u001b[0mlogger\u001b[0m\u001b[0;34m.\u001b[0m\u001b[0minfo\u001b[0m\u001b[0;34m(\u001b[0m\u001b[0;34m'%s dataset was loaded from %s, df.shape: %s'\u001b[0m \u001b[0;34m%\u001b[0m \u001b[0;34m(\u001b[0m\u001b[0mdata_key\u001b[0m\u001b[0;34m,\u001b[0m \u001b[0moutput_csv\u001b[0m\u001b[0;34m,\u001b[0m \u001b[0mstr\u001b[0m\u001b[0;34m(\u001b[0m\u001b[0mdf\u001b[0m\u001b[0;34m.\u001b[0m\u001b[0mshape\u001b[0m\u001b[0;34m)\u001b[0m\u001b[0;34m)\u001b[0m\u001b[0;34m)\u001b[0m\u001b[0;34m\u001b[0m\u001b[0;34m\u001b[0m\u001b[0m\n\u001b[1;32m    711\u001b[0m \u001b[0;34m\u001b[0m\u001b[0m\n",
      "\u001b[0;32m~/anaconda3/envs/py37-torch/lib/python3.7/site-packages/pandas/io/parsers.py\u001b[0m in \u001b[0;36mread_csv\u001b[0;34m(filepath_or_buffer, sep, delimiter, header, names, index_col, usecols, squeeze, prefix, mangle_dupe_cols, dtype, engine, converters, true_values, false_values, skipinitialspace, skiprows, skipfooter, nrows, na_values, keep_default_na, na_filter, verbose, skip_blank_lines, parse_dates, infer_datetime_format, keep_date_col, date_parser, dayfirst, cache_dates, iterator, chunksize, compression, thousands, decimal, lineterminator, quotechar, quoting, doublequote, escapechar, comment, encoding, dialect, error_bad_lines, warn_bad_lines, delim_whitespace, low_memory, memory_map, float_precision, storage_options)\u001b[0m\n\u001b[1;32m    603\u001b[0m     \u001b[0mkwds\u001b[0m\u001b[0;34m.\u001b[0m\u001b[0mupdate\u001b[0m\u001b[0;34m(\u001b[0m\u001b[0mkwds_defaults\u001b[0m\u001b[0;34m)\u001b[0m\u001b[0;34m\u001b[0m\u001b[0;34m\u001b[0m\u001b[0m\n\u001b[1;32m    604\u001b[0m \u001b[0;34m\u001b[0m\u001b[0m\n\u001b[0;32m--> 605\u001b[0;31m     \u001b[0;32mreturn\u001b[0m \u001b[0m_read\u001b[0m\u001b[0;34m(\u001b[0m\u001b[0mfilepath_or_buffer\u001b[0m\u001b[0;34m,\u001b[0m \u001b[0mkwds\u001b[0m\u001b[0;34m)\u001b[0m\u001b[0;34m\u001b[0m\u001b[0;34m\u001b[0m\u001b[0m\n\u001b[0m\u001b[1;32m    606\u001b[0m \u001b[0;34m\u001b[0m\u001b[0m\n\u001b[1;32m    607\u001b[0m \u001b[0;34m\u001b[0m\u001b[0m\n",
      "\u001b[0;32m~/anaconda3/envs/py37-torch/lib/python3.7/site-packages/pandas/io/parsers.py\u001b[0m in \u001b[0;36m_read\u001b[0;34m(filepath_or_buffer, kwds)\u001b[0m\n\u001b[1;32m    461\u001b[0m \u001b[0;34m\u001b[0m\u001b[0m\n\u001b[1;32m    462\u001b[0m     \u001b[0;32mwith\u001b[0m \u001b[0mparser\u001b[0m\u001b[0;34m:\u001b[0m\u001b[0;34m\u001b[0m\u001b[0;34m\u001b[0m\u001b[0m\n\u001b[0;32m--> 463\u001b[0;31m         \u001b[0;32mreturn\u001b[0m \u001b[0mparser\u001b[0m\u001b[0;34m.\u001b[0m\u001b[0mread\u001b[0m\u001b[0;34m(\u001b[0m\u001b[0mnrows\u001b[0m\u001b[0;34m)\u001b[0m\u001b[0;34m\u001b[0m\u001b[0;34m\u001b[0m\u001b[0m\n\u001b[0m\u001b[1;32m    464\u001b[0m \u001b[0;34m\u001b[0m\u001b[0m\n\u001b[1;32m    465\u001b[0m \u001b[0;34m\u001b[0m\u001b[0m\n",
      "\u001b[0;32m~/anaconda3/envs/py37-torch/lib/python3.7/site-packages/pandas/io/parsers.py\u001b[0m in \u001b[0;36mread\u001b[0;34m(self, nrows)\u001b[0m\n\u001b[1;32m   1050\u001b[0m     \u001b[0;32mdef\u001b[0m \u001b[0mread\u001b[0m\u001b[0;34m(\u001b[0m\u001b[0mself\u001b[0m\u001b[0;34m,\u001b[0m \u001b[0mnrows\u001b[0m\u001b[0;34m=\u001b[0m\u001b[0;32mNone\u001b[0m\u001b[0;34m)\u001b[0m\u001b[0;34m:\u001b[0m\u001b[0;34m\u001b[0m\u001b[0;34m\u001b[0m\u001b[0m\n\u001b[1;32m   1051\u001b[0m         \u001b[0mnrows\u001b[0m \u001b[0;34m=\u001b[0m \u001b[0mvalidate_integer\u001b[0m\u001b[0;34m(\u001b[0m\u001b[0;34m\"nrows\"\u001b[0m\u001b[0;34m,\u001b[0m \u001b[0mnrows\u001b[0m\u001b[0;34m)\u001b[0m\u001b[0;34m\u001b[0m\u001b[0;34m\u001b[0m\u001b[0m\n\u001b[0;32m-> 1052\u001b[0;31m         \u001b[0mindex\u001b[0m\u001b[0;34m,\u001b[0m \u001b[0mcolumns\u001b[0m\u001b[0;34m,\u001b[0m \u001b[0mcol_dict\u001b[0m \u001b[0;34m=\u001b[0m \u001b[0mself\u001b[0m\u001b[0;34m.\u001b[0m\u001b[0m_engine\u001b[0m\u001b[0;34m.\u001b[0m\u001b[0mread\u001b[0m\u001b[0;34m(\u001b[0m\u001b[0mnrows\u001b[0m\u001b[0;34m)\u001b[0m\u001b[0;34m\u001b[0m\u001b[0;34m\u001b[0m\u001b[0m\n\u001b[0m\u001b[1;32m   1053\u001b[0m \u001b[0;34m\u001b[0m\u001b[0m\n\u001b[1;32m   1054\u001b[0m         \u001b[0;32mif\u001b[0m \u001b[0mindex\u001b[0m \u001b[0;32mis\u001b[0m \u001b[0;32mNone\u001b[0m\u001b[0;34m:\u001b[0m\u001b[0;34m\u001b[0m\u001b[0;34m\u001b[0m\u001b[0m\n",
      "\u001b[0;32m~/anaconda3/envs/py37-torch/lib/python3.7/site-packages/pandas/io/parsers.py\u001b[0m in \u001b[0;36mread\u001b[0;34m(self, nrows)\u001b[0m\n\u001b[1;32m   2054\u001b[0m     \u001b[0;32mdef\u001b[0m \u001b[0mread\u001b[0m\u001b[0;34m(\u001b[0m\u001b[0mself\u001b[0m\u001b[0;34m,\u001b[0m \u001b[0mnrows\u001b[0m\u001b[0;34m=\u001b[0m\u001b[0;32mNone\u001b[0m\u001b[0;34m)\u001b[0m\u001b[0;34m:\u001b[0m\u001b[0;34m\u001b[0m\u001b[0;34m\u001b[0m\u001b[0m\n\u001b[1;32m   2055\u001b[0m         \u001b[0;32mtry\u001b[0m\u001b[0;34m:\u001b[0m\u001b[0;34m\u001b[0m\u001b[0;34m\u001b[0m\u001b[0m\n\u001b[0;32m-> 2056\u001b[0;31m             \u001b[0mdata\u001b[0m \u001b[0;34m=\u001b[0m \u001b[0mself\u001b[0m\u001b[0;34m.\u001b[0m\u001b[0m_reader\u001b[0m\u001b[0;34m.\u001b[0m\u001b[0mread\u001b[0m\u001b[0;34m(\u001b[0m\u001b[0mnrows\u001b[0m\u001b[0;34m)\u001b[0m\u001b[0;34m\u001b[0m\u001b[0;34m\u001b[0m\u001b[0m\n\u001b[0m\u001b[1;32m   2057\u001b[0m         \u001b[0;32mexcept\u001b[0m \u001b[0mStopIteration\u001b[0m\u001b[0;34m:\u001b[0m\u001b[0;34m\u001b[0m\u001b[0;34m\u001b[0m\u001b[0m\n\u001b[1;32m   2058\u001b[0m             \u001b[0;32mif\u001b[0m \u001b[0mself\u001b[0m\u001b[0;34m.\u001b[0m\u001b[0m_first_chunk\u001b[0m\u001b[0;34m:\u001b[0m\u001b[0;34m\u001b[0m\u001b[0;34m\u001b[0m\u001b[0m\n",
      "\u001b[0;32mpandas/_libs/parsers.pyx\u001b[0m in \u001b[0;36mpandas._libs.parsers.TextReader.read\u001b[0;34m()\u001b[0m\n",
      "\u001b[0;32mpandas/_libs/parsers.pyx\u001b[0m in \u001b[0;36mpandas._libs.parsers.TextReader._read_low_memory\u001b[0;34m()\u001b[0m\n",
      "\u001b[0;32mpandas/_libs/parsers.pyx\u001b[0m in \u001b[0;36mpandas._libs.parsers.TextReader._read_rows\u001b[0;34m()\u001b[0m\n",
      "\u001b[0;32mpandas/_libs/parsers.pyx\u001b[0m in \u001b[0;36mpandas._libs.parsers.TextReader._convert_column_data\u001b[0;34m()\u001b[0m\n",
      "\u001b[0;32mpandas/_libs/parsers.pyx\u001b[0m in \u001b[0;36mpandas._libs.parsers._apply_converter\u001b[0;34m()\u001b[0m\n",
      "\u001b[0;32m~/trunk/TCRBert/tcrbert/dataset.py\u001b[0m in \u001b[0;36m<lambda>\u001b[0;34m(x)\u001b[0m\n\u001b[1;32m    707\u001b[0m             \u001b[0mlogger\u001b[0m\u001b[0;34m.\u001b[0m\u001b[0minfo\u001b[0m\u001b[0;34m(\u001b[0m\u001b[0;34m'%s dataset was saved to %s, df.shape: %s'\u001b[0m \u001b[0;34m%\u001b[0m \u001b[0;34m(\u001b[0m\u001b[0mdata_key\u001b[0m\u001b[0;34m,\u001b[0m \u001b[0moutput_csv\u001b[0m\u001b[0;34m,\u001b[0m \u001b[0mstr\u001b[0m\u001b[0;34m(\u001b[0m\u001b[0mdf\u001b[0m\u001b[0;34m.\u001b[0m\u001b[0mshape\u001b[0m\u001b[0;34m)\u001b[0m\u001b[0;34m)\u001b[0m\u001b[0;34m)\u001b[0m\u001b[0;34m\u001b[0m\u001b[0;34m\u001b[0m\u001b[0m\n\u001b[1;32m    708\u001b[0m         \u001b[0;32melse\u001b[0m\u001b[0;34m:\u001b[0m\u001b[0;34m\u001b[0m\u001b[0;34m\u001b[0m\u001b[0m\n\u001b[0;32m--> 709\u001b[0;31m             \u001b[0mdf\u001b[0m \u001b[0;34m=\u001b[0m \u001b[0mpd\u001b[0m\u001b[0;34m.\u001b[0m\u001b[0mread_csv\u001b[0m\u001b[0;34m(\u001b[0m\u001b[0moutput_csv\u001b[0m\u001b[0;34m,\u001b[0m \u001b[0mindex_col\u001b[0m\u001b[0;34m=\u001b[0m\u001b[0;36m0\u001b[0m\u001b[0;34m,\u001b[0m \u001b[0mconverters\u001b[0m\u001b[0;34m=\u001b[0m\u001b[0;34m{\u001b[0m\u001b[0mcls\u001b[0m\u001b[0;34m.\u001b[0m\u001b[0mCN_SENTENCE\u001b[0m\u001b[0;34m:\u001b[0m \u001b[0;32mlambda\u001b[0m \u001b[0mx\u001b[0m\u001b[0;34m:\u001b[0m \u001b[0meval\u001b[0m\u001b[0;34m(\u001b[0m\u001b[0mx\u001b[0m\u001b[0;34m)\u001b[0m\u001b[0;34m}\u001b[0m\u001b[0;34m)\u001b[0m\u001b[0;34m\u001b[0m\u001b[0;34m\u001b[0m\u001b[0m\n\u001b[0m\u001b[1;32m    710\u001b[0m             \u001b[0mlogger\u001b[0m\u001b[0;34m.\u001b[0m\u001b[0minfo\u001b[0m\u001b[0;34m(\u001b[0m\u001b[0;34m'%s dataset was loaded from %s, df.shape: %s'\u001b[0m \u001b[0;34m%\u001b[0m \u001b[0;34m(\u001b[0m\u001b[0mdata_key\u001b[0m\u001b[0;34m,\u001b[0m \u001b[0moutput_csv\u001b[0m\u001b[0;34m,\u001b[0m \u001b[0mstr\u001b[0m\u001b[0;34m(\u001b[0m\u001b[0mdf\u001b[0m\u001b[0;34m.\u001b[0m\u001b[0mshape\u001b[0m\u001b[0;34m)\u001b[0m\u001b[0;34m)\u001b[0m\u001b[0;34m)\u001b[0m\u001b[0;34m\u001b[0m\u001b[0;34m\u001b[0m\u001b[0m\n\u001b[1;32m    711\u001b[0m \u001b[0;34m\u001b[0m\u001b[0m\n",
      "\u001b[0;32m~/trunk/TCRBert/tcrbert/dataset.py\u001b[0m in \u001b[0;36m<module>\u001b[0;34m\u001b[0m\n",
      "\u001b[0;31mKeyboardInterrupt\u001b[0m: "
     ]
    }
   ],
   "source": [
    "import numpy as np\n",
    "\n",
    "ft_dss =[TCREpitopeSentenceDataset.from_key('dash_vdjdb_mcpas'),\n",
    "          TCREpitopeSentenceDataset.from_key('iedb_sars2')]\n",
    "\n",
    "for ds in [TCREpitopeSentenceDataset.from_key('dash_vdjdb_mcpas'),\n",
    "           TCREpitopeSentenceDataset.from_key('iedb_sars2')]:\n",
    "    df = ds.df_enc\n",
    "    select = pm_ds.df_enc.index.map(lambda x: x not in df.index.values)\n",
    "    pm_ds.df_enc = pm_ds.df_enc[select]\n",
    "    print('%s duplicated, %s entries selected' % (np.count_nonzero(np.logical_not(select)),\n",
    "                                                  pm_ds.df_enc.shape[0]))    \n"
   ]
  },
  {
   "cell_type": "code",
   "execution_count": 19,
   "metadata": {
    "pycharm": {
     "name": "#%%\n"
    }
   },
   "outputs": [
    {
     "name": "stdout",
     "output_type": "stream",
     "text": [
      "2022-01-15 23:53:51 [DEBUG]: Loaded backend module://ipykernel.pylab.backend_inline version unknown.\n",
      "Populating the interactive namespace from numpy and matplotlib\n",
      "2022-01-15 23:53:51 [INFO]: ======================\n",
      "2022-01-15 23:53:51 [INFO]: Begin predict...\n",
      "2022-01-15 23:53:51 [INFO]: use_cuda, device: False, cpu\n",
      "2022-01-15 23:53:51 [INFO]: n_data: 1198\n",
      "2022-01-15 23:53:51 [INFO]: batch_size: 1198\n",
      "2022-01-15 23:53:51 [INFO]: [PredResultRecoder]: on_predict_begin...\n",
      "2022-01-15 23:53:51 [INFO]: Begin 0/1 prediction batch\n",
      "2022-01-15 23:54:32 [INFO]: End 0/1 prediction batch\n",
      "2022-01-15 23:54:32 [INFO]: [PredResultRecoder]: on_predict_end...\n",
      "2022-01-15 23:54:36 [INFO]: Done to predict...\n",
      "2022-01-15 23:54:36 [INFO]: ======================\n",
      "score_map: OrderedDict([('accuracy', 0.5659432387312187), ('f1', 0.6897374701670644), ('roc_auc', 0.5662999824415205)])\n"
     ]
    },
    {
     "data": {
      "image/png": "[encoded data removed]",
      "text/plain": [
       "<Figure size 432x288 with 1 Axes>"
      ]
     },
     "metadata": {
      "needs_background": "light"
     },
     "output_type": "display_data"
    }
   ],
   "source": [
    "%pylab inline\n",
    "\n",
    "from sklearn.metrics import roc_curve, auc\n",
    "\n",
    "data_loader = DataLoader(pm_ds, batch_size=len(pm_ds), shuffle=False, num_workers=2)\n",
    "model.predict(data_loader=data_loader, metrics=metrics)\n",
    "\n",
    "input_labels  = np.array(eval_recoder.result_map['input_labels'])\n",
    "output_labels = np.array(eval_recoder.result_map['output_labels'])\n",
    "output_probs  = np.array(eval_recoder.result_map['output_probs'])\n",
    "\n",
    "fpr, tpr, _ = roc_curve(input_labels, output_probs)\n",
    "score = auc(fpr, tpr)\n",
    "plt.plot(fpr, tpr, color='darkorange', label='ROC curve (AUROC = %0.3f)' % score)\n",
    "plt.plot([0, 1], [0, 1], color='navy', linestyle='--')\n",
    "plt.xlim([0.0, 1.0])\n",
    "plt.ylim([0.0, 1.05])\n",
    "plt.xlabel('False Positive Rate')\n",
    "plt.ylabel('True Positive Rate')\n",
    "plt.legend(loc=\"lower right\")\n",
    "print('score_map: %s' % eval_recoder.result_map['score_map'])\n"
   ]
  }
 ],
 "metadata": {
  "kernelspec": {
   "display_name": "Python 3",
   "language": "python",
   "name": "python3"
  },
  "language_info": {
   "codemirror_mode": {
    "name": "ipython",
    "version": 3
   },
   "file_extension": ".py",
   "mimetype": "text/x-python",
   "name": "python",
   "nbconvert_exporter": "python",
   "pygments_lexer": "ipython3",
   "version": "3.7.8"
  },
  "toc": {
   "base_numbering": 1,
   "nav_menu": {},
   "number_sections": true,
   "sideBar": true,
   "skip_h1_title": false,
   "title_cell": "Table of Contents",
   "title_sidebar": "Contents",
   "toc_cell": false,
   "toc_position": {},
   "toc_section_display": true,
   "toc_window_display": true
  },
  "varInspector": {
   "cols": {
    "lenName": 16,
    "lenType": 16,
    "lenVar": 40
   },
   "kernels_config": {
    "python": {
     "delete_cmd_postfix": "",
     "delete_cmd_prefix": "del ",
     "library": "var_list.py",
     "varRefreshCmd": "print(var_dic_list())"
    },
    "r": {
     "delete_cmd_postfix": ") ",
     "delete_cmd_prefix": "rm(",
     "library": "var_list.r",
     "varRefreshCmd": "cat(var_dic_list()) "
    }
   },
   "position": {
    "height": "639px",
    "left": "1740px",
    "right": "20px",
    "top": "120px",
    "width": "800px"
   },
   "types_to_exclude": [
    "module",
    "function",
    "builtin_function_or_method",
    "instance",
    "_Feature"
   ],
   "window_display": false
  }
 },
 "nbformat": 4,
 "nbformat_minor": 1
}
