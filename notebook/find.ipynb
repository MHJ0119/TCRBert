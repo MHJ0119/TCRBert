{
 "cells": [
  {
   "cell_type": "markdown",
   "metadata": {},
   "source": [
    "# Find the model"
   ]
  },
  {
   "cell_type": "markdown",
   "metadata": {},
   "source": [
    "## Global configurations"
   ]
  },
  {
   "cell_type": "code",
   "execution_count": 1,
   "metadata": {
    "scrolled": true
   },
   "outputs": [
    {
     "name": "stdout",
     "output_type": "stream",
     "text": [
      "2022-11-02 18:26:43 [INFO]: Loaded exp_conf: {'title': 'exp1', 'description': 'Fine-tuning of pre-trained TAPE model in a progressively specialized manner', 'paper': 'exp1', 'model_config': '../config/bert-base/', 'outdir': '../output/exp1', 'train': {'pretrained_model': {'type': 'tape', 'location': '../config/bert-base/'}, 'data_parallel': False, 'backup': 'train.bak.{date}.tar.gz', 'rounds': [{'data': 'dash_vdjdb_mcpas', 'test_size': 0.2, 'batch_size': 128, 'n_epochs': 150, 'n_workers': 12, 'metrics': ['accuracy'], 'optimizer': {'type': 'adam', 'lr': 0.0001}, 'train_bert_encoders': [-10, None], 'early_stopper': {'monitor': 'accuracy', 'patience': 15}, 'model_checkpoint': {'chk': 'train.{round}.model_{epoch}.chk', 'monitor': 'accuracy', 'save_best_only': True, 'period': 1}, 'result': 'train.{round}.result.json'}, {'data': 'iedb_sars2', 'test_size': 0.2, 'batch_size': 128, 'n_epochs': 100, 'n_workers': 12, 'metrics': ['accuracy'], 'optimizer': {'type': 'adam', 'lr': 0.0001}, 'train_bert_encoders': [-6, None], 'early_stopper': {'monitor': 'accuracy', 'patience': 10}, 'model_checkpoint': {'chk': 'train.{round}.model_{epoch}.chk', 'monitor': 'accuracy', 'save_best_only': True, 'period': 1}, 'result': 'train.{round}.result.json'}]}, 'eval': {'data_parallel': False, 'batch_size': 128, 'n_workers': 12, 'metrics': ['accuracy', 'f1', 'roc_auc'], 'output_attentions': False, 'tests': [{'data': 'shomuradova', 'result': 'eval.shomuradova.result.json'}, {'data': 'immunecode', 'result': 'eval.immunecode.result.json'}]}}\n"
     ]
    },
    {
     "data": {
      "text/plain": [
       "{'title': 'exp1',\n",
       " 'description': 'Fine-tuning of pre-trained TAPE model in a progressively specialized manner',\n",
       " 'paper': 'exp1',\n",
       " 'model_config': '../config/bert-base/',\n",
       " 'outdir': '../output/exp1',\n",
       " 'train': {'pretrained_model': {'type': 'tape',\n",
       "   'location': '../config/bert-base/'},\n",
       "  'data_parallel': False,\n",
       "  'backup': 'train.bak.{date}.tar.gz',\n",
       "  'rounds': [{'data': 'dash_vdjdb_mcpas',\n",
       "    'test_size': 0.2,\n",
       "    'batch_size': 128,\n",
       "    'n_epochs': 150,\n",
       "    'n_workers': 12,\n",
       "    'metrics': ['accuracy'],\n",
       "    'optimizer': {'type': 'adam', 'lr': 0.0001},\n",
       "    'train_bert_encoders': [-10, None],\n",
       "    'early_stopper': {'monitor': 'accuracy', 'patience': 15},\n",
       "    'model_checkpoint': {'chk': 'train.{round}.model_{epoch}.chk',\n",
       "     'monitor': 'accuracy',\n",
       "     'save_best_only': True,\n",
       "     'period': 1},\n",
       "    'result': 'train.{round}.result.json'},\n",
       "   {'data': 'iedb_sars2',\n",
       "    'test_size': 0.2,\n",
       "    'batch_size': 128,\n",
       "    'n_epochs': 100,\n",
       "    'n_workers': 12,\n",
       "    'metrics': ['accuracy'],\n",
       "    'optimizer': {'type': 'adam', 'lr': 0.0001},\n",
       "    'train_bert_encoders': [-6, None],\n",
       "    'early_stopper': {'monitor': 'accuracy', 'patience': 10},\n",
       "    'model_checkpoint': {'chk': 'train.{round}.model_{epoch}.chk',\n",
       "     'monitor': 'accuracy',\n",
       "     'save_best_only': True,\n",
       "     'period': 1},\n",
       "    'result': 'train.{round}.result.json'}]},\n",
       " 'eval': {'data_parallel': False,\n",
       "  'batch_size': 128,\n",
       "  'n_workers': 12,\n",
       "  'metrics': ['accuracy', 'f1', 'roc_auc'],\n",
       "  'output_attentions': False,\n",
       "  'tests': [{'data': 'shomuradova', 'result': 'eval.shomuradova.result.json'},\n",
       "   {'data': 'immunecode', 'result': 'eval.immunecode.result.json'}]}}"
      ]
     },
     "metadata": {},
     "output_type": "display_data"
    }
   ],
   "source": [
    "import logging\n",
    "import logging.config\n",
    "import os\n",
    "import sys\n",
    "import warnings\n",
    "from enum import auto\n",
    "import pandas as pd\n",
    "import numpy as np\n",
    "from IPython.core.display import display\n",
    "\n",
    "rootdir = '/home/hym/trunk/TCRBert'\n",
    "workdir = '%s/notebook' % rootdir\n",
    "datadir = '%s/data' % rootdir\n",
    "srcdir = '%s/tcrbert' % rootdir\n",
    "outdir = '%s/output' % rootdir\n",
    "\n",
    "os.chdir(workdir)\n",
    "\n",
    "sys.path.append(rootdir)\n",
    "sys.path.append(srcdir)\n",
    "\n",
    "from tcrbert.exp import Experiment\n",
    "from tcrbert.predlistener import PredResultRecoder\n",
    "\n",
    "\n",
    "# Display\n",
    "pd.set_option('display.max.rows', 2000)\n",
    "pd.set_option('display.max.columns', 2000)\n",
    "\n",
    "# Logger\n",
    "warnings.filterwarnings('ignore')\n",
    "logging.config.fileConfig('../config/logging.conf')\n",
    "logger = logging.getLogger('tcrbert')\n",
    "logger.setLevel(logging.INFO)\n",
    "\n",
    "# Target experiment\n",
    "exp_key = 'exp1'\n",
    "experiment = Experiment.from_key(exp_key)\n",
    "\n",
    "exp_conf = experiment.exp_conf\n",
    "\n",
    "display(exp_conf)"
   ]
  },
  {
   "cell_type": "markdown",
   "metadata": {},
   "source": [
    "## Find target aa position in the epitope"
   ]
  },
  {
   "cell_type": "code",
   "execution_count": null,
   "metadata": {
    "code_folding": [
     24
    ]
   },
   "outputs": [
    {
     "name": "stdout",
     "output_type": "stream",
     "text": [
      "2022-11-02 18:27:00 [INFO]: shomuradova dataset was loaded from ../output/shomuradova.data.csv, df.shape: (610, 9)\n",
      "2022-11-02 18:27:00 [INFO]: immunecode dataset was loaded from ../output/immunecode.data.csv, df.shape: (742, 9)\n",
      "2022-11-02 18:27:00 [INFO]: >>>Begin train 0\n",
      "2022-11-02 18:27:00 [INFO]: ======================\n",
      "2022-11-02 18:27:00 [INFO]: Begin train at 2022-11-02 18:27:00.161968\n",
      "2022-11-02 18:27:00 [INFO]: Loading the TAPE pretrained model from ../config/bert-base/\n",
      "2022-11-02 18:27:02 [INFO]: Start 2 train rounds of exp1 at 2022-11-02 18:27:00.161968\n",
      "2022-11-02 18:27:02 [INFO]: train_conf: {'pretrained_model': {'type': 'tape', 'location': '../config/bert-base/'}, 'data_parallel': False, 'backup': 'train.bak.{date}.tar.gz', 'rounds': [{'data': 'dash_vdjdb_mcpas', 'test_size': 0.2, 'batch_size': 128, 'n_epochs': 150, 'n_workers': 12, 'metrics': ['accuracy'], 'optimizer': {'type': 'adam', 'lr': 0.0001}, 'train_bert_encoders': [-10, None], 'early_stopper': {'monitor': 'accuracy', 'patience': 15}, 'model_checkpoint': {'chk': 'train.{round}.model_{epoch}.chk', 'monitor': 'accuracy', 'save_best_only': True, 'period': 1}, 'result': 'train.{round}.result.json'}, {'data': 'iedb_sars2', 'test_size': 0.2, 'batch_size': 128, 'n_epochs': 100, 'n_workers': 12, 'metrics': ['accuracy'], 'optimizer': {'type': 'adam', 'lr': 0.0001}, 'train_bert_encoders': [-6, None], 'early_stopper': {'monitor': 'accuracy', 'patience': 10}, 'model_checkpoint': {'chk': 'train.{round}.model_{epoch}.chk', 'monitor': 'accuracy', 'save_best_only': True, 'period': 1}, 'result': 'train.{round}.result.json'}]}\n",
      "2022-11-02 18:27:02 [INFO]: Start 0 train round using data: dash_vdjdb_mcpas, round_conf: {'data': 'dash_vdjdb_mcpas', 'test_size': 0.2, 'batch_size': 128, 'n_epochs': 150, 'n_workers': 12, 'metrics': ['accuracy'], 'optimizer': {'type': 'adam', 'lr': 0.0001}, 'train_bert_encoders': [-10, None], 'early_stopper': {'monitor': 'accuracy', 'patience': 15}, 'model_checkpoint': {'chk': 'train.{round}.model_{epoch}.chk', 'monitor': 'accuracy', 'save_best_only': True, 'period': 1}, 'result': 'train.{round}.result.json'}\n",
      "2022-11-02 18:27:03 [INFO]: dash_vdjdb_mcpas dataset was loaded from ../output/dash_vdjdb_mcpas.data.csv, df.shape: (25138, 10)\n",
      "2022-11-02 18:27:03 [INFO]: Start to exclude eval data from train data, df.shape: (25138, 10), target_cols: ['index']\n",
      "2022-11-02 18:27:03 [INFO]: shomuradova dataset was loaded from ../output/shomuradova.data.csv, df.shape: (610, 9)\n",
      "2022-11-02 18:27:03 [INFO]: Excluding shomuradova eval data by index from train data\n",
      "2022-11-02 18:27:04 [INFO]: Current train data.shape: (25138, 10)\n",
      "2022-11-02 18:27:04 [INFO]: immunecode dataset was loaded from ../output/immunecode.data.csv, df.shape: (742, 9)\n",
      "2022-11-02 18:27:04 [INFO]: Excluding immunecode eval data by index from train data\n",
      "2022-11-02 18:27:04 [INFO]: Current train data.shape: (25138, 10)\n",
      "2022-11-02 18:27:04 [INFO]: Final train data.shape: (25138, 10)\n",
      "2022-11-02 18:27:04 [INFO]: The bert encoders to be trained: [-10, None]\n",
      "2022-11-02 18:27:11 [INFO]: ======================\n",
      "2022-11-02 18:27:11 [INFO]: Begin training...\n",
      "2022-11-02 18:27:11 [INFO]: use_cuda, device: True, cuda:0\n",
      "2022-11-02 18:27:11 [INFO]: train.n_data: 20110, test.n_data: 5028\n",
      "2022-11-02 18:27:11 [INFO]: optimizer: Adam (\n",
      "Parameter Group 0\n",
      "    amsgrad: False\n",
      "    betas: (0.9, 0.999)\n",
      "    capturable: False\n",
      "    eps: 1e-08\n",
      "    foreach: None\n",
      "    lr: 0.0001\n",
      "    maximize: False\n",
      "    weight_decay: 0\n",
      ")\n",
      "2022-11-02 18:27:11 [INFO]: evaluator: <tcrbert.model.BertTCREpitopeModel.PredictionEvaluator object at 0x7f908cccafd0>\n",
      "2022-11-02 18:27:11 [INFO]: n_epochs: 150\n",
      "2022-11-02 18:27:11 [INFO]: train.batch_size: 128\n",
      "2022-11-02 18:27:11 [INFO]: test.batch_size: 128\n"
     ]
    },
    {
     "name": "stderr",
     "output_type": "stream",
     "text": [
      "Training in epoch 0/150: 100%|██████████| 158/158 [03:00<00:00,  1.14s/batch]\n",
      "Validating in epoch 0/150: 100%|██████████| 40/40 [00:36<00:00,  1.11batch/s]"
     ]
    },
    {
     "name": "stdout",
     "output_type": "stream",
     "text": [
      "2022-11-02 18:30:47 [INFO]: [EvalScoreRecoder]: In epoch 0/150, loss train score: 0.6765513669086408, val score: 0.6619814932346344\n",
      "2022-11-02 18:30:47 [INFO]: [EvalScoreRecoder]: In epoch 0/150, accuracy train score: 0.5666676084990958, val score: 0.604709201388889\n",
      "2022-11-02 18:30:47 [INFO]: [EarlyStopper]: In epoch 0/150, accuracy score: 0.604709201388889, best accuracy score: -inf;update best score to 0.604709201388889\n",
      "2022-11-02 18:30:47 [INFO]: [ModelCheckpoint]: Checkpoint at epoch 0: accuracy improved from -inf to 0.604709201388889, saving model to ../output/exp1/train.0.model_0.chk\n"
     ]
    },
    {
     "name": "stderr",
     "output_type": "stream",
     "text": [
      "\n",
      "Training in epoch 1/150: 100%|██████████| 158/158 [03:02<00:00,  1.15s/batch]\n",
      "Validating in epoch 1/150: 100%|██████████| 40/40 [00:35<00:00,  1.12batch/s]"
     ]
    },
    {
     "name": "stdout",
     "output_type": "stream",
     "text": [
      "2022-11-02 18:34:26 [INFO]: [EvalScoreRecoder]: In epoch 1/150, loss train score: 0.5937079911745047, val score: 0.6040216721594334\n",
      "2022-11-02 18:34:26 [INFO]: [EvalScoreRecoder]: In epoch 1/150, accuracy train score: 0.6544204905063291, val score: 0.6717447916666666\n",
      "2022-11-02 18:34:26 [INFO]: [EarlyStopper]: In epoch 1/150, accuracy score: 0.6717447916666666, best accuracy score: 0.604709201388889;update best score to 0.6717447916666666\n",
      "2022-11-02 18:34:26 [INFO]: [ModelCheckpoint]: Checkpoint at epoch 1: accuracy improved from 0.604709201388889 to 0.6717447916666666, saving model to ../output/exp1/train.0.model_1.chk\n"
     ]
    },
    {
     "name": "stderr",
     "output_type": "stream",
     "text": [
      "\n",
      "Training in epoch 2/150: 100%|██████████| 158/158 [03:26<00:00,  1.31s/batch]\n",
      "Validating in epoch 2/150: 100%|██████████| 40/40 [00:45<00:00,  1.14s/batch]"
     ]
    },
    {
     "name": "stdout",
     "output_type": "stream",
     "text": [
      "2022-11-02 18:38:39 [INFO]: [EvalScoreRecoder]: In epoch 2/150, loss train score: 0.5259901227641709, val score: 0.6432928383350373\n",
      "2022-11-02 18:38:39 [INFO]: [EvalScoreRecoder]: In epoch 2/150, accuracy train score: 0.7117286392405063, val score: 0.6981336805555556\n",
      "2022-11-02 18:38:39 [INFO]: [EarlyStopper]: In epoch 2/150, accuracy score: 0.6981336805555556, best accuracy score: 0.6717447916666666;update best score to 0.6981336805555556\n",
      "2022-11-02 18:38:39 [INFO]: [ModelCheckpoint]: Checkpoint at epoch 2: accuracy improved from 0.6717447916666666 to 0.6981336805555556, saving model to ../output/exp1/train.0.model_2.chk\n"
     ]
    },
    {
     "name": "stderr",
     "output_type": "stream",
     "text": [
      "\n",
      "Training in epoch 3/150: 100%|██████████| 158/158 [03:01<00:00,  1.15s/batch]\n",
      "Validating in epoch 3/150: 100%|██████████| 40/40 [00:35<00:00,  1.11batch/s]"
     ]
    },
    {
     "name": "stdout",
     "output_type": "stream",
     "text": [
      "2022-11-02 18:42:17 [INFO]: [EvalScoreRecoder]: In epoch 3/150, loss train score: 0.46466127019139786, val score: 0.6977399230003357\n",
      "2022-11-02 18:42:17 [INFO]: [EvalScoreRecoder]: In epoch 3/150, accuracy train score: 0.7630043512658228, val score: 0.708203125\n",
      "2022-11-02 18:42:17 [INFO]: [EarlyStopper]: In epoch 3/150, accuracy score: 0.708203125, best accuracy score: 0.6981336805555556;update best score to 0.708203125\n",
      "2022-11-02 18:42:17 [INFO]: [ModelCheckpoint]: Checkpoint at epoch 3: accuracy improved from 0.6981336805555556 to 0.708203125, saving model to ../output/exp1/train.0.model_3.chk\n"
     ]
    },
    {
     "name": "stderr",
     "output_type": "stream",
     "text": [
      "\n",
      "Training in epoch 4/150: 100%|██████████| 158/158 [03:04<00:00,  1.17s/batch]\n",
      "Validating in epoch 4/150: 100%|██████████| 40/40 [00:35<00:00,  1.12batch/s]"
     ]
    },
    {
     "name": "stdout",
     "output_type": "stream",
     "text": [
      "2022-11-02 18:45:58 [INFO]: [EvalScoreRecoder]: In epoch 4/150, loss train score: 0.39629001152713467, val score: 0.7082816757261753\n",
      "2022-11-02 18:45:58 [INFO]: [EvalScoreRecoder]: In epoch 4/150, accuracy train score: 0.8115110759493671, val score: 0.72578125\n",
      "2022-11-02 18:45:58 [INFO]: [EarlyStopper]: In epoch 4/150, accuracy score: 0.72578125, best accuracy score: 0.708203125;update best score to 0.72578125\n",
      "2022-11-02 18:45:58 [INFO]: [ModelCheckpoint]: Checkpoint at epoch 4: accuracy improved from 0.708203125 to 0.72578125, saving model to ../output/exp1/train.0.model_4.chk\n"
     ]
    },
    {
     "name": "stderr",
     "output_type": "stream",
     "text": [
      "\n",
      "Training in epoch 5/150: 100%|██████████| 158/158 [03:00<00:00,  1.15s/batch]\n",
      "Validating in epoch 5/150: 100%|██████████| 40/40 [00:35<00:00,  1.12batch/s]"
     ]
    },
    {
     "name": "stdout",
     "output_type": "stream",
     "text": [
      "2022-11-02 18:49:36 [INFO]: [EvalScoreRecoder]: In epoch 5/150, loss train score: 0.3343186895009366, val score: 0.6923745416104794\n",
      "2022-11-02 18:49:36 [INFO]: [EvalScoreRecoder]: In epoch 5/150, accuracy train score: 0.8474584651898734, val score: 0.7280598958333334\n",
      "2022-11-02 18:49:36 [INFO]: [EarlyStopper]: In epoch 5/150, accuracy score: 0.7280598958333334, best accuracy score: 0.72578125;update best score to 0.7280598958333334\n",
      "2022-11-02 18:49:36 [INFO]: [ModelCheckpoint]: Checkpoint at epoch 5: accuracy improved from 0.72578125 to 0.7280598958333334, saving model to ../output/exp1/train.0.model_5.chk\n"
     ]
    },
    {
     "name": "stderr",
     "output_type": "stream",
     "text": [
      "\n",
      "Training in epoch 6/150: 100%|██████████| 158/158 [03:03<00:00,  1.16s/batch]\n",
      "Validating in epoch 6/150: 100%|██████████| 40/40 [00:35<00:00,  1.12batch/s]"
     ]
    },
    {
     "name": "stdout",
     "output_type": "stream",
     "text": [
      "2022-11-02 18:53:15 [INFO]: [EvalScoreRecoder]: In epoch 6/150, loss train score: 0.2774803229501542, val score: 0.6166589021682739\n",
      "2022-11-02 18:53:15 [INFO]: [EvalScoreRecoder]: In epoch 6/150, accuracy train score: 0.8790051424050633, val score: 0.7316840277777777\n",
      "2022-11-02 18:53:15 [INFO]: [EarlyStopper]: In epoch 6/150, accuracy score: 0.7316840277777777, best accuracy score: 0.7280598958333334;update best score to 0.7316840277777777\n",
      "2022-11-02 18:53:15 [INFO]: [ModelCheckpoint]: Checkpoint at epoch 6: accuracy improved from 0.7280598958333334 to 0.7316840277777777, saving model to ../output/exp1/train.0.model_6.chk\n"
     ]
    },
    {
     "name": "stderr",
     "output_type": "stream",
     "text": [
      "\n",
      "Training in epoch 7/150: 100%|██████████| 158/158 [03:00<00:00,  1.14s/batch]\n",
      "Validating in epoch 7/150: 100%|██████████| 40/40 [00:35<00:00,  1.13batch/s]"
     ]
    },
    {
     "name": "stdout",
     "output_type": "stream",
     "text": [
      "2022-11-02 18:56:52 [INFO]: [EvalScoreRecoder]: In epoch 7/150, loss train score: 0.22459330878373754, val score: 0.6619487725198269\n",
      "2022-11-02 18:56:52 [INFO]: [EvalScoreRecoder]: In epoch 7/150, accuracy train score: 0.9068928006329114, val score: 0.744357638888889\n",
      "2022-11-02 18:56:52 [INFO]: [EarlyStopper]: In epoch 7/150, accuracy score: 0.744357638888889, best accuracy score: 0.7316840277777777;update best score to 0.744357638888889\n",
      "2022-11-02 18:56:52 [INFO]: [ModelCheckpoint]: Checkpoint at epoch 7: accuracy improved from 0.7316840277777777 to 0.744357638888889, saving model to ../output/exp1/train.0.model_7.chk\n"
     ]
    },
    {
     "name": "stderr",
     "output_type": "stream",
     "text": [
      "\n",
      "Training in epoch 8/150: 100%|██████████| 158/158 [03:01<00:00,  1.15s/batch]\n",
      "Validating in epoch 8/150: 100%|██████████| 40/40 [00:35<00:00,  1.14batch/s]"
     ]
    },
    {
     "name": "stdout",
     "output_type": "stream",
     "text": [
      "2022-11-02 19:00:29 [INFO]: [EvalScoreRecoder]: In epoch 8/150, loss train score: 0.17344620257993287, val score: 0.8199041113257408\n",
      "2022-11-02 19:00:29 [INFO]: [EvalScoreRecoder]: In epoch 8/150, accuracy train score: 0.9303232368896927, val score: 0.728342013888889\n",
      "2022-11-02 19:00:29 [INFO]: [EarlyStopper]: In epoch 8/150, accuracy score: 0.728342013888889, best accuracy score: 0.744357638888889;accuracy score was not improved\n",
      "2022-11-02 19:00:29 [INFO]: [EarlyStopper]: Current wait count: 1, patience: 15\n",
      "2022-11-02 19:00:29 [INFO]: [ModelCheckpoint]: Checkpoint at epoch 8: accuracy did not improve\n"
     ]
    },
    {
     "name": "stderr",
     "output_type": "stream",
     "text": [
      "\n",
      "Training in epoch 9/150: 100%|██████████| 158/158 [03:00<00:00,  1.14s/batch]\n",
      "Validating in epoch 9/150: 100%|██████████| 40/40 [00:35<00:00,  1.13batch/s]"
     ]
    },
    {
     "name": "stdout",
     "output_type": "stream",
     "text": [
      "2022-11-02 19:04:05 [INFO]: [EvalScoreRecoder]: In epoch 9/150, loss train score: 0.14332342326649924, val score: 0.801220154762268\n",
      "2022-11-02 19:04:05 [INFO]: [EvalScoreRecoder]: In epoch 9/150, accuracy train score: 0.9437302215189873, val score: 0.7476128472222222\n",
      "2022-11-02 19:04:05 [INFO]: [EarlyStopper]: In epoch 9/150, accuracy score: 0.7476128472222222, best accuracy score: 0.744357638888889;update best score to 0.7476128472222222\n",
      "2022-11-02 19:04:05 [INFO]: [ModelCheckpoint]: Checkpoint at epoch 9: accuracy improved from 0.744357638888889 to 0.7476128472222222, saving model to ../output/exp1/train.0.model_9.chk\n"
     ]
    },
    {
     "name": "stderr",
     "output_type": "stream",
     "text": [
      "\n",
      "Training in epoch 10/150: 100%|██████████| 158/158 [03:31<00:00,  1.34s/batch]\n",
      "Validating in epoch 10/150: 100%|██████████| 40/40 [00:44<00:00,  1.11s/batch]"
     ]
    },
    {
     "name": "stdout",
     "output_type": "stream",
     "text": [
      "2022-11-02 19:08:21 [INFO]: [EvalScoreRecoder]: In epoch 10/150, loss train score: 0.1167059321865687, val score: 0.9166641190648079\n",
      "2022-11-02 19:08:21 [INFO]: [EvalScoreRecoder]: In epoch 10/150, accuracy train score: 0.955350079113924, val score: 0.7592230902777778\n",
      "2022-11-02 19:08:21 [INFO]: [EarlyStopper]: In epoch 10/150, accuracy score: 0.7592230902777778, best accuracy score: 0.7476128472222222;update best score to 0.7592230902777778\n",
      "2022-11-02 19:08:21 [INFO]: [ModelCheckpoint]: Checkpoint at epoch 10: accuracy improved from 0.7476128472222222 to 0.7592230902777778, saving model to ../output/exp1/train.0.model_10.chk\n"
     ]
    },
    {
     "name": "stderr",
     "output_type": "stream",
     "text": [
      "\n",
      "Training in epoch 11/150: 100%|██████████| 158/158 [03:01<00:00,  1.15s/batch]\n",
      "Training in epoch 12/150: 100%|██████████| 158/158 [03:01<00:00,  1.15s/batch]\n",
      "Validating in epoch 12/150: 100%|██████████| 40/40 [00:44<00:00,  1.11s/batch]"
     ]
    },
    {
     "name": "stdout",
     "output_type": "stream",
     "text": [
      "2022-11-02 19:15:44 [INFO]: [EvalScoreRecoder]: In epoch 12/150, loss train score: 0.08429644767841901, val score: 0.972401873767376\n",
      "2022-11-02 19:15:44 [INFO]: [EvalScoreRecoder]: In epoch 12/150, accuracy train score: 0.9688983386075949, val score: 0.744357638888889\n",
      "2022-11-02 19:15:44 [INFO]: [EarlyStopper]: In epoch 12/150, accuracy score: 0.744357638888889, best accuracy score: 0.7592230902777778;accuracy score was not improved\n",
      "2022-11-02 19:15:44 [INFO]: [EarlyStopper]: Current wait count: 2, patience: 15\n",
      "2022-11-02 19:15:44 [INFO]: [ModelCheckpoint]: Checkpoint at epoch 12: accuracy did not improve\n"
     ]
    },
    {
     "name": "stderr",
     "output_type": "stream",
     "text": [
      "\n",
      "Training in epoch 13/150: 100%|██████████| 158/158 [03:00<00:00,  1.14s/batch]\n",
      "Validating in epoch 13/150: 100%|██████████| 40/40 [00:35<00:00,  1.14batch/s]"
     ]
    },
    {
     "name": "stdout",
     "output_type": "stream",
     "text": [
      "2022-11-02 19:19:20 [INFO]: [EvalScoreRecoder]: In epoch 13/150, loss train score: 0.08035174163266179, val score: 0.9915965601801873\n",
      "2022-11-02 19:19:20 [INFO]: [EvalScoreRecoder]: In epoch 13/150, accuracy train score: 0.969442246835443, val score: 0.7504123263888889\n",
      "2022-11-02 19:19:20 [INFO]: [EarlyStopper]: In epoch 13/150, accuracy score: 0.7504123263888889, best accuracy score: 0.7592230902777778;accuracy score was not improved\n",
      "2022-11-02 19:19:20 [INFO]: [EarlyStopper]: Current wait count: 3, patience: 15\n",
      "2022-11-02 19:19:20 [INFO]: [ModelCheckpoint]: Checkpoint at epoch 13: accuracy did not improve\n"
     ]
    },
    {
     "name": "stderr",
     "output_type": "stream",
     "text": [
      "\n",
      "Training in epoch 14/150: 100%|██████████| 158/158 [03:02<00:00,  1.15s/batch]\n",
      "Validating in epoch 14/150: 100%|██████████| 40/40 [00:35<00:00,  1.14batch/s]"
     ]
    },
    {
     "name": "stdout",
     "output_type": "stream",
     "text": [
      "2022-11-02 19:22:57 [INFO]: [EvalScoreRecoder]: In epoch 14/150, loss train score: 0.07692358666541692, val score: 0.8161861725151539\n",
      "2022-11-02 19:22:57 [INFO]: [EvalScoreRecoder]: In epoch 14/150, accuracy train score: 0.9716673259493671, val score: 0.7610677083333334\n",
      "2022-11-02 19:22:57 [INFO]: [EarlyStopper]: In epoch 14/150, accuracy score: 0.7610677083333334, best accuracy score: 0.7592230902777778;update best score to 0.7610677083333334\n",
      "2022-11-02 19:22:57 [INFO]: [ModelCheckpoint]: Checkpoint at epoch 14: accuracy improved from 0.7592230902777778 to 0.7610677083333334, saving model to ../output/exp1/train.0.model_14.chk\n"
     ]
    },
    {
     "name": "stderr",
     "output_type": "stream",
     "text": [
      "\n",
      "Training in epoch 15/150: 100%|██████████| 158/158 [03:00<00:00,  1.14s/batch]\n",
      "Validating in epoch 15/150: 100%|██████████| 40/40 [00:44<00:00,  1.11s/batch]"
     ]
    },
    {
     "name": "stdout",
     "output_type": "stream",
     "text": [
      "2022-11-02 19:26:43 [INFO]: [EvalScoreRecoder]: In epoch 15/150, loss train score: 0.07598027572016633, val score: 0.8902209773659706\n",
      "2022-11-02 19:26:43 [INFO]: [EvalScoreRecoder]: In epoch 15/150, accuracy train score: 0.9719145569620253, val score: 0.7617404513888889\n",
      "2022-11-02 19:26:43 [INFO]: [EarlyStopper]: In epoch 15/150, accuracy score: 0.7617404513888889, best accuracy score: 0.7610677083333334;update best score to 0.7617404513888889\n",
      "2022-11-02 19:26:43 [INFO]: [ModelCheckpoint]: Checkpoint at epoch 15: accuracy improved from 0.7610677083333334 to 0.7617404513888889, saving model to ../output/exp1/train.0.model_15.chk\n"
     ]
    },
    {
     "name": "stderr",
     "output_type": "stream",
     "text": [
      "\n",
      "Training in epoch 16/150: 100%|██████████| 158/158 [03:21<00:00,  1.28s/batch]\n",
      "Validating in epoch 16/150: 100%|██████████| 40/40 [00:35<00:00,  1.13batch/s]"
     ]
    },
    {
     "name": "stdout",
     "output_type": "stream",
     "text": [
      "2022-11-02 19:30:41 [INFO]: [EvalScoreRecoder]: In epoch 16/150, loss train score: 0.06450764326153241, val score: 1.0037899151444436\n",
      "2022-11-02 19:30:41 [INFO]: [EvalScoreRecoder]: In epoch 16/150, accuracy train score: 0.977254746835443, val score: 0.755099826388889\n",
      "2022-11-02 19:30:41 [INFO]: [EarlyStopper]: In epoch 16/150, accuracy score: 0.755099826388889, best accuracy score: 0.7617404513888889;accuracy score was not improved\n",
      "2022-11-02 19:30:41 [INFO]: [EarlyStopper]: Current wait count: 1, patience: 15\n",
      "2022-11-02 19:30:41 [INFO]: [ModelCheckpoint]: Checkpoint at epoch 16: accuracy did not improve\n"
     ]
    },
    {
     "name": "stderr",
     "output_type": "stream",
     "text": [
      "\n",
      "Training in epoch 17/150: 100%|██████████| 158/158 [03:01<00:00,  1.15s/batch]\n",
      "Validating in epoch 17/150: 100%|██████████| 40/40 [00:35<00:00,  1.14batch/s]"
     ]
    },
    {
     "name": "stdout",
     "output_type": "stream",
     "text": [
      "2022-11-02 19:34:17 [INFO]: [EvalScoreRecoder]: In epoch 17/150, loss train score: 0.058908854360151384, val score: 1.2348423309624195\n",
      "2022-11-02 19:34:17 [INFO]: [EvalScoreRecoder]: In epoch 17/150, accuracy train score: 0.9788370253164557, val score: 0.7505425347222222\n",
      "2022-11-02 19:34:17 [INFO]: [EarlyStopper]: In epoch 17/150, accuracy score: 0.7505425347222222, best accuracy score: 0.7617404513888889;accuracy score was not improved\n",
      "2022-11-02 19:34:17 [INFO]: [EarlyStopper]: Current wait count: 2, patience: 15\n",
      "2022-11-02 19:34:17 [INFO]: [ModelCheckpoint]: Checkpoint at epoch 17: accuracy did not improve\n"
     ]
    },
    {
     "name": "stderr",
     "output_type": "stream",
     "text": [
      "\n",
      "Training in epoch 18/150: 100%|██████████| 158/158 [03:26<00:00,  1.31s/batch]\n",
      "Validating in epoch 18/150: 100%|██████████| 40/40 [00:35<00:00,  1.12batch/s]"
     ]
    },
    {
     "name": "stdout",
     "output_type": "stream",
     "text": [
      "2022-11-02 19:38:19 [INFO]: [EvalScoreRecoder]: In epoch 18/150, loss train score: 0.05428579276688456, val score: 1.1128125950694083\n",
      "2022-11-02 19:38:19 [INFO]: [EvalScoreRecoder]: In epoch 18/150, accuracy train score: 0.9795787183544303, val score: 0.7557942708333334\n",
      "2022-11-02 19:38:19 [INFO]: [EarlyStopper]: In epoch 18/150, accuracy score: 0.7557942708333334, best accuracy score: 0.7617404513888889;accuracy score was not improved\n",
      "2022-11-02 19:38:19 [INFO]: [EarlyStopper]: Current wait count: 3, patience: 15\n",
      "2022-11-02 19:38:19 [INFO]: [ModelCheckpoint]: Checkpoint at epoch 18: accuracy did not improve\n"
     ]
    },
    {
     "name": "stderr",
     "output_type": "stream",
     "text": [
      "\n",
      "Training in epoch 19/150:  89%|████████▉ | 141/158 [02:42<00:19,  1.15s/batch]IOPub message rate exceeded.\n",
      "The Jupyter server will temporarily stop sending output\n",
      "to the client in order to avoid crashing it.\n",
      "To change this limit, set the config variable\n",
      "`--ServerApp.iopub_msg_rate_limit`.\n",
      "\n",
      "Current values:\n",
      "ServerApp.iopub_msg_rate_limit=1000.0 (msgs/sec)\n",
      "ServerApp.rate_limit_window=3.0 (secs)\n",
      "\n",
      "Training in epoch 20/150: 100%|██████████| 158/158 [02:59<00:00,  1.13s/batch]\n",
      "Validating in epoch 20/150: 100%|██████████| 40/40 [00:35<00:00,  1.13batch/s]"
     ]
    },
    {
     "name": "stdout",
     "output_type": "stream",
     "text": [
      "2022-11-02 19:45:32 [INFO]: [EvalScoreRecoder]: In epoch 20/150, loss train score: 0.04599915052114992, val score: 1.2428863033652306\n",
      "2022-11-02 19:45:32 [INFO]: [EvalScoreRecoder]: In epoch 20/150, accuracy train score: 0.9832871835443038, val score: 0.7611545138888889\n",
      "2022-11-02 19:45:32 [INFO]: [EarlyStopper]: In epoch 20/150, accuracy score: 0.7611545138888889, best accuracy score: 0.7641059027777778;accuracy score was not improved\n",
      "2022-11-02 19:45:32 [INFO]: [EarlyStopper]: Current wait count: 1, patience: 15\n",
      "2022-11-02 19:45:32 [INFO]: [ModelCheckpoint]: Checkpoint at epoch 20: accuracy did not improve\n"
     ]
    },
    {
     "name": "stderr",
     "output_type": "stream",
     "text": [
      "\n",
      "Training in epoch 21/150: 100%|██████████| 158/158 [03:00<00:00,  1.14s/batch]\n",
      "Validating in epoch 21/150: 100%|██████████| 40/40 [00:43<00:00,  1.10s/batch]"
     ]
    },
    {
     "name": "stdout",
     "output_type": "stream",
     "text": [
      "2022-11-02 19:49:17 [INFO]: [EvalScoreRecoder]: In epoch 21/150, loss train score: 0.04145649383014033, val score: 1.0749979853630065\n",
      "2022-11-02 19:49:17 [INFO]: [EvalScoreRecoder]: In epoch 21/150, accuracy train score: 0.9855122626582279, val score: 0.7692491319444444\n",
      "2022-11-02 19:49:17 [INFO]: [EarlyStopper]: In epoch 21/150, accuracy score: 0.7692491319444444, best accuracy score: 0.7641059027777778;update best score to 0.7692491319444444\n",
      "2022-11-02 19:49:17 [INFO]: [ModelCheckpoint]: Checkpoint at epoch 21: accuracy improved from 0.7641059027777778 to 0.7692491319444444, saving model to ../output/exp1/train.0.model_21.chk\n"
     ]
    },
    {
     "name": "stderr",
     "output_type": "stream",
     "text": [
      "\n",
      "Training in epoch 22/150: 100%|██████████| 158/158 [03:14<00:00,  1.23s/batch]\n",
      "Validating in epoch 22/150: 100%|██████████| 40/40 [00:35<00:00,  1.13batch/s]"
     ]
    },
    {
     "name": "stdout",
     "output_type": "stream",
     "text": [
      "2022-11-02 19:53:08 [INFO]: [EvalScoreRecoder]: In epoch 22/150, loss train score: 0.04138775369339576, val score: 1.1235557794570923\n",
      "2022-11-02 19:53:08 [INFO]: [EvalScoreRecoder]: In epoch 22/150, accuracy train score: 0.9849683544303798, val score: 0.771701388888889\n",
      "2022-11-02 19:53:08 [INFO]: [EarlyStopper]: In epoch 22/150, accuracy score: 0.771701388888889, best accuracy score: 0.7692491319444444;update best score to 0.771701388888889\n",
      "2022-11-02 19:53:08 [INFO]: [ModelCheckpoint]: Checkpoint at epoch 22: accuracy improved from 0.7692491319444444 to 0.771701388888889, saving model to ../output/exp1/train.0.model_22.chk\n"
     ]
    },
    {
     "name": "stderr",
     "output_type": "stream",
     "text": [
      "\n",
      "Training in epoch 23/150: 100%|██████████| 158/158 [03:00<00:00,  1.14s/batch]\n",
      "Validating in epoch 23/150: 100%|██████████| 40/40 [00:35<00:00,  1.14batch/s]"
     ]
    },
    {
     "name": "stdout",
     "output_type": "stream",
     "text": [
      "2022-11-02 19:56:44 [INFO]: [EvalScoreRecoder]: In epoch 23/150, loss train score: 0.038957016075419, val score: 0.975515665113926\n",
      "2022-11-02 19:56:44 [INFO]: [EvalScoreRecoder]: In epoch 23/150, accuracy train score: 0.9869462025316456, val score: 0.763888888888889\n",
      "2022-11-02 19:56:44 [INFO]: [EarlyStopper]: In epoch 23/150, accuracy score: 0.763888888888889, best accuracy score: 0.771701388888889;accuracy score was not improved\n",
      "2022-11-02 19:56:44 [INFO]: [EarlyStopper]: Current wait count: 1, patience: 15\n",
      "2022-11-02 19:56:44 [INFO]: [ModelCheckpoint]: Checkpoint at epoch 23: accuracy did not improve\n"
     ]
    },
    {
     "name": "stderr",
     "output_type": "stream",
     "text": [
      "\n",
      "Training in epoch 24/150: 100%|██████████| 158/158 [02:59<00:00,  1.14s/batch]\n",
      "Validating in epoch 24/150: 100%|██████████| 40/40 [00:35<00:00,  1.12batch/s]"
     ]
    },
    {
     "name": "stdout",
     "output_type": "stream",
     "text": [
      "2022-11-02 20:00:19 [INFO]: [EvalScoreRecoder]: In epoch 24/150, loss train score: 0.039786249820638116, val score: 1.2295622199773788\n",
      "2022-11-02 20:00:19 [INFO]: [EvalScoreRecoder]: In epoch 24/150, accuracy train score: 0.985907832278481, val score: 0.7652560763888889\n",
      "2022-11-02 20:00:19 [INFO]: [EarlyStopper]: In epoch 24/150, accuracy score: 0.7652560763888889, best accuracy score: 0.771701388888889;accuracy score was not improved\n",
      "2022-11-02 20:00:19 [INFO]: [EarlyStopper]: Current wait count: 2, patience: 15\n",
      "2022-11-02 20:00:19 [INFO]: [ModelCheckpoint]: Checkpoint at epoch 24: accuracy did not improve\n"
     ]
    },
    {
     "name": "stderr",
     "output_type": "stream",
     "text": [
      "\n",
      "Training in epoch 25/150: 100%|██████████| 158/158 [03:01<00:00,  1.15s/batch]\n",
      "Validating in epoch 25/150: 100%|██████████| 40/40 [00:35<00:00,  1.13batch/s]"
     ]
    },
    {
     "name": "stdout",
     "output_type": "stream",
     "text": [
      "2022-11-02 20:03:56 [INFO]: [EvalScoreRecoder]: In epoch 25/150, loss train score: 0.03767472716295927, val score: 1.0772416546940804\n",
      "2022-11-02 20:03:56 [INFO]: [EvalScoreRecoder]: In epoch 25/150, accuracy train score: 0.9856606012658228, val score: 0.768381076388889\n",
      "2022-11-02 20:03:56 [INFO]: [EarlyStopper]: In epoch 25/150, accuracy score: 0.768381076388889, best accuracy score: 0.771701388888889;accuracy score was not improved\n",
      "2022-11-02 20:03:56 [INFO]: [EarlyStopper]: Current wait count: 3, patience: 15\n",
      "2022-11-02 20:03:56 [INFO]: [ModelCheckpoint]: Checkpoint at epoch 25: accuracy did not improve\n"
     ]
    },
    {
     "name": "stderr",
     "output_type": "stream",
     "text": [
      "\n",
      "Training in epoch 27/150: 100%|██████████| 158/158 [03:27<00:00,  1.31s/batch]\n",
      "Validating in epoch 27/150: 100%|██████████| 40/40 [00:35<00:00,  1.13batch/s]"
     ]
    },
    {
     "name": "stdout",
     "output_type": "stream",
     "text": [
      "2022-11-02 20:11:35 [INFO]: [EvalScoreRecoder]: In epoch 27/150, loss train score: 0.03238167769873892, val score: 1.1325829952955246\n",
      "2022-11-02 20:11:35 [INFO]: [EvalScoreRecoder]: In epoch 27/150, accuracy train score: 0.9893690664556962, val score: 0.7596571180555556\n",
      "2022-11-02 20:11:35 [INFO]: [EarlyStopper]: In epoch 27/150, accuracy score: 0.7596571180555556, best accuracy score: 0.771701388888889;accuracy score was not improved\n",
      "2022-11-02 20:11:35 [INFO]: [EarlyStopper]: Current wait count: 5, patience: 15\n",
      "2022-11-02 20:11:35 [INFO]: [ModelCheckpoint]: Checkpoint at epoch 27: accuracy did not improve\n"
     ]
    },
    {
     "name": "stderr",
     "output_type": "stream",
     "text": [
      "\n",
      "Training in epoch 28/150: 100%|██████████| 158/158 [02:59<00:00,  1.13s/batch]\n",
      "Validating in epoch 28/150: 100%|██████████| 40/40 [00:35<00:00,  1.13batch/s]"
     ]
    },
    {
     "name": "stdout",
     "output_type": "stream",
     "text": [
      "2022-11-02 20:15:10 [INFO]: [EvalScoreRecoder]: In epoch 28/150, loss train score: 0.03612364587420819, val score: 1.15831348747015\n",
      "2022-11-02 20:15:10 [INFO]: [EvalScoreRecoder]: In epoch 28/150, accuracy train score: 0.9879351265822784, val score: 0.7715494791666666\n",
      "2022-11-02 20:15:10 [INFO]: [EarlyStopper]: In epoch 28/150, accuracy score: 0.7715494791666666, best accuracy score: 0.771701388888889;accuracy score was not improved\n",
      "2022-11-02 20:15:10 [INFO]: [EarlyStopper]: Current wait count: 6, patience: 15\n",
      "2022-11-02 20:15:10 [INFO]: [ModelCheckpoint]: Checkpoint at epoch 28: accuracy did not improve\n"
     ]
    },
    {
     "name": "stderr",
     "output_type": "stream",
     "text": [
      "\n",
      "Training in epoch 29/150: 100%|██████████| 158/158 [02:59<00:00,  1.13s/batch]\n",
      "Validating in epoch 29/150: 100%|██████████| 40/40 [00:35<00:00,  1.14batch/s]"
     ]
    },
    {
     "name": "stdout",
     "output_type": "stream",
     "text": [
      "2022-11-02 20:18:44 [INFO]: [EvalScoreRecoder]: In epoch 29/150, loss train score: 0.03910680612051105, val score: 0.9732857912778854\n",
      "2022-11-02 20:18:44 [INFO]: [EvalScoreRecoder]: In epoch 29/150, accuracy train score: 0.9869956487341772, val score: 0.7516710069444444\n",
      "2022-11-02 20:18:44 [INFO]: [EarlyStopper]: In epoch 29/150, accuracy score: 0.7516710069444444, best accuracy score: 0.771701388888889;accuracy score was not improved\n",
      "2022-11-02 20:18:44 [INFO]: [EarlyStopper]: Current wait count: 7, patience: 15\n",
      "2022-11-02 20:18:44 [INFO]: [ModelCheckpoint]: Checkpoint at epoch 29: accuracy did not improve\n"
     ]
    },
    {
     "name": "stderr",
     "output_type": "stream",
     "text": [
      "\n",
      "Training in epoch 30/150: 100%|██████████| 158/158 [03:00<00:00,  1.14s/batch]\n",
      "Validating in epoch 30/150: 100%|██████████| 40/40 [00:42<00:00,  1.07s/batch]"
     ]
    },
    {
     "name": "stdout",
     "output_type": "stream",
     "text": [
      "2022-11-02 20:22:27 [INFO]: [EvalScoreRecoder]: In epoch 30/150, loss train score: 0.03754761324874185, val score: 1.0470708429813385\n",
      "2022-11-02 20:22:27 [INFO]: [EvalScoreRecoder]: In epoch 30/150, accuracy train score: 0.9873417721518988, val score: 0.7509765625\n",
      "2022-11-02 20:22:27 [INFO]: [EarlyStopper]: In epoch 30/150, accuracy score: 0.7509765625, best accuracy score: 0.771701388888889;accuracy score was not improved\n",
      "2022-11-02 20:22:27 [INFO]: [EarlyStopper]: Current wait count: 8, patience: 15\n",
      "2022-11-02 20:22:27 [INFO]: [ModelCheckpoint]: Checkpoint at epoch 30: accuracy did not improve\n"
     ]
    },
    {
     "name": "stderr",
     "output_type": "stream",
     "text": [
      "\n",
      "Training in epoch 31/150: 100%|██████████| 158/158 [03:00<00:00,  1.15s/batch]\n",
      "Validating in epoch 31/150: 100%|██████████| 40/40 [00:35<00:00,  1.13batch/s]"
     ]
    },
    {
     "name": "stdout",
     "output_type": "stream",
     "text": [
      "2022-11-02 20:26:04 [INFO]: [EvalScoreRecoder]: In epoch 31/150, loss train score: 0.04104087509906002, val score: 1.025343009829521\n",
      "2022-11-02 20:26:04 [INFO]: [EvalScoreRecoder]: In epoch 31/150, accuracy train score: 0.9860067246835443, val score: 0.7668836805555556\n",
      "2022-11-02 20:26:04 [INFO]: [EarlyStopper]: In epoch 31/150, accuracy score: 0.7668836805555556, best accuracy score: 0.771701388888889;accuracy score was not improved\n",
      "2022-11-02 20:26:04 [INFO]: [EarlyStopper]: Current wait count: 9, patience: 15\n",
      "2022-11-02 20:26:04 [INFO]: [ModelCheckpoint]: Checkpoint at epoch 31: accuracy did not improve\n"
     ]
    },
    {
     "name": "stderr",
     "output_type": "stream",
     "text": [
      "\n",
      "Training in epoch 32/150: 100%|██████████| 158/158 [02:59<00:00,  1.14s/batch]\n",
      "Validating in epoch 32/150: 100%|██████████| 40/40 [00:35<00:00,  1.14batch/s]"
     ]
    },
    {
     "name": "stdout",
     "output_type": "stream",
     "text": [
      "2022-11-02 20:29:39 [INFO]: [EvalScoreRecoder]: In epoch 32/150, loss train score: 0.03577984862554158, val score: 1.1050124138593673\n",
      "2022-11-02 20:29:39 [INFO]: [EvalScoreRecoder]: In epoch 32/150, accuracy train score: 0.9882318037974683, val score: 0.765234375\n",
      "2022-11-02 20:29:39 [INFO]: [EarlyStopper]: In epoch 32/150, accuracy score: 0.765234375, best accuracy score: 0.771701388888889;accuracy score was not improved\n",
      "2022-11-02 20:29:39 [INFO]: [EarlyStopper]: Current wait count: 10, patience: 15\n",
      "2022-11-02 20:29:39 [INFO]: [ModelCheckpoint]: Checkpoint at epoch 32: accuracy did not improve\n"
     ]
    },
    {
     "name": "stderr",
     "output_type": "stream",
     "text": [
      "\n",
      "Training in epoch 33/150: 100%|██████████| 158/158 [03:01<00:00,  1.15s/batch]\n",
      "Validating in epoch 33/150: 100%|██████████| 40/40 [00:35<00:00,  1.13batch/s]"
     ]
    },
    {
     "name": "stdout",
     "output_type": "stream",
     "text": [
      "2022-11-02 20:33:16 [INFO]: [EvalScoreRecoder]: In epoch 33/150, loss train score: 0.04074719331604488, val score: 1.014051181077957\n",
      "2022-11-02 20:33:16 [INFO]: [EvalScoreRecoder]: In epoch 33/150, accuracy train score: 0.9860067246835443, val score: 0.7628038194444444\n",
      "2022-11-02 20:33:16 [INFO]: [EarlyStopper]: In epoch 33/150, accuracy score: 0.7628038194444444, best accuracy score: 0.771701388888889;accuracy score was not improved\n",
      "2022-11-02 20:33:16 [INFO]: [EarlyStopper]: Current wait count: 11, patience: 15\n",
      "2022-11-02 20:33:16 [INFO]: [ModelCheckpoint]: Checkpoint at epoch 33: accuracy did not improve\n"
     ]
    },
    {
     "name": "stderr",
     "output_type": "stream",
     "text": [
      "\n",
      "Training in epoch 34/150:  61%|██████▏   | 97/158 [01:51<01:09,  1.14s/batch]IOPub message rate exceeded.\n",
      "The Jupyter server will temporarily stop sending output\n",
      "to the client in order to avoid crashing it.\n",
      "To change this limit, set the config variable\n",
      "`--ServerApp.iopub_msg_rate_limit`.\n",
      "\n",
      "Current values:\n",
      "ServerApp.iopub_msg_rate_limit=1000.0 (msgs/sec)\n",
      "ServerApp.rate_limit_window=3.0 (secs)\n",
      "\n",
      "Training in epoch 35/150: 100%|██████████| 158/158 [03:22<00:00,  1.28s/batch]\n",
      "Validating in epoch 35/150: 100%|██████████| 40/40 [00:35<00:00,  1.14batch/s]"
     ]
    },
    {
     "name": "stdout",
     "output_type": "stream",
     "text": [
      "2022-11-02 20:40:49 [INFO]: [EvalScoreRecoder]: In epoch 35/150, loss train score: 0.033929265341301494, val score: 1.2082659721374511\n",
      "2022-11-02 20:40:49 [INFO]: [EvalScoreRecoder]: In epoch 35/150, accuracy train score: 0.9880834651898734, val score: 0.7734592013888889\n",
      "2022-11-02 20:40:49 [INFO]: [EarlyStopper]: In epoch 35/150, accuracy score: 0.7734592013888889, best accuracy score: 0.771701388888889;update best score to 0.7734592013888889\n",
      "2022-11-02 20:40:49 [INFO]: [ModelCheckpoint]: Checkpoint at epoch 35: accuracy improved from 0.771701388888889 to 0.7734592013888889, saving model to ../output/exp1/train.0.model_35.chk\n"
     ]
    },
    {
     "name": "stderr",
     "output_type": "stream",
     "text": [
      "\n",
      "Training in epoch 36/150: 100%|██████████| 158/158 [03:01<00:00,  1.15s/batch]\n",
      "Validating in epoch 36/150: 100%|██████████| 40/40 [00:36<00:00,  1.11batch/s]"
     ]
    },
    {
     "name": "stdout",
     "output_type": "stream",
     "text": [
      "2022-11-02 20:44:28 [INFO]: [EvalScoreRecoder]: In epoch 36/150, loss train score: 0.035757636154421214, val score: 1.3288189738988876\n",
      "2022-11-02 20:44:28 [INFO]: [EvalScoreRecoder]: In epoch 36/150, accuracy train score: 0.9875395569620253, val score: 0.7740668402777777\n",
      "2022-11-02 20:44:28 [INFO]: [EarlyStopper]: In epoch 36/150, accuracy score: 0.7740668402777777, best accuracy score: 0.7734592013888889;update best score to 0.7740668402777777\n",
      "2022-11-02 20:44:28 [INFO]: [ModelCheckpoint]: Checkpoint at epoch 36: accuracy improved from 0.7734592013888889 to 0.7740668402777777, saving model to ../output/exp1/train.0.model_36.chk\n"
     ]
    },
    {
     "name": "stderr",
     "output_type": "stream",
     "text": [
      "\n",
      "Training in epoch 37/150: 100%|██████████| 158/158 [03:29<00:00,  1.33s/batch]\n",
      "Validating in epoch 37/150: 100%|██████████| 40/40 [00:35<00:00,  1.13batch/s]"
     ]
    },
    {
     "name": "stdout",
     "output_type": "stream",
     "text": [
      "2022-11-02 20:48:33 [INFO]: [EvalScoreRecoder]: In epoch 37/150, loss train score: 0.03235112598034718, val score: 1.0718115493655205\n",
      "2022-11-02 20:48:33 [INFO]: [EvalScoreRecoder]: In epoch 37/150, accuracy train score: 0.9885779272151899, val score: 0.767578125\n",
      "2022-11-02 20:48:33 [INFO]: [EarlyStopper]: In epoch 37/150, accuracy score: 0.767578125, best accuracy score: 0.7740668402777777;accuracy score was not improved\n",
      "2022-11-02 20:48:33 [INFO]: [EarlyStopper]: Current wait count: 1, patience: 15\n",
      "2022-11-02 20:48:33 [INFO]: [ModelCheckpoint]: Checkpoint at epoch 37: accuracy did not improve\n"
     ]
    },
    {
     "name": "stderr",
     "output_type": "stream",
     "text": [
      "\n",
      "Training in epoch 38/150: 100%|██████████| 158/158 [03:02<00:00,  1.16s/batch]\n",
      "Validating in epoch 38/150: 100%|██████████| 40/40 [00:43<00:00,  1.09s/batch]"
     ]
    },
    {
     "name": "stdout",
     "output_type": "stream",
     "text": [
      "2022-11-02 20:52:20 [INFO]: [EvalScoreRecoder]: In epoch 38/150, loss train score: 0.03188674933058976, val score: 1.1166453897953033\n",
      "2022-11-02 20:52:20 [INFO]: [EvalScoreRecoder]: In epoch 38/150, accuracy train score: 0.9890229430379747, val score: 0.7735026041666667\n",
      "2022-11-02 20:52:20 [INFO]: [EarlyStopper]: In epoch 38/150, accuracy score: 0.7735026041666667, best accuracy score: 0.7740668402777777;accuracy score was not improved\n",
      "2022-11-02 20:52:20 [INFO]: [EarlyStopper]: Current wait count: 2, patience: 15\n",
      "2022-11-02 20:52:20 [INFO]: [ModelCheckpoint]: Checkpoint at epoch 38: accuracy did not improve\n"
     ]
    },
    {
     "name": "stderr",
     "output_type": "stream",
     "text": [
      "\n",
      "Training in epoch 39/150: 100%|██████████| 158/158 [03:00<00:00,  1.14s/batch]\n",
      "Validating in epoch 39/150: 100%|██████████| 40/40 [00:34<00:00,  1.15batch/s]"
     ]
    },
    {
     "name": "stdout",
     "output_type": "stream",
     "text": [
      "2022-11-02 20:55:55 [INFO]: [EvalScoreRecoder]: In epoch 39/150, loss train score: 0.03194842026406852, val score: 1.18597664386034\n",
      "2022-11-02 20:55:55 [INFO]: [EvalScoreRecoder]: In epoch 39/150, accuracy train score: 0.989121835443038, val score: 0.7758246527777778\n",
      "2022-11-02 20:55:55 [INFO]: [EarlyStopper]: In epoch 39/150, accuracy score: 0.7758246527777778, best accuracy score: 0.7740668402777777;update best score to 0.7758246527777778\n",
      "2022-11-02 20:55:55 [INFO]: [ModelCheckpoint]: Checkpoint at epoch 39: accuracy improved from 0.7740668402777777 to 0.7758246527777778, saving model to ../output/exp1/train.0.model_39.chk\n"
     ]
    },
    {
     "name": "stderr",
     "output_type": "stream",
     "text": [
      "\n",
      "Training in epoch 40/150: 100%|██████████| 158/158 [03:01<00:00,  1.15s/batch]\n",
      "Validating in epoch 40/150: 100%|██████████| 40/40 [00:35<00:00,  1.14batch/s]"
     ]
    },
    {
     "name": "stdout",
     "output_type": "stream",
     "text": [
      "2022-11-02 20:59:32 [INFO]: [EvalScoreRecoder]: In epoch 40/150, loss train score: 0.031283845952041506, val score: 1.1478998884558678\n",
      "2022-11-02 20:59:32 [INFO]: [EvalScoreRecoder]: In epoch 40/150, accuracy train score: 0.9905557753164557, val score: 0.7738715277777778\n",
      "2022-11-02 20:59:32 [INFO]: [EarlyStopper]: In epoch 40/150, accuracy score: 0.7738715277777778, best accuracy score: 0.7758246527777778;accuracy score was not improved\n",
      "2022-11-02 20:59:32 [INFO]: [EarlyStopper]: Current wait count: 1, patience: 15\n",
      "2022-11-02 20:59:32 [INFO]: [ModelCheckpoint]: Checkpoint at epoch 40: accuracy did not improve\n"
     ]
    },
    {
     "name": "stderr",
     "output_type": "stream",
     "text": [
      "\n",
      "Training in epoch 41/150: 100%|██████████| 158/158 [03:08<00:00,  1.20s/batch]\n",
      "Validating in epoch 41/150: 100%|██████████| 40/40 [00:35<00:00,  1.13batch/s]"
     ]
    },
    {
     "name": "stdout",
     "output_type": "stream",
     "text": [
      "2022-11-02 21:03:17 [INFO]: [EvalScoreRecoder]: In epoch 41/150, loss train score: 0.029077874751882393, val score: 1.0873920321464539\n",
      "2022-11-02 21:03:17 [INFO]: [EvalScoreRecoder]: In epoch 41/150, accuracy train score: 0.9903579905063291, val score: 0.7728732638888889\n",
      "2022-11-02 21:03:17 [INFO]: [EarlyStopper]: In epoch 41/150, accuracy score: 0.7728732638888889, best accuracy score: 0.7758246527777778;accuracy score was not improved\n",
      "2022-11-02 21:03:17 [INFO]: [EarlyStopper]: Current wait count: 2, patience: 15\n",
      "2022-11-02 21:03:17 [INFO]: [ModelCheckpoint]: Checkpoint at epoch 41: accuracy did not improve\n"
     ]
    },
    {
     "name": "stderr",
     "output_type": "stream",
     "text": [
      "\n",
      "Training in epoch 42/150:  93%|█████████▎| 147/158 [02:51<00:12,  1.14s/batch]IOPub message rate exceeded.\n",
      "The Jupyter server will temporarily stop sending output\n",
      "to the client in order to avoid crashing it.\n",
      "To change this limit, set the config variable\n",
      "`--ServerApp.iopub_msg_rate_limit`.\n",
      "\n",
      "Current values:\n",
      "ServerApp.iopub_msg_rate_limit=1000.0 (msgs/sec)\n",
      "ServerApp.rate_limit_window=3.0 (secs)\n",
      "\n",
      "Training in epoch 47/150: 100%|██████████| 158/158 [03:00<00:00,  1.14s/batch]\n",
      "Validating in epoch 47/150: 100%|██████████| 40/40 [00:36<00:00,  1.10batch/s]"
     ]
    },
    {
     "name": "stdout",
     "output_type": "stream",
     "text": [
      "2022-11-02 21:24:57 [INFO]: [EvalScoreRecoder]: In epoch 47/150, loss train score: 0.02082742741657955, val score: 1.3838070921599865\n",
      "2022-11-02 21:24:57 [INFO]: [EvalScoreRecoder]: In epoch 47/150, accuracy train score: 0.9929786392405063, val score: 0.7808159722222222\n",
      "2022-11-02 21:24:57 [INFO]: [EarlyStopper]: In epoch 47/150, accuracy score: 0.7808159722222222, best accuracy score: 0.7803385416666666;update best score to 0.7808159722222222\n",
      "2022-11-02 21:24:57 [INFO]: [ModelCheckpoint]: Checkpoint at epoch 47: accuracy improved from 0.7803385416666666 to 0.7808159722222222, saving model to ../output/exp1/train.0.model_47.chk\n"
     ]
    },
    {
     "name": "stderr",
     "output_type": "stream",
     "text": [
      "\n",
      "Training in epoch 48/150: 100%|██████████| 158/158 [03:00<00:00,  1.14s/batch]\n",
      "Validating in epoch 48/150: 100%|██████████| 40/40 [00:35<00:00,  1.13batch/s]"
     ]
    },
    {
     "name": "stdout",
     "output_type": "stream",
     "text": [
      "2022-11-02 21:28:34 [INFO]: [EvalScoreRecoder]: In epoch 48/150, loss train score: 0.02889384413388546, val score: 0.9612683102488517\n",
      "2022-11-02 21:28:34 [INFO]: [EvalScoreRecoder]: In epoch 48/150, accuracy train score: 0.9903085443037974, val score: 0.7734592013888889\n",
      "2022-11-02 21:28:34 [INFO]: [EarlyStopper]: In epoch 48/150, accuracy score: 0.7734592013888889, best accuracy score: 0.7808159722222222;accuracy score was not improved\n",
      "2022-11-02 21:28:34 [INFO]: [EarlyStopper]: Current wait count: 1, patience: 15\n",
      "2022-11-02 21:28:34 [INFO]: [ModelCheckpoint]: Checkpoint at epoch 48: accuracy did not improve\n"
     ]
    },
    {
     "name": "stderr",
     "output_type": "stream",
     "text": [
      "\n",
      "Training in epoch 49/150: 100%|██████████| 158/158 [03:01<00:00,  1.15s/batch]\n",
      "Validating in epoch 49/150: 100%|██████████| 40/40 [00:35<00:00,  1.13batch/s]"
     ]
    },
    {
     "name": "stdout",
     "output_type": "stream",
     "text": [
      "2022-11-02 21:32:11 [INFO]: [EvalScoreRecoder]: In epoch 49/150, loss train score: 0.02633659891405473, val score: 1.0132208094000816\n",
      "2022-11-02 21:32:11 [INFO]: [EvalScoreRecoder]: In epoch 49/150, accuracy train score: 0.9916435917721519, val score: 0.7766927083333334\n",
      "2022-11-02 21:32:11 [INFO]: [EarlyStopper]: In epoch 49/150, accuracy score: 0.7766927083333334, best accuracy score: 0.7808159722222222;accuracy score was not improved\n",
      "2022-11-02 21:32:11 [INFO]: [EarlyStopper]: Current wait count: 2, patience: 15\n",
      "2022-11-02 21:32:11 [INFO]: [ModelCheckpoint]: Checkpoint at epoch 49: accuracy did not improve\n"
     ]
    },
    {
     "name": "stderr",
     "output_type": "stream",
     "text": [
      "\n",
      "Training in epoch 50/150: 100%|██████████| 158/158 [03:17<00:00,  1.25s/batch]\n",
      "Validating in epoch 50/150: 100%|██████████| 40/40 [00:41<00:00,  1.04s/batch]"
     ]
    },
    {
     "name": "stdout",
     "output_type": "stream",
     "text": [
      "2022-11-02 21:36:11 [INFO]: [EvalScoreRecoder]: In epoch 50/150, loss train score: 0.02883445529981525, val score: 1.1866274721920491\n",
      "2022-11-02 21:36:11 [INFO]: [EvalScoreRecoder]: In epoch 50/150, accuracy train score: 0.9895668512658228, val score: 0.7742838541666666\n",
      "2022-11-02 21:36:11 [INFO]: [EarlyStopper]: In epoch 50/150, accuracy score: 0.7742838541666666, best accuracy score: 0.7808159722222222;accuracy score was not improved\n",
      "2022-11-02 21:36:11 [INFO]: [EarlyStopper]: Current wait count: 3, patience: 15\n",
      "2022-11-02 21:36:11 [INFO]: [ModelCheckpoint]: Checkpoint at epoch 50: accuracy did not improve\n"
     ]
    },
    {
     "name": "stderr",
     "output_type": "stream",
     "text": [
      "\n",
      "Training in epoch 51/150: 100%|██████████| 158/158 [03:01<00:00,  1.15s/batch]\n",
      "Validating in epoch 51/150: 100%|██████████| 40/40 [00:42<00:00,  1.07s/batch]"
     ]
    },
    {
     "name": "stdout",
     "output_type": "stream",
     "text": [
      "2022-11-02 21:39:55 [INFO]: [EvalScoreRecoder]: In epoch 51/150, loss train score: 0.027588216114134964, val score: 1.1204421304166317\n",
      "2022-11-02 21:39:55 [INFO]: [EvalScoreRecoder]: In epoch 51/150, accuracy train score: 0.9908524525316456, val score: 0.7810980902777778\n",
      "2022-11-02 21:39:55 [INFO]: [EarlyStopper]: In epoch 51/150, accuracy score: 0.7810980902777778, best accuracy score: 0.7808159722222222;update best score to 0.7810980902777778\n",
      "2022-11-02 21:39:55 [INFO]: [ModelCheckpoint]: Checkpoint at epoch 51: accuracy improved from 0.7808159722222222 to 0.7810980902777778, saving model to ../output/exp1/train.0.model_51.chk\n"
     ]
    },
    {
     "name": "stderr",
     "output_type": "stream",
     "text": [
      "\n",
      "Training in epoch 52/150: 100%|██████████| 158/158 [03:01<00:00,  1.15s/batch]\n",
      "Validating in epoch 52/150: 100%|██████████| 40/40 [00:35<00:00,  1.13batch/s]"
     ]
    },
    {
     "name": "stdout",
     "output_type": "stream",
     "text": [
      "2022-11-02 21:43:34 [INFO]: [EvalScoreRecoder]: In epoch 52/150, loss train score: 0.025497783972701953, val score: 1.2157721891999245\n",
      "2022-11-02 21:43:34 [INFO]: [EvalScoreRecoder]: In epoch 52/150, accuracy train score: 0.9913963607594937, val score: 0.771484375\n",
      "2022-11-02 21:43:34 [INFO]: [EarlyStopper]: In epoch 52/150, accuracy score: 0.771484375, best accuracy score: 0.7810980902777778;accuracy score was not improved\n",
      "2022-11-02 21:43:34 [INFO]: [EarlyStopper]: Current wait count: 1, patience: 15\n",
      "2022-11-02 21:43:34 [INFO]: [ModelCheckpoint]: Checkpoint at epoch 52: accuracy did not improve\n"
     ]
    },
    {
     "name": "stderr",
     "output_type": "stream",
     "text": [
      "\n",
      "Training in epoch 53/150: 100%|██████████| 158/158 [03:01<00:00,  1.15s/batch]\n",
      "Validating in epoch 53/150: 100%|██████████| 40/40 [00:35<00:00,  1.13batch/s]"
     ]
    },
    {
     "name": "stdout",
     "output_type": "stream",
     "text": [
      "2022-11-02 21:47:11 [INFO]: [EvalScoreRecoder]: In epoch 53/150, loss train score: 0.02863716697184033, val score: 1.0996858693659306\n",
      "2022-11-02 21:47:11 [INFO]: [EvalScoreRecoder]: In epoch 53/150, accuracy train score: 0.9908030063291139, val score: 0.7754340277777778\n",
      "2022-11-02 21:47:11 [INFO]: [EarlyStopper]: In epoch 53/150, accuracy score: 0.7754340277777778, best accuracy score: 0.7810980902777778;accuracy score was not improved\n",
      "2022-11-02 21:47:11 [INFO]: [EarlyStopper]: Current wait count: 2, patience: 15\n",
      "2022-11-02 21:47:11 [INFO]: [ModelCheckpoint]: Checkpoint at epoch 53: accuracy did not improve\n"
     ]
    },
    {
     "name": "stderr",
     "output_type": "stream",
     "text": [
      "\n",
      "Training in epoch 54/150: 100%|██████████| 158/158 [03:01<00:00,  1.15s/batch]\n",
      "Validating in epoch 54/150: 100%|██████████| 40/40 [00:35<00:00,  1.13batch/s]"
     ]
    },
    {
     "name": "stdout",
     "output_type": "stream",
     "text": [
      "2022-11-02 21:50:48 [INFO]: [EvalScoreRecoder]: In epoch 54/150, loss train score: 0.025592676062531815, val score: 1.1160259142518043\n",
      "2022-11-02 21:50:48 [INFO]: [EvalScoreRecoder]: In epoch 54/150, accuracy train score: 0.9911491297468354, val score: 0.7774739583333334\n",
      "2022-11-02 21:50:48 [INFO]: [EarlyStopper]: In epoch 54/150, accuracy score: 0.7774739583333334, best accuracy score: 0.7810980902777778;accuracy score was not improved\n",
      "2022-11-02 21:50:48 [INFO]: [EarlyStopper]: Current wait count: 3, patience: 15\n",
      "2022-11-02 21:50:48 [INFO]: [ModelCheckpoint]: Checkpoint at epoch 54: accuracy did not improve\n"
     ]
    },
    {
     "name": "stderr",
     "output_type": "stream",
     "text": [
      "\n",
      "Training in epoch 55/150: 100%|██████████| 158/158 [03:00<00:00,  1.14s/batch]\n",
      "Validating in epoch 55/150: 100%|██████████| 40/40 [00:35<00:00,  1.12batch/s]"
     ]
    },
    {
     "name": "stdout",
     "output_type": "stream",
     "text": [
      "2022-11-02 21:54:24 [INFO]: [EvalScoreRecoder]: In epoch 55/150, loss train score: 0.02526484735315972, val score: 1.1684910640120507\n",
      "2022-11-02 21:54:24 [INFO]: [EvalScoreRecoder]: In epoch 55/150, accuracy train score: 0.9910996835443038, val score: 0.776584201388889\n",
      "2022-11-02 21:54:24 [INFO]: [EarlyStopper]: In epoch 55/150, accuracy score: 0.776584201388889, best accuracy score: 0.7810980902777778;accuracy score was not improved\n",
      "2022-11-02 21:54:24 [INFO]: [EarlyStopper]: Current wait count: 4, patience: 15\n",
      "2022-11-02 21:54:24 [INFO]: [ModelCheckpoint]: Checkpoint at epoch 55: accuracy did not improve\n"
     ]
    },
    {
     "name": "stderr",
     "output_type": "stream",
     "text": [
      "\n",
      "Training in epoch 56/150: 100%|██████████| 158/158 [03:01<00:00,  1.15s/batch]\n",
      "Validating in epoch 56/150: 100%|██████████| 40/40 [00:35<00:00,  1.12batch/s]"
     ]
    },
    {
     "name": "stdout",
     "output_type": "stream",
     "text": [
      "2022-11-02 21:58:01 [INFO]: [EvalScoreRecoder]: In epoch 56/150, loss train score: 0.025031721382438723, val score: 1.1533129960298538\n",
      "2022-11-02 21:58:01 [INFO]: [EvalScoreRecoder]: In epoch 56/150, accuracy train score: 0.9916435917721519, val score: 0.7735460069444444\n",
      "2022-11-02 21:58:01 [INFO]: [EarlyStopper]: In epoch 56/150, accuracy score: 0.7735460069444444, best accuracy score: 0.7810980902777778;accuracy score was not improved\n",
      "2022-11-02 21:58:01 [INFO]: [EarlyStopper]: Current wait count: 5, patience: 15\n",
      "2022-11-02 21:58:01 [INFO]: [ModelCheckpoint]: Checkpoint at epoch 56: accuracy did not improve\n"
     ]
    },
    {
     "name": "stderr",
     "output_type": "stream",
     "text": [
      "\n",
      "Training in epoch 57/150: 100%|██████████| 158/158 [03:01<00:00,  1.15s/batch]\n",
      "Validating in epoch 57/150: 100%|██████████| 40/40 [00:35<00:00,  1.14batch/s]"
     ]
    },
    {
     "name": "stdout",
     "output_type": "stream",
     "text": [
      "2022-11-02 22:01:37 [INFO]: [EvalScoreRecoder]: In epoch 57/150, loss train score: 0.0266047957971474, val score: 1.149154643714428\n",
      "2022-11-02 22:01:37 [INFO]: [EvalScoreRecoder]: In epoch 57/150, accuracy train score: 0.990654667721519, val score: 0.7763888888888889\n",
      "2022-11-02 22:01:37 [INFO]: [EarlyStopper]: In epoch 57/150, accuracy score: 0.7763888888888889, best accuracy score: 0.7810980902777778;accuracy score was not improved\n",
      "2022-11-02 22:01:37 [INFO]: [EarlyStopper]: Current wait count: 6, patience: 15\n",
      "2022-11-02 22:01:37 [INFO]: [ModelCheckpoint]: Checkpoint at epoch 57: accuracy did not improve\n"
     ]
    },
    {
     "name": "stderr",
     "output_type": "stream",
     "text": [
      "\n",
      "Training in epoch 58/150: 100%|██████████| 158/158 [03:10<00:00,  1.20s/batch]\n",
      "Validating in epoch 58/150: 100%|██████████| 40/40 [00:35<00:00,  1.13batch/s]"
     ]
    },
    {
     "name": "stdout",
     "output_type": "stream",
     "text": [
      "2022-11-02 22:05:23 [INFO]: [EvalScoreRecoder]: In epoch 58/150, loss train score: 0.025142512920543203, val score: 1.0215479165315628\n",
      "2022-11-02 22:05:23 [INFO]: [EvalScoreRecoder]: In epoch 58/150, accuracy train score: 0.9918413765822784, val score: 0.782443576388889\n",
      "2022-11-02 22:05:23 [INFO]: [EarlyStopper]: In epoch 58/150, accuracy score: 0.782443576388889, best accuracy score: 0.7810980902777778;update best score to 0.782443576388889\n",
      "2022-11-02 22:05:23 [INFO]: [ModelCheckpoint]: Checkpoint at epoch 58: accuracy improved from 0.7810980902777778 to 0.782443576388889, saving model to ../output/exp1/train.0.model_58.chk\n"
     ]
    },
    {
     "name": "stderr",
     "output_type": "stream",
     "text": [
      "\n",
      "Training in epoch 59/150:  99%|█████████▉| 157/158 [03:00<00:01,  1.14s/batch]IOPub message rate exceeded.\n",
      "The Jupyter server will temporarily stop sending output\n",
      "to the client in order to avoid crashing it.\n",
      "To change this limit, set the config variable\n",
      "`--ServerApp.iopub_msg_rate_limit`.\n",
      "\n",
      "Current values:\n",
      "ServerApp.iopub_msg_rate_limit=1000.0 (msgs/sec)\n",
      "ServerApp.rate_limit_window=3.0 (secs)\n",
      "\n",
      "Validating in epoch 67/150: 100%|██████████| 40/40 [00:35<00:00,  1.12batch/s]"
     ]
    },
    {
     "name": "stdout",
     "output_type": "stream",
     "text": [
      "2022-11-02 22:37:52 [INFO]: [EvalScoreRecoder]: In epoch 67/150, loss train score: 0.02419211696441023, val score: 1.1395405888557435\n",
      "2022-11-02 22:37:52 [INFO]: [EvalScoreRecoder]: In epoch 67/150, accuracy train score: 0.9923358386075949, val score: 0.7752387152777778\n",
      "2022-11-02 22:37:52 [INFO]: [EarlyStopper]: In epoch 67/150, accuracy score: 0.7752387152777778, best accuracy score: 0.782443576388889;accuracy score was not improved\n",
      "2022-11-02 22:37:52 [INFO]: [EarlyStopper]: Current wait count: 9, patience: 15\n",
      "2022-11-02 22:37:52 [INFO]: [ModelCheckpoint]: Checkpoint at epoch 67: accuracy did not improve\n"
     ]
    },
    {
     "name": "stderr",
     "output_type": "stream",
     "text": [
      "\n",
      "Training in epoch 68/150: 100%|██████████| 158/158 [03:23<00:00,  1.29s/batch]\n",
      "Validating in epoch 68/150: 100%|██████████| 40/40 [00:35<00:00,  1.14batch/s]"
     ]
    },
    {
     "name": "stdout",
     "output_type": "stream",
     "text": [
      "2022-11-02 22:41:51 [INFO]: [EvalScoreRecoder]: In epoch 68/150, loss train score: 0.02031614842571453, val score: 1.2984227880835533\n",
      "2022-11-02 22:41:51 [INFO]: [EvalScoreRecoder]: In epoch 68/150, accuracy train score: 0.9929786392405063, val score: 0.7797092013888889\n",
      "2022-11-02 22:41:51 [INFO]: [EarlyStopper]: In epoch 68/150, accuracy score: 0.7797092013888889, best accuracy score: 0.782443576388889;accuracy score was not improved\n",
      "2022-11-02 22:41:51 [INFO]: [EarlyStopper]: Current wait count: 10, patience: 15\n",
      "2022-11-02 22:41:51 [INFO]: [ModelCheckpoint]: Checkpoint at epoch 68: accuracy did not improve\n"
     ]
    },
    {
     "name": "stderr",
     "output_type": "stream",
     "text": [
      "\n",
      "Training in epoch 69/150: 100%|██████████| 158/158 [02:59<00:00,  1.14s/batch]\n",
      "Validating in epoch 69/150: 100%|██████████| 40/40 [00:40<00:00,  1.02s/batch]"
     ]
    },
    {
     "name": "stdout",
     "output_type": "stream",
     "text": [
      "2022-11-02 22:45:31 [INFO]: [EvalScoreRecoder]: In epoch 69/150, loss train score: 0.021018037141701928, val score: 0.9965948149561882\n",
      "2022-11-02 22:45:31 [INFO]: [EvalScoreRecoder]: In epoch 69/150, accuracy train score: 0.9939181170886076, val score: 0.7724826388888889\n",
      "2022-11-02 22:45:31 [INFO]: [EarlyStopper]: In epoch 69/150, accuracy score: 0.7724826388888889, best accuracy score: 0.782443576388889;accuracy score was not improved\n",
      "2022-11-02 22:45:31 [INFO]: [EarlyStopper]: Current wait count: 11, patience: 15\n",
      "2022-11-02 22:45:31 [INFO]: [ModelCheckpoint]: Checkpoint at epoch 69: accuracy did not improve\n"
     ]
    },
    {
     "name": "stderr",
     "output_type": "stream",
     "text": [
      "\n",
      "Training in epoch 70/150: 100%|██████████| 158/158 [03:00<00:00,  1.15s/batch]\n",
      "Validating in epoch 70/150: 100%|██████████| 40/40 [00:35<00:00,  1.13batch/s]"
     ]
    },
    {
     "name": "stdout",
     "output_type": "stream",
     "text": [
      "2022-11-02 22:49:08 [INFO]: [EvalScoreRecoder]: In epoch 70/150, loss train score: 0.027703676755168723, val score: 1.1633958294987679\n",
      "2022-11-02 22:49:08 [INFO]: [EvalScoreRecoder]: In epoch 70/150, accuracy train score: 0.9905557753164557, val score: 0.778537326388889\n",
      "2022-11-02 22:49:08 [INFO]: [EarlyStopper]: In epoch 70/150, accuracy score: 0.778537326388889, best accuracy score: 0.782443576388889;accuracy score was not improved\n",
      "2022-11-02 22:49:08 [INFO]: [EarlyStopper]: Current wait count: 12, patience: 15\n",
      "2022-11-02 22:49:08 [INFO]: [ModelCheckpoint]: Checkpoint at epoch 70: accuracy did not improve\n"
     ]
    },
    {
     "name": "stderr",
     "output_type": "stream",
     "text": [
      "\n",
      "Training in epoch 71/150: 100%|██████████| 158/158 [02:59<00:00,  1.13s/batch]\n",
      "Validating in epoch 71/150: 100%|██████████| 40/40 [00:35<00:00,  1.13batch/s]"
     ]
    },
    {
     "name": "stdout",
     "output_type": "stream",
     "text": [
      "2022-11-02 22:52:42 [INFO]: [EvalScoreRecoder]: In epoch 71/150, loss train score: 0.02352055900986601, val score: 1.0043875962495803\n",
      "2022-11-02 22:52:42 [INFO]: [EvalScoreRecoder]: In epoch 71/150, accuracy train score: 0.9924841772151899, val score: 0.7852864583333334\n",
      "2022-11-02 22:52:42 [INFO]: [EarlyStopper]: In epoch 71/150, accuracy score: 0.7852864583333334, best accuracy score: 0.782443576388889;update best score to 0.7852864583333334\n",
      "2022-11-02 22:52:42 [INFO]: [ModelCheckpoint]: Checkpoint at epoch 71: accuracy improved from 0.782443576388889 to 0.7852864583333334, saving model to ../output/exp1/train.0.model_71.chk\n"
     ]
    },
    {
     "name": "stderr",
     "output_type": "stream",
     "text": [
      "\n",
      "Training in epoch 72/150: 100%|██████████| 158/158 [03:00<00:00,  1.14s/batch]\n",
      "Validating in epoch 72/150: 100%|██████████| 40/40 [00:34<00:00,  1.15batch/s]"
     ]
    },
    {
     "name": "stdout",
     "output_type": "stream",
     "text": [
      "2022-11-02 22:56:18 [INFO]: [EvalScoreRecoder]: In epoch 72/150, loss train score: 0.018670067387298515, val score: 1.3005156457424163\n",
      "2022-11-02 22:56:18 [INFO]: [EvalScoreRecoder]: In epoch 72/150, accuracy train score: 0.9939675632911392, val score: 0.7823567708333334\n",
      "2022-11-02 22:56:18 [INFO]: [EarlyStopper]: In epoch 72/150, accuracy score: 0.7823567708333334, best accuracy score: 0.7852864583333334;accuracy score was not improved\n",
      "2022-11-02 22:56:18 [INFO]: [EarlyStopper]: Current wait count: 1, patience: 15\n",
      "2022-11-02 22:56:18 [INFO]: [ModelCheckpoint]: Checkpoint at epoch 72: accuracy did not improve\n"
     ]
    },
    {
     "name": "stderr",
     "output_type": "stream",
     "text": [
      "\n",
      "Training in epoch 73/150: 100%|██████████| 158/158 [03:01<00:00,  1.15s/batch]\n",
      "Validating in epoch 73/150: 100%|██████████| 40/40 [00:35<00:00,  1.14batch/s]"
     ]
    },
    {
     "name": "stdout",
     "output_type": "stream",
     "text": [
      "2022-11-02 22:59:54 [INFO]: [EvalScoreRecoder]: In epoch 73/150, loss train score: 0.020428772158463945, val score: 1.0499268770217896\n",
      "2022-11-02 22:59:54 [INFO]: [EvalScoreRecoder]: In epoch 73/150, accuracy train score: 0.9930775316455697, val score: 0.7797092013888889\n",
      "2022-11-02 22:59:54 [INFO]: [EarlyStopper]: In epoch 73/150, accuracy score: 0.7797092013888889, best accuracy score: 0.7852864583333334;accuracy score was not improved\n",
      "2022-11-02 22:59:54 [INFO]: [EarlyStopper]: Current wait count: 2, patience: 15\n",
      "2022-11-02 22:59:54 [INFO]: [ModelCheckpoint]: Checkpoint at epoch 73: accuracy did not improve\n"
     ]
    },
    {
     "name": "stderr",
     "output_type": "stream",
     "text": [
      "\n",
      "Training in epoch 74/150: 100%|██████████| 158/158 [03:02<00:00,  1.16s/batch]\n",
      "Validating in epoch 74/150: 100%|██████████| 40/40 [00:35<00:00,  1.14batch/s]"
     ]
    },
    {
     "name": "stdout",
     "output_type": "stream",
     "text": [
      "2022-11-02 23:03:32 [INFO]: [EvalScoreRecoder]: In epoch 74/150, loss train score: 0.022666653844139604, val score: 1.0995048746466636\n",
      "2022-11-02 23:03:32 [INFO]: [EvalScoreRecoder]: In epoch 74/150, accuracy train score: 0.9924347310126582, val score: 0.779123263888889\n",
      "2022-11-02 23:03:32 [INFO]: [EarlyStopper]: In epoch 74/150, accuracy score: 0.779123263888889, best accuracy score: 0.7852864583333334;accuracy score was not improved\n",
      "2022-11-02 23:03:32 [INFO]: [EarlyStopper]: Current wait count: 3, patience: 15\n",
      "2022-11-02 23:03:32 [INFO]: [ModelCheckpoint]: Checkpoint at epoch 74: accuracy did not improve\n"
     ]
    },
    {
     "name": "stderr",
     "output_type": "stream",
     "text": [
      "\n",
      "Training in epoch 75/150:  39%|███▊      | 61/158 [01:09<01:50,  1.14s/batch]IOPub message rate exceeded.\n",
      "The Jupyter server will temporarily stop sending output\n",
      "to the client in order to avoid crashing it.\n",
      "To change this limit, set the config variable\n",
      "`--ServerApp.iopub_msg_rate_limit`.\n",
      "\n",
      "Current values:\n",
      "ServerApp.iopub_msg_rate_limit=1000.0 (msgs/sec)\n",
      "ServerApp.rate_limit_window=3.0 (secs)\n",
      "\n",
      "Training in epoch 78/150: 100%|██████████| 158/158 [03:24<00:00,  1.30s/batch]\n",
      "Validating in epoch 78/150: 100%|██████████| 40/40 [00:35<00:00,  1.13batch/s]"
     ]
    },
    {
     "name": "stdout",
     "output_type": "stream",
     "text": [
      "2022-11-02 23:18:21 [INFO]: [EvalScoreRecoder]: In epoch 78/150, loss train score: 0.022370472328889897, val score: 1.243318673968315\n",
      "2022-11-02 23:18:21 [INFO]: [EvalScoreRecoder]: In epoch 78/150, accuracy train score: 0.9919897151898734, val score: 0.7812934027777778\n",
      "2022-11-02 23:18:21 [INFO]: [EarlyStopper]: In epoch 78/150, accuracy score: 0.7812934027777778, best accuracy score: 0.7852864583333334;accuracy score was not improved\n",
      "2022-11-02 23:18:21 [INFO]: [EarlyStopper]: Current wait count: 7, patience: 15\n",
      "2022-11-02 23:18:21 [INFO]: [ModelCheckpoint]: Checkpoint at epoch 78: accuracy did not improve\n"
     ]
    },
    {
     "name": "stderr",
     "output_type": "stream",
     "text": [
      "\n",
      "Training in epoch 79/150: 100%|██████████| 158/158 [03:00<00:00,  1.14s/batch]\n",
      "Validating in epoch 79/150: 100%|██████████| 40/40 [00:36<00:00,  1.10batch/s]"
     ]
    },
    {
     "name": "stdout",
     "output_type": "stream",
     "text": [
      "2022-11-02 23:21:58 [INFO]: [EvalScoreRecoder]: In epoch 79/150, loss train score: 0.02307179546730793, val score: 0.9155364081263542\n",
      "2022-11-02 23:21:58 [INFO]: [EvalScoreRecoder]: In epoch 79/150, accuracy train score: 0.9926819620253164, val score: 0.7762152777777778\n",
      "2022-11-02 23:21:58 [INFO]: [EarlyStopper]: In epoch 79/150, accuracy score: 0.7762152777777778, best accuracy score: 0.7852864583333334;accuracy score was not improved\n",
      "2022-11-02 23:21:58 [INFO]: [EarlyStopper]: Current wait count: 8, patience: 15\n",
      "2022-11-02 23:21:58 [INFO]: [ModelCheckpoint]: Checkpoint at epoch 79: accuracy did not improve\n"
     ]
    },
    {
     "name": "stderr",
     "output_type": "stream",
     "text": [
      "\n",
      "Training in epoch 80/150: 100%|██████████| 158/158 [03:02<00:00,  1.16s/batch]\n",
      "Validating in epoch 80/150: 100%|██████████| 40/40 [00:35<00:00,  1.13batch/s]"
     ]
    },
    {
     "name": "stdout",
     "output_type": "stream",
     "text": [
      "2022-11-02 23:25:36 [INFO]: [EvalScoreRecoder]: In epoch 80/150, loss train score: 0.017398851104247378, val score: 1.2424974098801613\n",
      "2022-11-02 23:25:36 [INFO]: [EvalScoreRecoder]: In epoch 80/150, accuracy train score: 0.9940170094936709, val score: 0.7858723958333333\n",
      "2022-11-02 23:25:36 [INFO]: [EarlyStopper]: In epoch 80/150, accuracy score: 0.7858723958333333, best accuracy score: 0.7852864583333334;update best score to 0.7858723958333333\n",
      "2022-11-02 23:25:36 [INFO]: [ModelCheckpoint]: Checkpoint at epoch 80: accuracy improved from 0.7852864583333334 to 0.7858723958333333, saving model to ../output/exp1/train.0.model_80.chk\n"
     ]
    },
    {
     "name": "stderr",
     "output_type": "stream",
     "text": [
      "\n",
      "Training in epoch 81/150: 100%|██████████| 158/158 [03:01<00:00,  1.15s/batch]\n",
      "Validating in epoch 81/150: 100%|██████████| 40/40 [00:37<00:00,  1.07batch/s]"
     ]
    },
    {
     "name": "stdout",
     "output_type": "stream",
     "text": [
      "2022-11-02 23:29:15 [INFO]: [EvalScoreRecoder]: In epoch 81/150, loss train score: 0.02115193078977047, val score: 1.0729589387774467\n",
      "2022-11-02 23:29:15 [INFO]: [EvalScoreRecoder]: In epoch 81/150, accuracy train score: 0.9927314082278481, val score: 0.7826388888888889\n",
      "2022-11-02 23:29:15 [INFO]: [EarlyStopper]: In epoch 81/150, accuracy score: 0.7826388888888889, best accuracy score: 0.7858723958333333;accuracy score was not improved\n",
      "2022-11-02 23:29:15 [INFO]: [EarlyStopper]: Current wait count: 1, patience: 15\n",
      "2022-11-02 23:29:15 [INFO]: [ModelCheckpoint]: Checkpoint at epoch 81: accuracy did not improve\n"
     ]
    },
    {
     "name": "stderr",
     "output_type": "stream",
     "text": [
      "\n",
      "Training in epoch 82/150: 100%|██████████| 158/158 [03:00<00:00,  1.14s/batch]\n",
      "Validating in epoch 82/150: 100%|██████████| 40/40 [00:35<00:00,  1.13batch/s]"
     ]
    },
    {
     "name": "stdout",
     "output_type": "stream",
     "text": [
      "2022-11-02 23:32:51 [INFO]: [EvalScoreRecoder]: In epoch 82/150, loss train score: 0.023204762527838502, val score: 0.9628110021352768\n",
      "2022-11-02 23:32:51 [INFO]: [EvalScoreRecoder]: In epoch 82/150, accuracy train score: 0.9924841772151899, val score: 0.7850260416666667\n",
      "2022-11-02 23:32:51 [INFO]: [EarlyStopper]: In epoch 82/150, accuracy score: 0.7850260416666667, best accuracy score: 0.7858723958333333;accuracy score was not improved\n",
      "2022-11-02 23:32:51 [INFO]: [EarlyStopper]: Current wait count: 2, patience: 15\n",
      "2022-11-02 23:32:51 [INFO]: [ModelCheckpoint]: Checkpoint at epoch 82: accuracy did not improve\n"
     ]
    },
    {
     "name": "stderr",
     "output_type": "stream",
     "text": [
      "\n",
      "Training in epoch 83/150: 100%|██████████| 158/158 [03:15<00:00,  1.24s/batch]\n",
      "Validating in epoch 83/150: 100%|██████████| 40/40 [00:35<00:00,  1.12batch/s]"
     ]
    },
    {
     "name": "stdout",
     "output_type": "stream",
     "text": [
      "2022-11-02 23:36:42 [INFO]: [EvalScoreRecoder]: In epoch 83/150, loss train score: 0.018194536440412638, val score: 1.042625467479229\n",
      "2022-11-02 23:36:42 [INFO]: [EvalScoreRecoder]: In epoch 83/150, accuracy train score: 0.9940664556962026, val score: 0.7817925347222222\n",
      "2022-11-02 23:36:42 [INFO]: [EarlyStopper]: In epoch 83/150, accuracy score: 0.7817925347222222, best accuracy score: 0.7858723958333333;accuracy score was not improved\n",
      "2022-11-02 23:36:42 [INFO]: [EarlyStopper]: Current wait count: 3, patience: 15\n",
      "2022-11-02 23:36:42 [INFO]: [ModelCheckpoint]: Checkpoint at epoch 83: accuracy did not improve\n"
     ]
    },
    {
     "name": "stderr",
     "output_type": "stream",
     "text": [
      "\n",
      "Training in epoch 84/150: 100%|██████████| 158/158 [03:01<00:00,  1.15s/batch]\n",
      "Validating in epoch 84/150: 100%|██████████| 40/40 [00:35<00:00,  1.12batch/s]"
     ]
    },
    {
     "name": "stdout",
     "output_type": "stream",
     "text": [
      "2022-11-02 23:40:19 [INFO]: [EvalScoreRecoder]: In epoch 84/150, loss train score: 0.014051356772591745, val score: 1.263826858997345\n",
      "2022-11-02 23:40:19 [INFO]: [EvalScoreRecoder]: In epoch 84/150, accuracy train score: 0.9956487341772152, val score: 0.7787326388888889\n",
      "2022-11-02 23:40:19 [INFO]: [EarlyStopper]: In epoch 84/150, accuracy score: 0.7787326388888889, best accuracy score: 0.7858723958333333;accuracy score was not improved\n",
      "2022-11-02 23:40:19 [INFO]: [EarlyStopper]: Current wait count: 4, patience: 15\n",
      "2022-11-02 23:40:19 [INFO]: [ModelCheckpoint]: Checkpoint at epoch 84: accuracy did not improve\n"
     ]
    },
    {
     "name": "stderr",
     "output_type": "stream",
     "text": [
      "\n",
      "Training in epoch 85/150:  71%|███████   | 112/158 [02:08<00:52,  1.15s/batch]IOPub message rate exceeded.\n",
      "The Jupyter server will temporarily stop sending output\n",
      "to the client in order to avoid crashing it.\n",
      "To change this limit, set the config variable\n",
      "`--ServerApp.iopub_msg_rate_limit`.\n",
      "\n",
      "Current values:\n",
      "ServerApp.iopub_msg_rate_limit=1000.0 (msgs/sec)\n",
      "ServerApp.rate_limit_window=3.0 (secs)\n",
      "\n",
      "Training in epoch 101/150: 100%|██████████| 158/158 [03:00<00:00,  1.14s/batch]\n",
      "Validating in epoch 101/150: 100%|██████████| 40/40 [00:35<00:00,  1.14batch/s]"
     ]
    },
    {
     "name": "stdout",
     "output_type": "stream",
     "text": [
      "2022-11-03 00:41:48 [INFO]: [EvalScoreRecoder]: In epoch 101/150, loss train score: 0.02110529052543261, val score: 1.2939698114991187\n",
      "2022-11-03 00:41:48 [INFO]: [EvalScoreRecoder]: In epoch 101/150, accuracy train score: 0.9932258702531646, val score: 0.7820746527777778\n",
      "2022-11-03 00:41:48 [INFO]: [EarlyStopper]: In epoch 101/150, accuracy score: 0.7820746527777778, best accuracy score: 0.7919270833333334;accuracy score was not improved\n",
      "2022-11-03 00:41:48 [INFO]: [EarlyStopper]: Current wait count: 6, patience: 15\n",
      "2022-11-03 00:41:48 [INFO]: [ModelCheckpoint]: Checkpoint at epoch 101: accuracy did not improve\n"
     ]
    },
    {
     "name": "stderr",
     "output_type": "stream",
     "text": [
      "\n",
      "Training in epoch 102/150: 100%|██████████| 158/158 [03:00<00:00,  1.14s/batch]\n",
      "Validating in epoch 102/150: 100%|██████████| 40/40 [00:35<00:00,  1.13batch/s]"
     ]
    },
    {
     "name": "stdout",
     "output_type": "stream",
     "text": [
      "2022-11-03 00:45:24 [INFO]: [EvalScoreRecoder]: In epoch 102/150, loss train score: 0.023203400474651775, val score: 1.0423149034380912\n",
      "2022-11-03 00:45:24 [INFO]: [EvalScoreRecoder]: In epoch 102/150, accuracy train score: 0.9928303006329114, val score: 0.7831163194444445\n",
      "2022-11-03 00:45:24 [INFO]: [EarlyStopper]: In epoch 102/150, accuracy score: 0.7831163194444445, best accuracy score: 0.7919270833333334;accuracy score was not improved\n",
      "2022-11-03 00:45:24 [INFO]: [EarlyStopper]: Current wait count: 7, patience: 15\n",
      "2022-11-03 00:45:24 [INFO]: [ModelCheckpoint]: Checkpoint at epoch 102: accuracy did not improve\n"
     ]
    },
    {
     "name": "stderr",
     "output_type": "stream",
     "text": [
      "\n",
      "Training in epoch 103/150: 100%|██████████| 158/158 [03:03<00:00,  1.16s/batch]\n",
      "Validating in epoch 103/150: 100%|██████████| 40/40 [00:35<00:00,  1.13batch/s]"
     ]
    },
    {
     "name": "stdout",
     "output_type": "stream",
     "text": [
      "2022-11-03 00:49:02 [INFO]: [EvalScoreRecoder]: In epoch 103/150, loss train score: 0.021937802166875475, val score: 1.1286996394395827\n",
      "2022-11-03 00:49:02 [INFO]: [EvalScoreRecoder]: In epoch 103/150, accuracy train score: 0.9924347310126582, val score: 0.7799913194444444\n",
      "2022-11-03 00:49:02 [INFO]: [EarlyStopper]: In epoch 103/150, accuracy score: 0.7799913194444444, best accuracy score: 0.7919270833333334;accuracy score was not improved\n",
      "2022-11-03 00:49:02 [INFO]: [EarlyStopper]: Current wait count: 8, patience: 15\n",
      "2022-11-03 00:49:02 [INFO]: [ModelCheckpoint]: Checkpoint at epoch 103: accuracy did not improve\n"
     ]
    },
    {
     "name": "stderr",
     "output_type": "stream",
     "text": [
      "\n",
      "Training in epoch 104/150: 100%|██████████| 158/158 [02:59<00:00,  1.13s/batch]\n",
      "Validating in epoch 104/150: 100%|██████████| 40/40 [00:35<00:00,  1.12batch/s]"
     ]
    },
    {
     "name": "stdout",
     "output_type": "stream",
     "text": [
      "2022-11-03 00:52:37 [INFO]: [EvalScoreRecoder]: In epoch 104/150, loss train score: 0.013191645210122548, val score: 1.292649681866169\n",
      "2022-11-03 00:52:37 [INFO]: [EvalScoreRecoder]: In epoch 104/150, accuracy train score: 0.9958465189873418, val score: 0.7833984375\n",
      "2022-11-03 00:52:37 [INFO]: [EarlyStopper]: In epoch 104/150, accuracy score: 0.7833984375, best accuracy score: 0.7919270833333334;accuracy score was not improved\n",
      "2022-11-03 00:52:37 [INFO]: [EarlyStopper]: Current wait count: 9, patience: 15\n",
      "2022-11-03 00:52:37 [INFO]: [ModelCheckpoint]: Checkpoint at epoch 104: accuracy did not improve\n"
     ]
    },
    {
     "name": "stderr",
     "output_type": "stream",
     "text": [
      "\n",
      "Training in epoch 105/150: 100%|██████████| 158/158 [03:00<00:00,  1.14s/batch]\n",
      "Validating in epoch 105/150: 100%|██████████| 40/40 [00:37<00:00,  1.08batch/s]"
     ]
    },
    {
     "name": "stdout",
     "output_type": "stream",
     "text": [
      "2022-11-03 00:56:15 [INFO]: [EvalScoreRecoder]: In epoch 105/150, loss train score: 0.018344059922876826, val score: 1.1786513537168504\n",
      "2022-11-03 00:56:15 [INFO]: [EvalScoreRecoder]: In epoch 105/150, accuracy train score: 0.9935719936708861, val score: 0.7851996527777778\n",
      "2022-11-03 00:56:15 [INFO]: [EarlyStopper]: In epoch 105/150, accuracy score: 0.7851996527777778, best accuracy score: 0.7919270833333334;accuracy score was not improved\n",
      "2022-11-03 00:56:15 [INFO]: [EarlyStopper]: Current wait count: 10, patience: 15\n",
      "2022-11-03 00:56:15 [INFO]: [ModelCheckpoint]: Checkpoint at epoch 105: accuracy did not improve\n"
     ]
    },
    {
     "name": "stderr",
     "output_type": "stream",
     "text": [
      "\n",
      "Training in epoch 106/150: 100%|██████████| 158/158 [03:20<00:00,  1.27s/batch]\n",
      "Validating in epoch 106/150: 100%|██████████| 40/40 [00:35<00:00,  1.13batch/s]"
     ]
    },
    {
     "name": "stdout",
     "output_type": "stream",
     "text": [
      "2022-11-03 01:00:11 [INFO]: [EvalScoreRecoder]: In epoch 106/150, loss train score: 0.019756200026147527, val score: 1.0976602435112\n",
      "2022-11-03 01:00:11 [INFO]: [EvalScoreRecoder]: In epoch 106/150, accuracy train score: 0.9936214398734177, val score: 0.7810546875\n",
      "2022-11-03 01:00:11 [INFO]: [EarlyStopper]: In epoch 106/150, accuracy score: 0.7810546875, best accuracy score: 0.7919270833333334;accuracy score was not improved\n",
      "2022-11-03 01:00:11 [INFO]: [EarlyStopper]: Current wait count: 11, patience: 15\n",
      "2022-11-03 01:00:11 [INFO]: [ModelCheckpoint]: Checkpoint at epoch 106: accuracy did not improve\n"
     ]
    },
    {
     "name": "stderr",
     "output_type": "stream",
     "text": [
      "\n",
      "Training in epoch 107/150: 100%|██████████| 158/158 [03:03<00:00,  1.16s/batch]\n",
      "Validating in epoch 107/150: 100%|██████████| 40/40 [00:36<00:00,  1.11batch/s]"
     ]
    },
    {
     "name": "stdout",
     "output_type": "stream",
     "text": [
      "2022-11-03 01:03:50 [INFO]: [EvalScoreRecoder]: In epoch 107/150, loss train score: 0.014321437308526468, val score: 1.0604950189590454\n",
      "2022-11-03 01:03:50 [INFO]: [EvalScoreRecoder]: In epoch 107/150, accuracy train score: 0.9956487341772152, val score: 0.784396701388889\n",
      "2022-11-03 01:03:50 [INFO]: [EarlyStopper]: In epoch 107/150, accuracy score: 0.784396701388889, best accuracy score: 0.7919270833333334;accuracy score was not improved\n",
      "2022-11-03 01:03:50 [INFO]: [EarlyStopper]: Current wait count: 12, patience: 15\n",
      "2022-11-03 01:03:50 [INFO]: [ModelCheckpoint]: Checkpoint at epoch 107: accuracy did not improve\n"
     ]
    },
    {
     "name": "stderr",
     "output_type": "stream",
     "text": [
      "\n",
      "Training in epoch 108/150:  73%|███████▎  | 116/158 [02:19<00:49,  1.18s/batch]IOPub message rate exceeded.\n",
      "The Jupyter server will temporarily stop sending output\n",
      "to the client in order to avoid crashing it.\n",
      "To change this limit, set the config variable\n",
      "`--ServerApp.iopub_msg_rate_limit`.\n",
      "\n",
      "Current values:\n",
      "ServerApp.iopub_msg_rate_limit=1000.0 (msgs/sec)\n",
      "ServerApp.rate_limit_window=3.0 (secs)\n",
      "\n",
      "Training in epoch 110/150: 100%|██████████| 158/158 [03:03<00:00,  1.16s/batch]\n",
      "Training in epoch 111/150: 100%|██████████| 158/158 [03:03<00:00,  1.16s/batch]\n",
      "Validating in epoch 111/150: 100%|██████████| 40/40 [00:37<00:00,  1.08batch/s]"
     ]
    },
    {
     "name": "stdout",
     "output_type": "stream",
     "text": [
      "2022-11-03 01:18:36 [INFO]: [EvalScoreRecoder]: In epoch 111/150, loss train score: 0.016900313690988513, val score: 1.1418070435523986\n",
      "2022-11-03 01:18:36 [INFO]: [EvalScoreRecoder]: In epoch 111/150, accuracy train score: 0.9948081487341772, val score: 0.7865668402777778\n",
      "2022-11-03 01:18:36 [INFO]: [EarlyStopper]: In epoch 111/150, accuracy score: 0.7865668402777778, best accuracy score: 0.7932074652777777;accuracy score was not improved\n",
      "2022-11-03 01:18:36 [INFO]: [EarlyStopper]: Current wait count: 1, patience: 15\n",
      "2022-11-03 01:18:36 [INFO]: [ModelCheckpoint]: Checkpoint at epoch 111: accuracy did not improve\n"
     ]
    },
    {
     "name": "stderr",
     "output_type": "stream",
     "text": [
      "\n",
      "Training in epoch 112/150: 100%|██████████| 158/158 [03:03<00:00,  1.16s/batch]\n",
      "Validating in epoch 112/150: 100%|██████████| 40/40 [00:35<00:00,  1.12batch/s]"
     ]
    },
    {
     "name": "stdout",
     "output_type": "stream",
     "text": [
      "2022-11-03 01:22:15 [INFO]: [EvalScoreRecoder]: In epoch 112/150, loss train score: 0.02141463068900394, val score: 0.9555156603455544\n",
      "2022-11-03 01:22:15 [INFO]: [EvalScoreRecoder]: In epoch 112/150, accuracy train score: 0.9923852848101266, val score: 0.7878038194444444\n",
      "2022-11-03 01:22:15 [INFO]: [EarlyStopper]: In epoch 112/150, accuracy score: 0.7878038194444444, best accuracy score: 0.7932074652777777;accuracy score was not improved\n",
      "2022-11-03 01:22:15 [INFO]: [EarlyStopper]: Current wait count: 2, patience: 15\n",
      "2022-11-03 01:22:15 [INFO]: [ModelCheckpoint]: Checkpoint at epoch 112: accuracy did not improve\n"
     ]
    },
    {
     "name": "stderr",
     "output_type": "stream",
     "text": [
      "\n",
      "Training in epoch 113/150: 100%|██████████| 158/158 [03:01<00:00,  1.15s/batch]\n",
      "Validating in epoch 113/150: 100%|██████████| 40/40 [00:37<00:00,  1.08batch/s]"
     ]
    },
    {
     "name": "stdout",
     "output_type": "stream",
     "text": [
      "2022-11-03 01:25:53 [INFO]: [EvalScoreRecoder]: In epoch 113/150, loss train score: 0.015510334330831972, val score: 1.1207526907324792\n",
      "2022-11-03 01:25:53 [INFO]: [EvalScoreRecoder]: In epoch 113/150, accuracy train score: 0.9950059335443038, val score: 0.7916015625\n",
      "2022-11-03 01:25:53 [INFO]: [EarlyStopper]: In epoch 113/150, accuracy score: 0.7916015625, best accuracy score: 0.7932074652777777;accuracy score was not improved\n",
      "2022-11-03 01:25:53 [INFO]: [EarlyStopper]: Current wait count: 3, patience: 15\n",
      "2022-11-03 01:25:53 [INFO]: [ModelCheckpoint]: Checkpoint at epoch 113: accuracy did not improve\n"
     ]
    },
    {
     "name": "stderr",
     "output_type": "stream",
     "text": [
      "\n",
      "Training in epoch 114/150: 100%|██████████| 158/158 [03:15<00:00,  1.24s/batch]\n",
      "Validating in epoch 114/150: 100%|██████████| 40/40 [00:35<00:00,  1.13batch/s]"
     ]
    },
    {
     "name": "stdout",
     "output_type": "stream",
     "text": [
      "2022-11-03 01:29:44 [INFO]: [EvalScoreRecoder]: In epoch 114/150, loss train score: 0.02128435188003291, val score: 1.001487585902214\n",
      "2022-11-03 01:29:44 [INFO]: [EvalScoreRecoder]: In epoch 114/150, accuracy train score: 0.9928303006329114, val score: 0.783203125\n",
      "2022-11-03 01:29:44 [INFO]: [EarlyStopper]: In epoch 114/150, accuracy score: 0.783203125, best accuracy score: 0.7932074652777777;accuracy score was not improved\n",
      "2022-11-03 01:29:44 [INFO]: [EarlyStopper]: Current wait count: 4, patience: 15\n",
      "2022-11-03 01:29:44 [INFO]: [ModelCheckpoint]: Checkpoint at epoch 114: accuracy did not improve\n"
     ]
    },
    {
     "name": "stderr",
     "output_type": "stream",
     "text": [
      "\n",
      "Training in epoch 115/150: 100%|██████████| 158/158 [03:01<00:00,  1.15s/batch]\n",
      "Validating in epoch 115/150: 100%|██████████| 40/40 [00:35<00:00,  1.14batch/s]"
     ]
    },
    {
     "name": "stdout",
     "output_type": "stream",
     "text": [
      "2022-11-03 01:33:21 [INFO]: [EvalScoreRecoder]: In epoch 115/150, loss train score: 0.012399005877974744, val score: 1.443542468547821\n",
      "2022-11-03 01:33:21 [INFO]: [EvalScoreRecoder]: In epoch 115/150, accuracy train score: 0.9959454113924051, val score: 0.7748046875\n",
      "2022-11-03 01:33:21 [INFO]: [EarlyStopper]: In epoch 115/150, accuracy score: 0.7748046875, best accuracy score: 0.7932074652777777;accuracy score was not improved\n",
      "2022-11-03 01:33:21 [INFO]: [EarlyStopper]: Current wait count: 5, patience: 15\n",
      "2022-11-03 01:33:21 [INFO]: [ModelCheckpoint]: Checkpoint at epoch 115: accuracy did not improve\n"
     ]
    },
    {
     "name": "stderr",
     "output_type": "stream",
     "text": [
      "\n",
      "Training in epoch 116/150: 100%|██████████| 158/158 [03:01<00:00,  1.15s/batch]\n",
      "Validating in epoch 116/150: 100%|██████████| 40/40 [00:35<00:00,  1.13batch/s]"
     ]
    },
    {
     "name": "stdout",
     "output_type": "stream",
     "text": [
      "2022-11-03 01:36:57 [INFO]: [EvalScoreRecoder]: In epoch 116/150, loss train score: 0.016219604600797837, val score: 1.07050162255764\n",
      "2022-11-03 01:36:57 [INFO]: [EvalScoreRecoder]: In epoch 116/150, accuracy train score: 0.9949564873417721, val score: 0.7797743055555555\n",
      "2022-11-03 01:36:57 [INFO]: [EarlyStopper]: In epoch 116/150, accuracy score: 0.7797743055555555, best accuracy score: 0.7932074652777777;accuracy score was not improved\n",
      "2022-11-03 01:36:57 [INFO]: [EarlyStopper]: Current wait count: 6, patience: 15\n",
      "2022-11-03 01:36:57 [INFO]: [ModelCheckpoint]: Checkpoint at epoch 116: accuracy did not improve\n"
     ]
    },
    {
     "name": "stderr",
     "output_type": "stream",
     "text": [
      "\n",
      "Training in epoch 117/150: 100%|██████████| 158/158 [03:24<00:00,  1.29s/batch]\n",
      "Validating in epoch 117/150: 100%|██████████| 40/40 [00:44<00:00,  1.12s/batch]"
     ]
    },
    {
     "name": "stdout",
     "output_type": "stream",
     "text": [
      "2022-11-03 01:41:06 [INFO]: [EvalScoreRecoder]: In epoch 117/150, loss train score: 0.01538566121338521, val score: 1.2943692564964295\n",
      "2022-11-03 01:41:06 [INFO]: [EvalScoreRecoder]: In epoch 117/150, accuracy train score: 0.9952037183544303, val score: 0.7850694444444445\n",
      "2022-11-03 01:41:06 [INFO]: [EarlyStopper]: In epoch 117/150, accuracy score: 0.7850694444444445, best accuracy score: 0.7932074652777777;accuracy score was not improved\n",
      "2022-11-03 01:41:06 [INFO]: [EarlyStopper]: Current wait count: 7, patience: 15\n",
      "2022-11-03 01:41:06 [INFO]: [ModelCheckpoint]: Checkpoint at epoch 117: accuracy did not improve\n"
     ]
    },
    {
     "name": "stderr",
     "output_type": "stream",
     "text": [
      "\n",
      "Training in epoch 118/150:  78%|███████▊  | 123/158 [02:21<00:39,  1.14s/batch]IOPub message rate exceeded.\n",
      "The Jupyter server will temporarily stop sending output\n",
      "to the client in order to avoid crashing it.\n",
      "To change this limit, set the config variable\n",
      "`--ServerApp.iopub_msg_rate_limit`.\n",
      "\n",
      "Current values:\n",
      "ServerApp.iopub_msg_rate_limit=1000.0 (msgs/sec)\n",
      "ServerApp.rate_limit_window=3.0 (secs)\n",
      "\n",
      "Training in epoch 2/100: 100%|██████████| 617/617 [10:37<00:00,  1.03s/batch]\n",
      "Validating in epoch 2/100: 100%|██████████| 155/155 [02:15<00:00,  1.15batch/s]"
     ]
    },
    {
     "name": "stdout",
     "output_type": "stream",
     "text": [
      "2022-11-03 02:49:37 [INFO]: [EvalScoreRecoder]: In epoch 2/100, loss train score: 0.17243548847204362, val score: 0.31694018283197956\n",
      "2022-11-03 02:49:37 [INFO]: [EvalScoreRecoder]: In epoch 2/100, accuracy train score: 0.9327897082658023, val score: 0.8842237903225807\n",
      "2022-11-03 02:49:37 [INFO]: [EarlyStopper]: In epoch 2/100, accuracy score: 0.8842237903225807, best accuracy score: 0.8753528225806452;update best score to 0.8842237903225807\n",
      "2022-11-03 02:49:37 [INFO]: [ModelCheckpoint]: Checkpoint at epoch 2: accuracy improved from 0.8753528225806452 to 0.8842237903225807, saving model to ../output/exp1/train.1.model_2.chk\n"
     ]
    },
    {
     "name": "stderr",
     "output_type": "stream",
     "text": [
      "\n",
      "Training in epoch 5/100: 100%|██████████| 617/617 [10:34<00:00,  1.03s/batch]\n",
      "Validating in epoch 5/100: 100%|██████████| 155/155 [02:15<00:00,  1.14batch/s]"
     ]
    },
    {
     "name": "stdout",
     "output_type": "stream",
     "text": [
      "2022-11-03 03:28:37 [INFO]: [EvalScoreRecoder]: In epoch 5/100, loss train score: 0.0746402987971452, val score: 0.3559856788285317\n",
      "2022-11-03 03:28:37 [INFO]: [EvalScoreRecoder]: In epoch 5/100, accuracy train score: 0.9723460291734197, val score: 0.9108366935483871\n",
      "2022-11-03 03:28:37 [INFO]: [EarlyStopper]: In epoch 5/100, accuracy score: 0.9108366935483871, best accuracy score: 0.9015625;update best score to 0.9108366935483871\n",
      "2022-11-03 03:28:37 [INFO]: [ModelCheckpoint]: Checkpoint at epoch 5: accuracy improved from 0.9015625 to 0.9108366935483871, saving model to ../output/exp1/train.1.model_5.chk\n"
     ]
    },
    {
     "name": "stderr",
     "output_type": "stream",
     "text": [
      "\n",
      "Training in epoch 6/100: 100%|██████████| 617/617 [10:39<00:00,  1.04s/batch]\n",
      "Validating in epoch 6/100: 100%|██████████| 155/155 [02:16<00:00,  1.53batch/s]IOPub message rate exceeded.\n",
      "The Jupyter server will temporarily stop sending output\n",
      "to the client in order to avoid crashing it.\n",
      "To change this limit, set the config variable\n",
      "`--ServerApp.iopub_msg_rate_limit`.\n",
      "\n",
      "Current values:\n",
      "ServerApp.iopub_msg_rate_limit=1000.0 (msgs/sec)\n",
      "ServerApp.rate_limit_window=3.0 (secs)\n",
      "\n",
      "Training in epoch 10/100: 100%|██████████| 617/617 [10:36<00:00,  1.03s/batch]\n",
      "Validating in epoch 10/100: 100%|██████████| 155/155 [02:15<00:00,  1.14batch/s]"
     ]
    },
    {
     "name": "stdout",
     "output_type": "stream",
     "text": [
      "2022-11-03 04:32:59 [INFO]: [EvalScoreRecoder]: In epoch 10/100, loss train score: 0.05072753419338294, val score: 0.25245470361363503\n",
      "2022-11-03 04:32:59 [INFO]: [EvalScoreRecoder]: In epoch 10/100, accuracy train score: 0.9815766815235009, val score: 0.9284274193548387\n",
      "2022-11-03 04:32:59 [INFO]: [EarlyStopper]: In epoch 10/100, accuracy score: 0.9284274193548387, best accuracy score: 0.9329133064516129;accuracy score was not improved\n",
      "2022-11-03 04:32:59 [INFO]: [EarlyStopper]: Current wait count: 4, patience: 10\n",
      "2022-11-03 04:32:59 [INFO]: [ModelCheckpoint]: Checkpoint at epoch 10: accuracy did not improve\n"
     ]
    },
    {
     "name": "stderr",
     "output_type": "stream",
     "text": [
      "\n",
      "Training in epoch 14/100: 100%|██████████| 617/617 [10:34<00:00,  1.03s/batch]\n",
      "Validating in epoch 14/100: 100%|██████████| 155/155 [02:15<00:00,  1.15batch/s]"
     ]
    },
    {
     "name": "stdout",
     "output_type": "stream",
     "text": [
      "2022-11-03 05:25:58 [INFO]: [EvalScoreRecoder]: In epoch 14/100, loss train score: 0.04095885520260381, val score: 0.25195933798245423\n",
      "2022-11-03 05:25:58 [INFO]: [EvalScoreRecoder]: In epoch 14/100, accuracy train score: 0.9853373176661264, val score: 0.9237903225806452\n",
      "2022-11-03 05:25:58 [INFO]: [EarlyStopper]: In epoch 14/100, accuracy score: 0.9237903225806452, best accuracy score: 0.9329133064516129;accuracy score was not improved\n",
      "2022-11-03 05:25:58 [INFO]: [EarlyStopper]: Current wait count: 8, patience: 10\n",
      "2022-11-03 05:25:58 [INFO]: [ModelCheckpoint]: Checkpoint at epoch 14: accuracy did not improve\n"
     ]
    },
    {
     "name": "stderr",
     "output_type": "stream",
     "text": [
      "\n",
      "Training in epoch 15/100: 100%|██████████| 617/617 [11:20<00:00,  1.10s/batch]\n",
      "Validating in epoch 15/100: 100%|██████████| 155/155 [02:14<00:00,  1.15batch/s]"
     ]
    },
    {
     "name": "stdout",
     "output_type": "stream",
     "text": [
      "2022-11-03 05:39:33 [INFO]: [EvalScoreRecoder]: In epoch 15/100, loss train score: 0.0416536256299253, val score: 0.19246296138472616\n",
      "2022-11-03 05:39:33 [INFO]: [EvalScoreRecoder]: In epoch 15/100, accuracy train score: 0.9850840761750406, val score: 0.9359375\n",
      "2022-11-03 05:39:33 [INFO]: [EarlyStopper]: In epoch 15/100, accuracy score: 0.9359375, best accuracy score: 0.9329133064516129;update best score to 0.9359375\n",
      "2022-11-03 05:39:33 [INFO]: [ModelCheckpoint]: Checkpoint at epoch 15: accuracy improved from 0.9329133064516129 to 0.9359375, saving model to ../output/exp1/train.1.model_15.chk\n"
     ]
    },
    {
     "name": "stderr",
     "output_type": "stream",
     "text": [
      "\n",
      "Training in epoch 16/100:  32%|███▏      | 198/617 [03:22<07:07,  1.02s/batch]IOPub message rate exceeded.\n",
      "The Jupyter server will temporarily stop sending output\n",
      "to the client in order to avoid crashing it.\n",
      "To change this limit, set the config variable\n",
      "`--ServerApp.iopub_msg_rate_limit`.\n",
      "\n",
      "Current values:\n",
      "ServerApp.iopub_msg_rate_limit=1000.0 (msgs/sec)\n",
      "ServerApp.rate_limit_window=3.0 (secs)\n",
      "\n",
      "Training in epoch 23/100: 100%|██████████| 617/617 [10:35<00:00,  1.03s/batch]\n",
      "Validating in epoch 23/100: 100%|██████████| 155/155 [02:16<00:00,  1.14batch/s]"
     ]
    },
    {
     "name": "stdout",
     "output_type": "stream",
     "text": [
      "2022-11-03 07:26:03 [INFO]: [EvalScoreRecoder]: In epoch 23/100, loss train score: 0.030430889136391043, val score: 0.2811460524316757\n",
      "2022-11-03 07:26:03 [INFO]: [EvalScoreRecoder]: In epoch 23/100, accuracy train score: 0.989401843598055, val score: 0.929133064516129\n",
      "2022-11-03 07:26:03 [INFO]: [EarlyStopper]: In epoch 23/100, accuracy score: 0.929133064516129, best accuracy score: 0.9359375;accuracy score was not improved\n",
      "2022-11-03 07:26:03 [INFO]: [EarlyStopper]: Current wait count: 8, patience: 10\n",
      "2022-11-03 07:26:03 [INFO]: [ModelCheckpoint]: Checkpoint at epoch 23: accuracy did not improve\n"
     ]
    },
    {
     "name": "stderr",
     "output_type": "stream",
     "text": [
      "\n",
      "Training in epoch 24/100: 100%|██████████| 617/617 [10:37<00:00,  1.03s/batch]\n",
      "Validating in epoch 24/100: 100%|██████████| 155/155 [02:14<00:00,  1.15batch/s]"
     ]
    },
    {
     "name": "stdout",
     "output_type": "stream",
     "text": [
      "2022-11-03 07:38:56 [INFO]: [EvalScoreRecoder]: In epoch 24/100, loss train score: 0.03019492682912938, val score: 0.2655532977033046\n",
      "2022-11-03 07:38:56 [INFO]: [EvalScoreRecoder]: In epoch 24/100, accuracy train score: 0.9896424230145867, val score: 0.9340221774193549\n",
      "2022-11-03 07:38:56 [INFO]: [EarlyStopper]: In epoch 24/100, accuracy score: 0.9340221774193549, best accuracy score: 0.9359375;accuracy score was not improved\n",
      "2022-11-03 07:38:56 [INFO]: [EarlyStopper]: Current wait count: 9, patience: 10\n",
      "2022-11-03 07:38:56 [INFO]: [ModelCheckpoint]: Checkpoint at epoch 24: accuracy did not improve\n"
     ]
    },
    {
     "name": "stderr",
     "output_type": "stream",
     "text": [
      "\n",
      "Training in epoch 25/100:  39%|███▉      | 241/617 [04:45<07:52,  1.26s/batch]IOPub message rate exceeded.\n",
      "The Jupyter server will temporarily stop sending output\n",
      "to the client in order to avoid crashing it.\n",
      "To change this limit, set the config variable\n",
      "`--ServerApp.iopub_msg_rate_limit`.\n",
      "\n",
      "Current values:\n",
      "ServerApp.iopub_msg_rate_limit=1000.0 (msgs/sec)\n",
      "ServerApp.rate_limit_window=3.0 (secs)\n",
      "\n",
      "Training in epoch 13/150: 100%|██████████| 158/158 [03:00<00:00,  1.14s/batch]\n",
      "Validating in epoch 13/150: 100%|██████████| 40/40 [00:35<00:00,  1.13batch/s]"
     ]
    },
    {
     "name": "stdout",
     "output_type": "stream",
     "text": [
      "2022-11-03 08:45:55 [INFO]: [EvalScoreRecoder]: In epoch 13/150, loss train score: 0.06882349449825839, val score: 1.0626728862524033\n",
      "2022-11-03 08:45:55 [INFO]: [EvalScoreRecoder]: In epoch 13/150, accuracy train score: 0.9748318829113924, val score: 0.7489800347222222\n",
      "2022-11-03 08:45:55 [INFO]: [EarlyStopper]: In epoch 13/150, accuracy score: 0.7489800347222222, best accuracy score: 0.7465494791666666;update best score to 0.7489800347222222\n",
      "2022-11-03 08:45:55 [INFO]: [ModelCheckpoint]: Checkpoint at epoch 13: accuracy improved from 0.7465494791666666 to 0.7489800347222222, saving model to ../output/exp1/train.0.model_13.chk\n"
     ]
    },
    {
     "name": "stderr",
     "output_type": "stream",
     "text": [
      "\n",
      "Training in epoch 14/150: 100%|██████████| 158/158 [03:00<00:00,  1.14s/batch]\n",
      "Training in epoch 23/150: 100%|██████████| 158/158 [03:00<00:00,  1.14s/batch]\n",
      "Validating in epoch 23/150: 100%|██████████| 40/40 [00:35<00:00,  1.13batch/s]"
     ]
    },
    {
     "name": "stdout",
     "output_type": "stream",
     "text": [
      "2022-11-03 09:22:32 [INFO]: [EvalScoreRecoder]: In epoch 23/150, loss train score: 0.03415677516538461, val score: 1.059146523475647\n",
      "2022-11-03 09:22:32 [INFO]: [EvalScoreRecoder]: In epoch 23/150, accuracy train score: 0.9880340189873418, val score: 0.7670572916666666\n",
      "2022-11-03 09:22:32 [INFO]: [EarlyStopper]: In epoch 23/150, accuracy score: 0.7670572916666666, best accuracy score: 0.7669053819444445;update best score to 0.7670572916666666\n",
      "2022-11-03 09:22:32 [INFO]: [ModelCheckpoint]: Checkpoint at epoch 23: accuracy improved from 0.7669053819444445 to 0.7670572916666666, saving model to ../output/exp1/train.0.model_23.chk\n"
     ]
    },
    {
     "name": "stderr",
     "output_type": "stream",
     "text": [
      "\n",
      "Training in epoch 24/150: 100%|██████████| 158/158 [03:02<00:00,  1.16s/batch]\n",
      "Validating in epoch 24/150: 100%|██████████| 40/40 [00:35<00:00,  1.14batch/s]"
     ]
    },
    {
     "name": "stdout",
     "output_type": "stream",
     "text": [
      "2022-11-03 09:26:11 [INFO]: [EvalScoreRecoder]: In epoch 24/150, loss train score: 0.03570098919120523, val score: 1.149928717315197\n",
      "2022-11-03 09:26:11 [INFO]: [EvalScoreRecoder]: In epoch 24/150, accuracy train score: 0.9879351265822784, val score: 0.7608072916666666\n",
      "2022-11-03 09:26:11 [INFO]: [EarlyStopper]: In epoch 24/150, accuracy score: 0.7608072916666666, best accuracy score: 0.7670572916666666;accuracy score was not improved\n",
      "2022-11-03 09:26:11 [INFO]: [EarlyStopper]: Current wait count: 1, patience: 15\n",
      "2022-11-03 09:26:11 [INFO]: [ModelCheckpoint]: Checkpoint at epoch 24: accuracy did not improve\n"
     ]
    },
    {
     "name": "stderr",
     "output_type": "stream",
     "text": [
      "\n",
      "Training in epoch 25/150: 100%|██████████| 158/158 [03:01<00:00,  1.15s/batch]\n",
      "Validating in epoch 25/150: 100%|██████████| 40/40 [00:35<00:00,  1.12batch/s]"
     ]
    },
    {
     "name": "stdout",
     "output_type": "stream",
     "text": [
      "2022-11-03 09:29:48 [INFO]: [EvalScoreRecoder]: In epoch 25/150, loss train score: 0.037890843182796306, val score: 1.1585058704018594\n",
      "2022-11-03 09:29:48 [INFO]: [EvalScoreRecoder]: In epoch 25/150, accuracy train score: 0.9857100474683544, val score: 0.7643446180555555\n",
      "2022-11-03 09:29:48 [INFO]: [EarlyStopper]: In epoch 25/150, accuracy score: 0.7643446180555555, best accuracy score: 0.7670572916666666;accuracy score was not improved\n",
      "2022-11-03 09:29:48 [INFO]: [EarlyStopper]: Current wait count: 2, patience: 15\n",
      "2022-11-03 09:29:48 [INFO]: [ModelCheckpoint]: Checkpoint at epoch 25: accuracy did not improve\n"
     ]
    },
    {
     "name": "stderr",
     "output_type": "stream",
     "text": [
      "\n",
      "Training in epoch 26/150: 100%|██████████| 158/158 [03:01<00:00,  1.15s/batch]\n",
      "Validating in epoch 26/150: 100%|██████████| 40/40 [00:35<00:00,  1.12batch/s]"
     ]
    },
    {
     "name": "stdout",
     "output_type": "stream",
     "text": [
      "2022-11-03 09:33:25 [INFO]: [EvalScoreRecoder]: In epoch 26/150, loss train score: 0.0388068222056535, val score: 1.0651222139596939\n",
      "2022-11-03 09:33:25 [INFO]: [EvalScoreRecoder]: In epoch 26/150, accuracy train score: 0.986056170886076, val score: 0.7686631944444444\n",
      "2022-11-03 09:33:25 [INFO]: [EarlyStopper]: In epoch 26/150, accuracy score: 0.7686631944444444, best accuracy score: 0.7670572916666666;update best score to 0.7686631944444444\n",
      "2022-11-03 09:33:25 [INFO]: [ModelCheckpoint]: Checkpoint at epoch 26: accuracy improved from 0.7670572916666666 to 0.7686631944444444, saving model to ../output/exp1/train.0.model_26.chk\n"
     ]
    },
    {
     "name": "stderr",
     "output_type": "stream",
     "text": [
      "\n",
      "Training in epoch 27/150: 100%|██████████| 158/158 [03:01<00:00,  1.15s/batch]\n",
      "Validating in epoch 27/150: 100%|██████████| 40/40 [00:35<00:00,  1.12batch/s]"
     ]
    },
    {
     "name": "stdout",
     "output_type": "stream",
     "text": [
      "2022-11-03 09:37:02 [INFO]: [EvalScoreRecoder]: In epoch 27/150, loss train score: 0.03836471172303103, val score: 1.0501663565635682\n",
      "2022-11-03 09:37:02 [INFO]: [EvalScoreRecoder]: In epoch 27/150, accuracy train score: 0.9861550632911392, val score: 0.7632595486111111\n",
      "2022-11-03 09:37:02 [INFO]: [EarlyStopper]: In epoch 27/150, accuracy score: 0.7632595486111111, best accuracy score: 0.7686631944444444;accuracy score was not improved\n",
      "2022-11-03 09:37:02 [INFO]: [EarlyStopper]: Current wait count: 1, patience: 15\n",
      "2022-11-03 09:37:02 [INFO]: [ModelCheckpoint]: Checkpoint at epoch 27: accuracy did not improve\n"
     ]
    },
    {
     "name": "stderr",
     "output_type": "stream",
     "text": [
      "\n",
      "Training in epoch 28/150: 100%|██████████| 158/158 [03:01<00:00,  1.15s/batch]\n",
      "Validating in epoch 28/150: 100%|██████████| 40/40 [00:35<00:00,  1.12batch/s]"
     ]
    },
    {
     "name": "stdout",
     "output_type": "stream",
     "text": [
      "2022-11-03 09:40:39 [INFO]: [EvalScoreRecoder]: In epoch 28/150, loss train score: 0.03385724628615323, val score: 1.1586746752262116\n",
      "2022-11-03 09:40:39 [INFO]: [EvalScoreRecoder]: In epoch 28/150, accuracy train score: 0.987589003164557, val score: 0.7573133680555555\n",
      "2022-11-03 09:40:39 [INFO]: [EarlyStopper]: In epoch 28/150, accuracy score: 0.7573133680555555, best accuracy score: 0.7686631944444444;accuracy score was not improved\n",
      "2022-11-03 09:40:39 [INFO]: [EarlyStopper]: Current wait count: 2, patience: 15\n",
      "2022-11-03 09:40:39 [INFO]: [ModelCheckpoint]: Checkpoint at epoch 28: accuracy did not improve\n"
     ]
    },
    {
     "name": "stderr",
     "output_type": "stream",
     "text": [
      "\n",
      "Training in epoch 29/150: 100%|██████████| 158/158 [03:01<00:00,  1.15s/batch]\n",
      "Validating in epoch 29/150: 100%|██████████| 40/40 [00:35<00:00,  1.12batch/s]"
     ]
    },
    {
     "name": "stdout",
     "output_type": "stream",
     "text": [
      "2022-11-03 09:44:17 [INFO]: [EvalScoreRecoder]: In epoch 29/150, loss train score: 0.03676183395698531, val score: 1.0186348780989647\n",
      "2022-11-03 09:44:17 [INFO]: [EvalScoreRecoder]: In epoch 29/150, accuracy train score: 0.987589003164557, val score: 0.7626302083333334\n",
      "2022-11-03 09:44:17 [INFO]: [EarlyStopper]: In epoch 29/150, accuracy score: 0.7626302083333334, best accuracy score: 0.7686631944444444;accuracy score was not improved\n",
      "2022-11-03 09:44:17 [INFO]: [EarlyStopper]: Current wait count: 3, patience: 15\n",
      "2022-11-03 09:44:17 [INFO]: [ModelCheckpoint]: Checkpoint at epoch 29: accuracy did not improve\n"
     ]
    },
    {
     "name": "stderr",
     "output_type": "stream",
     "text": [
      "\n",
      "Training in epoch 30/150:  53%|█████▎    | 84/158 [01:37<01:23,  1.13s/batch]IOPub message rate exceeded.\n",
      "The Jupyter server will temporarily stop sending output\n",
      "to the client in order to avoid crashing it.\n",
      "To change this limit, set the config variable\n",
      "`--ServerApp.iopub_msg_rate_limit`.\n",
      "\n",
      "Current values:\n",
      "ServerApp.iopub_msg_rate_limit=1000.0 (msgs/sec)\n",
      "ServerApp.rate_limit_window=3.0 (secs)\n",
      "\n",
      "Training in epoch 49/150: 100%|██████████| 158/158 [03:03<00:00,  1.16s/batch]\n",
      "Validating in epoch 49/150: 100%|██████████| 40/40 [00:35<00:00,  1.12batch/s]"
     ]
    },
    {
     "name": "stdout",
     "output_type": "stream",
     "text": [
      "2022-11-03 10:57:20 [INFO]: [EvalScoreRecoder]: In epoch 49/150, loss train score: 0.023391264566858416, val score: 1.0957192227244377\n",
      "2022-11-03 10:57:20 [INFO]: [EvalScoreRecoder]: In epoch 49/150, accuracy train score: 0.9918908227848101, val score: 0.7698784722222223\n",
      "2022-11-03 10:57:20 [INFO]: [EarlyStopper]: In epoch 49/150, accuracy score: 0.7698784722222223, best accuracy score: 0.7701822916666666;accuracy score was not improved\n",
      "2022-11-03 10:57:20 [INFO]: [EarlyStopper]: Current wait count: 14, patience: 15\n",
      "2022-11-03 10:57:20 [INFO]: [ModelCheckpoint]: Checkpoint at epoch 49: accuracy did not improve\n"
     ]
    },
    {
     "name": "stderr",
     "output_type": "stream",
     "text": [
      "\n",
      "Training in epoch 56/150: 100%|██████████| 158/158 [03:01<00:00,  1.15s/batch]\n",
      "Validating in epoch 56/150: 100%|██████████| 40/40 [00:35<00:00,  1.11batch/s]"
     ]
    },
    {
     "name": "stdout",
     "output_type": "stream",
     "text": [
      "2022-11-03 11:22:57 [INFO]: [EvalScoreRecoder]: In epoch 56/150, loss train score: 0.022358785043183206, val score: 1.2706175699830056\n",
      "2022-11-03 11:22:57 [INFO]: [EvalScoreRecoder]: In epoch 56/150, accuracy train score: 0.9923852848101266, val score: 0.7611979166666666\n",
      "2022-11-03 11:22:57 [INFO]: [EarlyStopper]: In epoch 56/150, accuracy score: 0.7611979166666666, best accuracy score: 0.7709852430555555;accuracy score was not improved\n",
      "2022-11-03 11:22:57 [INFO]: [EarlyStopper]: Current wait count: 6, patience: 15\n",
      "2022-11-03 11:22:57 [INFO]: [ModelCheckpoint]: Checkpoint at epoch 56: accuracy did not improve\n"
     ]
    },
    {
     "name": "stderr",
     "output_type": "stream",
     "text": [
      "\n",
      "Training in epoch 57/150: 100%|██████████| 158/158 [03:33<00:00,  1.35s/batch]\n",
      "Validating in epoch 57/150: 100%|██████████| 40/40 [00:44<00:00,  1.12s/batch]"
     ]
    },
    {
     "name": "stdout",
     "output_type": "stream",
     "text": [
      "2022-11-03 11:27:16 [INFO]: [EvalScoreRecoder]: In epoch 57/150, loss train score: 0.025211147486550522, val score: 1.1966020077466966\n",
      "2022-11-03 11:27:16 [INFO]: [EvalScoreRecoder]: In epoch 57/150, accuracy train score: 0.9908524525316456, val score: 0.765625\n",
      "2022-11-03 11:27:16 [INFO]: [EarlyStopper]: In epoch 57/150, accuracy score: 0.765625, best accuracy score: 0.7709852430555555;accuracy score was not improved\n",
      "2022-11-03 11:27:16 [INFO]: [EarlyStopper]: Current wait count: 7, patience: 15\n",
      "2022-11-03 11:27:16 [INFO]: [ModelCheckpoint]: Checkpoint at epoch 57: accuracy did not improve\n"
     ]
    },
    {
     "name": "stderr",
     "output_type": "stream",
     "text": [
      "\n",
      "Training in epoch 58/150: 100%|██████████| 158/158 [03:02<00:00,  1.15s/batch]\n",
      "Validating in epoch 58/150: 100%|██████████| 40/40 [00:35<00:00,  1.11batch/s]"
     ]
    },
    {
     "name": "stdout",
     "output_type": "stream",
     "text": [
      "2022-11-03 11:30:54 [INFO]: [EvalScoreRecoder]: In epoch 58/150, loss train score: 0.023265969709646474, val score: 1.0360184505581855\n",
      "2022-11-03 11:30:54 [INFO]: [EvalScoreRecoder]: In epoch 58/150, accuracy train score: 0.9917424841772152, val score: 0.7689453125\n",
      "2022-11-03 11:30:54 [INFO]: [EarlyStopper]: In epoch 58/150, accuracy score: 0.7689453125, best accuracy score: 0.7709852430555555;accuracy score was not improved\n",
      "2022-11-03 11:30:54 [INFO]: [EarlyStopper]: Current wait count: 8, patience: 15\n",
      "2022-11-03 11:30:54 [INFO]: [ModelCheckpoint]: Checkpoint at epoch 58: accuracy did not improve\n"
     ]
    },
    {
     "name": "stderr",
     "output_type": "stream",
     "text": [
      "\n",
      "Training in epoch 59/150: 100%|██████████| 158/158 [03:05<00:00,  1.17s/batch]\n",
      "Validating in epoch 59/150: 100%|██████████| 40/40 [00:35<00:00,  1.13batch/s]"
     ]
    },
    {
     "name": "stdout",
     "output_type": "stream",
     "text": [
      "2022-11-03 11:34:35 [INFO]: [EvalScoreRecoder]: In epoch 59/150, loss train score: 0.021089538341296742, val score: 1.3601793751120568\n",
      "2022-11-03 11:34:35 [INFO]: [EvalScoreRecoder]: In epoch 59/150, accuracy train score: 0.9929291930379747, val score: 0.7535590277777777\n",
      "2022-11-03 11:34:35 [INFO]: [EarlyStopper]: In epoch 59/150, accuracy score: 0.7535590277777777, best accuracy score: 0.7709852430555555;accuracy score was not improved\n",
      "2022-11-03 11:34:35 [INFO]: [EarlyStopper]: Current wait count: 9, patience: 15\n",
      "2022-11-03 11:34:35 [INFO]: [ModelCheckpoint]: Checkpoint at epoch 59: accuracy did not improve\n"
     ]
    },
    {
     "name": "stderr",
     "output_type": "stream",
     "text": [
      "\n",
      "Training in epoch 60/150: 100%|██████████| 158/158 [03:18<00:00,  1.26s/batch]\n",
      "Validating in epoch 60/150: 100%|██████████| 40/40 [00:35<00:00,  1.12batch/s]"
     ]
    },
    {
     "name": "stdout",
     "output_type": "stream",
     "text": [
      "2022-11-03 11:38:29 [INFO]: [EvalScoreRecoder]: In epoch 60/150, loss train score: 0.021251550204005636, val score: 1.4092100784182549\n",
      "2022-11-03 11:38:29 [INFO]: [EvalScoreRecoder]: In epoch 60/150, accuracy train score: 0.9931764240506329, val score: 0.7667534722222222\n",
      "2022-11-03 11:38:29 [INFO]: [EarlyStopper]: In epoch 60/150, accuracy score: 0.7667534722222222, best accuracy score: 0.7709852430555555;accuracy score was not improved\n",
      "2022-11-03 11:38:29 [INFO]: [EarlyStopper]: Current wait count: 10, patience: 15\n",
      "2022-11-03 11:38:29 [INFO]: [ModelCheckpoint]: Checkpoint at epoch 60: accuracy did not improve\n"
     ]
    },
    {
     "name": "stderr",
     "output_type": "stream",
     "text": [
      "\n",
      "Training in epoch 61/150: 100%|██████████| 158/158 [03:00<00:00,  1.14s/batch]\n",
      "Validating in epoch 61/150: 100%|██████████| 40/40 [00:35<00:00,  1.13batch/s]"
     ]
    },
    {
     "name": "stdout",
     "output_type": "stream",
     "text": [
      "2022-11-03 11:42:05 [INFO]: [EvalScoreRecoder]: In epoch 61/150, loss train score: 0.025754079410196223, val score: 1.1283342033624648\n",
      "2022-11-03 11:42:05 [INFO]: [EvalScoreRecoder]: In epoch 61/150, accuracy train score: 0.9918413765822784, val score: 0.7783203125\n",
      "2022-11-03 11:42:05 [INFO]: [EarlyStopper]: In epoch 61/150, accuracy score: 0.7783203125, best accuracy score: 0.7709852430555555;update best score to 0.7783203125\n",
      "2022-11-03 11:42:05 [INFO]: [ModelCheckpoint]: Checkpoint at epoch 61: accuracy improved from 0.7709852430555555 to 0.7783203125, saving model to ../output/exp1/train.0.model_61.chk\n"
     ]
    },
    {
     "name": "stderr",
     "output_type": "stream",
     "text": [
      "\n",
      "Training in epoch 62/150: 100%|██████████| 158/158 [02:59<00:00,  1.14s/batch]\n",
      "Validating in epoch 62/150: 100%|██████████| 40/40 [00:35<00:00,  1.13batch/s]"
     ]
    },
    {
     "name": "stdout",
     "output_type": "stream",
     "text": [
      "2022-11-03 11:45:41 [INFO]: [EvalScoreRecoder]: In epoch 62/150, loss train score: 0.021731764327549034, val score: 1.1014066115021706\n",
      "2022-11-03 11:45:41 [INFO]: [EvalScoreRecoder]: In epoch 62/150, accuracy train score: 0.9925830696202531, val score: 0.7623697916666666\n",
      "2022-11-03 11:45:41 [INFO]: [EarlyStopper]: In epoch 62/150, accuracy score: 0.7623697916666666, best accuracy score: 0.7783203125;accuracy score was not improved\n",
      "2022-11-03 11:45:41 [INFO]: [EarlyStopper]: Current wait count: 1, patience: 15\n",
      "2022-11-03 11:45:41 [INFO]: [ModelCheckpoint]: Checkpoint at epoch 62: accuracy did not improve\n"
     ]
    },
    {
     "name": "stderr",
     "output_type": "stream",
     "text": [
      "\n",
      "Training in epoch 63/150:  65%|██████▌   | 103/158 [01:59<01:03,  1.15s/batch]IOPub message rate exceeded.\n",
      "The Jupyter server will temporarily stop sending output\n",
      "to the client in order to avoid crashing it.\n",
      "To change this limit, set the config variable\n",
      "`--ServerApp.iopub_msg_rate_limit`.\n",
      "\n",
      "Current values:\n",
      "ServerApp.iopub_msg_rate_limit=1000.0 (msgs/sec)\n",
      "ServerApp.rate_limit_window=3.0 (secs)\n",
      "\n",
      "Training in epoch 3/100: 100%|██████████| 617/617 [10:48<00:00,  1.05s/batch]\n",
      "Validating in epoch 3/100: 100%|██████████| 155/155 [02:18<00:00,  1.12batch/s]"
     ]
    },
    {
     "name": "stdout",
     "output_type": "stream",
     "text": [
      "2022-11-03 13:29:18 [INFO]: [EvalScoreRecoder]: In epoch 3/100, loss train score: 0.11515759184401456, val score: 0.2841902011415861\n",
      "2022-11-03 13:29:18 [INFO]: [EvalScoreRecoder]: In epoch 3/100, accuracy train score: 0.9567463533225283, val score: 0.9028729838709677\n",
      "2022-11-03 13:29:18 [INFO]: [EarlyStopper]: In epoch 3/100, accuracy score: 0.9028729838709677, best accuracy score: 0.8929435483870968;update best score to 0.9028729838709677\n",
      "2022-11-03 13:29:18 [INFO]: [ModelCheckpoint]: Checkpoint at epoch 3: accuracy improved from 0.8929435483870968 to 0.9028729838709677, saving model to ../output/exp1/train.1.model_3.chk\n"
     ]
    },
    {
     "name": "stderr",
     "output_type": "stream",
     "text": [
      "\n",
      "Training in epoch 4/100: 100%|██████████| 617/617 [11:11<00:00,  1.09s/batch]\n",
      "Validating in epoch 4/100: 100%|██████████| 155/155 [02:14<00:00,  1.16batch/s]"
     ]
    },
    {
     "name": "stdout",
     "output_type": "stream",
     "text": [
      "2022-11-03 13:42:45 [INFO]: [EvalScoreRecoder]: In epoch 4/100, loss train score: 0.08780066385137662, val score: 0.350724001810886\n",
      "2022-11-03 13:42:45 [INFO]: [EvalScoreRecoder]: In epoch 4/100, accuracy train score: 0.9673191855753647, val score: 0.9033770161290322\n",
      "2022-11-03 13:42:45 [INFO]: [EarlyStopper]: In epoch 4/100, accuracy score: 0.9033770161290322, best accuracy score: 0.9028729838709677;update best score to 0.9033770161290322\n",
      "2022-11-03 13:42:45 [INFO]: [ModelCheckpoint]: Checkpoint at epoch 4: accuracy improved from 0.9028729838709677 to 0.9033770161290322, saving model to ../output/exp1/train.1.model_4.chk\n"
     ]
    },
    {
     "name": "stderr",
     "output_type": "stream",
     "text": [
      "\n",
      "Training in epoch 12/100: 100%|██████████| 617/617 [10:41<00:00,  1.04s/batch]\n",
      "Validating in epoch 12/100: 100%|██████████| 155/155 [02:15<00:00,  1.15batch/s]"
     ]
    },
    {
     "name": "stdout",
     "output_type": "stream",
     "text": [
      "2022-11-03 15:29:18 [INFO]: [EvalScoreRecoder]: In epoch 12/100, loss train score: 0.044353421697934756, val score: 0.325814643376244\n",
      "2022-11-03 15:29:18 [INFO]: [EvalScoreRecoder]: In epoch 12/100, accuracy train score: 0.9839571515397083, val score: 0.9075100806451613\n",
      "2022-11-03 15:29:18 [INFO]: [EarlyStopper]: In epoch 12/100, accuracy score: 0.9075100806451613, best accuracy score: 0.9162298387096774;accuracy score was not improved\n",
      "2022-11-03 15:29:18 [INFO]: [EarlyStopper]: Current wait count: 6, patience: 10\n",
      "2022-11-03 15:29:18 [INFO]: [ModelCheckpoint]: Checkpoint at epoch 12: accuracy did not improve\n"
     ]
    },
    {
     "name": "stderr",
     "output_type": "stream",
     "text": [
      "\n",
      "Training in epoch 13/100: 100%|██████████| 617/617 [10:37<00:00,  1.03s/batch]\n",
      "Validating in epoch 13/100: 100%|██████████| 155/155 [02:15<00:00,  1.14batch/s]"
     ]
    },
    {
     "name": "stdout",
     "output_type": "stream",
     "text": [
      "2022-11-03 15:42:11 [INFO]: [EvalScoreRecoder]: In epoch 13/100, loss train score: 0.040710210490606615, val score: 0.3660450864672678\n",
      "2022-11-03 15:42:11 [INFO]: [EvalScoreRecoder]: In epoch 13/100, accuracy train score: 0.985451276337115, val score: 0.913508064516129\n",
      "2022-11-03 15:42:11 [INFO]: [EarlyStopper]: In epoch 13/100, accuracy score: 0.913508064516129, best accuracy score: 0.9162298387096774;accuracy score was not improved\n",
      "2022-11-03 15:42:11 [INFO]: [EarlyStopper]: Current wait count: 7, patience: 10\n",
      "2022-11-03 15:42:11 [INFO]: [ModelCheckpoint]: Checkpoint at epoch 13: accuracy did not improve\n"
     ]
    },
    {
     "name": "stderr",
     "output_type": "stream",
     "text": [
      "\n",
      "Training in epoch 16/150: 100%|██████████| 158/158 [03:03<00:00,  1.16s/batch]\n",
      "Validating in epoch 16/150: 100%|██████████| 40/40 [00:38<00:00,  1.04batch/s]"
     ]
    },
    {
     "name": "stdout",
     "output_type": "stream",
     "text": [
      "2022-11-03 17:24:19 [INFO]: [EvalScoreRecoder]: In epoch 16/150, loss train score: 0.06978492905559679, val score: 1.0250710472464561\n",
      "2022-11-03 17:24:19 [INFO]: [EvalScoreRecoder]: In epoch 16/150, accuracy train score: 0.9744857594936709, val score: 0.7397135416666666\n",
      "2022-11-03 17:24:19 [INFO]: [EarlyStopper]: In epoch 16/150, accuracy score: 0.7397135416666666, best accuracy score: 0.7607421875;accuracy score was not improved\n",
      "2022-11-03 17:24:19 [INFO]: [EarlyStopper]: Current wait count: 2, patience: 15\n",
      "2022-11-03 17:24:19 [INFO]: [ModelCheckpoint]: Checkpoint at epoch 16: accuracy did not improve\n"
     ]
    },
    {
     "name": "stderr",
     "output_type": "stream",
     "text": [
      "\n",
      "Training in epoch 17/150: 100%|██████████| 158/158 [03:00<00:00,  1.14s/batch]\n",
      "Validating in epoch 17/150: 100%|██████████| 40/40 [00:35<00:00,  1.13batch/s]"
     ]
    },
    {
     "name": "stdout",
     "output_type": "stream",
     "text": [
      "2022-11-03 17:27:55 [INFO]: [EvalScoreRecoder]: In epoch 17/150, loss train score: 0.057041159410639725, val score: 1.097098135948181\n",
      "2022-11-03 17:27:55 [INFO]: [EvalScoreRecoder]: In epoch 17/150, accuracy train score: 0.9794798259493671, val score: 0.7518229166666666\n",
      "2022-11-03 17:27:55 [INFO]: [EarlyStopper]: In epoch 17/150, accuracy score: 0.7518229166666666, best accuracy score: 0.7607421875;accuracy score was not improved\n",
      "2022-11-03 17:27:55 [INFO]: [EarlyStopper]: Current wait count: 3, patience: 15\n",
      "2022-11-03 17:27:55 [INFO]: [ModelCheckpoint]: Checkpoint at epoch 17: accuracy did not improve\n"
     ]
    },
    {
     "name": "stderr",
     "output_type": "stream",
     "text": [
      "\n",
      "Training in epoch 18/150: 100%|██████████| 158/158 [03:03<00:00,  1.16s/batch]\n",
      "Validating in epoch 18/150: 100%|██████████| 40/40 [00:38<00:00,  1.04batch/s]"
     ]
    },
    {
     "name": "stdout",
     "output_type": "stream",
     "text": [
      "2022-11-03 17:31:36 [INFO]: [EvalScoreRecoder]: In epoch 18/150, loss train score: 0.05330475370835843, val score: 1.0666206300258636\n",
      "2022-11-03 17:31:36 [INFO]: [EvalScoreRecoder]: In epoch 18/150, accuracy train score: 0.9819945185352623, val score: 0.7493272569444445\n",
      "2022-11-03 17:31:36 [INFO]: [EarlyStopper]: In epoch 18/150, accuracy score: 0.7493272569444445, best accuracy score: 0.7607421875;accuracy score was not improved\n",
      "2022-11-03 17:31:36 [INFO]: [EarlyStopper]: Current wait count: 4, patience: 15\n",
      "2022-11-03 17:31:36 [INFO]: [ModelCheckpoint]: Checkpoint at epoch 18: accuracy did not improve\n"
     ]
    },
    {
     "name": "stderr",
     "output_type": "stream",
     "text": [
      "\n",
      "Training in epoch 19/150: 100%|██████████| 158/158 [03:01<00:00,  1.15s/batch]\n",
      "Validating in epoch 19/150: 100%|██████████| 40/40 [00:36<00:00,  1.11batch/s]"
     ]
    },
    {
     "name": "stdout",
     "output_type": "stream",
     "text": [
      "2022-11-03 17:35:14 [INFO]: [EvalScoreRecoder]: In epoch 19/150, loss train score: 0.05772394084672243, val score: 1.0158247843384742\n",
      "2022-11-03 17:35:14 [INFO]: [EvalScoreRecoder]: In epoch 19/150, accuracy train score: 0.9798259493670886, val score: 0.7530164930555555\n",
      "2022-11-03 17:35:14 [INFO]: [EarlyStopper]: In epoch 19/150, accuracy score: 0.7530164930555555, best accuracy score: 0.7607421875;accuracy score was not improved\n",
      "2022-11-03 17:35:14 [INFO]: [EarlyStopper]: Current wait count: 5, patience: 15\n",
      "2022-11-03 17:35:14 [INFO]: [ModelCheckpoint]: Checkpoint at epoch 19: accuracy did not improve\n"
     ]
    },
    {
     "name": "stderr",
     "output_type": "stream",
     "text": [
      "\n",
      "Training in epoch 20/150: 100%|██████████| 158/158 [03:01<00:00,  1.15s/batch]\n",
      "Validating in epoch 20/150: 100%|██████████| 40/40 [00:43<00:00,  1.09s/batch]"
     ]
    },
    {
     "name": "stdout",
     "output_type": "stream",
     "text": [
      "2022-11-03 17:38:59 [INFO]: [EvalScoreRecoder]: In epoch 20/150, loss train score: 0.04704832445179507, val score: 1.1471961915493012\n",
      "2022-11-03 17:38:59 [INFO]: [EvalScoreRecoder]: In epoch 20/150, accuracy train score: 0.983682753164557, val score: 0.765842013888889\n",
      "2022-11-03 17:38:59 [INFO]: [EarlyStopper]: In epoch 20/150, accuracy score: 0.765842013888889, best accuracy score: 0.7607421875;update best score to 0.765842013888889\n",
      "2022-11-03 17:38:59 [INFO]: [ModelCheckpoint]: Checkpoint at epoch 20: accuracy improved from 0.7607421875 to 0.765842013888889, saving model to ../output/exp1/train.0.model_20.chk\n"
     ]
    },
    {
     "name": "stderr",
     "output_type": "stream",
     "text": [
      "\n",
      "Training in epoch 21/150: 100%|██████████| 158/158 [03:01<00:00,  1.15s/batch]\n",
      "Validating in epoch 21/150: 100%|██████████| 40/40 [00:35<00:00,  1.12batch/s]"
     ]
    },
    {
     "name": "stdout",
     "output_type": "stream",
     "text": [
      "2022-11-03 17:42:38 [INFO]: [EvalScoreRecoder]: In epoch 21/150, loss train score: 0.04035927582225656, val score: 1.1093221485614777\n",
      "2022-11-03 17:42:38 [INFO]: [EvalScoreRecoder]: In epoch 21/150, accuracy train score: 0.9856111550632911, val score: 0.7639973958333334\n",
      "2022-11-03 17:42:38 [INFO]: [EarlyStopper]: In epoch 21/150, accuracy score: 0.7639973958333334, best accuracy score: 0.765842013888889;accuracy score was not improved\n",
      "2022-11-03 17:42:38 [INFO]: [EarlyStopper]: Current wait count: 1, patience: 15\n",
      "2022-11-03 17:42:38 [INFO]: [ModelCheckpoint]: Checkpoint at epoch 21: accuracy did not improve\n"
     ]
    },
    {
     "name": "stderr",
     "output_type": "stream",
     "text": [
      "\n",
      "Training in epoch 30/150: 100%|██████████| 158/158 [03:02<00:00,  1.16s/batch]\n",
      "Validating in epoch 30/150: 100%|██████████| 40/40 [00:35<00:00,  1.14batch/s]"
     ]
    },
    {
     "name": "stdout",
     "output_type": "stream",
     "text": [
      "2022-11-03 18:16:08 [INFO]: [EvalScoreRecoder]: In epoch 30/150, loss train score: 0.034212800083498474, val score: 1.2411146327853202\n",
      "2022-11-03 18:16:08 [INFO]: [EvalScoreRecoder]: In epoch 30/150, accuracy train score: 0.9880834651898734, val score: 0.7647135416666666\n",
      "2022-11-03 18:16:08 [INFO]: [EarlyStopper]: In epoch 30/150, accuracy score: 0.7647135416666666, best accuracy score: 0.7661241319444445;accuracy score was not improved\n",
      "2022-11-03 18:16:08 [INFO]: [EarlyStopper]: Current wait count: 6, patience: 15\n",
      "2022-11-03 18:16:08 [INFO]: [ModelCheckpoint]: Checkpoint at epoch 30: accuracy did not improve\n"
     ]
    },
    {
     "name": "stderr",
     "output_type": "stream",
     "text": [
      "\n",
      "Training in epoch 31/150: 100%|██████████| 158/158 [03:05<00:00,  1.18s/batch]\n",
      "Validating in epoch 31/150: 100%|██████████| 40/40 [00:35<00:00,  1.13batch/s]"
     ]
    },
    {
     "name": "stdout",
     "output_type": "stream",
     "text": [
      "2022-11-03 18:19:49 [INFO]: [EvalScoreRecoder]: In epoch 31/150, loss train score: 0.032721722164763066, val score: 1.1334154233336449\n",
      "2022-11-03 18:19:49 [INFO]: [EvalScoreRecoder]: In epoch 31/150, accuracy train score: 0.9886273734177216, val score: 0.7658203125\n",
      "2022-11-03 18:19:49 [INFO]: [EarlyStopper]: In epoch 31/150, accuracy score: 0.7658203125, best accuracy score: 0.7661241319444445;accuracy score was not improved\n",
      "2022-11-03 18:19:49 [INFO]: [EarlyStopper]: Current wait count: 7, patience: 15\n",
      "2022-11-03 18:19:49 [INFO]: [ModelCheckpoint]: Checkpoint at epoch 31: accuracy did not improve\n"
     ]
    },
    {
     "name": "stderr",
     "output_type": "stream",
     "text": [
      "\n",
      "Training in epoch 32/150: 100%|██████████| 158/158 [03:03<00:00,  1.16s/batch]\n",
      "Validating in epoch 32/150: 100%|██████████| 40/40 [00:35<00:00,  1.12batch/s]"
     ]
    },
    {
     "name": "stdout",
     "output_type": "stream",
     "text": [
      "2022-11-03 18:23:29 [INFO]: [EvalScoreRecoder]: In epoch 32/150, loss train score: 0.03621627817732058, val score: 1.096732498705387\n",
      "2022-11-03 18:23:29 [INFO]: [EvalScoreRecoder]: In epoch 32/150, accuracy train score: 0.9878856803797469, val score: 0.7639539930555556\n",
      "2022-11-03 18:23:29 [INFO]: [EarlyStopper]: In epoch 32/150, accuracy score: 0.7639539930555556, best accuracy score: 0.7661241319444445;accuracy score was not improved\n",
      "2022-11-03 18:23:29 [INFO]: [EarlyStopper]: Current wait count: 8, patience: 15\n",
      "2022-11-03 18:23:29 [INFO]: [ModelCheckpoint]: Checkpoint at epoch 32: accuracy did not improve\n"
     ]
    },
    {
     "name": "stderr",
     "output_type": "stream",
     "text": [
      "\n",
      "Training in epoch 33/150: 100%|██████████| 158/158 [03:13<00:00,  1.23s/batch]\n",
      "Validating in epoch 33/150: 100%|██████████| 40/40 [00:35<00:00,  1.13batch/s]"
     ]
    },
    {
     "name": "stdout",
     "output_type": "stream",
     "text": [
      "2022-11-03 18:27:18 [INFO]: [EvalScoreRecoder]: In epoch 33/150, loss train score: 0.03222897614144626, val score: 1.0154859587550162\n",
      "2022-11-03 18:27:18 [INFO]: [EvalScoreRecoder]: In epoch 33/150, accuracy train score: 0.9887262658227848, val score: 0.7565104166666666\n",
      "2022-11-03 18:27:18 [INFO]: [EarlyStopper]: In epoch 33/150, accuracy score: 0.7565104166666666, best accuracy score: 0.7661241319444445;accuracy score was not improved\n",
      "2022-11-03 18:27:18 [INFO]: [EarlyStopper]: Current wait count: 9, patience: 15\n",
      "2022-11-03 18:27:18 [INFO]: [ModelCheckpoint]: Checkpoint at epoch 33: accuracy did not improve\n"
     ]
    },
    {
     "name": "stderr",
     "output_type": "stream",
     "text": [
      "\n",
      "Training in epoch 34/150: 100%|██████████| 158/158 [03:05<00:00,  1.17s/batch]\n",
      "Validating in epoch 34/150: 100%|██████████| 40/40 [00:36<00:00,  1.10batch/s]"
     ]
    },
    {
     "name": "stdout",
     "output_type": "stream",
     "text": [
      "2022-11-03 18:31:00 [INFO]: [EvalScoreRecoder]: In epoch 34/150, loss train score: 0.035640369701756255, val score: 1.0640993386507034\n",
      "2022-11-03 18:31:00 [INFO]: [EvalScoreRecoder]: In epoch 34/150, accuracy train score: 0.9877867879746836, val score: 0.752734375\n",
      "2022-11-03 18:31:00 [INFO]: [EarlyStopper]: In epoch 34/150, accuracy score: 0.752734375, best accuracy score: 0.7661241319444445;accuracy score was not improved\n",
      "2022-11-03 18:31:00 [INFO]: [EarlyStopper]: Current wait count: 10, patience: 15\n",
      "2022-11-03 18:31:00 [INFO]: [ModelCheckpoint]: Checkpoint at epoch 34: accuracy did not improve\n"
     ]
    },
    {
     "name": "stderr",
     "output_type": "stream",
     "text": [
      "\n",
      "Training in epoch 35/150: 100%|██████████| 158/158 [03:02<00:00,  1.15s/batch]\n",
      "Validating in epoch 35/150: 100%|██████████| 40/40 [00:35<00:00,  1.13batch/s]"
     ]
    },
    {
     "name": "stdout",
     "output_type": "stream",
     "text": [
      "2022-11-03 18:34:38 [INFO]: [EvalScoreRecoder]: In epoch 35/150, loss train score: 0.033013240126612935, val score: 0.9657617136836052\n",
      "2022-11-03 18:34:38 [INFO]: [EvalScoreRecoder]: In epoch 35/150, accuracy train score: 0.9878856803797469, val score: 0.761328125\n",
      "2022-11-03 18:34:38 [INFO]: [EarlyStopper]: In epoch 35/150, accuracy score: 0.761328125, best accuracy score: 0.7661241319444445;accuracy score was not improved\n",
      "2022-11-03 18:34:38 [INFO]: [EarlyStopper]: Current wait count: 11, patience: 15\n",
      "2022-11-03 18:34:38 [INFO]: [ModelCheckpoint]: Checkpoint at epoch 35: accuracy did not improve\n"
     ]
    },
    {
     "name": "stderr",
     "output_type": "stream",
     "text": [
      "\n",
      "Training in epoch 37/150: 100%|██████████| 158/158 [03:01<00:00,  1.15s/batch]\n",
      "Validating in epoch 37/150: 100%|██████████| 40/40 [00:35<00:00,  1.12batch/s]"
     ]
    },
    {
     "name": "stdout",
     "output_type": "stream",
     "text": [
      "2022-11-03 18:41:52 [INFO]: [EvalScoreRecoder]: In epoch 37/150, loss train score: 0.03228692766949475, val score: 1.0399923995137215\n",
      "2022-11-03 18:41:52 [INFO]: [EvalScoreRecoder]: In epoch 37/150, accuracy train score: 0.9888251582278481, val score: 0.7640842013888889\n",
      "2022-11-03 18:41:52 [INFO]: [EarlyStopper]: In epoch 37/150, accuracy score: 0.7640842013888889, best accuracy score: 0.7661241319444445;accuracy score was not improved\n",
      "2022-11-03 18:41:52 [INFO]: [EarlyStopper]: Current wait count: 13, patience: 15\n",
      "2022-11-03 18:41:52 [INFO]: [ModelCheckpoint]: Checkpoint at epoch 37: accuracy did not improve\n"
     ]
    },
    {
     "name": "stderr",
     "output_type": "stream",
     "text": [
      "\n",
      "Training in epoch 38/150: 100%|██████████| 158/158 [03:07<00:00,  1.19s/batch]\n",
      "Validating in epoch 38/150: 100%|██████████| 40/40 [00:35<00:00,  1.12batch/s]"
     ]
    },
    {
     "name": "stdout",
     "output_type": "stream",
     "text": [
      "2022-11-03 18:45:35 [INFO]: [EvalScoreRecoder]: In epoch 38/150, loss train score: 0.030382942035131134, val score: 1.1514901265501976\n",
      "2022-11-03 18:45:35 [INFO]: [EvalScoreRecoder]: In epoch 38/150, accuracy train score: 0.9894185126582279, val score: 0.7651041666666666\n",
      "2022-11-03 18:45:35 [INFO]: [EarlyStopper]: In epoch 38/150, accuracy score: 0.7651041666666666, best accuracy score: 0.7661241319444445;accuracy score was not improved\n",
      "2022-11-03 18:45:35 [INFO]: [EarlyStopper]: Current wait count: 14, patience: 15\n",
      "2022-11-03 18:45:35 [INFO]: [ModelCheckpoint]: Checkpoint at epoch 38: accuracy did not improve\n"
     ]
    },
    {
     "name": "stderr",
     "output_type": "stream",
     "text": [
      "\n",
      "Training in epoch 39/150: 100%|██████████| 158/158 [02:59<00:00,  1.14s/batch]\n",
      "Validating in epoch 39/150: 100%|██████████| 40/40 [00:35<00:00,  1.14batch/s]"
     ]
    },
    {
     "name": "stdout",
     "output_type": "stream",
     "text": [
      "2022-11-03 18:49:09 [INFO]: [EvalScoreRecoder]: In epoch 39/150, loss train score: 0.02572889258691605, val score: 1.0658341124653816\n",
      "2022-11-03 18:49:09 [INFO]: [EvalScoreRecoder]: In epoch 39/150, accuracy train score: 0.9911985759493671, val score: 0.7600477430555556\n",
      "2022-11-03 18:49:09 [INFO]: [EarlyStopper]: In epoch 39/150, accuracy score: 0.7600477430555556, best accuracy score: 0.7661241319444445;accuracy score was not improved\n",
      "2022-11-03 18:49:09 [INFO]: [EarlyStopper]: Current wait count: 15, patience: 15\n",
      "2022-11-03 18:49:09 [INFO]: [EarlyStopper]: Early stopping training: wait 15 >= patience 15 at epoch 39/150\n",
      "2022-11-03 18:49:09 [INFO]: [ModelCheckpoint]: Checkpoint at epoch 39: accuracy did not improve\n",
      "2022-11-03 18:49:09 [INFO]: [EvalScoreRecoder]: loss train socres: [0.6859984239445457, 0.6191631359390065, 0.5543222167069399, 0.49860895594841315, 0.42960057105821897, 0.35983940213918686, 0.3102103571254241, 0.24581119426985895, 0.20244139229548694, 0.17548135965119435, 0.1551018328438336, 0.11851166456324767, 0.09654658907859386, 0.08180518707708467, 0.06686938382685921, 0.06524734530720235, 0.06978492905559679, 0.057041159410639725, 0.05330475370835843, 0.05772394084672243, 0.04704832445179507, 0.04035927582225656, 0.04461839280177433, 0.03820384277575693, 0.03940376131559569, 0.03599613452204238, 0.03261201563679917, 0.03687118121078002, 0.03377276612915426, 0.03374976037428243, 0.034212800083498474, 0.032721722164763066, 0.03621627817732058, 0.03222897614144626, 0.035640369701756255, 0.033013240126612935, 0.03153740929121364, 0.03228692766949475, 0.030382942035131134, 0.02572889258691605], val scores: [0.652795635163784, 0.5924220576882362, 0.5889487788081169, 0.6234155751764774, 0.6391320213675499, 0.6970692619681358, 0.9369113698601723, 0.9738092705607414, 0.9381264850497246, 0.920884408056736, 1.0385375887155532, 0.9272800594568252, 1.0065111353993417, 0.9564267411828041, 0.9973941057920456, 1.0739352434873581, 1.0250710472464561, 1.097098135948181, 1.0666206300258636, 1.0158247843384742, 1.1471961915493012, 1.1093221485614777, 0.9992661118507385, 1.1539758309721946, 1.1149106845259666, 1.165385764837265, 1.2904241934418679, 1.0481793090701104, 1.2378693297505379, 1.0799477607011796, 1.2411146327853202, 1.1334154233336449, 1.096732498705387, 1.0154859587550162, 1.0640993386507034, 0.9657617136836052, 1.0774885922670365, 1.0399923995137215, 1.1514901265501976, 1.0658341124653816]\n",
      "2022-11-03 18:49:09 [INFO]: [EvalScoreRecoder]: accuracy train socres: [0.5497287522603979, 0.6331727509041591, 0.6918300745931283, 0.7387262658227848, 0.7895569620253164, 0.8353441455696202, 0.8605122626582279, 0.8928995253164557, 0.918809335443038, 0.9282394326401447, 0.939725079113924, 0.9544600474683544, 0.9631131329113924, 0.9712717563291139, 0.9744857594936709, 0.9776997626582279, 0.9744857594936709, 0.9794798259493671, 0.9819945185352623, 0.9798259493670886, 0.983682753164557, 0.9856111550632911, 0.9859572784810127, 0.9863034018987342, 0.9863528481012658, 0.9868967563291139, 0.9884790348101266, 0.9871934335443038, 0.98828125, 0.9890229430379747, 0.9880834651898734, 0.9886273734177216, 0.9878856803797469, 0.9887262658227848, 0.9877867879746836, 0.9878856803797469, 0.989814082278481, 0.9888251582278481, 0.9894185126582279, 0.9911985759493671], val scores: [0.5992621527777777, 0.6504991319444444, 0.6721571180555556, 0.6745225694444444, 0.7061197916666666, 0.7194878472222223, 0.6760199652777777, 0.7285590277777778, 0.7437065972222222, 0.7313802083333334, 0.7437065972222222, 0.7448133680555555, 0.7291449652777777, 0.750173611111111, 0.7607421875, 0.7401258680555556, 0.7397135416666666, 0.7518229166666666, 0.7493272569444445, 0.7530164930555555, 0.765842013888889, 0.7639973958333334, 0.7629774305555556, 0.7637586805555555, 0.7661241319444445, 0.7643446180555555, 0.7601345486111111, 0.7592881944444445, 0.7656901041666666, 0.7607421875, 0.7647135416666666, 0.7658203125, 0.7639539930555556, 0.7565104166666666, 0.752734375, 0.761328125, 0.753689236111111, 0.7640842013888889, 0.7651041666666666, 0.7600477430555556]\n",
      "2022-11-03 18:49:09 [INFO]: [EarlyStopper]: Early stopped at the epoch 39/150\n",
      "2022-11-03 18:49:09 [INFO]: End training...\n",
      "2022-11-03 18:49:09 [INFO]: ======================\n",
      "2022-11-03 18:49:09 [INFO]: 0 train round result: {'metrics': ['accuracy'], 'train.score': OrderedDict([('loss', [0.6859984239445457, 0.6191631359390065, 0.5543222167069399, 0.49860895594841315, 0.42960057105821897, 0.35983940213918686, 0.3102103571254241, 0.24581119426985895, 0.20244139229548694, 0.17548135965119435, 0.1551018328438336, 0.11851166456324767, 0.09654658907859386, 0.08180518707708467, 0.06686938382685921, 0.06524734530720235, 0.06978492905559679, 0.057041159410639725, 0.05330475370835843, 0.05772394084672243, 0.04704832445179507, 0.04035927582225656, 0.04461839280177433, 0.03820384277575693, 0.03940376131559569, 0.03599613452204238, 0.03261201563679917, 0.03687118121078002, 0.03377276612915426, 0.03374976037428243, 0.034212800083498474, 0.032721722164763066, 0.03621627817732058, 0.03222897614144626, 0.035640369701756255, 0.033013240126612935, 0.03153740929121364, 0.03228692766949475, 0.030382942035131134, 0.02572889258691605]), ('accuracy', [0.5497287522603979, 0.6331727509041591, 0.6918300745931283, 0.7387262658227848, 0.7895569620253164, 0.8353441455696202, 0.8605122626582279, 0.8928995253164557, 0.918809335443038, 0.9282394326401447, 0.939725079113924, 0.9544600474683544, 0.9631131329113924, 0.9712717563291139, 0.9744857594936709, 0.9776997626582279, 0.9744857594936709, 0.9794798259493671, 0.9819945185352623, 0.9798259493670886, 0.983682753164557, 0.9856111550632911, 0.9859572784810127, 0.9863034018987342, 0.9863528481012658, 0.9868967563291139, 0.9884790348101266, 0.9871934335443038, 0.98828125, 0.9890229430379747, 0.9880834651898734, 0.9886273734177216, 0.9878856803797469, 0.9887262658227848, 0.9877867879746836, 0.9878856803797469, 0.989814082278481, 0.9888251582278481, 0.9894185126582279, 0.9911985759493671])]), 'val.score': OrderedDict([('loss', [0.652795635163784, 0.5924220576882362, 0.5889487788081169, 0.6234155751764774, 0.6391320213675499, 0.6970692619681358, 0.9369113698601723, 0.9738092705607414, 0.9381264850497246, 0.920884408056736, 1.0385375887155532, 0.9272800594568252, 1.0065111353993417, 0.9564267411828041, 0.9973941057920456, 1.0739352434873581, 1.0250710472464561, 1.097098135948181, 1.0666206300258636, 1.0158247843384742, 1.1471961915493012, 1.1093221485614777, 0.9992661118507385, 1.1539758309721946, 1.1149106845259666, 1.165385764837265, 1.2904241934418679, 1.0481793090701104, 1.2378693297505379, 1.0799477607011796, 1.2411146327853202, 1.1334154233336449, 1.096732498705387, 1.0154859587550162, 1.0640993386507034, 0.9657617136836052, 1.0774885922670365, 1.0399923995137215, 1.1514901265501976, 1.0658341124653816]), ('accuracy', [0.5992621527777777, 0.6504991319444444, 0.6721571180555556, 0.6745225694444444, 0.7061197916666666, 0.7194878472222223, 0.6760199652777777, 0.7285590277777778, 0.7437065972222222, 0.7313802083333334, 0.7437065972222222, 0.7448133680555555, 0.7291449652777777, 0.750173611111111, 0.7607421875, 0.7401258680555556, 0.7397135416666666, 0.7518229166666666, 0.7493272569444445, 0.7530164930555555, 0.765842013888889, 0.7639973958333334, 0.7629774305555556, 0.7637586805555555, 0.7661241319444445, 0.7643446180555555, 0.7601345486111111, 0.7592881944444445, 0.7656901041666666, 0.7607421875, 0.7647135416666666, 0.7658203125, 0.7639539930555556, 0.7565104166666666, 0.752734375, 0.761328125, 0.753689236111111, 0.7640842013888889, 0.7651041666666666, 0.7600477430555556])]), 'n_epochs': 150, 'stopped_epoch': 39, 'monitor': 'accuracy', 'best_epoch': 24, 'best_score': 0.7661241319444445, 'best_chk': '../output/exp1/train.0.model_24.chk'}, writing to ../output/exp1/train.0.result.json\n",
      "2022-11-03 18:49:09 [INFO]: End of 0 train round.\n",
      "2022-11-03 18:49:09 [INFO]: Setting model states with the best checkpoint ../output/exp1/train.0.model_24.chk\n"
     ]
    },
    {
     "name": "stderr",
     "output_type": "stream",
     "text": [
      "\n"
     ]
    },
    {
     "name": "stdout",
     "output_type": "stream",
     "text": [
      "2022-11-03 18:49:10 [INFO]: Loaded best model states from ../output/exp1/train.0.model_24.chk\n",
      "2022-11-03 18:49:10 [INFO]: Start 1 train round using data: iedb_sars2, round_conf: {'data': 'iedb_sars2', 'test_size': 0.2, 'batch_size': 128, 'n_epochs': 100, 'n_workers': 12, 'metrics': ['accuracy'], 'optimizer': {'type': 'adam', 'lr': 0.0001}, 'train_bert_encoders': [-6, None], 'early_stopper': {'monitor': 'accuracy', 'patience': 10}, 'model_checkpoint': {'chk': 'train.{round}.model_{epoch}.chk', 'monitor': 'accuracy', 'save_best_only': True, 'period': 1}, 'result': 'train.{round}.result.json'}\n",
      "2022-11-03 18:49:14 [INFO]: iedb_sars2 dataset was loaded from ../output/iedb_sars2.data.csv, df.shape: (98563, 10)\n",
      "2022-11-03 18:49:14 [INFO]: Start to exclude eval data from train data, df.shape: (98563, 10), target_cols: ['index']\n",
      "2022-11-03 18:49:14 [INFO]: shomuradova dataset was loaded from ../output/shomuradova.data.csv, df.shape: (610, 9)\n",
      "2022-11-03 18:49:14 [INFO]: Excluding shomuradova eval data by index from train data\n",
      "2022-11-03 18:49:15 [INFO]: Current train data.shape: (98563, 10)\n",
      "2022-11-03 18:49:15 [INFO]: immunecode dataset was loaded from ../output/immunecode.data.csv, df.shape: (742, 9)\n",
      "2022-11-03 18:49:15 [INFO]: Excluding immunecode eval data by index from train data\n",
      "2022-11-03 18:49:17 [INFO]: Current train data.shape: (98563, 10)\n",
      "2022-11-03 18:49:17 [INFO]: Final train data.shape: (98563, 10)\n",
      "2022-11-03 18:49:17 [INFO]: The bert encoders to be trained: [-6, None]\n",
      "2022-11-03 18:49:17 [INFO]: ======================\n",
      "2022-11-03 18:49:17 [INFO]: Begin training...\n",
      "2022-11-03 18:49:17 [INFO]: use_cuda, device: True, cuda:0\n",
      "2022-11-03 18:49:17 [INFO]: train.n_data: 78850, test.n_data: 19713\n",
      "2022-11-03 18:49:17 [INFO]: optimizer: Adam (\n",
      "Parameter Group 0\n",
      "    amsgrad: False\n",
      "    betas: (0.9, 0.999)\n",
      "    capturable: False\n",
      "    eps: 1e-08\n",
      "    foreach: None\n",
      "    lr: 0.0001\n",
      "    maximize: False\n",
      "    weight_decay: 0\n",
      ")\n",
      "2022-11-03 18:49:17 [INFO]: evaluator: <tcrbert.model.BertTCREpitopeModel.PredictionEvaluator object at 0x7f908ccc35d0>\n",
      "2022-11-03 18:49:17 [INFO]: n_epochs: 100\n",
      "2022-11-03 18:49:17 [INFO]: train.batch_size: 128\n",
      "2022-11-03 18:49:17 [INFO]: test.batch_size: 128\n"
     ]
    },
    {
     "name": "stderr",
     "output_type": "stream",
     "text": [
      "Training in epoch 1/100: 100%|██████████| 617/617 [10:34<00:00,  1.03s/batch]\n",
      "Validating in epoch 1/100: 100%|██████████| 155/155 [02:15<00:00,  1.14batch/s]"
     ]
    },
    {
     "name": "stdout",
     "output_type": "stream",
     "text": [
      "2022-11-03 19:15:55 [INFO]: [EvalScoreRecoder]: In epoch 1/100, loss train score: 0.356099378557595, val score: 0.3689699756522333\n",
      "2022-11-03 19:15:55 [INFO]: [EvalScoreRecoder]: In epoch 1/100, accuracy train score: 0.844826276337115, val score: 0.849899193548387\n",
      "2022-11-03 19:15:55 [INFO]: [EarlyStopper]: In epoch 1/100, accuracy score: 0.849899193548387, best accuracy score: 0.7796875;update best score to 0.849899193548387\n",
      "2022-11-03 19:15:55 [INFO]: [ModelCheckpoint]: Checkpoint at epoch 1: accuracy improved from 0.7796875 to 0.849899193548387, saving model to ../output/exp1/train.1.model_1.chk\n"
     ]
    },
    {
     "name": "stderr",
     "output_type": "stream",
     "text": [
      "\n",
      "Validating in epoch 2/100: 100%|██████████| 155/155 [02:15<00:00,  1.15batch/s]"
     ]
    },
    {
     "name": "stdout",
     "output_type": "stream",
     "text": [
      "2022-11-03 19:29:00 [INFO]: [EvalScoreRecoder]: In epoch 2/100, loss train score: 0.21773710826372597, val score: 0.3634554969807786\n",
      "2022-11-03 19:29:00 [INFO]: [EvalScoreRecoder]: In epoch 2/100, accuracy train score: 0.9128722649918962, val score: 0.869758064516129\n",
      "2022-11-03 19:29:00 [INFO]: [EarlyStopper]: In epoch 2/100, accuracy score: 0.869758064516129, best accuracy score: 0.849899193548387;update best score to 0.869758064516129\n",
      "2022-11-03 19:29:00 [INFO]: [ModelCheckpoint]: Checkpoint at epoch 2: accuracy improved from 0.849899193548387 to 0.869758064516129, saving model to ../output/exp1/train.1.model_2.chk\n"
     ]
    },
    {
     "name": "stderr",
     "output_type": "stream",
     "text": [
      "\n",
      "Training in epoch 3/100: 100%|██████████| 617/617 [10:34<00:00,  1.03s/batch]\n",
      "Training in epoch 4/100: 100%|██████████| 617/617 [10:37<00:00,  1.03s/batch]]\n",
      "Validating in epoch 4/100: 100%|██████████| 155/155 [02:16<00:00,  1.14batch/s]"
     ]
    },
    {
     "name": "stdout",
     "output_type": "stream",
     "text": [
      "2022-11-03 19:55:22 [INFO]: [EvalScoreRecoder]: In epoch 4/100, loss train score: 0.11424104885931763, val score: 0.312493178164286\n",
      "2022-11-03 19:55:22 [INFO]: [EvalScoreRecoder]: In epoch 4/100, accuracy train score: 0.9566957050243112, val score: 0.8955141129032258\n",
      "2022-11-03 19:55:22 [INFO]: [EarlyStopper]: In epoch 4/100, accuracy score: 0.8955141129032258, best accuracy score: 0.8845262096774194;update best score to 0.8955141129032258\n",
      "2022-11-03 19:55:22 [INFO]: [ModelCheckpoint]: Checkpoint at epoch 4: accuracy improved from 0.8845262096774194 to 0.8955141129032258, saving model to ../output/exp1/train.1.model_4.chk\n"
     ]
    },
    {
     "name": "stderr",
     "output_type": "stream",
     "text": [
      "\n",
      "Training in epoch 5/100: 100%|██████████| 617/617 [11:03<00:00,  1.08s/batch]\n",
      "Validating in epoch 5/100: 100%|██████████| 155/155 [02:15<00:00,  1.15batch/s]"
     ]
    },
    {
     "name": "stdout",
     "output_type": "stream",
     "text": [
      "2022-11-03 20:08:42 [INFO]: [EvalScoreRecoder]: In epoch 5/100, loss train score: 0.08919170352206165, val score: 0.35702857006821903\n",
      "2022-11-03 20:08:42 [INFO]: [EvalScoreRecoder]: In epoch 5/100, accuracy train score: 0.9665467990275527, val score: 0.897429435483871\n",
      "2022-11-03 20:08:42 [INFO]: [EarlyStopper]: In epoch 5/100, accuracy score: 0.897429435483871, best accuracy score: 0.8955141129032258;update best score to 0.897429435483871\n",
      "2022-11-03 20:08:42 [INFO]: [ModelCheckpoint]: Checkpoint at epoch 5: accuracy improved from 0.8955141129032258 to 0.897429435483871, saving model to ../output/exp1/train.1.model_5.chk\n"
     ]
    },
    {
     "name": "stderr",
     "output_type": "stream",
     "text": [
      "\n",
      "Training in epoch 7/100: 100%|██████████| 617/617 [10:35<00:00,  1.03s/batch]\n",
      "Validating in epoch 7/100: 100%|██████████| 155/155 [02:15<00:00,  1.15batch/s]"
     ]
    },
    {
     "name": "stdout",
     "output_type": "stream",
     "text": [
      "2022-11-03 20:34:32 [INFO]: [EvalScoreRecoder]: In epoch 7/100, loss train score: 0.06881864647693815, val score: 0.3682730724520591\n",
      "2022-11-03 20:34:32 [INFO]: [EvalScoreRecoder]: In epoch 7/100, accuracy train score: 0.9745112439222042, val score: 0.9031754032258065\n",
      "2022-11-03 20:34:32 [INFO]: [EarlyStopper]: In epoch 7/100, accuracy score: 0.9031754032258065, best accuracy score: 0.9006552419354839;update best score to 0.9031754032258065\n",
      "2022-11-03 20:34:32 [INFO]: [ModelCheckpoint]: Checkpoint at epoch 7: accuracy improved from 0.9006552419354839 to 0.9031754032258065, saving model to ../output/exp1/train.1.model_7.chk\n"
     ]
    },
    {
     "name": "stderr",
     "output_type": "stream",
     "text": [
      "\n",
      "Training in epoch 8/100: 100%|██████████| 617/617 [11:19<00:00,  1.10s/batch]\n",
      "Validating in epoch 8/100: 100%|██████████| 155/155 [02:20<00:00,  1.10batch/s]"
     ]
    },
    {
     "name": "stdout",
     "output_type": "stream",
     "text": [
      "2022-11-03 20:48:13 [INFO]: [EvalScoreRecoder]: In epoch 8/100, loss train score: 0.06298130908953607, val score: 0.35872197655825727\n",
      "2022-11-03 20:48:13 [INFO]: [EvalScoreRecoder]: In epoch 8/100, accuracy train score: 0.9773095623987034, val score: 0.8961693548387096\n",
      "2022-11-03 20:48:13 [INFO]: [EarlyStopper]: In epoch 8/100, accuracy score: 0.8961693548387096, best accuracy score: 0.9031754032258065;accuracy score was not improved\n",
      "2022-11-03 20:48:13 [INFO]: [EarlyStopper]: Current wait count: 1, patience: 10\n",
      "2022-11-03 20:48:13 [INFO]: [ModelCheckpoint]: Checkpoint at epoch 8: accuracy did not improve\n"
     ]
    },
    {
     "name": "stderr",
     "output_type": "stream",
     "text": [
      "\n",
      "Training in epoch 11/100: 100%|██████████| 617/617 [10:40<00:00,  1.04s/batch]\n",
      "Validating in epoch 11/100: 100%|██████████| 155/155 [02:14<00:00,  1.15batch/s]"
     ]
    },
    {
     "name": "stdout",
     "output_type": "stream",
     "text": [
      "2022-11-03 21:27:01 [INFO]: [EvalScoreRecoder]: In epoch 11/100, loss train score: 0.05164713865284178, val score: 0.380592379500306\n",
      "2022-11-03 21:27:01 [INFO]: [EvalScoreRecoder]: In epoch 11/100, accuracy train score: 0.9817539505672609, val score: 0.9028729838709677\n",
      "2022-11-03 21:27:01 [INFO]: [EarlyStopper]: In epoch 11/100, accuracy score: 0.9028729838709677, best accuracy score: 0.9108366935483871;accuracy score was not improved\n",
      "2022-11-03 21:27:01 [INFO]: [EarlyStopper]: Current wait count: 1, patience: 10\n",
      "2022-11-03 21:27:01 [INFO]: [ModelCheckpoint]: Checkpoint at epoch 11: accuracy did not improve\n"
     ]
    },
    {
     "name": "stderr",
     "output_type": "stream",
     "text": [
      "\n",
      "Validating in epoch 12/100: 100%|██████████| 155/155 [02:15<00:00,  1.15batch/s]"
     ]
    },
    {
     "name": "stdout",
     "output_type": "stream",
     "text": [
      "2022-11-03 21:40:02 [INFO]: [EvalScoreRecoder]: In epoch 12/100, loss train score: 0.049670429623684266, val score: 0.35882421021852945\n",
      "2022-11-03 21:40:02 [INFO]: [EvalScoreRecoder]: In epoch 12/100, accuracy train score: 0.9824883508914101, val score: 0.9123487903225806\n",
      "2022-11-03 21:40:02 [INFO]: [EarlyStopper]: In epoch 12/100, accuracy score: 0.9123487903225806, best accuracy score: 0.9108366935483871;update best score to 0.9123487903225806\n",
      "2022-11-03 21:40:02 [INFO]: [ModelCheckpoint]: Checkpoint at epoch 12: accuracy improved from 0.9108366935483871 to 0.9123487903225806, saving model to ../output/exp1/train.1.model_12.chk\n"
     ]
    },
    {
     "name": "stderr",
     "output_type": "stream",
     "text": [
      "\n",
      "Training in epoch 13/100: 100%|██████████| 617/617 [10:36<00:00,  1.03s/batch]\n",
      "Validating in epoch 13/100: 100%|██████████| 155/155 [02:16<00:00,  1.13batch/s]"
     ]
    },
    {
     "name": "stdout",
     "output_type": "stream",
     "text": [
      "2022-11-03 21:52:55 [INFO]: [EvalScoreRecoder]: In epoch 13/100, loss train score: 0.04723301866043014, val score: 0.2983699968202986\n",
      "2022-11-03 21:52:55 [INFO]: [EvalScoreRecoder]: In epoch 13/100, accuracy train score: 0.9830961304700162, val score: 0.9164818548387097\n",
      "2022-11-03 21:52:55 [INFO]: [EarlyStopper]: In epoch 13/100, accuracy score: 0.9164818548387097, best accuracy score: 0.9123487903225806;update best score to 0.9164818548387097\n",
      "2022-11-03 21:52:55 [INFO]: [ModelCheckpoint]: Checkpoint at epoch 13: accuracy improved from 0.9123487903225806 to 0.9164818548387097, saving model to ../output/exp1/train.1.model_13.chk\n"
     ]
    },
    {
     "name": "stderr",
     "output_type": "stream",
     "text": [
      "\n",
      "Training in epoch 17/100: 100%|██████████| 617/617 [11:14<00:00,  1.09s/batch]\n",
      "Validating in epoch 17/100: 100%|██████████| 155/155 [02:14<00:00,  1.15batch/s]"
     ]
    },
    {
     "name": "stdout",
     "output_type": "stream",
     "text": [
      "2022-11-03 22:45:30 [INFO]: [EvalScoreRecoder]: In epoch 17/100, loss train score: 0.040729281833522535, val score: 0.36229094247889493\n",
      "2022-11-03 22:45:30 [INFO]: [EvalScoreRecoder]: In epoch 17/100, accuracy train score: 0.9852233589951378, val score: 0.9144153225806452\n",
      "2022-11-03 22:45:30 [INFO]: [EarlyStopper]: In epoch 17/100, accuracy score: 0.9144153225806452, best accuracy score: 0.9164818548387097;accuracy score was not improved\n",
      "2022-11-03 22:45:30 [INFO]: [EarlyStopper]: Current wait count: 4, patience: 10\n",
      "2022-11-03 22:45:30 [INFO]: [ModelCheckpoint]: Checkpoint at epoch 17: accuracy did not improve\n"
     ]
    },
    {
     "name": "stderr",
     "output_type": "stream",
     "text": [
      "\n",
      "Training in epoch 26/100: 100%|██████████| 617/617 [10:35<00:00,  1.03s/batch]\n",
      "Validating in epoch 26/100: 100%|██████████| 155/155 [02:15<00:00,  1.15batch/s]"
     ]
    },
    {
     "name": "stdout",
     "output_type": "stream",
     "text": [
      "2022-11-04 00:43:09 [INFO]: [EvalScoreRecoder]: In epoch 26/100, loss train score: 0.032636837143133236, val score: 0.36387476410898434\n",
      "2022-11-04 00:43:09 [INFO]: [EvalScoreRecoder]: In epoch 26/100, accuracy train score: 0.9883635534846029, val score: 0.9145161290322581\n",
      "2022-11-04 00:43:09 [INFO]: [EarlyStopper]: In epoch 26/100, accuracy score: 0.9145161290322581, best accuracy score: 0.9267641129032258;accuracy score was not improved\n",
      "2022-11-04 00:43:09 [INFO]: [EarlyStopper]: Current wait count: 7, patience: 10\n",
      "2022-11-04 00:43:09 [INFO]: [ModelCheckpoint]: Checkpoint at epoch 26: accuracy did not improve\n"
     ]
    },
    {
     "name": "stderr",
     "output_type": "stream",
     "text": [
      "\n",
      "Training in epoch 27/100: 100%|██████████| 617/617 [10:40<00:00,  1.04s/batch]\n",
      "Validating in epoch 27/100: 100%|██████████| 155/155 [02:15<00:00,  1.15batch/s]"
     ]
    },
    {
     "name": "stdout",
     "output_type": "stream",
     "text": [
      "2022-11-04 00:56:04 [INFO]: [EvalScoreRecoder]: In epoch 27/100, loss train score: 0.030827165761144797, val score: 0.398216769176079\n",
      "2022-11-04 00:56:04 [INFO]: [EvalScoreRecoder]: In epoch 27/100, accuracy train score: 0.9891486021069692, val score: 0.9056451612903226\n",
      "2022-11-04 00:56:04 [INFO]: [EarlyStopper]: In epoch 27/100, accuracy score: 0.9056451612903226, best accuracy score: 0.9267641129032258;accuracy score was not improved\n",
      "2022-11-04 00:56:04 [INFO]: [EarlyStopper]: Current wait count: 8, patience: 10\n",
      "2022-11-04 00:56:04 [INFO]: [ModelCheckpoint]: Checkpoint at epoch 27: accuracy did not improve\n"
     ]
    },
    {
     "name": "stderr",
     "output_type": "stream",
     "text": [
      "\n",
      "Training in epoch 28/100:  53%|█████▎    | 328/617 [05:38<04:58,  1.03s/batch]IOPub message rate exceeded.\n",
      "The Jupyter server will temporarily stop sending output\n",
      "to the client in order to avoid crashing it.\n",
      "To change this limit, set the config variable\n",
      "`--ServerApp.iopub_msg_rate_limit`.\n",
      "\n",
      "Current values:\n",
      "ServerApp.iopub_msg_rate_limit=1000.0 (msgs/sec)\n",
      "ServerApp.rate_limit_window=3.0 (secs)\n",
      "\n",
      "Validating in epoch 6/150: 100%|██████████| 40/40 [00:35<00:00,  1.13batch/s]"
     ]
    },
    {
     "name": "stdout",
     "output_type": "stream",
     "text": [
      "2022-11-04 01:48:35 [INFO]: [EvalScoreRecoder]: In epoch 6/150, loss train score: 0.30618212772886966, val score: 0.629839976131916\n",
      "2022-11-04 01:48:35 [INFO]: [EvalScoreRecoder]: In epoch 6/150, accuracy train score: 0.8621934335443038, val score: 0.7030815972222222\n",
      "2022-11-04 01:48:35 [INFO]: [EarlyStopper]: In epoch 6/150, accuracy score: 0.7030815972222222, best accuracy score: 0.7227430555555555;accuracy score was not improved\n",
      "2022-11-04 01:48:35 [INFO]: [EarlyStopper]: Current wait count: 1, patience: 15\n",
      "2022-11-04 01:48:35 [INFO]: [ModelCheckpoint]: Checkpoint at epoch 6: accuracy did not improve\n"
     ]
    },
    {
     "name": "stderr",
     "output_type": "stream",
     "text": [
      "\n",
      "Training in epoch 7/150: 100%|██████████| 158/158 [03:09<00:00,  1.20s/batch]\n",
      "Validating in epoch 7/150: 100%|██████████| 40/40 [00:35<00:00,  1.12batch/s]"
     ]
    },
    {
     "name": "stdout",
     "output_type": "stream",
     "text": [
      "2022-11-04 01:52:21 [INFO]: [EvalScoreRecoder]: In epoch 7/150, loss train score: 0.2426306283030706, val score: 0.6341238744556904\n",
      "2022-11-04 01:52:21 [INFO]: [EvalScoreRecoder]: In epoch 7/150, accuracy train score: 0.8964102056962026, val score: 0.7065755208333334\n",
      "2022-11-04 01:52:21 [INFO]: [EarlyStopper]: In epoch 7/150, accuracy score: 0.7065755208333334, best accuracy score: 0.7227430555555555;accuracy score was not improved\n",
      "2022-11-04 01:52:21 [INFO]: [EarlyStopper]: Current wait count: 2, patience: 15\n",
      "2022-11-04 01:52:21 [INFO]: [ModelCheckpoint]: Checkpoint at epoch 7: accuracy did not improve\n"
     ]
    },
    {
     "name": "stderr",
     "output_type": "stream",
     "text": [
      "\n",
      "Training in epoch 8/150: 100%|██████████| 158/158 [03:01<00:00,  1.15s/batch]\n",
      "Validating in epoch 8/150: 100%|██████████| 40/40 [00:35<00:00,  1.14batch/s]"
     ]
    },
    {
     "name": "stdout",
     "output_type": "stream",
     "text": [
      "2022-11-04 01:55:58 [INFO]: [EvalScoreRecoder]: In epoch 8/150, loss train score: 0.20801355258290527, val score: 0.6016703449189663\n",
      "2022-11-04 01:55:58 [INFO]: [EvalScoreRecoder]: In epoch 8/150, accuracy train score: 0.913370253164557, val score: 0.7271267361111111\n",
      "2022-11-04 01:55:58 [INFO]: [EarlyStopper]: In epoch 8/150, accuracy score: 0.7271267361111111, best accuracy score: 0.7227430555555555;update best score to 0.7271267361111111\n",
      "2022-11-04 01:55:58 [INFO]: [ModelCheckpoint]: Checkpoint at epoch 8: accuracy improved from 0.7227430555555555 to 0.7271267361111111, saving model to ../output/exp1/train.0.model_8.chk\n"
     ]
    },
    {
     "name": "stderr",
     "output_type": "stream",
     "text": [
      "\n",
      "Training in epoch 9/150: 100%|██████████| 158/158 [03:08<00:00,  1.20s/batch]\n",
      "Validating in epoch 9/150: 100%|██████████| 40/40 [00:35<00:00,  1.14batch/s]"
     ]
    },
    {
     "name": "stdout",
     "output_type": "stream",
     "text": [
      "2022-11-04 01:59:44 [INFO]: [EvalScoreRecoder]: In epoch 9/150, loss train score: 0.16824346302147908, val score: 0.8495788261294365\n",
      "2022-11-04 01:59:44 [INFO]: [EvalScoreRecoder]: In epoch 9/150, accuracy train score: 0.9313192246835443, val score: 0.7265625\n",
      "2022-11-04 01:59:44 [INFO]: [EarlyStopper]: In epoch 9/150, accuracy score: 0.7265625, best accuracy score: 0.7271267361111111;accuracy score was not improved\n",
      "2022-11-04 01:59:44 [INFO]: [EarlyStopper]: Current wait count: 1, patience: 15\n",
      "2022-11-04 01:59:44 [INFO]: [ModelCheckpoint]: Checkpoint at epoch 9: accuracy did not improve\n"
     ]
    },
    {
     "name": "stderr",
     "output_type": "stream",
     "text": [
      "\n",
      "Training in epoch 10/150: 100%|██████████| 158/158 [03:00<00:00,  1.14s/batch]\n",
      "Validating in epoch 10/150: 100%|██████████| 40/40 [00:36<00:00,  1.09batch/s]"
     ]
    },
    {
     "name": "stdout",
     "output_type": "stream",
     "text": [
      "2022-11-04 02:03:21 [INFO]: [EvalScoreRecoder]: In epoch 10/150, loss train score: 0.14961628408961092, val score: 0.8255753636360168\n",
      "2022-11-04 02:03:21 [INFO]: [EvalScoreRecoder]: In epoch 10/150, accuracy train score: 0.9402195411392406, val score: 0.7376953125\n",
      "2022-11-04 02:03:21 [INFO]: [EarlyStopper]: In epoch 10/150, accuracy score: 0.7376953125, best accuracy score: 0.7271267361111111;update best score to 0.7376953125\n",
      "2022-11-04 02:03:21 [INFO]: [ModelCheckpoint]: Checkpoint at epoch 10: accuracy improved from 0.7271267361111111 to 0.7376953125, saving model to ../output/exp1/train.0.model_10.chk\n"
     ]
    },
    {
     "name": "stderr",
     "output_type": "stream",
     "text": [
      "\n",
      "Training in epoch 11/150: 100%|██████████| 158/158 [03:01<00:00,  1.15s/batch]\n",
      "Validating in epoch 11/150: 100%|██████████| 40/40 [00:44<00:00,  1.12s/batch]"
     ]
    },
    {
     "name": "stdout",
     "output_type": "stream",
     "text": [
      "2022-11-04 02:07:09 [INFO]: [EvalScoreRecoder]: In epoch 11/150, loss train score: 0.12449141534169123, val score: 0.7651888594031334\n",
      "2022-11-04 02:07:09 [INFO]: [EvalScoreRecoder]: In epoch 11/150, accuracy train score: 0.9522349683544303, val score: 0.7495876736111111\n",
      "2022-11-04 02:07:09 [INFO]: [EarlyStopper]: In epoch 11/150, accuracy score: 0.7495876736111111, best accuracy score: 0.7376953125;update best score to 0.7495876736111111\n",
      "2022-11-04 02:07:09 [INFO]: [ModelCheckpoint]: Checkpoint at epoch 11: accuracy improved from 0.7376953125 to 0.7495876736111111, saving model to ../output/exp1/train.0.model_11.chk\n"
     ]
    },
    {
     "name": "stderr",
     "output_type": "stream",
     "text": [
      "\n",
      "Training in epoch 12/150: 100%|██████████| 158/158 [03:30<00:00,  1.33s/batch]\n",
      "Training in epoch 13/150: 100%|██████████| 158/158 [03:03<00:00,  1.16s/batch]\n",
      "Validating in epoch 13/150: 100%|██████████| 40/40 [00:35<00:00,  1.12batch/s]"
     ]
    },
    {
     "name": "stdout",
     "output_type": "stream",
     "text": [
      "2022-11-04 02:14:55 [INFO]: [EvalScoreRecoder]: In epoch 13/150, loss train score: 0.10312371940021933, val score: 0.9352031052112579\n",
      "2022-11-04 02:14:55 [INFO]: [EvalScoreRecoder]: In epoch 13/150, accuracy train score: 0.9616791930379747, val score: 0.7453993055555556\n",
      "2022-11-04 02:14:55 [INFO]: [EarlyStopper]: In epoch 13/150, accuracy score: 0.7453993055555556, best accuracy score: 0.7495876736111111;accuracy score was not improved\n",
      "2022-11-04 02:14:55 [INFO]: [EarlyStopper]: Current wait count: 2, patience: 15\n",
      "2022-11-04 02:14:55 [INFO]: [ModelCheckpoint]: Checkpoint at epoch 13: accuracy did not improve\n"
     ]
    },
    {
     "name": "stderr",
     "output_type": "stream",
     "text": [
      "\n",
      "Training in epoch 14/150: 100%|██████████| 158/158 [03:01<00:00,  1.15s/batch]\n",
      "Validating in epoch 14/150: 100%|██████████| 40/40 [00:35<00:00,  1.12batch/s]"
     ]
    },
    {
     "name": "stdout",
     "output_type": "stream",
     "text": [
      "2022-11-04 02:18:33 [INFO]: [EvalScoreRecoder]: In epoch 14/150, loss train score: 0.08896063498657526, val score: 0.8867630183696746\n",
      "2022-11-04 02:18:33 [INFO]: [EvalScoreRecoder]: In epoch 14/150, accuracy train score: 0.9681566455696202, val score: 0.7548177083333334\n",
      "2022-11-04 02:18:33 [INFO]: [EarlyStopper]: In epoch 14/150, accuracy score: 0.7548177083333334, best accuracy score: 0.7495876736111111;update best score to 0.7548177083333334\n",
      "2022-11-04 02:18:33 [INFO]: [ModelCheckpoint]: Checkpoint at epoch 14: accuracy improved from 0.7495876736111111 to 0.7548177083333334, saving model to ../output/exp1/train.0.model_14.chk\n"
     ]
    },
    {
     "name": "stderr",
     "output_type": "stream",
     "text": [
      "\n",
      "Training in epoch 15/150: 100%|██████████| 158/158 [03:06<00:00,  1.18s/batch]\n",
      "Validating in epoch 15/150: 100%|██████████| 40/40 [00:37<00:00,  1.05batch/s]"
     ]
    },
    {
     "name": "stdout",
     "output_type": "stream",
     "text": [
      "2022-11-04 02:22:19 [INFO]: [EvalScoreRecoder]: In epoch 15/150, loss train score: 0.06917936336455419, val score: 0.9082084983587265\n",
      "2022-11-04 02:22:19 [INFO]: [EvalScoreRecoder]: In epoch 15/150, accuracy train score: 0.9753263449367089, val score: 0.749240451388889\n",
      "2022-11-04 02:22:19 [INFO]: [EarlyStopper]: In epoch 15/150, accuracy score: 0.749240451388889, best accuracy score: 0.7548177083333334;accuracy score was not improved\n",
      "2022-11-04 02:22:19 [INFO]: [EarlyStopper]: Current wait count: 1, patience: 15\n",
      "2022-11-04 02:22:19 [INFO]: [ModelCheckpoint]: Checkpoint at epoch 15: accuracy did not improve\n"
     ]
    },
    {
     "name": "stderr",
     "output_type": "stream",
     "text": [
      "\n",
      "Training in epoch 21/150: 100%|██████████| 158/158 [03:16<00:00,  1.24s/batch]\n",
      "Validating in epoch 21/150: 100%|██████████| 40/40 [00:35<00:00,  1.12batch/s]"
     ]
    },
    {
     "name": "stdout",
     "output_type": "stream",
     "text": [
      "2022-11-04 02:44:47 [INFO]: [EvalScoreRecoder]: In epoch 21/150, loss train score: 0.04476800889861357, val score: 0.976467078924179\n",
      "2022-11-04 02:44:47 [INFO]: [EvalScoreRecoder]: In epoch 21/150, accuracy train score: 0.9841277689873418, val score: 0.7572482638888889\n",
      "2022-11-04 02:44:47 [INFO]: [EarlyStopper]: In epoch 21/150, accuracy score: 0.7572482638888889, best accuracy score: 0.7613498263888889;accuracy score was not improved\n",
      "2022-11-04 02:44:47 [INFO]: [EarlyStopper]: Current wait count: 2, patience: 15\n",
      "2022-11-04 02:44:47 [INFO]: [ModelCheckpoint]: Checkpoint at epoch 21: accuracy did not improve\n"
     ]
    },
    {
     "name": "stderr",
     "output_type": "stream",
     "text": [
      "\n",
      "Training in epoch 22/150: 100%|██████████| 158/158 [03:01<00:00,  1.15s/batch]\n",
      "Validating in epoch 22/150: 100%|██████████| 40/40 [00:35<00:00,  1.14batch/s]"
     ]
    },
    {
     "name": "stdout",
     "output_type": "stream",
     "text": [
      "2022-11-04 02:48:24 [INFO]: [EvalScoreRecoder]: In epoch 22/150, loss train score: 0.04659761285023982, val score: 1.2221299722790717\n",
      "2022-11-04 02:48:24 [INFO]: [EvalScoreRecoder]: In epoch 22/150, accuracy train score: 0.9836333069620253, val score: 0.7552083333333334\n",
      "2022-11-04 02:48:24 [INFO]: [EarlyStopper]: In epoch 22/150, accuracy score: 0.7552083333333334, best accuracy score: 0.7613498263888889;accuracy score was not improved\n",
      "2022-11-04 02:48:24 [INFO]: [EarlyStopper]: Current wait count: 3, patience: 15\n",
      "2022-11-04 02:48:24 [INFO]: [ModelCheckpoint]: Checkpoint at epoch 22: accuracy did not improve\n"
     ]
    },
    {
     "name": "stderr",
     "output_type": "stream",
     "text": [
      "\n",
      "Training in epoch 23/150: 100%|██████████| 158/158 [03:35<00:00,  1.36s/batch]\n",
      "Validating in epoch 23/150: 100%|██████████| 40/40 [00:35<00:00,  1.13batch/s]"
     ]
    },
    {
     "name": "stdout",
     "output_type": "stream",
     "text": [
      "2022-11-04 02:52:35 [INFO]: [EvalScoreRecoder]: In epoch 23/150, loss train score: 0.047093104179123345, val score: 0.9203473523259162\n",
      "2022-11-04 02:52:35 [INFO]: [EvalScoreRecoder]: In epoch 23/150, accuracy train score: 0.9843255537974683, val score: 0.76328125\n",
      "2022-11-04 02:52:35 [INFO]: [EarlyStopper]: In epoch 23/150, accuracy score: 0.76328125, best accuracy score: 0.7613498263888889;update best score to 0.76328125\n",
      "2022-11-04 02:52:35 [INFO]: [ModelCheckpoint]: Checkpoint at epoch 23: accuracy improved from 0.7613498263888889 to 0.76328125, saving model to ../output/exp1/train.0.model_23.chk\n"
     ]
    },
    {
     "name": "stderr",
     "output_type": "stream",
     "text": [
      "\n",
      "Training in epoch 24/150: 100%|██████████| 158/158 [03:01<00:00,  1.15s/batch]\n",
      "Validating in epoch 24/150: 100%|██████████| 40/40 [00:35<00:00,  1.13batch/s]"
     ]
    },
    {
     "name": "stdout",
     "output_type": "stream",
     "text": [
      "2022-11-04 02:56:13 [INFO]: [EvalScoreRecoder]: In epoch 24/150, loss train score: 0.0415548035540453, val score: 1.2768303364515305\n",
      "2022-11-04 02:56:13 [INFO]: [EvalScoreRecoder]: In epoch 24/150, accuracy train score: 0.9857594936708861, val score: 0.7622178819444445\n",
      "2022-11-04 02:56:13 [INFO]: [EarlyStopper]: In epoch 24/150, accuracy score: 0.7622178819444445, best accuracy score: 0.76328125;accuracy score was not improved\n",
      "2022-11-04 02:56:13 [INFO]: [EarlyStopper]: Current wait count: 1, patience: 15\n",
      "2022-11-04 02:56:13 [INFO]: [ModelCheckpoint]: Checkpoint at epoch 24: accuracy did not improve\n"
     ]
    },
    {
     "name": "stderr",
     "output_type": "stream",
     "text": [
      "\n",
      "Validating in epoch 25/150: 100%|██████████| 40/40 [00:44<00:00,  1.11s/batch]"
     ]
    },
    {
     "name": "stdout",
     "output_type": "stream",
     "text": [
      "2022-11-04 03:00:02 [INFO]: [EvalScoreRecoder]: In epoch 25/150, loss train score: 0.036320215643713655, val score: 1.218645167350769\n",
      "2022-11-04 03:00:02 [INFO]: [EvalScoreRecoder]: In epoch 25/150, accuracy train score: 0.9870450949367089, val score: 0.7672092013888889\n",
      "2022-11-04 03:00:02 [INFO]: [EarlyStopper]: In epoch 25/150, accuracy score: 0.7672092013888889, best accuracy score: 0.76328125;update best score to 0.7672092013888889\n",
      "2022-11-04 03:00:02 [INFO]: [ModelCheckpoint]: Checkpoint at epoch 25: accuracy improved from 0.76328125 to 0.7672092013888889, saving model to ../output/exp1/train.0.model_25.chk\n"
     ]
    },
    {
     "name": "stderr",
     "output_type": "stream",
     "text": [
      "\n",
      "Training in epoch 26/150: 100%|██████████| 158/158 [03:01<00:00,  1.15s/batch]\n",
      "Validating in epoch 26/150: 100%|██████████| 40/40 [00:37<00:00,  1.08batch/s]"
     ]
    },
    {
     "name": "stdout",
     "output_type": "stream",
     "text": [
      "2022-11-04 03:03:41 [INFO]: [EvalScoreRecoder]: In epoch 26/150, loss train score: 0.040904359246108274, val score: 1.1182149842381477\n",
      "2022-11-04 03:03:41 [INFO]: [EvalScoreRecoder]: In epoch 26/150, accuracy train score: 0.9853639240506329, val score: 0.7700520833333334\n",
      "2022-11-04 03:03:41 [INFO]: [EarlyStopper]: In epoch 26/150, accuracy score: 0.7700520833333334, best accuracy score: 0.7672092013888889;update best score to 0.7700520833333334\n",
      "2022-11-04 03:03:41 [INFO]: [ModelCheckpoint]: Checkpoint at epoch 26: accuracy improved from 0.7672092013888889 to 0.7700520833333334, saving model to ../output/exp1/train.0.model_26.chk\n"
     ]
    },
    {
     "name": "stderr",
     "output_type": "stream",
     "text": [
      "\n",
      "Training in epoch 27/150: 100%|██████████| 158/158 [03:06<00:00,  1.18s/batch]\n",
      "Validating in epoch 27/150: 100%|██████████| 40/40 [00:35<00:00,  1.14batch/s]"
     ]
    },
    {
     "name": "stdout",
     "output_type": "stream",
     "text": [
      "2022-11-04 03:07:24 [INFO]: [EvalScoreRecoder]: In epoch 27/150, loss train score: 0.04125377074579555, val score: 1.0332121342420577\n",
      "2022-11-04 03:07:24 [INFO]: [EvalScoreRecoder]: In epoch 27/150, accuracy train score: 0.9863034018987342, val score: 0.761935763888889\n",
      "2022-11-04 03:07:24 [INFO]: [EarlyStopper]: In epoch 27/150, accuracy score: 0.761935763888889, best accuracy score: 0.7700520833333334;accuracy score was not improved\n",
      "2022-11-04 03:07:24 [INFO]: [EarlyStopper]: Current wait count: 1, patience: 15\n",
      "2022-11-04 03:07:24 [INFO]: [ModelCheckpoint]: Checkpoint at epoch 27: accuracy did not improve\n"
     ]
    },
    {
     "name": "stderr",
     "output_type": "stream",
     "text": [
      "\n",
      "Validating in epoch 30/150: 100%|██████████| 40/40 [00:35<00:00,  1.12batch/s]"
     ]
    },
    {
     "name": "stdout",
     "output_type": "stream",
     "text": [
      "2022-11-04 03:18:15 [INFO]: [EvalScoreRecoder]: In epoch 30/150, loss train score: 0.04005126907789337, val score: 1.070102860033512\n",
      "2022-11-04 03:18:15 [INFO]: [EvalScoreRecoder]: In epoch 30/150, accuracy train score: 0.9863528481012658, val score: 0.7585069444444444\n",
      "2022-11-04 03:18:15 [INFO]: [EarlyStopper]: In epoch 30/150, accuracy score: 0.7585069444444444, best accuracy score: 0.7700520833333334;accuracy score was not improved\n",
      "2022-11-04 03:18:15 [INFO]: [EarlyStopper]: Current wait count: 4, patience: 15\n",
      "2022-11-04 03:18:15 [INFO]: [ModelCheckpoint]: Checkpoint at epoch 30: accuracy did not improve\n"
     ]
    },
    {
     "name": "stderr",
     "output_type": "stream",
     "text": [
      "\n",
      "Training in epoch 31/150: 100%|██████████| 158/158 [03:01<00:00,  1.15s/batch]\n",
      "Validating in epoch 31/150: 100%|██████████| 40/40 [00:39<00:00,  1.00batch/s]"
     ]
    },
    {
     "name": "stdout",
     "output_type": "stream",
     "text": [
      "2022-11-04 03:21:56 [INFO]: [EvalScoreRecoder]: In epoch 31/150, loss train score: 0.039541078099975056, val score: 1.0370321705937386\n",
      "2022-11-04 03:21:56 [INFO]: [EvalScoreRecoder]: In epoch 31/150, accuracy train score: 0.9872428797468354, val score: 0.751953125\n",
      "2022-11-04 03:21:56 [INFO]: [EarlyStopper]: In epoch 31/150, accuracy score: 0.751953125, best accuracy score: 0.7700520833333334;accuracy score was not improved\n",
      "2022-11-04 03:21:56 [INFO]: [EarlyStopper]: Current wait count: 5, patience: 15\n",
      "2022-11-04 03:21:56 [INFO]: [ModelCheckpoint]: Checkpoint at epoch 31: accuracy did not improve\n"
     ]
    },
    {
     "name": "stderr",
     "output_type": "stream",
     "text": [
      "\n",
      "Training in epoch 32/150: 100%|██████████| 158/158 [03:00<00:00,  1.14s/batch]\n",
      "Validating in epoch 32/150: 100%|██████████| 40/40 [00:35<00:00,  1.12batch/s]"
     ]
    },
    {
     "name": "stdout",
     "output_type": "stream",
     "text": [
      "2022-11-04 03:25:33 [INFO]: [EvalScoreRecoder]: In epoch 32/150, loss train score: 0.036548818625720465, val score: 1.113882691413164\n",
      "2022-11-04 03:25:33 [INFO]: [EvalScoreRecoder]: In epoch 32/150, accuracy train score: 0.986748417721519, val score: 0.7602864583333334\n",
      "2022-11-04 03:25:33 [INFO]: [EarlyStopper]: In epoch 32/150, accuracy score: 0.7602864583333334, best accuracy score: 0.7700520833333334;accuracy score was not improved\n",
      "2022-11-04 03:25:33 [INFO]: [EarlyStopper]: Current wait count: 6, patience: 15\n",
      "2022-11-04 03:25:33 [INFO]: [ModelCheckpoint]: Checkpoint at epoch 32: accuracy did not improve\n"
     ]
    },
    {
     "name": "stderr",
     "output_type": "stream",
     "text": [
      "\n",
      "Training in epoch 33/150: 100%|██████████| 158/158 [03:01<00:00,  1.15s/batch]\n",
      "Validating in epoch 33/150: 100%|██████████| 40/40 [00:40<00:00,  1.01s/batch]"
     ]
    },
    {
     "name": "stdout",
     "output_type": "stream",
     "text": [
      "2022-11-04 03:29:15 [INFO]: [EvalScoreRecoder]: In epoch 33/150, loss train score: 0.043726611855923185, val score: 1.029590056836605\n",
      "2022-11-04 03:29:15 [INFO]: [EvalScoreRecoder]: In epoch 33/150, accuracy train score: 0.9852650316455697, val score: 0.7646484375\n",
      "2022-11-04 03:29:15 [INFO]: [EarlyStopper]: In epoch 33/150, accuracy score: 0.7646484375, best accuracy score: 0.7700520833333334;accuracy score was not improved\n",
      "2022-11-04 03:29:15 [INFO]: [EarlyStopper]: Current wait count: 7, patience: 15\n",
      "2022-11-04 03:29:15 [INFO]: [ModelCheckpoint]: Checkpoint at epoch 33: accuracy did not improve\n"
     ]
    },
    {
     "name": "stderr",
     "output_type": "stream",
     "text": [
      "\n",
      "Training in epoch 34/150: 100%|██████████| 158/158 [03:21<00:00,  1.28s/batch]\n",
      "Validating in epoch 34/150: 100%|██████████| 40/40 [00:35<00:00,  1.11batch/s]"
     ]
    },
    {
     "name": "stdout",
     "output_type": "stream",
     "text": [
      "2022-11-04 03:33:13 [INFO]: [EvalScoreRecoder]: In epoch 34/150, loss train score: 0.03610553633428291, val score: 1.1705876514315605\n",
      "2022-11-04 03:33:13 [INFO]: [EvalScoreRecoder]: In epoch 34/150, accuracy train score: 0.9868967563291139, val score: 0.7641710069444445\n",
      "2022-11-04 03:33:13 [INFO]: [EarlyStopper]: In epoch 34/150, accuracy score: 0.7641710069444445, best accuracy score: 0.7700520833333334;accuracy score was not improved\n",
      "2022-11-04 03:33:13 [INFO]: [EarlyStopper]: Current wait count: 8, patience: 15\n",
      "2022-11-04 03:33:13 [INFO]: [ModelCheckpoint]: Checkpoint at epoch 34: accuracy did not improve\n"
     ]
    },
    {
     "name": "stderr",
     "output_type": "stream",
     "text": [
      "\n",
      "Training in epoch 35/150: 100%|██████████| 158/158 [03:02<00:00,  1.15s/batch]\n",
      "Validating in epoch 35/150: 100%|██████████| 40/40 [00:35<00:00,  1.14batch/s]"
     ]
    },
    {
     "name": "stdout",
     "output_type": "stream",
     "text": [
      "2022-11-04 03:36:50 [INFO]: [EvalScoreRecoder]: In epoch 35/150, loss train score: 0.03837522437510116, val score: 1.1097544044256211\n",
      "2022-11-04 03:36:50 [INFO]: [EvalScoreRecoder]: In epoch 35/150, accuracy train score: 0.9872923259493671, val score: 0.7495225694444445\n",
      "2022-11-04 03:36:50 [INFO]: [EarlyStopper]: In epoch 35/150, accuracy score: 0.7495225694444445, best accuracy score: 0.7700520833333334;accuracy score was not improved\n",
      "2022-11-04 03:36:50 [INFO]: [EarlyStopper]: Current wait count: 9, patience: 15\n",
      "2022-11-04 03:36:50 [INFO]: [ModelCheckpoint]: Checkpoint at epoch 35: accuracy did not improve\n"
     ]
    },
    {
     "name": "stderr",
     "output_type": "stream",
     "text": [
      "\n",
      "Training in epoch 37/150: 100%|██████████| 158/158 [03:05<00:00,  1.18s/batch]\n",
      "Validating in epoch 37/150: 100%|██████████| 40/40 [00:35<00:00,  1.12batch/s]"
     ]
    },
    {
     "name": "stdout",
     "output_type": "stream",
     "text": [
      "2022-11-04 03:44:10 [INFO]: [EvalScoreRecoder]: In epoch 37/150, loss train score: 0.03569954113233127, val score: 1.0646971791982651\n",
      "2022-11-04 03:44:10 [INFO]: [EvalScoreRecoder]: In epoch 37/150, accuracy train score: 0.98828125, val score: 0.7667100694444444\n",
      "2022-11-04 03:44:10 [INFO]: [EarlyStopper]: In epoch 37/150, accuracy score: 0.7667100694444444, best accuracy score: 0.7700520833333334;accuracy score was not improved\n",
      "2022-11-04 03:44:10 [INFO]: [EarlyStopper]: Current wait count: 11, patience: 15\n",
      "2022-11-04 03:44:10 [INFO]: [ModelCheckpoint]: Checkpoint at epoch 37: accuracy did not improve\n"
     ]
    },
    {
     "name": "stderr",
     "output_type": "stream",
     "text": [
      "\n",
      "Training in epoch 38/150: 100%|██████████| 158/158 [03:03<00:00,  1.16s/batch]\n",
      "Validating in epoch 38/150: 100%|██████████| 40/40 [00:35<00:00,  1.12batch/s]"
     ]
    },
    {
     "name": "stdout",
     "output_type": "stream",
     "text": [
      "2022-11-04 03:47:49 [INFO]: [EvalScoreRecoder]: In epoch 38/150, loss train score: 0.029946367963676966, val score: 1.256649449467659\n",
      "2022-11-04 03:47:49 [INFO]: [EvalScoreRecoder]: In epoch 38/150, accuracy train score: 0.9894185126582279, val score: 0.7616970486111111\n",
      "2022-11-04 03:47:49 [INFO]: [EarlyStopper]: In epoch 38/150, accuracy score: 0.7616970486111111, best accuracy score: 0.7700520833333334;accuracy score was not improved\n",
      "2022-11-04 03:47:49 [INFO]: [EarlyStopper]: Current wait count: 12, patience: 15\n",
      "2022-11-04 03:47:49 [INFO]: [ModelCheckpoint]: Checkpoint at epoch 38: accuracy did not improve\n"
     ]
    },
    {
     "name": "stderr",
     "output_type": "stream",
     "text": [
      "\n",
      "Training in epoch 0/100: 100%|██████████| 617/617 [10:35<00:00,  1.03s/batch]]\n",
      "Validating in epoch 0/100: 100%|██████████| 155/155 [02:16<00:00,  1.14batch/s]"
     ]
    },
    {
     "name": "stdout",
     "output_type": "stream",
     "text": [
      "2022-11-04 04:11:39 [INFO]: [EvalScoreRecoder]: In epoch 0/100, loss train score: 0.5513873698138534, val score: 0.42390482617962744\n",
      "2022-11-04 04:11:39 [INFO]: [EvalScoreRecoder]: In epoch 0/100, accuracy train score: 0.7201428282009724, val score: 0.8094254032258065\n",
      "2022-11-04 04:11:39 [INFO]: [EarlyStopper]: In epoch 0/100, accuracy score: 0.8094254032258065, best accuracy score: -inf;update best score to 0.8094254032258065\n",
      "2022-11-04 04:11:39 [INFO]: [ModelCheckpoint]: Checkpoint at epoch 0: accuracy improved from -inf to 0.8094254032258065, saving model to ../output/exp1/train.1.model_0.chk\n"
     ]
    },
    {
     "name": "stderr",
     "output_type": "stream",
     "text": [
      "\n",
      "Training in epoch 10/100: 100%|██████████| 617/617 [10:53<00:00,  1.06s/batch]\n",
      "Validating in epoch 10/100: 100%|██████████| 155/155 [02:16<00:00,  1.14batch/s]"
     ]
    },
    {
     "name": "stdout",
     "output_type": "stream",
     "text": [
      "2022-11-04 06:22:20 [INFO]: [EvalScoreRecoder]: In epoch 10/100, loss train score: 0.05388495222541973, val score: 0.3124147840805592\n",
      "2022-11-04 06:22:20 [INFO]: [EvalScoreRecoder]: In epoch 10/100, accuracy train score: 0.9808169570502431, val score: 0.9140625\n",
      "2022-11-04 06:22:20 [INFO]: [EarlyStopper]: In epoch 10/100, accuracy score: 0.9140625, best accuracy score: 0.9172379032258065;accuracy score was not improved\n",
      "2022-11-04 06:22:20 [INFO]: [EarlyStopper]: Current wait count: 2, patience: 10\n",
      "2022-11-04 06:22:20 [INFO]: [ModelCheckpoint]: Checkpoint at epoch 10: accuracy did not improve\n"
     ]
    },
    {
     "name": "stderr",
     "output_type": "stream",
     "text": [
      "\n",
      "Training in epoch 11/100: 100%|██████████| 617/617 [10:33<00:00,  1.03s/batch]\n",
      "Validating in epoch 11/100:  85%|████████▌ | 132/155 [01:55<00:19,  1.15batch/s]IOPub message rate exceeded.\n",
      "The Jupyter server will temporarily stop sending output\n",
      "to the client in order to avoid crashing it.\n",
      "To change this limit, set the config variable\n",
      "`--ServerApp.iopub_msg_rate_limit`.\n",
      "\n",
      "Current values:\n",
      "ServerApp.iopub_msg_rate_limit=1000.0 (msgs/sec)\n",
      "ServerApp.rate_limit_window=3.0 (secs)\n",
      "\n",
      "Validating in epoch 16/100: 100%|██████████| 155/155 [02:15<00:00,  1.14batch/s]"
     ]
    },
    {
     "name": "stdout",
     "output_type": "stream",
     "text": [
      "2022-11-04 07:41:30 [INFO]: [EvalScoreRecoder]: In epoch 16/100, loss train score: 0.041789109924250785, val score: 0.29590199391748156\n",
      "2022-11-04 07:41:30 [INFO]: [EvalScoreRecoder]: In epoch 16/100, accuracy train score: 0.9851094003241491, val score: 0.9192540322580646\n",
      "2022-11-04 07:41:30 [INFO]: [EarlyStopper]: In epoch 16/100, accuracy score: 0.9192540322580646, best accuracy score: 0.9233870967741935;accuracy score was not improved\n",
      "2022-11-04 07:41:30 [INFO]: [EarlyStopper]: Current wait count: 1, patience: 10\n",
      "2022-11-04 07:41:30 [INFO]: [ModelCheckpoint]: Checkpoint at epoch 16: accuracy did not improve\n"
     ]
    },
    {
     "name": "stderr",
     "output_type": "stream",
     "text": [
      "\n",
      "Training in epoch 28/100: 100%|██████████| 617/617 [10:51<00:00,  1.06s/batch]\n",
      "Validating in epoch 28/100: 100%|██████████| 155/155 [02:15<00:00,  1.14batch/s]"
     ]
    },
    {
     "name": "stdout",
     "output_type": "stream",
     "text": [
      "2022-11-04 10:20:28 [INFO]: [EvalScoreRecoder]: In epoch 28/100, loss train score: 0.03149182499396559, val score: 0.33612174850630605\n",
      "2022-11-04 10:20:28 [INFO]: [EvalScoreRecoder]: In epoch 28/100, accuracy train score: 0.989224574554295, val score: 0.9253024193548387\n",
      "2022-11-04 10:20:28 [INFO]: [EarlyStopper]: In epoch 28/100, accuracy score: 0.9253024193548387, best accuracy score: 0.9354838709677419;accuracy score was not improved\n",
      "2022-11-04 10:20:28 [INFO]: [EarlyStopper]: Current wait count: 2, patience: 10\n",
      "2022-11-04 10:20:28 [INFO]: [ModelCheckpoint]: Checkpoint at epoch 28: accuracy did not improve\n"
     ]
    },
    {
     "name": "stderr",
     "output_type": "stream",
     "text": [
      "\n",
      "Training in epoch 29/100: 100%|██████████| 617/617 [10:33<00:00,  1.03s/batch]\n",
      "Validating in epoch 29/100: 100%|██████████| 155/155 [02:15<00:00,  1.14batch/s]"
     ]
    },
    {
     "name": "stdout",
     "output_type": "stream",
     "text": [
      "2022-11-04 10:33:18 [INFO]: [EvalScoreRecoder]: In epoch 29/100, loss train score: 0.030104467767834923, val score: 0.3210868438309614\n",
      "2022-11-04 10:33:18 [INFO]: [EvalScoreRecoder]: In epoch 29/100, accuracy train score: 0.9891232779578606, val score: 0.9117943548387096\n",
      "2022-11-04 10:33:18 [INFO]: [EarlyStopper]: In epoch 29/100, accuracy score: 0.9117943548387096, best accuracy score: 0.9354838709677419;accuracy score was not improved\n",
      "2022-11-04 10:33:18 [INFO]: [EarlyStopper]: Current wait count: 3, patience: 10\n",
      "2022-11-04 10:33:18 [INFO]: [ModelCheckpoint]: Checkpoint at epoch 29: accuracy did not improve\n"
     ]
    },
    {
     "name": "stderr",
     "output_type": "stream",
     "text": [
      "\n",
      "Training in epoch 30/100:  28%|██▊       | 172/617 [02:58<07:38,  1.03s/batch]IOPub message rate exceeded.\n",
      "The Jupyter server will temporarily stop sending output\n",
      "to the client in order to avoid crashing it.\n",
      "To change this limit, set the config variable\n",
      "`--ServerApp.iopub_msg_rate_limit`.\n",
      "\n",
      "Current values:\n",
      "ServerApp.iopub_msg_rate_limit=1000.0 (msgs/sec)\n",
      "ServerApp.rate_limit_window=3.0 (secs)\n",
      "\n",
      "Training in epoch 1/150: 100%|██████████| 158/158 [02:57<00:00,  1.12s/batch]]\n",
      "Validating in epoch 1/150: 100%|██████████| 40/40 [00:35<00:00,  1.13batch/s]"
     ]
    },
    {
     "name": "stdout",
     "output_type": "stream",
     "text": [
      "2022-11-04 12:14:10 [INFO]: [EvalScoreRecoder]: In epoch 1/150, loss train score: 0.6958063904997669, val score: 0.6931978568434716\n",
      "2022-11-04 12:14:10 [INFO]: [EvalScoreRecoder]: In epoch 1/150, accuracy train score: 0.5028537522603979, val score: 0.5\n",
      "2022-11-04 12:14:10 [INFO]: [EarlyStopper]: In epoch 1/150, accuracy score: 0.5, best accuracy score: 0.5;accuracy score was not improved\n",
      "2022-11-04 12:14:10 [INFO]: [EarlyStopper]: Current wait count: 1, patience: 15\n",
      "2022-11-04 12:14:10 [INFO]: [ModelCheckpoint]: Checkpoint at epoch 1: accuracy did not improve\n"
     ]
    },
    {
     "name": "stderr",
     "output_type": "stream",
     "text": [
      "\n",
      "Training in epoch 2/150: 100%|██████████| 158/158 [03:06<00:00,  1.18s/batch]\n",
      "Validating in epoch 2/150: 100%|██████████| 40/40 [00:35<00:00,  1.14batch/s]"
     ]
    },
    {
     "name": "stdout",
     "output_type": "stream",
     "text": [
      "2022-11-04 12:17:53 [INFO]: [EvalScoreRecoder]: In epoch 2/150, loss train score: 0.695125828815412, val score: 0.6953548088669776\n",
      "2022-11-04 12:17:53 [INFO]: [EvalScoreRecoder]: In epoch 2/150, accuracy train score: 0.49326118896925863, val score: 0.5\n",
      "2022-11-04 12:17:53 [INFO]: [EarlyStopper]: In epoch 2/150, accuracy score: 0.5, best accuracy score: 0.5;accuracy score was not improved\n",
      "2022-11-04 12:17:53 [INFO]: [EarlyStopper]: Current wait count: 2, patience: 15\n",
      "2022-11-04 12:17:53 [INFO]: [ModelCheckpoint]: Checkpoint at epoch 2: accuracy did not improve\n"
     ]
    },
    {
     "name": "stderr",
     "output_type": "stream",
     "text": [
      "\n",
      "Training in epoch 3/100: 100%|██████████| 617/617 [11:04<00:00,  1.08s/batch]\n",
      "Validating in epoch 3/100: 100%|██████████| 155/155 [02:18<00:00,  1.12batch/s]"
     ]
    },
    {
     "name": "stdout",
     "output_type": "stream",
     "text": [
      "2022-11-04 13:57:45 [INFO]: [EvalScoreRecoder]: In epoch 3/100, loss train score: 0.6935147407375626, val score: 0.693393741115447\n",
      "2022-11-04 13:57:45 [INFO]: [EvalScoreRecoder]: In epoch 3/100, accuracy train score: 0.501544773095624, val score: 0.5031754032258065\n",
      "2022-11-04 13:57:45 [INFO]: [EarlyStopper]: In epoch 3/100, accuracy score: 0.5031754032258065, best accuracy score: 0.5031754032258065;accuracy score was not improved\n",
      "2022-11-04 13:57:45 [INFO]: [EarlyStopper]: Current wait count: 3, patience: 10\n",
      "2022-11-04 13:57:45 [INFO]: [ModelCheckpoint]: Checkpoint at epoch 3: accuracy did not improve\n"
     ]
    },
    {
     "name": "stderr",
     "output_type": "stream",
     "text": [
      "\n",
      "Training in epoch 4/100: 100%|██████████| 617/617 [10:29<00:00,  1.02s/batch]\n",
      "Validating in epoch 4/100: 100%|██████████| 155/155 [02:11<00:00,  1.18batch/s]"
     ]
    },
    {
     "name": "stdout",
     "output_type": "stream",
     "text": [
      "2022-11-04 14:10:27 [INFO]: [EvalScoreRecoder]: In epoch 4/100, loss train score: 0.6933955370510416, val score: 0.6931733796673436\n",
      "2022-11-04 14:10:27 [INFO]: [EvalScoreRecoder]: In epoch 4/100, accuracy train score: 0.500430510534846, val score: 0.49682459677419355\n",
      "2022-11-04 14:10:27 [INFO]: [EarlyStopper]: In epoch 4/100, accuracy score: 0.49682459677419355, best accuracy score: 0.5031754032258065;accuracy score was not improved\n",
      "2022-11-04 14:10:27 [INFO]: [EarlyStopper]: Current wait count: 4, patience: 10\n",
      "2022-11-04 14:10:27 [INFO]: [ModelCheckpoint]: Checkpoint at epoch 4: accuracy did not improve\n"
     ]
    },
    {
     "name": "stderr",
     "output_type": "stream",
     "text": [
      "\n",
      "Training in epoch 5/100:  37%|███▋      | 227/617 [03:51<06:34,  1.01s/batch]IOPub message rate exceeded.\n",
      "The Jupyter server will temporarily stop sending output\n",
      "to the client in order to avoid crashing it.\n",
      "To change this limit, set the config variable\n",
      "`--ServerApp.iopub_msg_rate_limit`.\n",
      "\n",
      "Current values:\n",
      "ServerApp.iopub_msg_rate_limit=1000.0 (msgs/sec)\n",
      "ServerApp.rate_limit_window=3.0 (secs)\n",
      "\n",
      "Training in epoch 8/100: 100%|██████████| 617/617 [10:49<00:00,  1.05s/batch]\n",
      "Validating in epoch 8/100:  50%|████▉     | 77/155 [01:06<01:06,  1.17batch/s]"
     ]
    }
   ],
   "source": [
    "from tcrbert.dataset import TCREpitopeSentenceDataset, CN\n",
    "from collections import OrderedDict, Counter\n",
    "from torch.utils.data import DataLoader\n",
    "\n",
    "epitope = 'YLQPRTFLL'\n",
    "epitope_len = len(epitope)\n",
    "\n",
    "sh_ds = TCREpitopeSentenceDataset.from_key('shomuradova')\n",
    "sh_df = sh_ds.df_enc\n",
    "im_ds = TCREpitopeSentenceDataset.from_key('immunecode')\n",
    "\n",
    "# Remove duplicated CDR3beta seqs with Shomuradova\n",
    "im_ds.df_enc = im_ds.df_enc[\n",
    "        im_ds.df_enc[CN.cdr3b].map(lambda seq: seq not in sh_df[CN.cdr3b].values)\n",
    "]\n",
    "im_df = im_ds.df_enc\n",
    "\n",
    "n_found = 0\n",
    "n_train = 0\n",
    "metrics = ['accuracy', 'f1', 'roc_auc']\n",
    "\n",
    "target_attn_pos = 3\n",
    "\n",
    "while(n_found < 5):\n",
    "    found = True\n",
    "\n",
    "    logger.info('>>>Begin train, n_train: %s' % n_train)\n",
    "    \n",
    "    experiment.train()\n",
    "    \n",
    "    logger.info('>>>Done to train, n_train: %s' % n_train)\n",
    "    n_train = n_train + 1\n",
    "    \n",
    "    for i in range(experiment.n_train_rounds):\n",
    "        train_result = experiment.get_train_result(i)\n",
    "        logger.info('Round %s train results======================' % i)\n",
    "        logger.info('n_epochs: %s' % train_result['n_epochs'])\n",
    "        logger.info('stopped_epoch: %s' % train_result['stopped_epoch'])\n",
    "        logger.info('best_epoch: %s' % train_result['best_epoch'])\n",
    "        logger.info('best_score: %s' % train_result['best_score'])\n",
    "        logger.info('best_chk: %s' % train_result['best_chk'])\n",
    "    \n",
    "    \n",
    "    model = experiment.load_eval_model()\n",
    "    eval_recoder = PredResultRecoder(output_attentions=True, output_hidden_states=True)\n",
    "    model.add_pred_listener(eval_recoder)    \n",
    "    \n",
    "    for ds, max_cum_ratio in zip([sh_ds, im_ds], [0.9, 0.85]):\n",
    "        df = ds.df_enc\n",
    "        data_loader = DataLoader(ds, batch_size=len(ds), shuffle=False, num_workers=2)\n",
    "        logger.info('Predicting for %s' % ds.name)\n",
    "        model.predict(data_loader=data_loader, metrics=metrics)\n",
    "        logger.info('Performace score_map for %s: %s' % (ds.name, eval_recoder.result_map['score_map']))\n",
    "        \n",
    "        output_labels = np.array(eval_recoder.result_map['output_labels'])\n",
    "        \n",
    "        # Select target CDR3b sequences with most common lengths\n",
    "        pos_indices = np.where(output_labels == 1)[0]\n",
    "        # print('pos_indices: %s(%s)' % (pos_indices, str(pos_indices.shape)))\n",
    "        pos_cdr3b = df[CN.cdr3b].values[pos_indices]\n",
    "\n",
    "        lens, cnts = zip(*sorted(Counter(map(lambda x: len(x), pos_cdr3b)).items()))\n",
    "        lens = np.array(lens)\n",
    "        cnts = np.array(cnts)\n",
    "\n",
    "        # Select target indices by cdr3b sequence lenghts\n",
    "        target_index_map = OrderedDict()\n",
    "        order = np.argsort(cnts)[::-1]\n",
    "        cum_cnt = 0\n",
    "        for cur_len, cur_cnt in zip(lens[order], cnts[order]):\n",
    "            cum_cnt += cur_cnt\n",
    "            cum_ratio = cum_cnt/pos_indices.shape[0]\n",
    "            if cum_ratio < max_cum_ratio:\n",
    "                target_indices = np.where((output_labels == 1) & (df[CN.cdr3b].map(lambda x: len(x) == cur_len)))[0]\n",
    "                logger.debug('target_indices for %s: %s(%s)' % (cur_len, target_indices, target_indices.shape[0]))\n",
    "                target_index_map[cur_len] = target_indices\n",
    "        \n",
    "        # Investigate attention weights\n",
    "        attentions = eval_recoder.result_map['attentions']\n",
    "        # attentions.shape: (n_layers, n_data, n_heads, max_len, max_len)\n",
    "        logger.info('attentions.shape: %s' % str(attentions.shape))\n",
    "\n",
    "        for i, (cur_len, cur_indices) in enumerate(target_index_map.items()):\n",
    "            attns = attentions[:, cur_indices]\n",
    "            sent_len = epitope_len + cur_len\n",
    "\n",
    "            # Marginalized position-wise attentions by mean\n",
    "            attns = np.mean(attns, axis=(0, 1, 2, 3))[1:sent_len+1]\n",
    "            logger.info('Marginalized attns for cdr3b %s: %s (%s)' % (cur_len, attns, str(attns.shape)))\n",
    "            \n",
    "            epi_attns = attns[:epitope_len]\n",
    "            cur_max_attn_pos = np.argmax(epi_attns)\n",
    "            logger.info('Current max epitope attention weight: %s at %s' % (epi_attns[cur_max_attn_pos], \n",
    "                                                                            cur_max_attn_pos))\n",
    "            if target_attn_pos != cur_max_attn_pos:\n",
    "                found = False\n",
    " \n",
    "    if found:\n",
    "        logger.info('>>>>>Found it!, backup train results, n_found: %s' % n_found)\n",
    "        experiment.backup_train_results()\n",
    "        n_found = n_found + 1\n",
    "            "
   ]
  }
 ],
 "metadata": {
  "kernelspec": {
   "display_name": "Python 3 (ipykernel)",
   "language": "python",
   "name": "python3"
  },
  "language_info": {
   "codemirror_mode": {
    "name": "ipython",
    "version": 3
   },
   "file_extension": ".py",
   "mimetype": "text/x-python",
   "name": "python",
   "nbconvert_exporter": "python",
   "pygments_lexer": "ipython3",
   "version": "3.7.13"
  },
  "toc": {
   "base_numbering": 1,
   "nav_menu": {},
   "number_sections": true,
   "sideBar": true,
   "skip_h1_title": false,
   "title_cell": "Table of Contents",
   "title_sidebar": "Contents",
   "toc_cell": false,
   "toc_position": {},
   "toc_section_display": true,
   "toc_window_display": true
  },
  "varInspector": {
   "cols": {
    "lenName": 16,
    "lenType": 16,
    "lenVar": 40
   },
   "kernels_config": {
    "python": {
     "delete_cmd_postfix": "",
     "delete_cmd_prefix": "del ",
     "library": "var_list.py",
     "varRefreshCmd": "print(var_dic_list())"
    },
    "r": {
     "delete_cmd_postfix": ") ",
     "delete_cmd_prefix": "rm(",
     "library": "var_list.r",
     "varRefreshCmd": "cat(var_dic_list()) "
    }
   },
   "position": {
    "height": "639px",
    "left": "1740px",
    "right": "20px",
    "top": "120px",
    "width": "800px"
   },
   "types_to_exclude": [
    "module",
    "function",
    "builtin_function_or_method",
    "instance",
    "_Feature"
   ],
   "window_display": false
  }
 },
 "nbformat": 4,
 "nbformat_minor": 4
}
