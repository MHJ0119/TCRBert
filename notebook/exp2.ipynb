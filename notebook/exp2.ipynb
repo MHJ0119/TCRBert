{
 "cells": [
  {
   "cell_type": "markdown",
   "metadata": {},
   "source": [
    "# Experiment 2 \n",
    "\n",
    "- Fine-tuning of the pre-trained TAPE model in a progressively specialized manner while extending the frozen layers\n",
    "- Performance evaluation using two external datasets, Shomuradova and ImmuneCODE datatsets, which contain SARS-CoV-2 S-protein <sub>269~-277</sub>(YLQPRTFLL) epitope-specific TCR CDR3βs "
   ]
  },
  {
   "cell_type": "markdown",
   "metadata": {},
   "source": [
    "## Training process and model architecture\n",
    "\n",
    "\n",
    "<img src='res/fig1.png' width='70%'>\n",
    "\n",
    "Training process for the proposed model. The initial model is cloned from pre-trained Tasks Assessing Protein Embeddings (TAPE) model, adding a classification layer at the end. The pre-trained model is fine-tuned in two rounds in a progressively specialized manner while extending the frozen layers between rounds.\n",
    "\n",
    "<img src='res/fig2.png' width='30%'>\n",
    "\n",
    "The proposed model architecture. Input amino acid sequences concatenated by epitope and CDR3β sequences are first encoded into tokens using a tokenizer. Each token is then embedded into a 768-dimensional vector in the pre-trained Tasks Assessing Protein Embeddings (TAPE) model which has 12 encoding layers with 12 self-attention heads in each layer. The final classifier, a 2-layer feed forward network, is then used to predict either binder or not from the output of the TAPE model."
   ]
  },
  {
   "cell_type": "markdown",
   "metadata": {},
   "source": [
    "## Global configurations"
   ]
  },
  {
   "cell_type": "code",
   "execution_count": 1,
   "metadata": {
    "scrolled": true
   },
   "outputs": [
    {
     "name": "stdout",
     "output_type": "stream",
     "text": [
      "2022-01-16 00:01:55 [INFO]: Loaded exp_conf: {'title': 'exp2', 'description': 'Fine-tuning of pre-trained TAPE model in a progressively specialized manner', 'paper': 'exp2', 'model_config': '../config/bert-base/', 'outdir': '../output/exp2', 'train': {'pretrained_model': {'type': 'tape', 'location': '../config/bert-base/'}, 'data_parallel': False, 'backup': 'train.bak.{date}.tar.gz', 'rounds': [{'data': 'dash_vdjdb_mcpas', 'test_size': 0.2, 'batch_size': 128, 'n_epochs': 150, 'n_workers': 12, 'metrics': ['accuracy'], 'optimizer': {'type': 'adam', 'lr': 0.0001}, 'train_bert_encoders': [-10, None], 'early_stopper': {'monitor': 'accuracy', 'patience': 15}, 'model_checkpoint': {'chk': 'train.{round}.model_{epoch}.chk', 'monitor': 'accuracy', 'save_best_only': True, 'period': 1}, 'result': 'train.{round}.result.json'}, {'data': 'iedb_sars2', 'test_size': 0.2, 'batch_size': 128, 'n_epochs': 100, 'n_workers': 12, 'metrics': ['accuracy'], 'optimizer': {'type': 'adam', 'lr': 0.0001}, 'train_bert_encoders': [-6, None], 'early_stopper': {'monitor': 'accuracy', 'patience': 10}, 'model_checkpoint': {'chk': 'train.{round}.model_{epoch}.chk', 'monitor': 'accuracy', 'save_best_only': True, 'period': 1}, 'result': 'train.{round}.result.json'}]}, 'eval': {'data_parallel': False, 'batch_size': 128, 'n_workers': 12, 'metrics': ['accuracy', 'f1', 'roc_auc'], 'output_attentions': False, 'tests': [{'data': 'shomuradova', 'result': 'eval.shomuradova.result.json'}, {'data': 'immunecode', 'result': 'eval.immunecode.result.json'}, {'data': 'pTMnet', 'result': 'eval.pTMnet.result.json'}]}}\n"
     ]
    },
    {
     "data": {
      "text/plain": [
       "{'title': 'exp2',\n",
       " 'description': 'Fine-tuning of pre-trained TAPE model in a progressively specialized manner',\n",
       " 'paper': 'exp2',\n",
       " 'model_config': '../config/bert-base/',\n",
       " 'outdir': '../output/exp2',\n",
       " 'train': {'pretrained_model': {'type': 'tape',\n",
       "   'location': '../config/bert-base/'},\n",
       "  'data_parallel': False,\n",
       "  'backup': 'train.bak.{date}.tar.gz',\n",
       "  'rounds': [{'data': 'dash_vdjdb_mcpas',\n",
       "    'test_size': 0.2,\n",
       "    'batch_size': 128,\n",
       "    'n_epochs': 150,\n",
       "    'n_workers': 12,\n",
       "    'metrics': ['accuracy'],\n",
       "    'optimizer': {'type': 'adam', 'lr': 0.0001},\n",
       "    'train_bert_encoders': [-10, None],\n",
       "    'early_stopper': {'monitor': 'accuracy', 'patience': 15},\n",
       "    'model_checkpoint': {'chk': 'train.{round}.model_{epoch}.chk',\n",
       "     'monitor': 'accuracy',\n",
       "     'save_best_only': True,\n",
       "     'period': 1},\n",
       "    'result': 'train.{round}.result.json'},\n",
       "   {'data': 'iedb_sars2',\n",
       "    'test_size': 0.2,\n",
       "    'batch_size': 128,\n",
       "    'n_epochs': 100,\n",
       "    'n_workers': 12,\n",
       "    'metrics': ['accuracy'],\n",
       "    'optimizer': {'type': 'adam', 'lr': 0.0001},\n",
       "    'train_bert_encoders': [-6, None],\n",
       "    'early_stopper': {'monitor': 'accuracy', 'patience': 10},\n",
       "    'model_checkpoint': {'chk': 'train.{round}.model_{epoch}.chk',\n",
       "     'monitor': 'accuracy',\n",
       "     'save_best_only': True,\n",
       "     'period': 1},\n",
       "    'result': 'train.{round}.result.json'}]},\n",
       " 'eval': {'data_parallel': False,\n",
       "  'batch_size': 128,\n",
       "  'n_workers': 12,\n",
       "  'metrics': ['accuracy', 'f1', 'roc_auc'],\n",
       "  'output_attentions': False,\n",
       "  'tests': [{'data': 'shomuradova', 'result': 'eval.shomuradova.result.json'},\n",
       "   {'data': 'immunecode', 'result': 'eval.immunecode.result.json'},\n",
       "   {'data': 'pTMnet', 'result': 'eval.pTMnet.result.json'}]}}"
      ]
     },
     "metadata": {},
     "output_type": "display_data"
    }
   ],
   "source": [
    "import logging\n",
    "import logging.config\n",
    "import os\n",
    "import sys\n",
    "import warnings\n",
    "from enum import auto\n",
    "import pandas as pd\n",
    "import numpy as np\n",
    "from IPython.core.display import display\n",
    "\n",
    "rootdir = '/home/hym/trunk/TCRBert'\n",
    "workdir = '%s/notebook' % rootdir\n",
    "datadir = '%s/data' % rootdir\n",
    "srcdir = '%s/tcrbert' % rootdir\n",
    "outdir = '%s/output' % rootdir\n",
    "\n",
    "os.chdir(workdir)\n",
    "\n",
    "sys.path.append(rootdir)\n",
    "sys.path.append(srcdir)\n",
    "\n",
    "from tcrbert.exp import Experiment\n",
    "from tcrbert.predlistener import PredResultRecoder\n",
    "\n",
    "\n",
    "# Display\n",
    "pd.set_option('display.max.rows', 2000)\n",
    "pd.set_option('display.max.columns', 2000)\n",
    "\n",
    "# Logger\n",
    "warnings.filterwarnings('ignore')\n",
    "logging.config.fileConfig('../config/logging.conf')\n",
    "logger = logging.getLogger('tcrbert')\n",
    "logger.setLevel(logging.INFO)\n",
    "\n",
    "# Target experiment\n",
    "exp_key = 'exp2'\n",
    "experiment = Experiment.from_key(exp_key, reload=True)\n",
    "\n",
    "exp_conf = experiment.exp_conf\n",
    "\n",
    "display(exp_conf)"
   ]
  },
  {
   "cell_type": "code",
   "execution_count": 2,
   "metadata": {},
   "outputs": [
    {
     "data": {
      "text/plain": [
       "['/home/hym/trunk/TCRBert/notebook',\n",
       " '/home/hym/trunk/TCRBert/notebook',\n",
       " '/home/hym/trunk/kvacc',\n",
       " '/home/hym/trunk/kvacc/kvacc',\n",
       " '/home/hym/trunk/lib',\n",
       " '/home/hym/trunk',\n",
       " '/home/hym/trunk/TCRBert',\n",
       " '/home/hym/trunk/TCRBert/tcrbert',\n",
       " '/home/hym/anaconda3/envs/py37-torch/lib/python37.zip',\n",
       " '/home/hym/anaconda3/envs/py37-torch/lib/python3.7',\n",
       " '/home/hym/anaconda3/envs/py37-torch/lib/python3.7/lib-dynload',\n",
       " '',\n",
       " '/home/hym/anaconda3/envs/py37-torch/lib/python3.7/site-packages',\n",
       " '/home/hym/anaconda3/envs/py37-torch/lib/python3.7/site-packages/IPython/extensions',\n",
       " '/home/hym/.ipython',\n",
       " '/home/hym/trunk/TCRBert',\n",
       " '/home/hym/trunk/TCRBert/tcrbert']"
      ]
     },
     "execution_count": 2,
     "metadata": {},
     "output_type": "execute_result"
    }
   ],
   "source": [
    "import sys\n",
    "\n",
    "sys.path.remove('/home/hym/trunk/epidab')\n",
    "sys.path.remove('/home/hym/trunk/epidab/epidab')\n",
    "sys.path"
   ]
  },
  {
   "cell_type": "markdown",
   "metadata": {},
   "source": [
    "## Fine-tuning"
   ]
  },
  {
   "cell_type": "code",
   "execution_count": 3,
   "metadata": {},
   "outputs": [
    {
     "name": "stdout",
     "output_type": "stream",
     "text": [
      "2022-01-16 00:02:20 [INFO]: ======================\n",
      "2022-01-16 00:02:20 [INFO]: Begin train at 2022-01-16 00:02:20.713764\n",
      "2022-01-16 00:02:20 [INFO]: Loading the TAPE pretrained model from ../config/bert-base/\n",
      "2022-01-16 00:02:25 [INFO]: Start 2 train rounds of exp2 at 2022-01-16 00:02:20.713764\n",
      "2022-01-16 00:02:25 [INFO]: train_conf: {'pretrained_model': {'type': 'tape', 'location': '../config/bert-base/'}, 'data_parallel': False, 'backup': 'train.bak.{date}.tar.gz', 'rounds': [{'data': 'dash_vdjdb_mcpas', 'test_size': 0.2, 'batch_size': 128, 'n_epochs': 150, 'n_workers': 12, 'metrics': ['accuracy'], 'optimizer': {'type': 'adam', 'lr': 0.0001}, 'train_bert_encoders': [-10, None], 'early_stopper': {'monitor': 'accuracy', 'patience': 15}, 'model_checkpoint': {'chk': 'train.{round}.model_{epoch}.chk', 'monitor': 'accuracy', 'save_best_only': True, 'period': 1}, 'result': 'train.{round}.result.json'}, {'data': 'iedb_sars2', 'test_size': 0.2, 'batch_size': 128, 'n_epochs': 100, 'n_workers': 12, 'metrics': ['accuracy'], 'optimizer': {'type': 'adam', 'lr': 0.0001}, 'train_bert_encoders': [-6, None], 'early_stopper': {'monitor': 'accuracy', 'patience': 10}, 'model_checkpoint': {'chk': 'train.{round}.model_{epoch}.chk', 'monitor': 'accuracy', 'save_best_only': True, 'period': 1}, 'result': 'train.{round}.result.json'}]}\n",
      "2022-01-16 00:02:25 [INFO]: Start 0 train round using data: dash_vdjdb_mcpas, round_conf: {'data': 'dash_vdjdb_mcpas', 'test_size': 0.2, 'batch_size': 128, 'n_epochs': 150, 'n_workers': 12, 'metrics': ['accuracy'], 'optimizer': {'type': 'adam', 'lr': 0.0001}, 'train_bert_encoders': [-10, None], 'early_stopper': {'monitor': 'accuracy', 'patience': 15}, 'model_checkpoint': {'chk': 'train.{round}.model_{epoch}.chk', 'monitor': 'accuracy', 'save_best_only': True, 'period': 1}, 'result': 'train.{round}.result.json'}\n",
      "2022-01-16 00:02:26 [INFO]: dash_vdjdb_mcpas dataset was loaded from ../output/dash_vdjdb_mcpas.data.csv, df.shape: (25138, 10)\n",
      "2022-01-16 00:02:26 [INFO]: Start to exclude eval data from train data, df.shape: (25138, 10), target_cols: ['index']\n",
      "2022-01-16 00:02:26 [INFO]: shomuradova dataset was loaded from ../output/shomuradova.data.csv, df.shape: (610, 9)\n",
      "2022-01-16 00:02:26 [INFO]: Excluding shomuradova eval data by index from train data\n",
      "2022-01-16 00:02:26 [INFO]: Current train data.shape: (25138, 10)\n",
      "2022-01-16 00:02:26 [INFO]: immunecode dataset was loaded from ../output/immunecode.data.csv, df.shape: (742, 9)\n",
      "2022-01-16 00:02:26 [INFO]: Excluding immunecode eval data by index from train data\n",
      "2022-01-16 00:02:27 [INFO]: Current train data.shape: (25138, 10)\n",
      "2022-01-16 00:02:27 [INFO]: pTMnet dataset was loaded from ../output/pTMnet.data.csv, df.shape: (1198, 10)\n",
      "2022-01-16 00:02:27 [INFO]: Excluding pTMnet eval data by index from train data\n",
      "2022-01-16 00:02:28 [INFO]: Current train data.shape: (25121, 10)\n",
      "2022-01-16 00:02:28 [INFO]: Final train data.shape: (25121, 10)\n",
      "2022-01-16 00:02:28 [INFO]: The bert encoders to be trained: [-10, None]\n",
      "2022-01-16 00:02:30 [INFO]: ======================\n",
      "2022-01-16 00:02:30 [INFO]: Begin training...\n",
      "2022-01-16 00:02:30 [INFO]: use_cuda, device: True, cuda:0\n",
      "2022-01-16 00:02:30 [INFO]: train.n_data: 20096, test.n_data: 5025\n",
      "2022-01-16 00:02:30 [INFO]: optimizer: Adam (\n",
      "Parameter Group 0\n",
      "    amsgrad: False\n",
      "    betas: (0.9, 0.999)\n",
      "    eps: 1e-08\n",
      "    lr: 0.0001\n",
      "    weight_decay: 0\n",
      ")\n",
      "2022-01-16 00:02:30 [INFO]: evaluator: <tcrbert.model.BertTCREpitopeModel.PredictionEvaluator object at 0x7fcc8d0a0650>\n",
      "2022-01-16 00:02:30 [INFO]: n_epochs: 150\n",
      "2022-01-16 00:02:30 [INFO]: train.batch_size: 128\n",
      "2022-01-16 00:02:30 [INFO]: test.batch_size: 128\n"
     ]
    },
    {
     "name": "stderr",
     "output_type": "stream",
     "text": [
      "Training in epoch 0/150: 100%|██████████| 157/157 [03:14<00:00,  1.24s/batch]\n",
      "Validating in epoch 0/150: 100%|██████████| 40/40 [00:35<00:00,  1.12batch/s]"
     ]
    },
    {
     "name": "stdout",
     "output_type": "stream",
     "text": [
      "2022-01-16 00:06:20 [INFO]: [EvalScoreRecoder]: In epoch 0/150, loss train score: 0.6845122427697394, val score: 0.6566727057099342\n",
      "2022-01-16 00:06:20 [INFO]: [EvalScoreRecoder]: In epoch 0/150, accuracy train score: 0.5472233280254777, val score: 0.5999644886363636\n",
      "2022-01-16 00:06:20 [INFO]: [EarlyStopper]: In epoch 0/150, accuracy score: 0.5999644886363636, best accuracy score: -inf;update best score to 0.5999644886363636\n",
      "2022-01-16 00:06:20 [INFO]: [ModelCheckpoint]: Checkpoint at epoch 0: accuracy improved from -inf to 0.5999644886363636, saving model to ../output/exp2/train.0.model_0.chk\n"
     ]
    },
    {
     "name": "stderr",
     "output_type": "stream",
     "text": [
      "\n",
      "Training in epoch 1/150: 100%|██████████| 157/157 [03:14<00:00,  1.24s/batch]\n",
      "Validating in epoch 1/150: 100%|██████████| 40/40 [00:35<00:00,  1.11batch/s]"
     ]
    },
    {
     "name": "stdout",
     "output_type": "stream",
     "text": [
      "2022-01-16 00:10:12 [INFO]: [EvalScoreRecoder]: In epoch 1/150, loss train score: 0.6239387495502545, val score: 0.6073502391576767\n",
      "2022-01-16 00:10:12 [INFO]: [EvalScoreRecoder]: In epoch 1/150, accuracy train score: 0.6254478503184714, val score: 0.6448390151515151\n",
      "2022-01-16 00:10:12 [INFO]: [EarlyStopper]: In epoch 1/150, accuracy score: 0.6448390151515151, best accuracy score: 0.5999644886363636;update best score to 0.6448390151515151\n",
      "2022-01-16 00:10:12 [INFO]: [ModelCheckpoint]: Checkpoint at epoch 1: accuracy improved from 0.5999644886363636 to 0.6448390151515151, saving model to ../output/exp2/train.0.model_1.chk\n"
     ]
    },
    {
     "name": "stderr",
     "output_type": "stream",
     "text": [
      "\n",
      "Training in epoch 2/150: 100%|██████████| 157/157 [03:15<00:00,  1.25s/batch]\n",
      "Validating in epoch 2/150: 100%|██████████| 40/40 [00:36<00:00,  1.10batch/s]"
     ]
    },
    {
     "name": "stdout",
     "output_type": "stream",
     "text": [
      "2022-01-16 00:14:05 [INFO]: [EvalScoreRecoder]: In epoch 2/150, loss train score: 0.5697196972597937, val score: 0.5686036795377731\n",
      "2022-01-16 00:14:05 [INFO]: [EvalScoreRecoder]: In epoch 2/150, accuracy train score: 0.6774482484076433, val score: 0.6745738636363636\n",
      "2022-01-16 00:14:05 [INFO]: [EarlyStopper]: In epoch 2/150, accuracy score: 0.6745738636363636, best accuracy score: 0.6448390151515151;update best score to 0.6745738636363636\n",
      "2022-01-16 00:14:05 [INFO]: [ModelCheckpoint]: Checkpoint at epoch 2: accuracy improved from 0.6448390151515151 to 0.6745738636363636, saving model to ../output/exp2/train.0.model_2.chk\n"
     ]
    },
    {
     "name": "stderr",
     "output_type": "stream",
     "text": [
      "\n",
      "Training in epoch 3/150: 100%|██████████| 157/157 [03:15<00:00,  1.25s/batch]\n",
      "Validating in epoch 3/150: 100%|██████████| 40/40 [00:36<00:00,  1.11batch/s]"
     ]
    },
    {
     "name": "stdout",
     "output_type": "stream",
     "text": [
      "2022-01-16 00:17:59 [INFO]: [EvalScoreRecoder]: In epoch 3/150, loss train score: 0.520989832984414, val score: 0.5564112171530724\n",
      "2022-01-16 00:17:59 [INFO]: [EvalScoreRecoder]: In epoch 3/150, accuracy train score: 0.7175059713375797, val score: 0.6940814393939394\n",
      "2022-01-16 00:17:59 [INFO]: [EarlyStopper]: In epoch 3/150, accuracy score: 0.6940814393939394, best accuracy score: 0.6745738636363636;update best score to 0.6940814393939394\n",
      "2022-01-16 00:17:59 [INFO]: [ModelCheckpoint]: Checkpoint at epoch 3: accuracy improved from 0.6745738636363636 to 0.6940814393939394, saving model to ../output/exp2/train.0.model_3.chk\n"
     ]
    },
    {
     "name": "stderr",
     "output_type": "stream",
     "text": [
      "\n",
      "Training in epoch 4/150: 100%|██████████| 157/157 [03:14<00:00,  1.24s/batch]\n",
      "Validating in epoch 4/150: 100%|██████████| 40/40 [00:36<00:00,  1.10batch/s]"
     ]
    },
    {
     "name": "stdout",
     "output_type": "stream",
     "text": [
      "2022-01-16 00:21:52 [INFO]: [EvalScoreRecoder]: In epoch 4/150, loss train score: 0.47164097010709677, val score: 0.5726101458072662\n",
      "2022-01-16 00:21:52 [INFO]: [EvalScoreRecoder]: In epoch 4/150, accuracy train score: 0.7571656050955414, val score: 0.6832682291666666\n",
      "2022-01-16 00:21:52 [INFO]: [EarlyStopper]: In epoch 4/150, accuracy score: 0.6832682291666666, best accuracy score: 0.6940814393939394;accuracy score was not improved\n",
      "2022-01-16 00:21:52 [INFO]: [EarlyStopper]: Current wait count: 1, patience: 15\n",
      "2022-01-16 00:21:52 [INFO]: [ModelCheckpoint]: Checkpoint at epoch 4: accuracy did not improve\n"
     ]
    },
    {
     "name": "stderr",
     "output_type": "stream",
     "text": [
      "\n",
      "Training in epoch 5/150: 100%|██████████| 157/157 [03:16<00:00,  1.25s/batch]\n",
      "Validating in epoch 5/150: 100%|██████████| 40/40 [00:36<00:00,  1.10batch/s]"
     ]
    },
    {
     "name": "stdout",
     "output_type": "stream",
     "text": [
      "2022-01-16 00:25:44 [INFO]: [EvalScoreRecoder]: In epoch 5/150, loss train score: 0.4146554050551858, val score: 0.6058154411613941\n",
      "2022-01-16 00:25:44 [INFO]: [EvalScoreRecoder]: In epoch 5/150, accuracy train score: 0.7983180732484076, val score: 0.6956202651515151\n",
      "2022-01-16 00:25:44 [INFO]: [EarlyStopper]: In epoch 5/150, accuracy score: 0.6956202651515151, best accuracy score: 0.6940814393939394;update best score to 0.6956202651515151\n",
      "2022-01-16 00:25:44 [INFO]: [ModelCheckpoint]: Checkpoint at epoch 5: accuracy improved from 0.6940814393939394 to 0.6956202651515151, saving model to ../output/exp2/train.0.model_5.chk\n"
     ]
    },
    {
     "name": "stderr",
     "output_type": "stream",
     "text": [
      "\n",
      "Training in epoch 6/150: 100%|██████████| 157/157 [03:14<00:00,  1.24s/batch]\n",
      "Validating in epoch 6/150: 100%|██████████| 40/40 [00:36<00:00,  1.09batch/s]"
     ]
    },
    {
     "name": "stdout",
     "output_type": "stream",
     "text": [
      "2022-01-16 00:29:37 [INFO]: [EvalScoreRecoder]: In epoch 6/150, loss train score: 0.3616618558669546, val score: 0.6290311865508557\n",
      "2022-01-16 00:29:37 [INFO]: [EvalScoreRecoder]: In epoch 6/150, accuracy train score: 0.8299164012738853, val score: 0.7026751893939395\n",
      "2022-01-16 00:29:37 [INFO]: [EarlyStopper]: In epoch 6/150, accuracy score: 0.7026751893939395, best accuracy score: 0.6956202651515151;update best score to 0.7026751893939395\n",
      "2022-01-16 00:29:37 [INFO]: [ModelCheckpoint]: Checkpoint at epoch 6: accuracy improved from 0.6956202651515151 to 0.7026751893939395, saving model to ../output/exp2/train.0.model_6.chk\n"
     ]
    },
    {
     "name": "stderr",
     "output_type": "stream",
     "text": [
      "\n",
      "Training in epoch 7/150: 100%|██████████| 157/157 [03:13<00:00,  1.23s/batch]\n",
      "Validating in epoch 7/150: 100%|██████████| 40/40 [00:36<00:00,  1.10batch/s]"
     ]
    },
    {
     "name": "stdout",
     "output_type": "stream",
     "text": [
      "2022-01-16 00:33:28 [INFO]: [EvalScoreRecoder]: In epoch 7/150, loss train score: 0.3202188977390338, val score: 0.7551406770944595\n",
      "2022-01-16 00:33:28 [INFO]: [EvalScoreRecoder]: In epoch 7/150, accuracy train score: 0.8573845541401274, val score: 0.7160807291666667\n",
      "2022-01-16 00:33:28 [INFO]: [EarlyStopper]: In epoch 7/150, accuracy score: 0.7160807291666667, best accuracy score: 0.7026751893939395;update best score to 0.7160807291666667\n",
      "2022-01-16 00:33:28 [INFO]: [ModelCheckpoint]: Checkpoint at epoch 7: accuracy improved from 0.7026751893939395 to 0.7160807291666667, saving model to ../output/exp2/train.0.model_7.chk\n"
     ]
    },
    {
     "name": "stderr",
     "output_type": "stream",
     "text": [
      "\n",
      "Training in epoch 8/150: 100%|██████████| 157/157 [03:15<00:00,  1.24s/batch]\n",
      "Validating in epoch 8/150: 100%|██████████| 40/40 [00:36<00:00,  1.10batch/s]"
     ]
    },
    {
     "name": "stdout",
     "output_type": "stream",
     "text": [
      "2022-01-16 00:37:21 [INFO]: [EvalScoreRecoder]: In epoch 8/150, loss train score: 0.27301732759187175, val score: 0.825708269327879\n",
      "2022-01-16 00:37:21 [INFO]: [EvalScoreRecoder]: In epoch 8/150, accuracy train score: 0.8812201433121019, val score: 0.7197916666666666\n",
      "2022-01-16 00:37:21 [INFO]: [EarlyStopper]: In epoch 8/150, accuracy score: 0.7197916666666666, best accuracy score: 0.7160807291666667;update best score to 0.7197916666666666\n",
      "2022-01-16 00:37:21 [INFO]: [ModelCheckpoint]: Checkpoint at epoch 8: accuracy improved from 0.7160807291666667 to 0.7197916666666666, saving model to ../output/exp2/train.0.model_8.chk\n"
     ]
    },
    {
     "name": "stderr",
     "output_type": "stream",
     "text": [
      "\n",
      "Training in epoch 9/150: 100%|██████████| 157/157 [03:15<00:00,  1.25s/batch]\n",
      "Validating in epoch 9/150: 100%|██████████| 40/40 [00:36<00:00,  1.10batch/s]"
     ]
    },
    {
     "name": "stdout",
     "output_type": "stream",
     "text": [
      "2022-01-16 00:41:15 [INFO]: [EvalScoreRecoder]: In epoch 9/150, loss train score: 0.23012072199089512, val score: 0.7988300234079361\n",
      "2022-01-16 00:41:15 [INFO]: [EvalScoreRecoder]: In epoch 9/150, accuracy train score: 0.9052547770700637, val score: 0.7202592329545455\n",
      "2022-01-16 00:41:15 [INFO]: [EarlyStopper]: In epoch 9/150, accuracy score: 0.7202592329545455, best accuracy score: 0.7197916666666666;update best score to 0.7202592329545455\n",
      "2022-01-16 00:41:15 [INFO]: [ModelCheckpoint]: Checkpoint at epoch 9: accuracy improved from 0.7197916666666666 to 0.7202592329545455, saving model to ../output/exp2/train.0.model_9.chk\n"
     ]
    },
    {
     "name": "stderr",
     "output_type": "stream",
     "text": [
      "\n",
      "Training in epoch 10/150: 100%|██████████| 157/157 [03:14<00:00,  1.24s/batch]\n",
      "Validating in epoch 10/150: 100%|██████████| 40/40 [00:36<00:00,  1.10batch/s]"
     ]
    },
    {
     "name": "stdout",
     "output_type": "stream",
     "text": [
      "2022-01-16 00:45:06 [INFO]: [EvalScoreRecoder]: In epoch 10/150, loss train score: 0.19053119919292485, val score: 0.8471931368112564\n",
      "2022-01-16 00:45:06 [INFO]: [EvalScoreRecoder]: In epoch 10/150, accuracy train score: 0.9245123407643312, val score: 0.7290187026515151\n",
      "2022-01-16 00:45:06 [INFO]: [EarlyStopper]: In epoch 10/150, accuracy score: 0.7290187026515151, best accuracy score: 0.7202592329545455;update best score to 0.7290187026515151\n",
      "2022-01-16 00:45:06 [INFO]: [ModelCheckpoint]: Checkpoint at epoch 10: accuracy improved from 0.7202592329545455 to 0.7290187026515151, saving model to ../output/exp2/train.0.model_10.chk\n"
     ]
    },
    {
     "name": "stderr",
     "output_type": "stream",
     "text": [
      "\n",
      "Training in epoch 11/150: 100%|██████████| 157/157 [03:13<00:00,  1.24s/batch]\n",
      "Validating in epoch 11/150: 100%|██████████| 40/40 [00:37<00:00,  1.05batch/s]"
     ]
    },
    {
     "name": "stdout",
     "output_type": "stream",
     "text": [
      "2022-01-16 00:48:59 [INFO]: [EvalScoreRecoder]: In epoch 11/150, loss train score: 0.16075342010920216, val score: 0.8783803135156631\n",
      "2022-01-16 00:48:59 [INFO]: [EvalScoreRecoder]: In epoch 11/150, accuracy train score: 0.9356588375796179, val score: 0.737298768939394\n",
      "2022-01-16 00:48:59 [INFO]: [EarlyStopper]: In epoch 11/150, accuracy score: 0.737298768939394, best accuracy score: 0.7290187026515151;update best score to 0.737298768939394\n",
      "2022-01-16 00:48:59 [INFO]: [ModelCheckpoint]: Checkpoint at epoch 11: accuracy improved from 0.7290187026515151 to 0.737298768939394, saving model to ../output/exp2/train.0.model_11.chk\n"
     ]
    },
    {
     "name": "stderr",
     "output_type": "stream",
     "text": [
      "\n",
      "Training in epoch 12/150: 100%|██████████| 157/157 [03:15<00:00,  1.24s/batch]\n",
      "Validating in epoch 12/150: 100%|██████████| 40/40 [00:36<00:00,  1.10batch/s]"
     ]
    },
    {
     "name": "stdout",
     "output_type": "stream",
     "text": [
      "2022-01-16 00:52:52 [INFO]: [EvalScoreRecoder]: In epoch 12/150, loss train score: 0.1480750816927594, val score: 0.9794788733124733\n",
      "2022-01-16 00:52:52 [INFO]: [EvalScoreRecoder]: In epoch 12/150, accuracy train score: 0.9406847133757962, val score: 0.7420099431818181\n",
      "2022-01-16 00:52:52 [INFO]: [EarlyStopper]: In epoch 12/150, accuracy score: 0.7420099431818181, best accuracy score: 0.737298768939394;update best score to 0.7420099431818181\n",
      "2022-01-16 00:52:52 [INFO]: [ModelCheckpoint]: Checkpoint at epoch 12: accuracy improved from 0.737298768939394 to 0.7420099431818181, saving model to ../output/exp2/train.0.model_12.chk\n"
     ]
    },
    {
     "name": "stderr",
     "output_type": "stream",
     "text": [
      "\n",
      "Training in epoch 13/150: 100%|██████████| 157/157 [03:14<00:00,  1.24s/batch]\n",
      "Validating in epoch 13/150: 100%|██████████| 40/40 [00:36<00:00,  1.09batch/s]"
     ]
    },
    {
     "name": "stdout",
     "output_type": "stream",
     "text": [
      "2022-01-16 00:56:44 [INFO]: [EvalScoreRecoder]: In epoch 13/150, loss train score: 0.1324546406650619, val score: 0.9706519022583961\n",
      "2022-01-16 00:56:44 [INFO]: [EvalScoreRecoder]: In epoch 13/150, accuracy train score: 0.9498407643312102, val score: 0.7387843276515151\n",
      "2022-01-16 00:56:44 [INFO]: [EarlyStopper]: In epoch 13/150, accuracy score: 0.7387843276515151, best accuracy score: 0.7420099431818181;accuracy score was not improved\n",
      "2022-01-16 00:56:44 [INFO]: [EarlyStopper]: Current wait count: 1, patience: 15\n",
      "2022-01-16 00:56:44 [INFO]: [ModelCheckpoint]: Checkpoint at epoch 13: accuracy did not improve\n"
     ]
    },
    {
     "name": "stderr",
     "output_type": "stream",
     "text": [
      "\n",
      "Training in epoch 14/150: 100%|██████████| 157/157 [03:14<00:00,  1.24s/batch]\n",
      "Validating in epoch 14/150: 100%|██████████| 40/40 [00:38<00:00,  1.05batch/s]"
     ]
    },
    {
     "name": "stdout",
     "output_type": "stream",
     "text": [
      "2022-01-16 01:00:37 [INFO]: [EvalScoreRecoder]: In epoch 14/150, loss train score: 0.10311764024292967, val score: 1.086062988638878\n",
      "2022-01-16 01:00:37 [INFO]: [EvalScoreRecoder]: In epoch 14/150, accuracy train score: 0.960390127388535, val score: 0.7434244791666667\n",
      "2022-01-16 01:00:37 [INFO]: [EarlyStopper]: In epoch 14/150, accuracy score: 0.7434244791666667, best accuracy score: 0.7420099431818181;update best score to 0.7434244791666667\n",
      "2022-01-16 01:00:37 [INFO]: [ModelCheckpoint]: Checkpoint at epoch 14: accuracy improved from 0.7420099431818181 to 0.7434244791666667, saving model to ../output/exp2/train.0.model_14.chk\n"
     ]
    },
    {
     "name": "stderr",
     "output_type": "stream",
     "text": [
      "\n",
      "Training in epoch 15/150: 100%|██████████| 157/157 [03:19<00:00,  1.27s/batch]\n",
      "Validating in epoch 15/150: 100%|██████████| 40/40 [00:37<00:00,  1.06batch/s]"
     ]
    },
    {
     "name": "stdout",
     "output_type": "stream",
     "text": [
      "2022-01-16 01:04:34 [INFO]: [EvalScoreRecoder]: In epoch 15/150, loss train score: 0.08503951975233426, val score: 1.0032425105571747\n",
      "2022-01-16 01:04:34 [INFO]: [EvalScoreRecoder]: In epoch 15/150, accuracy train score: 0.9694466560509554, val score: 0.7457682291666666\n",
      "2022-01-16 01:04:34 [INFO]: [EarlyStopper]: In epoch 15/150, accuracy score: 0.7457682291666666, best accuracy score: 0.7434244791666667;update best score to 0.7457682291666666\n",
      "2022-01-16 01:04:34 [INFO]: [ModelCheckpoint]: Checkpoint at epoch 15: accuracy improved from 0.7434244791666667 to 0.7457682291666666, saving model to ../output/exp2/train.0.model_15.chk\n"
     ]
    },
    {
     "name": "stderr",
     "output_type": "stream",
     "text": [
      "\n",
      "Training in epoch 16/150: 100%|██████████| 157/157 [03:24<00:00,  1.31s/batch]\n",
      "Validating in epoch 16/150: 100%|██████████| 40/40 [00:36<00:00,  1.11batch/s]"
     ]
    },
    {
     "name": "stdout",
     "output_type": "stream",
     "text": [
      "2022-01-16 01:08:35 [INFO]: [EvalScoreRecoder]: In epoch 16/150, loss train score: 0.07973040208505218, val score: 1.044681341946125\n",
      "2022-01-16 01:08:35 [INFO]: [EvalScoreRecoder]: In epoch 16/150, accuracy train score: 0.9721835191082803, val score: 0.7468158143939394\n",
      "2022-01-16 01:08:35 [INFO]: [EarlyStopper]: In epoch 16/150, accuracy score: 0.7468158143939394, best accuracy score: 0.7457682291666666;update best score to 0.7468158143939394\n",
      "2022-01-16 01:08:35 [INFO]: [ModelCheckpoint]: Checkpoint at epoch 16: accuracy improved from 0.7457682291666666 to 0.7468158143939394, saving model to ../output/exp2/train.0.model_16.chk\n"
     ]
    },
    {
     "name": "stderr",
     "output_type": "stream",
     "text": [
      "\n",
      "Training in epoch 17/150: 100%|██████████| 157/157 [03:18<00:00,  1.26s/batch]\n",
      "Validating in epoch 17/150: 100%|██████████| 40/40 [00:37<00:00,  1.06batch/s]"
     ]
    },
    {
     "name": "stdout",
     "output_type": "stream",
     "text": [
      "2022-01-16 01:12:32 [INFO]: [EvalScoreRecoder]: In epoch 17/150, loss train score: 0.06981709116037674, val score: 1.1493685245513916\n",
      "2022-01-16 01:12:32 [INFO]: [EvalScoreRecoder]: In epoch 17/150, accuracy train score: 0.9738256369426752, val score: 0.7442294034090909\n",
      "2022-01-16 01:12:32 [INFO]: [EarlyStopper]: In epoch 17/150, accuracy score: 0.7442294034090909, best accuracy score: 0.7468158143939394;accuracy score was not improved\n",
      "2022-01-16 01:12:32 [INFO]: [EarlyStopper]: Current wait count: 1, patience: 15\n",
      "2022-01-16 01:12:32 [INFO]: [ModelCheckpoint]: Checkpoint at epoch 17: accuracy did not improve\n"
     ]
    },
    {
     "name": "stderr",
     "output_type": "stream",
     "text": [
      "\n",
      "Training in epoch 18/150: 100%|██████████| 157/157 [03:20<00:00,  1.28s/batch]\n",
      "Validating in epoch 18/150: 100%|██████████| 40/40 [00:36<00:00,  1.08batch/s]"
     ]
    },
    {
     "name": "stdout",
     "output_type": "stream",
     "text": [
      "2022-01-16 01:16:30 [INFO]: [EvalScoreRecoder]: In epoch 18/150, loss train score: 0.0652599347767177, val score: 1.0152311012148858\n",
      "2022-01-16 01:16:30 [INFO]: [EvalScoreRecoder]: In epoch 18/150, accuracy train score: 0.9764132165605095, val score: 0.753604403409091\n",
      "2022-01-16 01:16:30 [INFO]: [EarlyStopper]: In epoch 18/150, accuracy score: 0.753604403409091, best accuracy score: 0.7468158143939394;update best score to 0.753604403409091\n",
      "2022-01-16 01:16:30 [INFO]: [ModelCheckpoint]: Checkpoint at epoch 18: accuracy improved from 0.7468158143939394 to 0.753604403409091, saving model to ../output/exp2/train.0.model_18.chk\n"
     ]
    },
    {
     "name": "stderr",
     "output_type": "stream",
     "text": [
      "\n",
      "Training in epoch 19/150: 100%|██████████| 157/157 [03:20<00:00,  1.28s/batch]\n",
      "Validating in epoch 19/150: 100%|██████████| 40/40 [00:38<00:00,  1.05batch/s]"
     ]
    },
    {
     "name": "stdout",
     "output_type": "stream",
     "text": [
      "2022-01-16 01:20:29 [INFO]: [EvalScoreRecoder]: In epoch 19/150, loss train score: 0.055391474205787015, val score: 1.1496742486953735\n",
      "2022-01-16 01:20:29 [INFO]: [EvalScoreRecoder]: In epoch 19/150, accuracy train score: 0.9802448248407644, val score: 0.7539950284090909\n",
      "2022-01-16 01:20:29 [INFO]: [EarlyStopper]: In epoch 19/150, accuracy score: 0.7539950284090909, best accuracy score: 0.753604403409091;update best score to 0.7539950284090909\n",
      "2022-01-16 01:20:29 [INFO]: [ModelCheckpoint]: Checkpoint at epoch 19: accuracy improved from 0.753604403409091 to 0.7539950284090909, saving model to ../output/exp2/train.0.model_19.chk\n"
     ]
    },
    {
     "name": "stderr",
     "output_type": "stream",
     "text": [
      "\n",
      "Training in epoch 20/150:  15%|█▍        | 23/157 [00:29<02:48,  1.26s/batch]IOPub message rate exceeded.\n",
      "The notebook server will temporarily stop sending output\n",
      "to the client in order to avoid crashing it.\n",
      "To change this limit, set the config variable\n",
      "`--NotebookApp.iopub_msg_rate_limit`.\n",
      "\n",
      "Current values:\n",
      "NotebookApp.iopub_msg_rate_limit=1000.0 (msgs/sec)\n",
      "NotebookApp.rate_limit_window=3.0 (secs)\n",
      "\n",
      "Training in epoch 20/150: 100%|██████████| 157/157 [03:17<00:00,  1.26s/batch]\n",
      "Validating in epoch 20/150: 100%|██████████| 40/40 [00:36<00:00,  1.09batch/s]"
     ]
    },
    {
     "name": "stdout",
     "output_type": "stream",
     "text": [
      "2022-01-16 01:24:25 [INFO]: [EvalScoreRecoder]: In epoch 20/150, loss train score: 0.056895427500746054, val score: 1.1045704320073129\n",
      "2022-01-16 01:24:25 [INFO]: [EvalScoreRecoder]: In epoch 20/150, accuracy train score: 0.980344347133758, val score: 0.7533854166666666\n",
      "2022-01-16 01:24:25 [INFO]: [EarlyStopper]: In epoch 20/150, accuracy score: 0.7533854166666666, best accuracy score: 0.7539950284090909;accuracy score was not improved\n",
      "2022-01-16 01:24:25 [INFO]: [EarlyStopper]: Current wait count: 1, patience: 15\n",
      "2022-01-16 01:24:25 [INFO]: [ModelCheckpoint]: Checkpoint at epoch 20: accuracy did not improve\n"
     ]
    },
    {
     "name": "stderr",
     "output_type": "stream",
     "text": [
      "\n",
      "Training in epoch 21/150: 100%|██████████| 157/157 [03:19<00:00,  1.27s/batch]\n",
      "Validating in epoch 21/150: 100%|██████████| 40/40 [00:36<00:00,  1.10batch/s]"
     ]
    },
    {
     "name": "stdout",
     "output_type": "stream",
     "text": [
      "2022-01-16 01:28:21 [INFO]: [EvalScoreRecoder]: In epoch 21/150, loss train score: 0.04903431480548754, val score: 1.0769919902086258\n",
      "2022-01-16 01:28:21 [INFO]: [EvalScoreRecoder]: In epoch 21/150, accuracy train score: 0.9825338375796179, val score: 0.7576349431818181\n",
      "2022-01-16 01:28:21 [INFO]: [EarlyStopper]: In epoch 21/150, accuracy score: 0.7576349431818181, best accuracy score: 0.7539950284090909;update best score to 0.7576349431818181\n",
      "2022-01-16 01:28:21 [INFO]: [ModelCheckpoint]: Checkpoint at epoch 21: accuracy improved from 0.7539950284090909 to 0.7576349431818181, saving model to ../output/exp2/train.0.model_21.chk\n"
     ]
    },
    {
     "name": "stderr",
     "output_type": "stream",
     "text": [
      "\n",
      "Training in epoch 22/150: 100%|██████████| 157/157 [03:17<00:00,  1.26s/batch]\n",
      "Validating in epoch 22/150: 100%|██████████| 40/40 [00:38<00:00,  1.05batch/s]"
     ]
    },
    {
     "name": "stdout",
     "output_type": "stream",
     "text": [
      "2022-01-16 01:32:18 [INFO]: [EvalScoreRecoder]: In epoch 22/150, loss train score: 0.0477555463725262, val score: 1.1070675075054168\n",
      "2022-01-16 01:32:18 [INFO]: [EvalScoreRecoder]: In epoch 22/150, accuracy train score: 0.9832304936305732, val score: 0.7559244791666666\n",
      "2022-01-16 01:32:18 [INFO]: [EarlyStopper]: In epoch 22/150, accuracy score: 0.7559244791666666, best accuracy score: 0.7576349431818181;accuracy score was not improved\n",
      "2022-01-16 01:32:18 [INFO]: [EarlyStopper]: Current wait count: 1, patience: 15\n",
      "2022-01-16 01:32:18 [INFO]: [ModelCheckpoint]: Checkpoint at epoch 22: accuracy did not improve\n"
     ]
    },
    {
     "name": "stderr",
     "output_type": "stream",
     "text": [
      "\n",
      "Training in epoch 23/150: 100%|██████████| 157/157 [03:24<00:00,  1.30s/batch]\n",
      "Validating in epoch 23/150: 100%|██████████| 40/40 [00:36<00:00,  1.08batch/s]"
     ]
    },
    {
     "name": "stdout",
     "output_type": "stream",
     "text": [
      "2022-01-16 01:36:19 [INFO]: [EvalScoreRecoder]: In epoch 23/150, loss train score: 0.04961090624201924, val score: 1.1425665095448494\n",
      "2022-01-16 01:36:19 [INFO]: [EvalScoreRecoder]: In epoch 23/150, accuracy train score: 0.9829816878980892, val score: 0.7460582386363637\n",
      "2022-01-16 01:36:19 [INFO]: [EarlyStopper]: In epoch 23/150, accuracy score: 0.7460582386363637, best accuracy score: 0.7576349431818181;accuracy score was not improved\n",
      "2022-01-16 01:36:19 [INFO]: [EarlyStopper]: Current wait count: 2, patience: 15\n",
      "2022-01-16 01:36:19 [INFO]: [ModelCheckpoint]: Checkpoint at epoch 23: accuracy did not improve\n"
     ]
    },
    {
     "name": "stderr",
     "output_type": "stream",
     "text": [
      "\n",
      "Training in epoch 24/150: 100%|██████████| 157/157 [03:22<00:00,  1.29s/batch]\n",
      "Validating in epoch 24/150: 100%|██████████| 40/40 [00:38<00:00,  1.03batch/s]"
     ]
    },
    {
     "name": "stdout",
     "output_type": "stream",
     "text": [
      "2022-01-16 01:40:21 [INFO]: [EvalScoreRecoder]: In epoch 24/150, loss train score: 0.03709672728055127, val score: 1.148238356411457\n",
      "2022-01-16 01:40:21 [INFO]: [EvalScoreRecoder]: In epoch 24/150, accuracy train score: 0.9871616242038217, val score: 0.7521898674242424\n",
      "2022-01-16 01:40:21 [INFO]: [EarlyStopper]: In epoch 24/150, accuracy score: 0.7521898674242424, best accuracy score: 0.7576349431818181;accuracy score was not improved\n",
      "2022-01-16 01:40:21 [INFO]: [EarlyStopper]: Current wait count: 3, patience: 15\n",
      "2022-01-16 01:40:21 [INFO]: [ModelCheckpoint]: Checkpoint at epoch 24: accuracy did not improve\n"
     ]
    },
    {
     "name": "stderr",
     "output_type": "stream",
     "text": [
      "\n",
      "Training in epoch 25/150: 100%|██████████| 157/157 [03:18<00:00,  1.27s/batch]\n",
      "Validating in epoch 25/150: 100%|██████████| 40/40 [00:36<00:00,  1.09batch/s]"
     ]
    },
    {
     "name": "stdout",
     "output_type": "stream",
     "text": [
      "2022-01-16 01:44:16 [INFO]: [EvalScoreRecoder]: In epoch 25/150, loss train score: 0.04246886049628638, val score: 1.1810657426714897\n",
      "2022-01-16 01:44:16 [INFO]: [EvalScoreRecoder]: In epoch 25/150, accuracy train score: 0.985718550955414, val score: 0.7672526041666666\n",
      "2022-01-16 01:44:16 [INFO]: [EarlyStopper]: In epoch 25/150, accuracy score: 0.7672526041666666, best accuracy score: 0.7576349431818181;update best score to 0.7672526041666666\n",
      "2022-01-16 01:44:16 [INFO]: [ModelCheckpoint]: Checkpoint at epoch 25: accuracy improved from 0.7576349431818181 to 0.7672526041666666, saving model to ../output/exp2/train.0.model_25.chk\n"
     ]
    },
    {
     "name": "stderr",
     "output_type": "stream",
     "text": [
      "\n",
      "Training in epoch 26/150: 100%|██████████| 157/157 [03:21<00:00,  1.28s/batch]\n",
      "Validating in epoch 26/150: 100%|██████████| 40/40 [00:36<00:00,  1.09batch/s]"
     ]
    },
    {
     "name": "stdout",
     "output_type": "stream",
     "text": [
      "2022-01-16 01:48:15 [INFO]: [EvalScoreRecoder]: In epoch 26/150, loss train score: 0.03964616796654311, val score: 1.177835503220558\n",
      "2022-01-16 01:48:15 [INFO]: [EvalScoreRecoder]: In epoch 26/150, accuracy train score: 0.9859673566878981, val score: 0.7585345643939394\n",
      "2022-01-16 01:48:15 [INFO]: [EarlyStopper]: In epoch 26/150, accuracy score: 0.7585345643939394, best accuracy score: 0.7672526041666666;accuracy score was not improved\n",
      "2022-01-16 01:48:15 [INFO]: [EarlyStopper]: Current wait count: 1, patience: 15\n",
      "2022-01-16 01:48:15 [INFO]: [ModelCheckpoint]: Checkpoint at epoch 26: accuracy did not improve\n"
     ]
    },
    {
     "name": "stderr",
     "output_type": "stream",
     "text": [
      "\n",
      "Training in epoch 27/150: 100%|██████████| 157/157 [03:15<00:00,  1.24s/batch]\n",
      "Validating in epoch 27/150: 100%|██████████| 40/40 [00:38<00:00,  1.04batch/s]"
     ]
    },
    {
     "name": "stdout",
     "output_type": "stream",
     "text": [
      "2022-01-16 01:52:09 [INFO]: [EvalScoreRecoder]: In epoch 27/150, loss train score: 0.036357753536408875, val score: 1.1799818560481072\n",
      "2022-01-16 01:52:09 [INFO]: [EvalScoreRecoder]: In epoch 27/150, accuracy train score: 0.9864649681528662, val score: 0.7533617424242424\n",
      "2022-01-16 01:52:09 [INFO]: [EarlyStopper]: In epoch 27/150, accuracy score: 0.7533617424242424, best accuracy score: 0.7672526041666666;accuracy score was not improved\n",
      "2022-01-16 01:52:09 [INFO]: [EarlyStopper]: Current wait count: 2, patience: 15\n",
      "2022-01-16 01:52:09 [INFO]: [ModelCheckpoint]: Checkpoint at epoch 27: accuracy did not improve\n"
     ]
    },
    {
     "name": "stderr",
     "output_type": "stream",
     "text": [
      "\n",
      "Training in epoch 28/150: 100%|██████████| 157/157 [03:18<00:00,  1.27s/batch]\n",
      "Validating in epoch 28/150: 100%|██████████| 40/40 [00:36<00:00,  1.11batch/s]"
     ]
    },
    {
     "name": "stdout",
     "output_type": "stream",
     "text": [
      "2022-01-16 01:56:04 [INFO]: [EvalScoreRecoder]: In epoch 28/150, loss train score: 0.038571035800869485, val score: 1.1847632616758346\n",
      "2022-01-16 01:56:04 [INFO]: [EvalScoreRecoder]: In epoch 28/150, accuracy train score: 0.9871118630573248, val score: 0.7514559659090909\n",
      "2022-01-16 01:56:04 [INFO]: [EarlyStopper]: In epoch 28/150, accuracy score: 0.7514559659090909, best accuracy score: 0.7672526041666666;accuracy score was not improved\n",
      "2022-01-16 01:56:04 [INFO]: [EarlyStopper]: Current wait count: 3, patience: 15\n",
      "2022-01-16 01:56:04 [INFO]: [ModelCheckpoint]: Checkpoint at epoch 28: accuracy did not improve\n"
     ]
    },
    {
     "name": "stderr",
     "output_type": "stream",
     "text": [
      "\n",
      "Validating in epoch 29/150: 100%|██████████| 40/40 [00:39<00:00,  1.01batch/s]"
     ]
    },
    {
     "name": "stdout",
     "output_type": "stream",
     "text": [
      "2022-01-16 02:00:04 [INFO]: [EvalScoreRecoder]: In epoch 29/150, loss train score: 0.04213263921937935, val score: 1.0744334757328033\n",
      "2022-01-16 02:00:04 [INFO]: [EvalScoreRecoder]: In epoch 29/150, accuracy train score: 0.9857683121019108, val score: 0.7618075284090909\n",
      "2022-01-16 02:00:04 [INFO]: [EarlyStopper]: In epoch 29/150, accuracy score: 0.7618075284090909, best accuracy score: 0.7672526041666666;accuracy score was not improved\n",
      "2022-01-16 02:00:04 [INFO]: [EarlyStopper]: Current wait count: 4, patience: 15\n",
      "2022-01-16 02:00:04 [INFO]: [ModelCheckpoint]: Checkpoint at epoch 29: accuracy did not improve\n"
     ]
    },
    {
     "name": "stderr",
     "output_type": "stream",
     "text": [
      "\n",
      "Training in epoch 30/150: 100%|██████████| 157/157 [03:34<00:00,  1.37s/batch]\n",
      "Validating in epoch 30/150: 100%|██████████| 40/40 [00:39<00:00,  1.02batch/s]"
     ]
    },
    {
     "name": "stdout",
     "output_type": "stream",
     "text": [
      "2022-01-16 02:04:19 [INFO]: [EvalScoreRecoder]: In epoch 30/150, loss train score: 0.036836360671682056, val score: 1.4788176625967027\n",
      "2022-01-16 02:04:19 [INFO]: [EvalScoreRecoder]: In epoch 30/150, accuracy train score: 0.9858678343949044, val score: 0.7563151041666666\n",
      "2022-01-16 02:04:19 [INFO]: [EarlyStopper]: In epoch 30/150, accuracy score: 0.7563151041666666, best accuracy score: 0.7672526041666666;accuracy score was not improved\n",
      "2022-01-16 02:04:19 [INFO]: [EarlyStopper]: Current wait count: 5, patience: 15\n",
      "2022-01-16 02:04:19 [INFO]: [ModelCheckpoint]: Checkpoint at epoch 30: accuracy did not improve\n"
     ]
    },
    {
     "name": "stderr",
     "output_type": "stream",
     "text": [
      "\n",
      "Training in epoch 31/150: 100%|██████████| 157/157 [03:32<00:00,  1.35s/batch]\n",
      "Validating in epoch 31/150: 100%|██████████| 40/40 [00:39<00:00,  1.00batch/s]"
     ]
    },
    {
     "name": "stdout",
     "output_type": "stream",
     "text": [
      "2022-01-16 02:08:31 [INFO]: [EvalScoreRecoder]: In epoch 31/150, loss train score: 0.037328002223994135, val score: 1.423695656657219\n",
      "2022-01-16 02:08:31 [INFO]: [EvalScoreRecoder]: In epoch 31/150, accuracy train score: 0.9870123407643312, val score: 0.7571437026515151\n",
      "2022-01-16 02:08:31 [INFO]: [EarlyStopper]: In epoch 31/150, accuracy score: 0.7571437026515151, best accuracy score: 0.7672526041666666;accuracy score was not improved\n",
      "2022-01-16 02:08:31 [INFO]: [EarlyStopper]: Current wait count: 6, patience: 15\n",
      "2022-01-16 02:08:31 [INFO]: [ModelCheckpoint]: Checkpoint at epoch 31: accuracy did not improve\n"
     ]
    },
    {
     "name": "stderr",
     "output_type": "stream",
     "text": [
      "\n",
      "Training in epoch 32/150: 100%|██████████| 157/157 [03:30<00:00,  1.34s/batch]\n",
      "Validating in epoch 32/150: 100%|██████████| 40/40 [00:37<00:00,  1.06batch/s]"
     ]
    },
    {
     "name": "stdout",
     "output_type": "stream",
     "text": [
      "2022-01-16 02:12:39 [INFO]: [EvalScoreRecoder]: In epoch 32/150, loss train score: 0.03647319987641683, val score: 1.1651902228593827\n",
      "2022-01-16 02:12:39 [INFO]: [EvalScoreRecoder]: In epoch 32/150, accuracy train score: 0.9874601910828026, val score: 0.7579249526515152\n",
      "2022-01-16 02:12:39 [INFO]: [EarlyStopper]: In epoch 32/150, accuracy score: 0.7579249526515152, best accuracy score: 0.7672526041666666;accuracy score was not improved\n",
      "2022-01-16 02:12:39 [INFO]: [EarlyStopper]: Current wait count: 7, patience: 15\n",
      "2022-01-16 02:12:39 [INFO]: [ModelCheckpoint]: Checkpoint at epoch 32: accuracy did not improve\n"
     ]
    },
    {
     "name": "stderr",
     "output_type": "stream",
     "text": [
      "\n",
      "Validating in epoch 33/150: 100%|██████████| 40/40 [00:36<00:00,  1.09batch/s]"
     ]
    },
    {
     "name": "stdout",
     "output_type": "stream",
     "text": [
      "2022-01-16 02:16:34 [INFO]: [EvalScoreRecoder]: In epoch 33/150, loss train score: 0.034140263390460404, val score: 1.197610478103161\n",
      "2022-01-16 02:16:34 [INFO]: [EvalScoreRecoder]: In epoch 33/150, accuracy train score: 0.9881070859872612, val score: 0.7555812026515152\n",
      "2022-01-16 02:16:34 [INFO]: [EarlyStopper]: In epoch 33/150, accuracy score: 0.7555812026515152, best accuracy score: 0.7672526041666666;accuracy score was not improved\n",
      "2022-01-16 02:16:34 [INFO]: [EarlyStopper]: Current wait count: 8, patience: 15\n",
      "2022-01-16 02:16:34 [INFO]: [ModelCheckpoint]: Checkpoint at epoch 33: accuracy did not improve\n"
     ]
    },
    {
     "name": "stderr",
     "output_type": "stream",
     "text": [
      "\n",
      "Training in epoch 34/150: 100%|██████████| 157/157 [03:21<00:00,  1.28s/batch]\n",
      "Validating in epoch 34/150: 100%|██████████| 40/40 [00:38<00:00,  1.03batch/s]"
     ]
    },
    {
     "name": "stdout",
     "output_type": "stream",
     "text": [
      "2022-01-16 02:20:34 [INFO]: [EvalScoreRecoder]: In epoch 34/150, loss train score: 0.033537130645672035, val score: 1.0263906627893449\n",
      "2022-01-16 02:20:34 [INFO]: [EvalScoreRecoder]: In epoch 34/150, accuracy train score: 0.9875597133757962, val score: 0.7604640151515152\n",
      "2022-01-16 02:20:34 [INFO]: [EarlyStopper]: In epoch 34/150, accuracy score: 0.7604640151515152, best accuracy score: 0.7672526041666666;accuracy score was not improved\n",
      "2022-01-16 02:20:34 [INFO]: [EarlyStopper]: Current wait count: 9, patience: 15\n",
      "2022-01-16 02:20:34 [INFO]: [ModelCheckpoint]: Checkpoint at epoch 34: accuracy did not improve\n"
     ]
    },
    {
     "name": "stderr",
     "output_type": "stream",
     "text": [
      "\n",
      "Training in epoch 35/150: 100%|██████████| 157/157 [03:22<00:00,  1.29s/batch]\n",
      "Validating in epoch 35/150: 100%|██████████| 40/40 [00:36<00:00,  1.09batch/s]"
     ]
    },
    {
     "name": "stdout",
     "output_type": "stream",
     "text": [
      "2022-01-16 02:24:34 [INFO]: [EvalScoreRecoder]: In epoch 35/150, loss train score: 0.0346600677088425, val score: 1.113736665248871\n",
      "2022-01-16 02:24:34 [INFO]: [EvalScoreRecoder]: In epoch 35/150, accuracy train score: 0.9887042197452229, val score: 0.7637133049242424\n",
      "2022-01-16 02:24:34 [INFO]: [EarlyStopper]: In epoch 35/150, accuracy score: 0.7637133049242424, best accuracy score: 0.7672526041666666;accuracy score was not improved\n",
      "2022-01-16 02:24:34 [INFO]: [EarlyStopper]: Current wait count: 10, patience: 15\n",
      "2022-01-16 02:24:34 [INFO]: [ModelCheckpoint]: Checkpoint at epoch 35: accuracy did not improve\n"
     ]
    },
    {
     "name": "stderr",
     "output_type": "stream",
     "text": [
      "\n",
      "Training in epoch 36/150: 100%|██████████| 157/157 [03:17<00:00,  1.26s/batch]\n",
      "Validating in epoch 36/150: 100%|██████████| 40/40 [00:36<00:00,  1.08batch/s]"
     ]
    },
    {
     "name": "stdout",
     "output_type": "stream",
     "text": [
      "2022-01-16 02:28:28 [INFO]: [EvalScoreRecoder]: In epoch 36/150, loss train score: 0.030632210818303238, val score: 1.2599507391452789\n",
      "2022-01-16 02:28:28 [INFO]: [EvalScoreRecoder]: In epoch 36/150, accuracy train score: 0.990047770700637, val score: 0.7690340909090909\n",
      "2022-01-16 02:28:28 [INFO]: [EarlyStopper]: In epoch 36/150, accuracy score: 0.7690340909090909, best accuracy score: 0.7672526041666666;update best score to 0.7690340909090909\n",
      "2022-01-16 02:28:28 [INFO]: [ModelCheckpoint]: Checkpoint at epoch 36: accuracy improved from 0.7672526041666666 to 0.7690340909090909, saving model to ../output/exp2/train.0.model_36.chk\n"
     ]
    },
    {
     "name": "stderr",
     "output_type": "stream",
     "text": [
      "\n",
      "Training in epoch 37/150: 100%|██████████| 157/157 [03:23<00:00,  1.30s/batch]\n",
      "Validating in epoch 37/150: 100%|██████████| 40/40 [00:37<00:00,  1.08batch/s]"
     ]
    },
    {
     "name": "stdout",
     "output_type": "stream",
     "text": [
      "2022-01-16 02:32:29 [INFO]: [EvalScoreRecoder]: In epoch 37/150, loss train score: 0.0324952293715327, val score: 1.098128405213356\n",
      "2022-01-16 02:32:29 [INFO]: [EvalScoreRecoder]: In epoch 37/150, accuracy train score: 0.9892515923566879, val score: 0.7581439393939394\n",
      "2022-01-16 02:32:29 [INFO]: [EarlyStopper]: In epoch 37/150, accuracy score: 0.7581439393939394, best accuracy score: 0.7690340909090909;accuracy score was not improved\n",
      "2022-01-16 02:32:29 [INFO]: [EarlyStopper]: Current wait count: 1, patience: 15\n",
      "2022-01-16 02:32:29 [INFO]: [ModelCheckpoint]: Checkpoint at epoch 37: accuracy did not improve\n"
     ]
    },
    {
     "name": "stderr",
     "output_type": "stream",
     "text": [
      "\n",
      "Training in epoch 38/150: 100%|██████████| 157/157 [03:14<00:00,  1.24s/batch]\n",
      "Validating in epoch 38/150: 100%|██████████| 40/40 [00:36<00:00,  1.09batch/s]"
     ]
    },
    {
     "name": "stdout",
     "output_type": "stream",
     "text": [
      "2022-01-16 02:36:21 [INFO]: [EvalScoreRecoder]: In epoch 38/150, loss train score: 0.0318863685717391, val score: 1.2491094380617143\n",
      "2022-01-16 02:36:21 [INFO]: [EvalScoreRecoder]: In epoch 38/150, accuracy train score: 0.9895999203821656, val score: 0.7642755681818182\n",
      "2022-01-16 02:36:21 [INFO]: [EarlyStopper]: In epoch 38/150, accuracy score: 0.7642755681818182, best accuracy score: 0.7690340909090909;accuracy score was not improved\n",
      "2022-01-16 02:36:21 [INFO]: [EarlyStopper]: Current wait count: 2, patience: 15\n",
      "2022-01-16 02:36:21 [INFO]: [ModelCheckpoint]: Checkpoint at epoch 38: accuracy did not improve\n"
     ]
    },
    {
     "name": "stderr",
     "output_type": "stream",
     "text": [
      "\n",
      "Training in epoch 39/150: 100%|██████████| 157/157 [03:19<00:00,  1.27s/batch]\n",
      "Validating in epoch 39/150: 100%|██████████| 40/40 [00:36<00:00,  1.11batch/s]"
     ]
    },
    {
     "name": "stdout",
     "output_type": "stream",
     "text": [
      "2022-01-16 02:40:17 [INFO]: [EvalScoreRecoder]: In epoch 39/150, loss train score: 0.04085058033923102, val score: 1.0828332394361495\n",
      "2022-01-16 02:40:17 [INFO]: [EvalScoreRecoder]: In epoch 39/150, accuracy train score: 0.9859175955414012, val score: 0.752627840909091\n",
      "2022-01-16 02:40:17 [INFO]: [EarlyStopper]: In epoch 39/150, accuracy score: 0.752627840909091, best accuracy score: 0.7690340909090909;accuracy score was not improved\n",
      "2022-01-16 02:40:17 [INFO]: [EarlyStopper]: Current wait count: 3, patience: 15\n",
      "2022-01-16 02:40:17 [INFO]: [ModelCheckpoint]: Checkpoint at epoch 39: accuracy did not improve\n"
     ]
    },
    {
     "name": "stderr",
     "output_type": "stream",
     "text": [
      "\n",
      "Training in epoch 40/150: 100%|██████████| 157/157 [03:21<00:00,  1.28s/batch]\n",
      "Validating in epoch 40/150: 100%|██████████| 40/40 [00:38<00:00,  1.04batch/s]"
     ]
    },
    {
     "name": "stdout",
     "output_type": "stream",
     "text": [
      "2022-01-16 02:44:17 [INFO]: [EvalScoreRecoder]: In epoch 40/150, loss train score: 0.03599209606849179, val score: 1.2610027387738227\n",
      "2022-01-16 02:44:17 [INFO]: [EvalScoreRecoder]: In epoch 40/150, accuracy train score: 0.9875597133757962, val score: 0.7549715909090909\n",
      "2022-01-16 02:44:17 [INFO]: [EarlyStopper]: In epoch 40/150, accuracy score: 0.7549715909090909, best accuracy score: 0.7690340909090909;accuracy score was not improved\n",
      "2022-01-16 02:44:17 [INFO]: [EarlyStopper]: Current wait count: 4, patience: 15\n",
      "2022-01-16 02:44:17 [INFO]: [ModelCheckpoint]: Checkpoint at epoch 40: accuracy did not improve\n"
     ]
    },
    {
     "name": "stderr",
     "output_type": "stream",
     "text": [
      "\n",
      "Training in epoch 41/150:  43%|████▎     | 68/157 [01:25<01:53,  1.28s/batch]IOPub message rate exceeded.\n",
      "The notebook server will temporarily stop sending output\n",
      "to the client in order to avoid crashing it.\n",
      "To change this limit, set the config variable\n",
      "`--NotebookApp.iopub_msg_rate_limit`.\n",
      "\n",
      "Current values:\n",
      "NotebookApp.iopub_msg_rate_limit=1000.0 (msgs/sec)\n",
      "NotebookApp.rate_limit_window=3.0 (secs)\n",
      "\n",
      "Training in epoch 43/150: 100%|██████████| 157/157 [03:23<00:00,  1.29s/batch]\n",
      "Validating in epoch 43/150: 100%|██████████| 40/40 [00:36<00:00,  1.11batch/s]"
     ]
    },
    {
     "name": "stdout",
     "output_type": "stream",
     "text": [
      "2022-01-16 02:56:04 [INFO]: [EvalScoreRecoder]: In epoch 43/150, loss train score: 0.031779045936099856, val score: 1.1059711262583733\n",
      "2022-01-16 02:56:04 [INFO]: [EvalScoreRecoder]: In epoch 43/150, accuracy train score: 0.9899482484076433, val score: 0.7688624526515151\n",
      "2022-01-16 02:56:04 [INFO]: [EarlyStopper]: In epoch 43/150, accuracy score: 0.7688624526515151, best accuracy score: 0.7690340909090909;accuracy score was not improved\n",
      "2022-01-16 02:56:04 [INFO]: [EarlyStopper]: Current wait count: 7, patience: 15\n",
      "2022-01-16 02:56:04 [INFO]: [ModelCheckpoint]: Checkpoint at epoch 43: accuracy did not improve\n"
     ]
    },
    {
     "name": "stderr",
     "output_type": "stream",
     "text": [
      "\n",
      "Training in epoch 44/150: 100%|██████████| 157/157 [03:17<00:00,  1.26s/batch]\n",
      "Validating in epoch 44/150: 100%|██████████| 40/40 [00:38<00:00,  1.05batch/s]"
     ]
    },
    {
     "name": "stdout",
     "output_type": "stream",
     "text": [
      "2022-01-16 03:00:00 [INFO]: [EvalScoreRecoder]: In epoch 44/150, loss train score: 0.033510107466962875, val score: 1.047748227417469\n",
      "2022-01-16 03:00:00 [INFO]: [EvalScoreRecoder]: In epoch 44/150, accuracy train score: 0.988953025477707, val score: 0.7690577651515151\n",
      "2022-01-16 03:00:00 [INFO]: [EarlyStopper]: In epoch 44/150, accuracy score: 0.7690577651515151, best accuracy score: 0.7690340909090909;update best score to 0.7690577651515151\n",
      "2022-01-16 03:00:00 [INFO]: [ModelCheckpoint]: Checkpoint at epoch 44: accuracy improved from 0.7690340909090909 to 0.7690577651515151, saving model to ../output/exp2/train.0.model_44.chk\n"
     ]
    },
    {
     "name": "stderr",
     "output_type": "stream",
     "text": [
      "\n",
      "Training in epoch 45/150: 100%|██████████| 157/157 [03:20<00:00,  1.28s/batch]\n",
      "Validating in epoch 45/150: 100%|██████████| 40/40 [00:38<00:00,  1.03batch/s]"
     ]
    },
    {
     "name": "stdout",
     "output_type": "stream",
     "text": [
      "2022-01-16 03:04:00 [INFO]: [EvalScoreRecoder]: In epoch 45/150, loss train score: 0.02826638949536689, val score: 1.1096527397632598\n",
      "2022-01-16 03:04:00 [INFO]: [EvalScoreRecoder]: In epoch 45/150, accuracy train score: 0.990047770700637, val score: 0.7602687026515151\n",
      "2022-01-16 03:04:00 [INFO]: [EarlyStopper]: In epoch 45/150, accuracy score: 0.7602687026515151, best accuracy score: 0.7690577651515151;accuracy score was not improved\n",
      "2022-01-16 03:04:00 [INFO]: [EarlyStopper]: Current wait count: 1, patience: 15\n",
      "2022-01-16 03:04:00 [INFO]: [ModelCheckpoint]: Checkpoint at epoch 45: accuracy did not improve\n"
     ]
    },
    {
     "name": "stderr",
     "output_type": "stream",
     "text": [
      "\n",
      "Training in epoch 46/150: 100%|██████████| 157/157 [03:26<00:00,  1.32s/batch]\n",
      "Validating in epoch 46/150: 100%|██████████| 40/40 [00:40<00:00,  1.01s/batch]"
     ]
    },
    {
     "name": "stdout",
     "output_type": "stream",
     "text": [
      "2022-01-16 03:08:07 [INFO]: [EvalScoreRecoder]: In epoch 46/150, loss train score: 0.03689201177649532, val score: 1.0857276409864425\n",
      "2022-01-16 03:08:07 [INFO]: [EvalScoreRecoder]: In epoch 46/150, accuracy train score: 0.9867635350318471, val score: 0.7748934659090909\n",
      "2022-01-16 03:08:07 [INFO]: [EarlyStopper]: In epoch 46/150, accuracy score: 0.7748934659090909, best accuracy score: 0.7690577651515151;update best score to 0.7748934659090909\n",
      "2022-01-16 03:08:07 [INFO]: [ModelCheckpoint]: Checkpoint at epoch 46: accuracy improved from 0.7690577651515151 to 0.7748934659090909, saving model to ../output/exp2/train.0.model_46.chk\n"
     ]
    },
    {
     "name": "stderr",
     "output_type": "stream",
     "text": [
      "\n",
      "Training in epoch 48/150: 100%|██████████| 157/157 [03:21<00:00,  1.29s/batch]\n",
      "Validating in epoch 48/150: 100%|██████████| 40/40 [00:40<00:00,  1.02s/batch]"
     ]
    },
    {
     "name": "stdout",
     "output_type": "stream",
     "text": [
      "2022-01-16 03:16:08 [INFO]: [EvalScoreRecoder]: In epoch 48/150, loss train score: 0.03043646373412317, val score: 1.0199834644794463\n",
      "2022-01-16 03:16:08 [INFO]: [EvalScoreRecoder]: In epoch 48/150, accuracy train score: 0.9903960987261147, val score: 0.7645182291666666\n",
      "2022-01-16 03:16:08 [INFO]: [EarlyStopper]: In epoch 48/150, accuracy score: 0.7645182291666666, best accuracy score: 0.7748934659090909;accuracy score was not improved\n",
      "2022-01-16 03:16:08 [INFO]: [EarlyStopper]: Current wait count: 2, patience: 15\n",
      "2022-01-16 03:16:08 [INFO]: [ModelCheckpoint]: Checkpoint at epoch 48: accuracy did not improve\n"
     ]
    },
    {
     "name": "stderr",
     "output_type": "stream",
     "text": [
      "\n",
      "Training in epoch 49/150: 100%|██████████| 157/157 [03:31<00:00,  1.35s/batch]\n",
      "Validating in epoch 49/150: 100%|██████████| 40/40 [00:40<00:00,  1.01s/batch]"
     ]
    },
    {
     "name": "stdout",
     "output_type": "stream",
     "text": [
      "2022-01-16 03:20:20 [INFO]: [EvalScoreRecoder]: In epoch 49/150, loss train score: 0.03182548440542001, val score: 1.0778287917375564\n",
      "2022-01-16 03:20:20 [INFO]: [EvalScoreRecoder]: In epoch 49/150, accuracy train score: 0.9895999203821656, val score: 0.766790956439394\n",
      "2022-01-16 03:20:20 [INFO]: [EarlyStopper]: In epoch 49/150, accuracy score: 0.766790956439394, best accuracy score: 0.7748934659090909;accuracy score was not improved\n",
      "2022-01-16 03:20:20 [INFO]: [EarlyStopper]: Current wait count: 3, patience: 15\n",
      "2022-01-16 03:20:20 [INFO]: [ModelCheckpoint]: Checkpoint at epoch 49: accuracy did not improve\n"
     ]
    },
    {
     "name": "stderr",
     "output_type": "stream",
     "text": [
      "\n",
      "Training in epoch 50/150: 100%|██████████| 157/157 [03:28<00:00,  1.33s/batch]\n",
      "Validating in epoch 50/150: 100%|██████████| 40/40 [00:37<00:00,  1.05batch/s]"
     ]
    },
    {
     "name": "stdout",
     "output_type": "stream",
     "text": [
      "2022-01-16 03:24:26 [INFO]: [EvalScoreRecoder]: In epoch 50/150, loss train score: 0.026909947525828506, val score: 1.3969485670328141\n",
      "2022-01-16 03:24:26 [INFO]: [EvalScoreRecoder]: In epoch 50/150, accuracy train score: 0.9907444267515924, val score: 0.764346590909091\n",
      "2022-01-16 03:24:26 [INFO]: [EarlyStopper]: In epoch 50/150, accuracy score: 0.764346590909091, best accuracy score: 0.7748934659090909;accuracy score was not improved\n",
      "2022-01-16 03:24:26 [INFO]: [EarlyStopper]: Current wait count: 4, patience: 15\n",
      "2022-01-16 03:24:26 [INFO]: [ModelCheckpoint]: Checkpoint at epoch 50: accuracy did not improve\n"
     ]
    },
    {
     "name": "stderr",
     "output_type": "stream",
     "text": [
      "\n",
      "Training in epoch 51/150: 100%|██████████| 157/157 [03:28<00:00,  1.33s/batch]\n",
      "Validating in epoch 51/150: 100%|██████████| 40/40 [00:45<00:00,  1.14s/batch]"
     ]
    },
    {
     "name": "stdout",
     "output_type": "stream",
     "text": [
      "2022-01-16 03:28:40 [INFO]: [EvalScoreRecoder]: In epoch 51/150, loss train score: 0.03180733673974492, val score: 1.169518581032753\n",
      "2022-01-16 03:28:40 [INFO]: [EvalScoreRecoder]: In epoch 51/150, accuracy train score: 0.9897492038216561, val score: 0.7691583806818182\n",
      "2022-01-16 03:28:40 [INFO]: [EarlyStopper]: In epoch 51/150, accuracy score: 0.7691583806818182, best accuracy score: 0.7748934659090909;accuracy score was not improved\n",
      "2022-01-16 03:28:40 [INFO]: [EarlyStopper]: Current wait count: 5, patience: 15\n",
      "2022-01-16 03:28:40 [INFO]: [ModelCheckpoint]: Checkpoint at epoch 51: accuracy did not improve\n"
     ]
    },
    {
     "name": "stderr",
     "output_type": "stream",
     "text": [
      "\n",
      "Training in epoch 52/150: 100%|██████████| 157/157 [03:24<00:00,  1.30s/batch]\n",
      "Validating in epoch 52/150: 100%|██████████| 40/40 [00:36<00:00,  1.09batch/s]"
     ]
    },
    {
     "name": "stdout",
     "output_type": "stream",
     "text": [
      "2022-01-16 03:32:41 [INFO]: [EvalScoreRecoder]: In epoch 52/150, loss train score: 0.027225727414130974, val score: 1.3593112587928773\n",
      "2022-01-16 03:32:41 [INFO]: [EvalScoreRecoder]: In epoch 52/150, accuracy train score: 0.9911922770700637, val score: 0.7705492424242424\n",
      "2022-01-16 03:32:41 [INFO]: [EarlyStopper]: In epoch 52/150, accuracy score: 0.7705492424242424, best accuracy score: 0.7748934659090909;accuracy score was not improved\n",
      "2022-01-16 03:32:41 [INFO]: [EarlyStopper]: Current wait count: 6, patience: 15\n",
      "2022-01-16 03:32:41 [INFO]: [ModelCheckpoint]: Checkpoint at epoch 52: accuracy did not improve\n"
     ]
    },
    {
     "name": "stderr",
     "output_type": "stream",
     "text": [
      "\n",
      "Training in epoch 53/150: 100%|██████████| 157/157 [03:28<00:00,  1.33s/batch]\n",
      "Validating in epoch 53/150: 100%|██████████| 40/40 [00:40<00:00,  1.00s/batch]"
     ]
    },
    {
     "name": "stdout",
     "output_type": "stream",
     "text": [
      "2022-01-16 03:36:49 [INFO]: [EvalScoreRecoder]: In epoch 53/150, loss train score: 0.03173865126683169, val score: 1.3270297586917876\n",
      "2022-01-16 03:36:49 [INFO]: [EvalScoreRecoder]: In epoch 53/150, accuracy train score: 0.9886046974522293, val score: 0.7692530776515152\n",
      "2022-01-16 03:36:49 [INFO]: [EarlyStopper]: In epoch 53/150, accuracy score: 0.7692530776515152, best accuracy score: 0.7748934659090909;accuracy score was not improved\n",
      "2022-01-16 03:36:49 [INFO]: [EarlyStopper]: Current wait count: 7, patience: 15\n",
      "2022-01-16 03:36:49 [INFO]: [ModelCheckpoint]: Checkpoint at epoch 53: accuracy did not improve\n"
     ]
    },
    {
     "name": "stderr",
     "output_type": "stream",
     "text": [
      "\n",
      "Training in epoch 54/150: 100%|██████████| 157/157 [03:43<00:00,  1.42s/batch]\n",
      "Validating in epoch 54/150: 100%|██████████| 40/40 [00:39<00:00,  1.01batch/s]"
     ]
    },
    {
     "name": "stdout",
     "output_type": "stream",
     "text": [
      "2022-01-16 03:41:12 [INFO]: [EvalScoreRecoder]: In epoch 54/150, loss train score: 0.030351579035068774, val score: 1.4435712963342666\n",
      "2022-01-16 03:41:12 [INFO]: [EvalScoreRecoder]: In epoch 54/150, accuracy train score: 0.9893511146496815, val score: 0.7571200284090909\n",
      "2022-01-16 03:41:12 [INFO]: [EarlyStopper]: In epoch 54/150, accuracy score: 0.7571200284090909, best accuracy score: 0.7748934659090909;accuracy score was not improved\n",
      "2022-01-16 03:41:12 [INFO]: [EarlyStopper]: Current wait count: 8, patience: 15\n",
      "2022-01-16 03:41:12 [INFO]: [ModelCheckpoint]: Checkpoint at epoch 54: accuracy did not improve\n"
     ]
    },
    {
     "name": "stderr",
     "output_type": "stream",
     "text": [
      "\n",
      "Training in epoch 55/150:  76%|███████▌  | 119/157 [02:39<00:58,  1.53s/batch]IOPub message rate exceeded.\n",
      "The notebook server will temporarily stop sending output\n",
      "to the client in order to avoid crashing it.\n",
      "To change this limit, set the config variable\n",
      "`--NotebookApp.iopub_msg_rate_limit`.\n",
      "\n",
      "Current values:\n",
      "NotebookApp.iopub_msg_rate_limit=1000.0 (msgs/sec)\n",
      "NotebookApp.rate_limit_window=3.0 (secs)\n",
      "\n",
      "Training in epoch 0/100: 100%|██████████| 617/617 [12:27<00:00,  1.21s/batch]\n",
      "Validating in epoch 0/100: 100%|██████████| 155/155 [02:33<00:00,  1.01batch/s]"
     ]
    },
    {
     "name": "stdout",
     "output_type": "stream",
     "text": [
      "2022-01-16 04:25:47 [INFO]: [EvalScoreRecoder]: In epoch 0/100, loss train score: 0.5498862090238296, val score: 0.4559137567397087\n",
      "2022-01-16 04:25:47 [INFO]: [EvalScoreRecoder]: In epoch 0/100, accuracy train score: 0.7223460291734197, val score: 0.7846774193548387\n",
      "2022-01-16 04:25:47 [INFO]: [EarlyStopper]: In epoch 0/100, accuracy score: 0.7846774193548387, best accuracy score: -inf;update best score to 0.7846774193548387\n",
      "2022-01-16 04:25:47 [INFO]: [ModelCheckpoint]: Checkpoint at epoch 0: accuracy improved from -inf to 0.7846774193548387, saving model to ../output/exp2/train.1.model_0.chk\n"
     ]
    },
    {
     "name": "stderr",
     "output_type": "stream",
     "text": [
      "\n",
      "Training in epoch 1/100: 100%|██████████| 617/617 [12:20<00:00,  1.20s/batch]\n",
      "Validating in epoch 1/100: 100%|██████████| 155/155 [02:39<00:00,  1.03s/batch]"
     ]
    },
    {
     "name": "stdout",
     "output_type": "stream",
     "text": [
      "2022-01-16 04:40:47 [INFO]: [EvalScoreRecoder]: In epoch 1/100, loss train score: 0.3586247957989308, val score: 0.3593124645371591\n",
      "2022-01-16 04:40:47 [INFO]: [EvalScoreRecoder]: In epoch 1/100, accuracy train score: 0.8429902755267423, val score: 0.8442036290322581\n",
      "2022-01-16 04:40:47 [INFO]: [EarlyStopper]: In epoch 1/100, accuracy score: 0.8442036290322581, best accuracy score: 0.7846774193548387;update best score to 0.8442036290322581\n",
      "2022-01-16 04:40:47 [INFO]: [ModelCheckpoint]: Checkpoint at epoch 1: accuracy improved from 0.7846774193548387 to 0.8442036290322581, saving model to ../output/exp2/train.1.model_1.chk\n"
     ]
    },
    {
     "name": "stderr",
     "output_type": "stream",
     "text": [
      "\n",
      "Training in epoch 2/100:   7%|▋         | 42/617 [00:50<11:28,  1.20s/batch]IOPub message rate exceeded.\n",
      "The notebook server will temporarily stop sending output\n",
      "to the client in order to avoid crashing it.\n",
      "To change this limit, set the config variable\n",
      "`--NotebookApp.iopub_msg_rate_limit`.\n",
      "\n",
      "Current values:\n",
      "NotebookApp.iopub_msg_rate_limit=1000.0 (msgs/sec)\n",
      "NotebookApp.rate_limit_window=3.0 (secs)\n",
      "\n",
      "Validating in epoch 6/100: 100%|██████████| 155/155 [02:22<00:00,  1.09batch/s]"
     ]
    },
    {
     "name": "stdout",
     "output_type": "stream",
     "text": [
      "2022-01-16 05:56:28 [INFO]: [EvalScoreRecoder]: In epoch 6/100, loss train score: 0.08142219247323622, val score: 0.3561995090015473\n",
      "2022-01-16 05:56:28 [INFO]: [EvalScoreRecoder]: In epoch 6/100, accuracy train score: 0.9700541936790924, val score: 0.8921370967741935\n",
      "2022-01-16 05:56:28 [INFO]: [EarlyStopper]: In epoch 6/100, accuracy score: 0.8921370967741935, best accuracy score: 0.8961189516129032;accuracy score was not improved\n",
      "2022-01-16 05:56:28 [INFO]: [EarlyStopper]: Current wait count: 1, patience: 10\n",
      "2022-01-16 05:56:28 [INFO]: [ModelCheckpoint]: Checkpoint at epoch 6: accuracy did not improve\n"
     ]
    },
    {
     "name": "stderr",
     "output_type": "stream",
     "text": [
      "\n",
      "Training in epoch 7/100: 100%|██████████| 617/617 [12:32<00:00,  1.22s/batch]\n",
      "Validating in epoch 7/100: 100%|██████████| 155/155 [02:27<00:00,  1.05batch/s]"
     ]
    },
    {
     "name": "stdout",
     "output_type": "stream",
     "text": [
      "2022-01-16 06:11:28 [INFO]: [EvalScoreRecoder]: In epoch 7/100, loss train score: 0.07053250418085381, val score: 0.3166470321916765\n",
      "2022-01-16 06:11:28 [INFO]: [EvalScoreRecoder]: In epoch 7/100, accuracy train score: 0.9739287884927067, val score: 0.9054435483870967\n",
      "2022-01-16 06:11:28 [INFO]: [EarlyStopper]: In epoch 7/100, accuracy score: 0.9054435483870967, best accuracy score: 0.8961189516129032;update best score to 0.9054435483870967\n",
      "2022-01-16 06:11:28 [INFO]: [ModelCheckpoint]: Checkpoint at epoch 7: accuracy improved from 0.8961189516129032 to 0.9054435483870967, saving model to ../output/exp2/train.1.model_7.chk\n"
     ]
    },
    {
     "name": "stderr",
     "output_type": "stream",
     "text": [
      "\n",
      "Training in epoch 8/100: 100%|██████████| 617/617 [12:21<00:00,  1.20s/batch]\n",
      "Validating in epoch 8/100: 100%|██████████| 155/155 [02:38<00:00,  1.02s/batch]"
     ]
    },
    {
     "name": "stdout",
     "output_type": "stream",
     "text": [
      "2022-01-16 06:26:29 [INFO]: [EvalScoreRecoder]: In epoch 8/100, loss train score: 0.06284076651872243, val score: 0.36944506283729306\n",
      "2022-01-16 06:26:29 [INFO]: [EvalScoreRecoder]: In epoch 8/100, accuracy train score: 0.9762965964343598, val score: 0.9027217741935484\n",
      "2022-01-16 06:26:29 [INFO]: [EarlyStopper]: In epoch 8/100, accuracy score: 0.9027217741935484, best accuracy score: 0.9054435483870967;accuracy score was not improved\n",
      "2022-01-16 06:26:29 [INFO]: [EarlyStopper]: Current wait count: 1, patience: 10\n",
      "2022-01-16 06:26:29 [INFO]: [ModelCheckpoint]: Checkpoint at epoch 8: accuracy did not improve\n"
     ]
    },
    {
     "name": "stderr",
     "output_type": "stream",
     "text": [
      "\n",
      "Training in epoch 9/100: 100%|██████████| 617/617 [12:27<00:00,  1.21s/batch]\n",
      "Validating in epoch 9/100: 100%|██████████| 155/155 [02:29<00:00,  1.04batch/s]"
     ]
    },
    {
     "name": "stdout",
     "output_type": "stream",
     "text": [
      "2022-01-16 06:41:26 [INFO]: [EvalScoreRecoder]: In epoch 9/100, loss train score: 0.05967621591071956, val score: 0.3172980889197319\n",
      "2022-01-16 06:41:26 [INFO]: [EvalScoreRecoder]: In epoch 9/100, accuracy train score: 0.9785631077795786, val score: 0.9134576612903226\n",
      "2022-01-16 06:41:26 [INFO]: [EarlyStopper]: In epoch 9/100, accuracy score: 0.9134576612903226, best accuracy score: 0.9054435483870967;update best score to 0.9134576612903226\n",
      "2022-01-16 06:41:26 [INFO]: [ModelCheckpoint]: Checkpoint at epoch 9: accuracy improved from 0.9054435483870967 to 0.9134576612903226, saving model to ../output/exp2/train.1.model_9.chk\n"
     ]
    },
    {
     "name": "stderr",
     "output_type": "stream",
     "text": [
      "\n",
      "Training in epoch 10/100:   7%|▋         | 43/617 [00:50<11:23,  1.19s/batch]IOPub message rate exceeded.\n",
      "The notebook server will temporarily stop sending output\n",
      "to the client in order to avoid crashing it.\n",
      "To change this limit, set the config variable\n",
      "`--NotebookApp.iopub_msg_rate_limit`.\n",
      "\n",
      "Current values:\n",
      "NotebookApp.iopub_msg_rate_limit=1000.0 (msgs/sec)\n",
      "NotebookApp.rate_limit_window=3.0 (secs)\n",
      "\n",
      "Training in epoch 15/100: 100%|██████████| 617/617 [12:11<00:00,  1.18s/batch]\n",
      "Validating in epoch 15/100: 100%|██████████| 155/155 [02:23<00:00,  1.08batch/s]"
     ]
    },
    {
     "name": "stdout",
     "output_type": "stream",
     "text": [
      "2022-01-16 08:07:32 [INFO]: [EvalScoreRecoder]: In epoch 15/100, loss train score: 0.043240529190706666, val score: 0.31894356488220155\n",
      "2022-01-16 08:07:32 [INFO]: [EvalScoreRecoder]: In epoch 15/100, accuracy train score: 0.9848308346839546, val score: 0.9119959677419355\n",
      "2022-01-16 08:07:32 [INFO]: [EarlyStopper]: In epoch 15/100, accuracy score: 0.9119959677419355, best accuracy score: 0.9134576612903226;accuracy score was not improved\n",
      "2022-01-16 08:07:32 [INFO]: [EarlyStopper]: Current wait count: 6, patience: 10\n",
      "2022-01-16 08:07:32 [INFO]: [ModelCheckpoint]: Checkpoint at epoch 15: accuracy did not improve\n"
     ]
    },
    {
     "name": "stderr",
     "output_type": "stream",
     "text": [
      "\n",
      "Training in epoch 16/100: 100%|██████████| 617/617 [11:46<00:00,  1.14s/batch]\n",
      "Validating in epoch 16/100: 100%|██████████| 155/155 [02:22<00:00,  1.09batch/s]"
     ]
    },
    {
     "name": "stdout",
     "output_type": "stream",
     "text": [
      "2022-01-16 08:21:40 [INFO]: [EvalScoreRecoder]: In epoch 16/100, loss train score: 0.0430311357951157, val score: 0.38448054035825113\n",
      "2022-01-16 08:21:40 [INFO]: [EvalScoreRecoder]: In epoch 16/100, accuracy train score: 0.9843116896272285, val score: 0.8970262096774193\n",
      "2022-01-16 08:21:40 [INFO]: [EarlyStopper]: In epoch 16/100, accuracy score: 0.8970262096774193, best accuracy score: 0.9134576612903226;accuracy score was not improved\n",
      "2022-01-16 08:21:40 [INFO]: [EarlyStopper]: Current wait count: 7, patience: 10\n",
      "2022-01-16 08:21:40 [INFO]: [ModelCheckpoint]: Checkpoint at epoch 16: accuracy did not improve\n"
     ]
    },
    {
     "name": "stderr",
     "output_type": "stream",
     "text": [
      "\n",
      "Training in epoch 17/100: 100%|██████████| 617/617 [11:40<00:00,  1.14s/batch]\n",
      "Validating in epoch 17/100: 100%|██████████| 155/155 [02:23<00:00,  1.08batch/s]"
     ]
    },
    {
     "name": "stdout",
     "output_type": "stream",
     "text": [
      "2022-01-16 08:35:44 [INFO]: [EvalScoreRecoder]: In epoch 17/100, loss train score: 0.04235251759959315, val score: 0.32106944644643415\n",
      "2022-01-16 08:35:44 [INFO]: [EvalScoreRecoder]: In epoch 17/100, accuracy train score: 0.9846155794165316, val score: 0.9161290322580645\n",
      "2022-01-16 08:35:44 [INFO]: [EarlyStopper]: In epoch 17/100, accuracy score: 0.9161290322580645, best accuracy score: 0.9134576612903226;update best score to 0.9161290322580645\n",
      "2022-01-16 08:35:44 [INFO]: [ModelCheckpoint]: Checkpoint at epoch 17: accuracy improved from 0.9134576612903226 to 0.9161290322580645, saving model to ../output/exp2/train.1.model_17.chk\n"
     ]
    },
    {
     "name": "stderr",
     "output_type": "stream",
     "text": [
      "\n",
      "Training in epoch 18/100:  49%|████▊     | 300/617 [05:40<06:00,  1.14s/batch]IOPub message rate exceeded.\n",
      "The notebook server will temporarily stop sending output\n",
      "to the client in order to avoid crashing it.\n",
      "To change this limit, set the config variable\n",
      "`--NotebookApp.iopub_msg_rate_limit`.\n",
      "\n",
      "Current values:\n",
      "NotebookApp.iopub_msg_rate_limit=1000.0 (msgs/sec)\n",
      "NotebookApp.rate_limit_window=3.0 (secs)\n",
      "\n",
      "Training in epoch 23/100: 100%|██████████| 617/617 [11:42<00:00,  1.14s/batch]\n",
      "Validating in epoch 23/100: 100%|██████████| 155/155 [02:34<00:00,  1.00batch/s]"
     ]
    },
    {
     "name": "stdout",
     "output_type": "stream",
     "text": [
      "2022-01-16 10:00:36 [INFO]: [EvalScoreRecoder]: In epoch 23/100, loss train score: 0.03620606306049749, val score: 0.3551478347951366\n",
      "2022-01-16 10:00:36 [INFO]: [EvalScoreRecoder]: In epoch 23/100, accuracy train score: 0.9873505875202593, val score: 0.916733870967742\n",
      "2022-01-16 10:00:36 [INFO]: [EarlyStopper]: In epoch 23/100, accuracy score: 0.916733870967742, best accuracy score: 0.9219254032258064;accuracy score was not improved\n",
      "2022-01-16 10:00:36 [INFO]: [EarlyStopper]: Current wait count: 2, patience: 10\n",
      "2022-01-16 10:00:36 [INFO]: [ModelCheckpoint]: Checkpoint at epoch 23: accuracy did not improve\n"
     ]
    },
    {
     "name": "stderr",
     "output_type": "stream",
     "text": [
      "\n",
      "Training in epoch 24/100: 100%|██████████| 617/617 [11:44<00:00,  1.14s/batch]\n",
      "Training in epoch 25/100: 100%|██████████| 617/617 [11:47<00:00,  1.15s/batch]]\n",
      "Validating in epoch 25/100: 100%|██████████| 155/155 [02:23<00:00,  1.08batch/s]"
     ]
    },
    {
     "name": "stdout",
     "output_type": "stream",
     "text": [
      "2022-01-16 10:29:08 [INFO]: [EvalScoreRecoder]: In epoch 25/100, loss train score: 0.035478260999808095, val score: 0.3333829377207064\n",
      "2022-01-16 10:29:08 [INFO]: [EvalScoreRecoder]: In epoch 25/100, accuracy train score: 0.9877304497568882, val score: 0.9196572580645161\n",
      "2022-01-16 10:29:08 [INFO]: [EarlyStopper]: In epoch 25/100, accuracy score: 0.9196572580645161, best accuracy score: 0.9232358870967742;accuracy score was not improved\n",
      "2022-01-16 10:29:08 [INFO]: [EarlyStopper]: Current wait count: 1, patience: 10\n",
      "2022-01-16 10:29:08 [INFO]: [ModelCheckpoint]: Checkpoint at epoch 25: accuracy did not improve\n"
     ]
    },
    {
     "name": "stderr",
     "output_type": "stream",
     "text": [
      "\n",
      "Training in epoch 26/100: 100%|██████████| 617/617 [11:38<00:00,  1.13s/batch]\n",
      "Validating in epoch 26/100:  71%|███████   | 110/155 [01:41<00:40,  1.12batch/s]IOPub message rate exceeded.\n",
      "The notebook server will temporarily stop sending output\n",
      "to the client in order to avoid crashing it.\n",
      "To change this limit, set the config variable\n",
      "`--NotebookApp.iopub_msg_rate_limit`.\n",
      "\n",
      "Current values:\n",
      "NotebookApp.iopub_msg_rate_limit=1000.0 (msgs/sec)\n",
      "NotebookApp.rate_limit_window=3.0 (secs)\n",
      "\n",
      "Training in epoch 32/100: 100%|██████████| 617/617 [11:38<00:00,  1.13s/batch]\n",
      "Validating in epoch 32/100: 100%|██████████| 155/155 [02:50<00:00,  1.10s/batch]"
     ]
    },
    {
     "name": "stdout",
     "output_type": "stream",
     "text": [
      "2022-01-16 12:08:45 [INFO]: [EvalScoreRecoder]: In epoch 32/100, loss train score: 0.030005767418455023, val score: 0.3160679514369657\n",
      "2022-01-16 12:08:45 [INFO]: [EvalScoreRecoder]: In epoch 32/100, accuracy train score: 0.9895158022690438, val score: 0.9208165322580645\n",
      "2022-01-16 12:08:45 [INFO]: [EarlyStopper]: In epoch 32/100, accuracy score: 0.9208165322580645, best accuracy score: 0.9310987903225807;accuracy score was not improved\n",
      "2022-01-16 12:08:45 [INFO]: [EarlyStopper]: Current wait count: 1, patience: 10\n",
      "2022-01-16 12:08:45 [INFO]: [ModelCheckpoint]: Checkpoint at epoch 32: accuracy did not improve\n"
     ]
    },
    {
     "name": "stderr",
     "output_type": "stream",
     "text": [
      "\n",
      "Training in epoch 33/100: 100%|██████████| 617/617 [12:48<00:00,  1.25s/batch]\n",
      "Validating in epoch 33/100: 100%|██████████| 155/155 [02:24<00:00,  1.07batch/s]"
     ]
    },
    {
     "name": "stdout",
     "output_type": "stream",
     "text": [
      "2022-01-16 12:23:58 [INFO]: [EvalScoreRecoder]: In epoch 33/100, loss train score: 0.029182107282147367, val score: 0.27545992015830933\n",
      "2022-01-16 12:23:58 [INFO]: [EvalScoreRecoder]: In epoch 33/100, accuracy train score: 0.9897057333873582, val score: 0.9220766129032258\n",
      "2022-01-16 12:23:58 [INFO]: [EarlyStopper]: In epoch 33/100, accuracy score: 0.9220766129032258, best accuracy score: 0.9310987903225807;accuracy score was not improved\n",
      "2022-01-16 12:23:58 [INFO]: [EarlyStopper]: Current wait count: 2, patience: 10\n",
      "2022-01-16 12:23:58 [INFO]: [ModelCheckpoint]: Checkpoint at epoch 33: accuracy did not improve\n"
     ]
    },
    {
     "name": "stderr",
     "output_type": "stream",
     "text": [
      "\n",
      "Training in epoch 34/100: 100%|██████████| 617/617 [12:21<00:00,  1.20s/batch]\n",
      "Validating in epoch 34/100: 100%|██████████| 155/155 [02:21<00:00,  1.10batch/s]"
     ]
    },
    {
     "name": "stdout",
     "output_type": "stream",
     "text": [
      "2022-01-16 12:38:41 [INFO]: [EvalScoreRecoder]: In epoch 34/100, loss train score: 0.032262106911344166, val score: 0.35291328612835177\n",
      "2022-01-16 12:38:41 [INFO]: [EvalScoreRecoder]: In epoch 34/100, accuracy train score: 0.9890219813614263, val score: 0.9080141129032258\n",
      "2022-01-16 12:38:41 [INFO]: [EarlyStopper]: In epoch 34/100, accuracy score: 0.9080141129032258, best accuracy score: 0.9310987903225807;accuracy score was not improved\n",
      "2022-01-16 12:38:41 [INFO]: [EarlyStopper]: Current wait count: 3, patience: 10\n",
      "2022-01-16 12:38:41 [INFO]: [ModelCheckpoint]: Checkpoint at epoch 34: accuracy did not improve\n"
     ]
    },
    {
     "name": "stderr",
     "output_type": "stream",
     "text": [
      "\n",
      "Training in epoch 35/100:  37%|███▋      | 228/617 [04:17<07:17,  1.12s/batch]IOPub message rate exceeded.\n",
      "The notebook server will temporarily stop sending output\n",
      "to the client in order to avoid crashing it.\n",
      "To change this limit, set the config variable\n",
      "`--NotebookApp.iopub_msg_rate_limit`.\n",
      "\n",
      "Current values:\n",
      "NotebookApp.iopub_msg_rate_limit=1000.0 (msgs/sec)\n",
      "NotebookApp.rate_limit_window=3.0 (secs)\n",
      "\n",
      "Training in epoch 40/100: 100%|██████████| 617/617 [11:37<00:00,  1.13s/batch]\n",
      "Validating in epoch 40/100: 100%|██████████| 155/155 [02:23<00:00,  1.08batch/s]"
     ]
    },
    {
     "name": "stdout",
     "output_type": "stream",
     "text": [
      "2022-01-16 14:04:15 [INFO]: [EvalScoreRecoder]: In epoch 40/100, loss train score: 0.03061636242143073, val score: 0.37906442726812056\n",
      "2022-01-16 14:04:15 [INFO]: [EvalScoreRecoder]: In epoch 40/100, accuracy train score: 0.9893891815235009, val score: 0.9148185483870968\n",
      "2022-01-16 14:04:15 [INFO]: [EarlyStopper]: In epoch 40/100, accuracy score: 0.9148185483870968, best accuracy score: 0.9310987903225807;accuracy score was not improved\n",
      "2022-01-16 14:04:15 [INFO]: [EarlyStopper]: Current wait count: 9, patience: 10\n",
      "2022-01-16 14:04:15 [INFO]: [ModelCheckpoint]: Checkpoint at epoch 40: accuracy did not improve\n"
     ]
    },
    {
     "name": "stderr",
     "output_type": "stream",
     "text": [
      "\n",
      "Training in epoch 41/100: 100%|██████████| 617/617 [11:36<00:00,  1.13s/batch]\n",
      "Validating in epoch 41/100: 100%|██████████| 155/155 [02:22<00:00,  1.09batch/s]"
     ]
    },
    {
     "name": "stdout",
     "output_type": "stream",
     "text": [
      "2022-01-16 14:18:15 [INFO]: [EvalScoreRecoder]: In epoch 41/100, loss train score: 0.026298143722062607, val score: 0.3341263793649212\n",
      "2022-01-16 14:18:15 [INFO]: [EvalScoreRecoder]: In epoch 41/100, accuracy train score: 0.9911618719611021, val score: 0.9242943548387097\n",
      "2022-01-16 14:18:15 [INFO]: [EarlyStopper]: In epoch 41/100, accuracy score: 0.9242943548387097, best accuracy score: 0.9310987903225807;accuracy score was not improved\n",
      "2022-01-16 14:18:15 [INFO]: [EarlyStopper]: Current wait count: 10, patience: 10\n",
      "2022-01-16 14:18:15 [INFO]: [EarlyStopper]: Early stopping training: wait 10 >= patience 10 at epoch 41/100\n",
      "2022-01-16 14:18:15 [INFO]: [ModelCheckpoint]: Checkpoint at epoch 41: accuracy did not improve\n",
      "2022-01-16 14:18:15 [INFO]: [EvalScoreRecoder]: loss train socres: [0.5498862090238296, 0.3586247957989308, 0.22489516398412096, 0.15156035586539504, 0.11524667636743434, 0.09186997717303771, 0.08142219247323622, 0.07053250418085381, 0.06284076651872243, 0.05967621591071956, 0.0571397447662739, 0.05145693659054861, 0.04991119128925125, 0.04838806115365565, 0.046434909668320874, 0.043240529190706666, 0.0430311357951157, 0.04235251759959315, 0.04191366239485589, 0.03697785445469367, 0.036734500603306575, 0.03764572520355424, 0.03718889446104945, 0.03620606306049749, 0.03168755310860793, 0.035478260999808095, 0.03310717309099083, 0.031788821328383066, 0.03191033689338394, 0.029945030923165996, 0.030992936503709666, 0.03121501746220662, 0.030005767418455023, 0.029182107282147367, 0.032262106911344166, 0.028755157905958315, 0.02665490334373529, 0.028663836929017323, 0.0289861138285903, 0.029104702467494303, 0.03061636242143073, 0.026298143722062607], val scores: [0.4559137567397087, 0.3593124645371591, 0.32886958833663693, 0.3663598329790177, 0.3482698159352426, 0.3430745813154405, 0.3561995090015473, 0.3166470321916765, 0.36944506283729306, 0.3172980889197319, 0.32819101324965877, 0.3074038492095086, 0.3222797781709702, 0.34925013958446444, 0.331418798911956, 0.31894356488220155, 0.38448054035825113, 0.32106944644643415, 0.3191655641121249, 0.2841153901190527, 0.35959327043064176, 0.339785022312595, 0.36809484175136015, 0.3551478347951366, 0.33594694637483163, 0.3333829377207064, 0.3705822771114688, 0.3179927374927267, 0.31948919200128123, 0.3529623055890683, 0.31062523109778284, 0.2510381947601995, 0.3160679514369657, 0.27545992015830933, 0.35291328612835177, 0.3308448605960415, 0.3512233782199121, 0.3011790279539362, 0.27165575416818744, 0.4752799609015065, 0.37906442726812056, 0.3341263793649212]\n",
      "2022-01-16 14:18:15 [INFO]: [EvalScoreRecoder]: accuracy train socres: [0.7223460291734197, 0.8429902755267423, 0.9093268841166937, 0.9419950364667747, 0.955657414910859, 0.9660276539708266, 0.9700541936790924, 0.9739287884927067, 0.9762965964343598, 0.9785631077795786, 0.9791962115072933, 0.981538695299838, 0.9817539505672609, 0.9828175648298217, 0.9831341166936791, 0.9848308346839546, 0.9843116896272285, 0.9846155794165316, 0.9858691247974068, 0.9870466977309562, 0.987211304700162, 0.9866668354943274, 0.9873126012965965, 0.9873505875202593, 0.9890219813614263, 0.9877304497568882, 0.9886927674230146, 0.9891739262560778, 0.9887814019448946, 0.9897690437601296, 0.9891992504051864, 0.989313209076175, 0.9895158022690438, 0.9897057333873582, 0.9890219813614263, 0.9901995542949756, 0.9907440235008104, 0.9904907820097245, 0.9900476094003241, 0.9902248784440842, 0.9893891815235009, 0.9911618719611021], val scores: [0.7846774193548387, 0.8442036290322581, 0.872429435483871, 0.8846774193548387, 0.8848790322580645, 0.8961189516129032, 0.8921370967741935, 0.9054435483870967, 0.9027217741935484, 0.9134576612903226, 0.9122479838709677, 0.9104334677419355, 0.9084173387096774, 0.9078125, 0.9110887096774194, 0.9119959677419355, 0.8970262096774193, 0.9161290322580645, 0.9131048387096774, 0.9193548387096774, 0.9146673387096774, 0.9219254032258064, 0.9054435483870967, 0.916733870967742, 0.9232358870967742, 0.9196572580645161, 0.9138608870967742, 0.9283770161290322, 0.9159274193548387, 0.9065020161290323, 0.9250504032258065, 0.9310987903225807, 0.9208165322580645, 0.9220766129032258, 0.9080141129032258, 0.9243951612903226, 0.9225302419354838, 0.9214213709677419, 0.9292338709677419, 0.8987903225806452, 0.9148185483870968, 0.9242943548387097]\n",
      "2022-01-16 14:18:15 [INFO]: [EarlyStopper]: Early stopped at the epoch 41/100\n",
      "2022-01-16 14:18:15 [INFO]: End training...\n",
      "2022-01-16 14:18:15 [INFO]: ======================\n",
      "2022-01-16 14:18:15 [INFO]: 1 train round result: {'metrics': ['accuracy'], 'train.score': OrderedDict([('loss', [0.5498862090238296, 0.3586247957989308, 0.22489516398412096, 0.15156035586539504, 0.11524667636743434, 0.09186997717303771, 0.08142219247323622, 0.07053250418085381, 0.06284076651872243, 0.05967621591071956, 0.0571397447662739, 0.05145693659054861, 0.04991119128925125, 0.04838806115365565, 0.046434909668320874, 0.043240529190706666, 0.0430311357951157, 0.04235251759959315, 0.04191366239485589, 0.03697785445469367, 0.036734500603306575, 0.03764572520355424, 0.03718889446104945, 0.03620606306049749, 0.03168755310860793, 0.035478260999808095, 0.03310717309099083, 0.031788821328383066, 0.03191033689338394, 0.029945030923165996, 0.030992936503709666, 0.03121501746220662, 0.030005767418455023, 0.029182107282147367, 0.032262106911344166, 0.028755157905958315, 0.02665490334373529, 0.028663836929017323, 0.0289861138285903, 0.029104702467494303, 0.03061636242143073, 0.026298143722062607]), ('accuracy', [0.7223460291734197, 0.8429902755267423, 0.9093268841166937, 0.9419950364667747, 0.955657414910859, 0.9660276539708266, 0.9700541936790924, 0.9739287884927067, 0.9762965964343598, 0.9785631077795786, 0.9791962115072933, 0.981538695299838, 0.9817539505672609, 0.9828175648298217, 0.9831341166936791, 0.9848308346839546, 0.9843116896272285, 0.9846155794165316, 0.9858691247974068, 0.9870466977309562, 0.987211304700162, 0.9866668354943274, 0.9873126012965965, 0.9873505875202593, 0.9890219813614263, 0.9877304497568882, 0.9886927674230146, 0.9891739262560778, 0.9887814019448946, 0.9897690437601296, 0.9891992504051864, 0.989313209076175, 0.9895158022690438, 0.9897057333873582, 0.9890219813614263, 0.9901995542949756, 0.9907440235008104, 0.9904907820097245, 0.9900476094003241, 0.9902248784440842, 0.9893891815235009, 0.9911618719611021])]), 'val.score': OrderedDict([('loss', [0.4559137567397087, 0.3593124645371591, 0.32886958833663693, 0.3663598329790177, 0.3482698159352426, 0.3430745813154405, 0.3561995090015473, 0.3166470321916765, 0.36944506283729306, 0.3172980889197319, 0.32819101324965877, 0.3074038492095086, 0.3222797781709702, 0.34925013958446444, 0.331418798911956, 0.31894356488220155, 0.38448054035825113, 0.32106944644643415, 0.3191655641121249, 0.2841153901190527, 0.35959327043064176, 0.339785022312595, 0.36809484175136015, 0.3551478347951366, 0.33594694637483163, 0.3333829377207064, 0.3705822771114688, 0.3179927374927267, 0.31948919200128123, 0.3529623055890683, 0.31062523109778284, 0.2510381947601995, 0.3160679514369657, 0.27545992015830933, 0.35291328612835177, 0.3308448605960415, 0.3512233782199121, 0.3011790279539362, 0.27165575416818744, 0.4752799609015065, 0.37906442726812056, 0.3341263793649212]), ('accuracy', [0.7846774193548387, 0.8442036290322581, 0.872429435483871, 0.8846774193548387, 0.8848790322580645, 0.8961189516129032, 0.8921370967741935, 0.9054435483870967, 0.9027217741935484, 0.9134576612903226, 0.9122479838709677, 0.9104334677419355, 0.9084173387096774, 0.9078125, 0.9110887096774194, 0.9119959677419355, 0.8970262096774193, 0.9161290322580645, 0.9131048387096774, 0.9193548387096774, 0.9146673387096774, 0.9219254032258064, 0.9054435483870967, 0.916733870967742, 0.9232358870967742, 0.9196572580645161, 0.9138608870967742, 0.9283770161290322, 0.9159274193548387, 0.9065020161290323, 0.9250504032258065, 0.9310987903225807, 0.9208165322580645, 0.9220766129032258, 0.9080141129032258, 0.9243951612903226, 0.9225302419354838, 0.9214213709677419, 0.9292338709677419, 0.8987903225806452, 0.9148185483870968, 0.9242943548387097])]), 'n_epochs': 100, 'stopped_epoch': 41, 'monitor': 'accuracy', 'best_epoch': 31, 'best_score': 0.9310987903225807, 'best_chk': '../output/exp2/train.1.model_31.chk'}, writing to ../output/exp2/train.1.result.json\n"
     ]
    },
    {
     "name": "stdout",
     "output_type": "stream",
     "text": [
      "2022-01-16 14:18:15 [INFO]: End of 1 train round.\n",
      "2022-01-16 14:18:15 [INFO]: End of 2 train rounds of exp2, collapsed: 14:15:54.386343\n",
      "2022-01-16 14:18:15 [INFO]: ======================\n"
     ]
    },
    {
     "name": "stderr",
     "output_type": "stream",
     "text": [
      "\n"
     ]
    }
   ],
   "source": [
    "experiment.train()"
   ]
  },
  {
   "cell_type": "markdown",
   "metadata": {},
   "source": [
    "## Fine-tuning results"
   ]
  },
  {
   "cell_type": "code",
   "execution_count": 5,
   "metadata": {},
   "outputs": [
    {
     "name": "stdout",
     "output_type": "stream",
     "text": [
      "2022-01-17 19:13:29 [DEBUG]: Loaded backend module://ipykernel.pylab.backend_inline version unknown.\n",
      "Populating the interactive namespace from numpy and matplotlib\n",
      "##############################\n",
      "n_epochs: 150\n",
      "stopped_epoch: 61\n",
      "best_epoch: 46\n",
      "best_score: 0.7748934659090909\n",
      "best_chk: ../output/exp2/train.0.model_46.chk\n",
      "##############################\n",
      "n_epochs: 100\n",
      "stopped_epoch: 41\n",
      "best_epoch: 31\n",
      "best_score: 0.9310987903225807\n",
      "best_chk: ../output/exp2/train.1.model_31.chk\n"
     ]
    },
    {
     "data": {
      "image/png": "[encoded data removed]",
      "text/plain": [
       "<Figure size 720x288 with 2 Axes>"
      ]
     },
     "metadata": {
      "needs_background": "light"
     },
     "output_type": "display_data"
    }
   ],
   "source": [
    "%pylab inline\n",
    "\n",
    "def show_train_result(train_result=None, ax=None, title=None):\n",
    "    df = pd.DataFrame({\n",
    "        'train_loss': train_result['train.score']['loss'],\n",
    "        'val_loss': train_result['val.score']['loss'],\n",
    "        'train_accuracy': train_result['train.score']['accuracy'],\n",
    "        'val_accuracy': train_result['val.score']['accuracy']\n",
    "    })\n",
    "\n",
    "    ax = df.loc[:, ['train_accuracy', 'val_accuracy']].plot(ax=ax, title=title)\n",
    "    bs = train_result['best_score']\n",
    "    n_epochs = train_result['stopped_epoch']\n",
    "    ax.axhline(y=bs, ls='--', c='red')\n",
    "    ax.xaxis.set_major_locator(MaxNLocator(integer=True))\n",
    "    ax.legend([\"Train accuracy\", \"Validation accuracy\", \"Best accuracy = %0.3f\" % bs], prop={\"size\": 11})\n",
    "    \n",
    "    print('##############################')\n",
    "    print('n_epochs: %s' % train_result['n_epochs'])\n",
    "    print('stopped_epoch: %s' % train_result['stopped_epoch'])\n",
    "    print('best_epoch: %s' % train_result['best_epoch'])\n",
    "    print('best_score: %s' % train_result['best_score'])\n",
    "    print('best_chk: %s' % train_result['best_chk'])\n",
    "\n",
    "\n",
    "fig, axes = plt.subplots(nrows=1, ncols=2)\n",
    "fig.set_figwidth(10)\n",
    "fig.set_figheight(4)\n",
    "plt.tight_layout(h_pad=2, w_pad=2)\n",
    "\n",
    "show_train_result(train_result=experiment.get_train_result(0), \n",
    "                  ax=axes[0])\n",
    "show_train_result(train_result=experiment.get_train_result(1), \n",
    "                  ax=axes[1])\n"
   ]
  },
  {
   "cell_type": "markdown",
   "metadata": {},
   "source": [
    "## Loading final fine-tuned model"
   ]
  },
  {
   "cell_type": "code",
   "execution_count": 6,
   "metadata": {},
   "outputs": [
    {
     "name": "stdout",
     "output_type": "stream",
     "text": [
      "2022-01-17 19:13:36 [INFO]: Create TAPE model using config: ../config/bert-base/\n",
      "2022-01-17 19:13:38 [INFO]: Loading the eval model from ../output/exp2/train.1.model_31.chk\n"
     ]
    },
    {
     "data": {
      "text/plain": [
       "BertTCREpitopeModel(\n",
       "  (bert): ProteinBertModel(\n",
       "    (embeddings): ProteinBertEmbeddings(\n",
       "      (word_embeddings): Embedding(30, 768, padding_idx=0)\n",
       "      (position_embeddings): Embedding(8192, 768)\n",
       "      (token_type_embeddings): Embedding(1, 768)\n",
       "      (LayerNorm): LayerNorm()\n",
       "      (dropout): Dropout(p=0.1)\n",
       "    )\n",
       "    (encoder): ProteinBertEncoder(\n",
       "      (layer): ModuleList(\n",
       "        (0): ProteinBertLayer(\n",
       "          (attention): ProteinBertAttention(\n",
       "            (self): ProteinBertSelfAttention(\n",
       "              (query): Linear(in_features=768, out_features=768, bias=True)\n",
       "              (key): Linear(in_features=768, out_features=768, bias=True)\n",
       "              (value): Linear(in_features=768, out_features=768, bias=True)\n",
       "              (dropout): Dropout(p=0.1)\n",
       "            )\n",
       "            (output): ProteinBertSelfOutput(\n",
       "              (dense): Linear(in_features=768, out_features=768, bias=True)\n",
       "              (LayerNorm): LayerNorm()\n",
       "              (dropout): Dropout(p=0.1)\n",
       "            )\n",
       "          )\n",
       "          (intermediate): ProteinBertIntermediate(\n",
       "            (dense): Linear(in_features=768, out_features=3072, bias=True)\n",
       "          )\n",
       "          (output): ProteinBertOutput(\n",
       "            (dense): Linear(in_features=3072, out_features=768, bias=True)\n",
       "            (LayerNorm): LayerNorm()\n",
       "            (dropout): Dropout(p=0.1)\n",
       "          )\n",
       "        )\n",
       "        (1): ProteinBertLayer(\n",
       "          (attention): ProteinBertAttention(\n",
       "            (self): ProteinBertSelfAttention(\n",
       "              (query): Linear(in_features=768, out_features=768, bias=True)\n",
       "              (key): Linear(in_features=768, out_features=768, bias=True)\n",
       "              (value): Linear(in_features=768, out_features=768, bias=True)\n",
       "              (dropout): Dropout(p=0.1)\n",
       "            )\n",
       "            (output): ProteinBertSelfOutput(\n",
       "              (dense): Linear(in_features=768, out_features=768, bias=True)\n",
       "              (LayerNorm): LayerNorm()\n",
       "              (dropout): Dropout(p=0.1)\n",
       "            )\n",
       "          )\n",
       "          (intermediate): ProteinBertIntermediate(\n",
       "            (dense): Linear(in_features=768, out_features=3072, bias=True)\n",
       "          )\n",
       "          (output): ProteinBertOutput(\n",
       "            (dense): Linear(in_features=3072, out_features=768, bias=True)\n",
       "            (LayerNorm): LayerNorm()\n",
       "            (dropout): Dropout(p=0.1)\n",
       "          )\n",
       "        )\n",
       "        (2): ProteinBertLayer(\n",
       "          (attention): ProteinBertAttention(\n",
       "            (self): ProteinBertSelfAttention(\n",
       "              (query): Linear(in_features=768, out_features=768, bias=True)\n",
       "              (key): Linear(in_features=768, out_features=768, bias=True)\n",
       "              (value): Linear(in_features=768, out_features=768, bias=True)\n",
       "              (dropout): Dropout(p=0.1)\n",
       "            )\n",
       "            (output): ProteinBertSelfOutput(\n",
       "              (dense): Linear(in_features=768, out_features=768, bias=True)\n",
       "              (LayerNorm): LayerNorm()\n",
       "              (dropout): Dropout(p=0.1)\n",
       "            )\n",
       "          )\n",
       "          (intermediate): ProteinBertIntermediate(\n",
       "            (dense): Linear(in_features=768, out_features=3072, bias=True)\n",
       "          )\n",
       "          (output): ProteinBertOutput(\n",
       "            (dense): Linear(in_features=3072, out_features=768, bias=True)\n",
       "            (LayerNorm): LayerNorm()\n",
       "            (dropout): Dropout(p=0.1)\n",
       "          )\n",
       "        )\n",
       "        (3): ProteinBertLayer(\n",
       "          (attention): ProteinBertAttention(\n",
       "            (self): ProteinBertSelfAttention(\n",
       "              (query): Linear(in_features=768, out_features=768, bias=True)\n",
       "              (key): Linear(in_features=768, out_features=768, bias=True)\n",
       "              (value): Linear(in_features=768, out_features=768, bias=True)\n",
       "              (dropout): Dropout(p=0.1)\n",
       "            )\n",
       "            (output): ProteinBertSelfOutput(\n",
       "              (dense): Linear(in_features=768, out_features=768, bias=True)\n",
       "              (LayerNorm): LayerNorm()\n",
       "              (dropout): Dropout(p=0.1)\n",
       "            )\n",
       "          )\n",
       "          (intermediate): ProteinBertIntermediate(\n",
       "            (dense): Linear(in_features=768, out_features=3072, bias=True)\n",
       "          )\n",
       "          (output): ProteinBertOutput(\n",
       "            (dense): Linear(in_features=3072, out_features=768, bias=True)\n",
       "            (LayerNorm): LayerNorm()\n",
       "            (dropout): Dropout(p=0.1)\n",
       "          )\n",
       "        )\n",
       "        (4): ProteinBertLayer(\n",
       "          (attention): ProteinBertAttention(\n",
       "            (self): ProteinBertSelfAttention(\n",
       "              (query): Linear(in_features=768, out_features=768, bias=True)\n",
       "              (key): Linear(in_features=768, out_features=768, bias=True)\n",
       "              (value): Linear(in_features=768, out_features=768, bias=True)\n",
       "              (dropout): Dropout(p=0.1)\n",
       "            )\n",
       "            (output): ProteinBertSelfOutput(\n",
       "              (dense): Linear(in_features=768, out_features=768, bias=True)\n",
       "              (LayerNorm): LayerNorm()\n",
       "              (dropout): Dropout(p=0.1)\n",
       "            )\n",
       "          )\n",
       "          (intermediate): ProteinBertIntermediate(\n",
       "            (dense): Linear(in_features=768, out_features=3072, bias=True)\n",
       "          )\n",
       "          (output): ProteinBertOutput(\n",
       "            (dense): Linear(in_features=3072, out_features=768, bias=True)\n",
       "            (LayerNorm): LayerNorm()\n",
       "            (dropout): Dropout(p=0.1)\n",
       "          )\n",
       "        )\n",
       "        (5): ProteinBertLayer(\n",
       "          (attention): ProteinBertAttention(\n",
       "            (self): ProteinBertSelfAttention(\n",
       "              (query): Linear(in_features=768, out_features=768, bias=True)\n",
       "              (key): Linear(in_features=768, out_features=768, bias=True)\n",
       "              (value): Linear(in_features=768, out_features=768, bias=True)\n",
       "              (dropout): Dropout(p=0.1)\n",
       "            )\n",
       "            (output): ProteinBertSelfOutput(\n",
       "              (dense): Linear(in_features=768, out_features=768, bias=True)\n",
       "              (LayerNorm): LayerNorm()\n",
       "              (dropout): Dropout(p=0.1)\n",
       "            )\n",
       "          )\n",
       "          (intermediate): ProteinBertIntermediate(\n",
       "            (dense): Linear(in_features=768, out_features=3072, bias=True)\n",
       "          )\n",
       "          (output): ProteinBertOutput(\n",
       "            (dense): Linear(in_features=3072, out_features=768, bias=True)\n",
       "            (LayerNorm): LayerNorm()\n",
       "            (dropout): Dropout(p=0.1)\n",
       "          )\n",
       "        )\n",
       "        (6): ProteinBertLayer(\n",
       "          (attention): ProteinBertAttention(\n",
       "            (self): ProteinBertSelfAttention(\n",
       "              (query): Linear(in_features=768, out_features=768, bias=True)\n",
       "              (key): Linear(in_features=768, out_features=768, bias=True)\n",
       "              (value): Linear(in_features=768, out_features=768, bias=True)\n",
       "              (dropout): Dropout(p=0.1)\n",
       "            )\n",
       "            (output): ProteinBertSelfOutput(\n",
       "              (dense): Linear(in_features=768, out_features=768, bias=True)\n",
       "              (LayerNorm): LayerNorm()\n",
       "              (dropout): Dropout(p=0.1)\n",
       "            )\n",
       "          )\n",
       "          (intermediate): ProteinBertIntermediate(\n",
       "            (dense): Linear(in_features=768, out_features=3072, bias=True)\n",
       "          )\n",
       "          (output): ProteinBertOutput(\n",
       "            (dense): Linear(in_features=3072, out_features=768, bias=True)\n",
       "            (LayerNorm): LayerNorm()\n",
       "            (dropout): Dropout(p=0.1)\n",
       "          )\n",
       "        )\n",
       "        (7): ProteinBertLayer(\n",
       "          (attention): ProteinBertAttention(\n",
       "            (self): ProteinBertSelfAttention(\n",
       "              (query): Linear(in_features=768, out_features=768, bias=True)\n",
       "              (key): Linear(in_features=768, out_features=768, bias=True)\n",
       "              (value): Linear(in_features=768, out_features=768, bias=True)\n",
       "              (dropout): Dropout(p=0.1)\n",
       "            )\n",
       "            (output): ProteinBertSelfOutput(\n",
       "              (dense): Linear(in_features=768, out_features=768, bias=True)\n",
       "              (LayerNorm): LayerNorm()\n",
       "              (dropout): Dropout(p=0.1)\n",
       "            )\n",
       "          )\n",
       "          (intermediate): ProteinBertIntermediate(\n",
       "            (dense): Linear(in_features=768, out_features=3072, bias=True)\n",
       "          )\n",
       "          (output): ProteinBertOutput(\n",
       "            (dense): Linear(in_features=3072, out_features=768, bias=True)\n",
       "            (LayerNorm): LayerNorm()\n",
       "            (dropout): Dropout(p=0.1)\n",
       "          )\n",
       "        )\n",
       "        (8): ProteinBertLayer(\n",
       "          (attention): ProteinBertAttention(\n",
       "            (self): ProteinBertSelfAttention(\n",
       "              (query): Linear(in_features=768, out_features=768, bias=True)\n",
       "              (key): Linear(in_features=768, out_features=768, bias=True)\n",
       "              (value): Linear(in_features=768, out_features=768, bias=True)\n",
       "              (dropout): Dropout(p=0.1)\n",
       "            )\n",
       "            (output): ProteinBertSelfOutput(\n",
       "              (dense): Linear(in_features=768, out_features=768, bias=True)\n",
       "              (LayerNorm): LayerNorm()\n",
       "              (dropout): Dropout(p=0.1)\n",
       "            )\n",
       "          )\n",
       "          (intermediate): ProteinBertIntermediate(\n",
       "            (dense): Linear(in_features=768, out_features=3072, bias=True)\n",
       "          )\n",
       "          (output): ProteinBertOutput(\n",
       "            (dense): Linear(in_features=3072, out_features=768, bias=True)\n",
       "            (LayerNorm): LayerNorm()\n",
       "            (dropout): Dropout(p=0.1)\n",
       "          )\n",
       "        )\n",
       "        (9): ProteinBertLayer(\n",
       "          (attention): ProteinBertAttention(\n",
       "            (self): ProteinBertSelfAttention(\n",
       "              (query): Linear(in_features=768, out_features=768, bias=True)\n",
       "              (key): Linear(in_features=768, out_features=768, bias=True)\n",
       "              (value): Linear(in_features=768, out_features=768, bias=True)\n",
       "              (dropout): Dropout(p=0.1)\n",
       "            )\n",
       "            (output): ProteinBertSelfOutput(\n",
       "              (dense): Linear(in_features=768, out_features=768, bias=True)\n",
       "              (LayerNorm): LayerNorm()\n",
       "              (dropout): Dropout(p=0.1)\n",
       "            )\n",
       "          )\n",
       "          (intermediate): ProteinBertIntermediate(\n",
       "            (dense): Linear(in_features=768, out_features=3072, bias=True)\n",
       "          )\n",
       "          (output): ProteinBertOutput(\n",
       "            (dense): Linear(in_features=3072, out_features=768, bias=True)\n",
       "            (LayerNorm): LayerNorm()\n",
       "            (dropout): Dropout(p=0.1)\n",
       "          )\n",
       "        )\n",
       "        (10): ProteinBertLayer(\n",
       "          (attention): ProteinBertAttention(\n",
       "            (self): ProteinBertSelfAttention(\n",
       "              (query): Linear(in_features=768, out_features=768, bias=True)\n",
       "              (key): Linear(in_features=768, out_features=768, bias=True)\n",
       "              (value): Linear(in_features=768, out_features=768, bias=True)\n",
       "              (dropout): Dropout(p=0.1)\n",
       "            )\n",
       "            (output): ProteinBertSelfOutput(\n",
       "              (dense): Linear(in_features=768, out_features=768, bias=True)\n",
       "              (LayerNorm): LayerNorm()\n",
       "              (dropout): Dropout(p=0.1)\n",
       "            )\n",
       "          )\n",
       "          (intermediate): ProteinBertIntermediate(\n",
       "            (dense): Linear(in_features=768, out_features=3072, bias=True)\n",
       "          )\n",
       "          (output): ProteinBertOutput(\n",
       "            (dense): Linear(in_features=3072, out_features=768, bias=True)\n",
       "            (LayerNorm): LayerNorm()\n",
       "            (dropout): Dropout(p=0.1)\n",
       "          )\n",
       "        )\n",
       "        (11): ProteinBertLayer(\n",
       "          (attention): ProteinBertAttention(\n",
       "            (self): ProteinBertSelfAttention(\n",
       "              (query): Linear(in_features=768, out_features=768, bias=True)\n",
       "              (key): Linear(in_features=768, out_features=768, bias=True)\n",
       "              (value): Linear(in_features=768, out_features=768, bias=True)\n",
       "              (dropout): Dropout(p=0.1)\n",
       "            )\n",
       "            (output): ProteinBertSelfOutput(\n",
       "              (dense): Linear(in_features=768, out_features=768, bias=True)\n",
       "              (LayerNorm): LayerNorm()\n",
       "              (dropout): Dropout(p=0.1)\n",
       "            )\n",
       "          )\n",
       "          (intermediate): ProteinBertIntermediate(\n",
       "            (dense): Linear(in_features=768, out_features=3072, bias=True)\n",
       "          )\n",
       "          (output): ProteinBertOutput(\n",
       "            (dense): Linear(in_features=3072, out_features=768, bias=True)\n",
       "            (LayerNorm): LayerNorm()\n",
       "            (dropout): Dropout(p=0.1)\n",
       "          )\n",
       "        )\n",
       "      )\n",
       "    )\n",
       "    (pooler): ProteinBertPooler(\n",
       "      (dense): Linear(in_features=768, out_features=768, bias=True)\n",
       "      (activation): Tanh()\n",
       "    )\n",
       "  )\n",
       "  (classifier): SimpleMLP(\n",
       "    (main): Sequential(\n",
       "      (0): Linear(in_features=768, out_features=512, bias=True)\n",
       "      (1): ReLU()\n",
       "      (2): Dropout(p=0.0, inplace)\n",
       "      (3): Linear(in_features=512, out_features=2, bias=True)\n",
       "    )\n",
       "  )\n",
       ")"
      ]
     },
     "metadata": {},
     "output_type": "display_data"
    }
   ],
   "source": [
    "model = experiment.load_eval_model()\n",
    "display(model)\n",
    "\n",
    "# Eval result recoder\n",
    "eval_recoder = PredResultRecoder(output_attentions=True, output_hidden_states=True)\n",
    "model.add_pred_listener(eval_recoder)"
   ]
  },
  {
   "cell_type": "markdown",
   "metadata": {},
   "source": [
    "## Model evaluations"
   ]
  },
  {
   "cell_type": "markdown",
   "metadata": {},
   "source": [
    "### Shomuradova <i>et al.</i>\n",
    "\n",
    "- Performance evaluation for the dataset containing COVID-19 S-protein<sub>266-277</sub>(YLQPRTFLL) epitope-specific CDR3βs from  Shomuradova <i>et al.</i>"
   ]
  },
  {
   "cell_type": "markdown",
   "metadata": {},
   "source": [
    "#### Loading eval dataset"
   ]
  },
  {
   "cell_type": "code",
   "execution_count": 7,
   "metadata": {
    "scrolled": true
   },
   "outputs": [
    {
     "name": "stdout",
     "output_type": "stream",
     "text": [
      "2022-01-17 19:13:52 [INFO]: shomuradova dataset was loaded from ../output/shomuradova.data.csv, df.shape: (610, 9)\n",
      "shomuradova\n"
     ]
    },
    {
     "data": {
      "text/html": [
       "<div>\n",
       "<style scoped>\n",
       "    .dataframe tbody tr th:only-of-type {\n",
       "        vertical-align: middle;\n",
       "    }\n",
       "\n",
       "    .dataframe tbody tr th {\n",
       "        vertical-align: top;\n",
       "    }\n",
       "\n",
       "    .dataframe thead th {\n",
       "        text-align: right;\n",
       "    }\n",
       "</style>\n",
       "<table border=\"1\" class=\"dataframe\">\n",
       "  <thead>\n",
       "    <tr style=\"text-align: right;\">\n",
       "      <th></th>\n",
       "      <th>epitope</th>\n",
       "      <th>epitope_gene</th>\n",
       "      <th>epitope_species</th>\n",
       "      <th>species</th>\n",
       "      <th>cdr3b</th>\n",
       "      <th>mhc</th>\n",
       "      <th>source</th>\n",
       "      <th>label</th>\n",
       "      <th>sentence</th>\n",
       "    </tr>\n",
       "  </thead>\n",
       "  <tbody>\n",
       "    <tr>\n",
       "      <th>YLQPRTFLL_CASSFQNTGELFF</th>\n",
       "      <td>YLQPRTFLL</td>\n",
       "      <td>Spike</td>\n",
       "      <td>SARS-CoV-2</td>\n",
       "      <td>HomoSapiens</td>\n",
       "      <td>CASSFQNTGELFF</td>\n",
       "      <td>HLA-A*02</td>\n",
       "      <td>Shomuradova</td>\n",
       "      <td>1</td>\n",
       "      <td>[2, 28, 15, 20, 19, 21, 23, 10, 15, 15, 7, 5, ...</td>\n",
       "    </tr>\n",
       "    <tr>\n",
       "      <th>YLQPRTFLL_CASSSVNNNEQFF</th>\n",
       "      <td>YLQPRTFLL</td>\n",
       "      <td>Spike</td>\n",
       "      <td>SARS-CoV-2</td>\n",
       "      <td>HomoSapiens</td>\n",
       "      <td>CASSSVNNNEQFF</td>\n",
       "      <td>HLA-A*02</td>\n",
       "      <td>Shomuradova</td>\n",
       "      <td>1</td>\n",
       "      <td>[2, 28, 15, 20, 19, 21, 23, 10, 15, 15, 7, 5, ...</td>\n",
       "    </tr>\n",
       "    <tr>\n",
       "      <th>YLQPRTFLL_CAVGEANTGELFF</th>\n",
       "      <td>YLQPRTFLL</td>\n",
       "      <td>Spike</td>\n",
       "      <td>SARS-CoV-2</td>\n",
       "      <td>HomoSapiens</td>\n",
       "      <td>CAVGEANTGELFF</td>\n",
       "      <td>HLA-A*02</td>\n",
       "      <td>Shomuradova</td>\n",
       "      <td>1</td>\n",
       "      <td>[2, 28, 15, 20, 19, 21, 23, 10, 15, 15, 7, 5, ...</td>\n",
       "    </tr>\n",
       "    <tr>\n",
       "      <th>YLQPRTFLL_CAYQEVNTGELFF</th>\n",
       "      <td>YLQPRTFLL</td>\n",
       "      <td>Spike</td>\n",
       "      <td>SARS-CoV-2</td>\n",
       "      <td>HomoSapiens</td>\n",
       "      <td>CAYQEVNTGELFF</td>\n",
       "      <td>HLA-A*02</td>\n",
       "      <td>Shomuradova</td>\n",
       "      <td>1</td>\n",
       "      <td>[2, 28, 15, 20, 19, 21, 23, 10, 15, 15, 7, 5, ...</td>\n",
       "    </tr>\n",
       "    <tr>\n",
       "      <th>YLQPRTFLL_CSARDDQAVNTGELFF</th>\n",
       "      <td>YLQPRTFLL</td>\n",
       "      <td>Spike</td>\n",
       "      <td>SARS-CoV-2</td>\n",
       "      <td>HomoSapiens</td>\n",
       "      <td>CSARDDQAVNTGELFF</td>\n",
       "      <td>HLA-A*02</td>\n",
       "      <td>Shomuradova</td>\n",
       "      <td>1</td>\n",
       "      <td>[2, 28, 15, 20, 19, 21, 23, 10, 15, 15, 7, 22,...</td>\n",
       "    </tr>\n",
       "  </tbody>\n",
       "</table>\n",
       "</div>"
      ],
      "text/plain": [
       "                              epitope epitope_gene epitope_species  \\\n",
       "YLQPRTFLL_CASSFQNTGELFF     YLQPRTFLL        Spike      SARS-CoV-2   \n",
       "YLQPRTFLL_CASSSVNNNEQFF     YLQPRTFLL        Spike      SARS-CoV-2   \n",
       "YLQPRTFLL_CAVGEANTGELFF     YLQPRTFLL        Spike      SARS-CoV-2   \n",
       "YLQPRTFLL_CAYQEVNTGELFF     YLQPRTFLL        Spike      SARS-CoV-2   \n",
       "YLQPRTFLL_CSARDDQAVNTGELFF  YLQPRTFLL        Spike      SARS-CoV-2   \n",
       "\n",
       "                                species             cdr3b       mhc  \\\n",
       "YLQPRTFLL_CASSFQNTGELFF     HomoSapiens     CASSFQNTGELFF  HLA-A*02   \n",
       "YLQPRTFLL_CASSSVNNNEQFF     HomoSapiens     CASSSVNNNEQFF  HLA-A*02   \n",
       "YLQPRTFLL_CAVGEANTGELFF     HomoSapiens     CAVGEANTGELFF  HLA-A*02   \n",
       "YLQPRTFLL_CAYQEVNTGELFF     HomoSapiens     CAYQEVNTGELFF  HLA-A*02   \n",
       "YLQPRTFLL_CSARDDQAVNTGELFF  HomoSapiens  CSARDDQAVNTGELFF  HLA-A*02   \n",
       "\n",
       "                                 source  label  \\\n",
       "YLQPRTFLL_CASSFQNTGELFF     Shomuradova      1   \n",
       "YLQPRTFLL_CASSSVNNNEQFF     Shomuradova      1   \n",
       "YLQPRTFLL_CAVGEANTGELFF     Shomuradova      1   \n",
       "YLQPRTFLL_CAYQEVNTGELFF     Shomuradova      1   \n",
       "YLQPRTFLL_CSARDDQAVNTGELFF  Shomuradova      1   \n",
       "\n",
       "                                                                     sentence  \n",
       "YLQPRTFLL_CASSFQNTGELFF     [2, 28, 15, 20, 19, 21, 23, 10, 15, 15, 7, 5, ...  \n",
       "YLQPRTFLL_CASSSVNNNEQFF     [2, 28, 15, 20, 19, 21, 23, 10, 15, 15, 7, 5, ...  \n",
       "YLQPRTFLL_CAVGEANTGELFF     [2, 28, 15, 20, 19, 21, 23, 10, 15, 15, 7, 5, ...  \n",
       "YLQPRTFLL_CAYQEVNTGELFF     [2, 28, 15, 20, 19, 21, 23, 10, 15, 15, 7, 5, ...  \n",
       "YLQPRTFLL_CSARDDQAVNTGELFF  [2, 28, 15, 20, 19, 21, 23, 10, 15, 15, 7, 22,...  "
      ]
     },
     "metadata": {},
     "output_type": "display_data"
    },
    {
     "data": {
      "text/plain": [
       "(610, 9)"
      ]
     },
     "metadata": {},
     "output_type": "display_data"
    },
    {
     "ename": "NameError",
     "evalue": "name 'summary_df' is not defined",
     "output_type": "error",
     "traceback": [
      "\u001b[0;31m---------------------------------------------------------------------------\u001b[0m",
      "\u001b[0;31mNameError\u001b[0m                                 Traceback (most recent call last)",
      "\u001b[0;32m<ipython-input-7-0b0d8f600727>\u001b[0m in \u001b[0;36m<module>\u001b[0;34m\u001b[0m\n\u001b[1;32m     12\u001b[0m \u001b[0mprint\u001b[0m\u001b[0;34m(\u001b[0m\u001b[0msh_ds\u001b[0m\u001b[0;34m.\u001b[0m\u001b[0mname\u001b[0m\u001b[0;34m)\u001b[0m\u001b[0;34m\u001b[0m\u001b[0;34m\u001b[0m\u001b[0m\n\u001b[1;32m     13\u001b[0m \u001b[0mdisplay\u001b[0m\u001b[0;34m(\u001b[0m\u001b[0msh_df\u001b[0m\u001b[0;34m.\u001b[0m\u001b[0mhead\u001b[0m\u001b[0;34m(\u001b[0m\u001b[0;34m)\u001b[0m\u001b[0;34m,\u001b[0m \u001b[0msh_df\u001b[0m\u001b[0;34m.\u001b[0m\u001b[0mshape\u001b[0m\u001b[0;34m)\u001b[0m\u001b[0;34m\u001b[0m\u001b[0;34m\u001b[0m\u001b[0m\n\u001b[0;32m---> 14\u001b[0;31m \u001b[0msummary_df\u001b[0m\u001b[0;34m(\u001b[0m\u001b[0msh_df\u001b[0m\u001b[0;34m)\u001b[0m\u001b[0;34m\u001b[0m\u001b[0;34m\u001b[0m\u001b[0m\n\u001b[0m",
      "\u001b[0;31mNameError\u001b[0m: name 'summary_df' is not defined"
     ]
    }
   ],
   "source": [
    "from torch.utils.data import DataLoader\n",
    "from tcrbert.dataset import TCREpitopeSentenceDataset\n",
    "import numpy as np\n",
    "from tcrbert.dataset import CN\n",
    "from tcrbert.bioseq import write_fa\n",
    "\n",
    "epitope = 'YLQPRTFLL'\n",
    "\n",
    "sh_ds = TCREpitopeSentenceDataset.from_key('shomuradova')\n",
    "sh_df = sh_ds.df_enc\n",
    "\n",
    "print(sh_ds.name)\n",
    "display(sh_df.head(), sh_df.shape)\n",
    "summary_df(sh_df)"
   ]
  },
  {
   "cell_type": "markdown",
   "metadata": {},
   "source": [
    "#### Performance evaluation for Shomuradova dataset"
   ]
  },
  {
   "cell_type": "code",
   "execution_count": 8,
   "metadata": {},
   "outputs": [
    {
     "name": "stdout",
     "output_type": "stream",
     "text": [
      "2022-01-17 19:13:59 [DEBUG]: Loaded backend module://ipykernel.pylab.backend_inline version unknown.\n",
      "Populating the interactive namespace from numpy and matplotlib\n",
      "2022-01-17 19:13:59 [INFO]: ======================\n",
      "2022-01-17 19:13:59 [INFO]: Begin predict...\n",
      "2022-01-17 19:13:59 [INFO]: use_cuda, device: False, cpu\n",
      "2022-01-17 19:13:59 [INFO]: n_data: 610\n",
      "2022-01-17 19:13:59 [INFO]: batch_size: 610\n",
      "2022-01-17 19:13:59 [INFO]: [PredResultRecoder]: on_predict_begin...\n",
      "2022-01-17 19:14:00 [INFO]: Begin 0/1 prediction batch\n",
      "2022-01-17 19:14:12 [INFO]: End 0/1 prediction batch\n",
      "2022-01-17 19:14:12 [INFO]: [PredResultRecoder]: on_predict_end...\n",
      "2022-01-17 19:14:13 [INFO]: Done to predict...\n",
      "2022-01-17 19:14:13 [INFO]: ======================\n",
      "score_map: OrderedDict([('accuracy', 0.9426229508196722), ('f1', 0.9427168576104746), ('roc_auc', 0.9674227358237033)])\n"
     ]
    },
    {
     "data": {
      "text/plain": [
       "<matplotlib.legend.Legend at 0x7fcd547c1bd0>"
      ]
     },
     "execution_count": 8,
     "metadata": {},
     "output_type": "execute_result"
    },
    {
     "data": {
      "image/png": "[encoded data removed]",
      "text/plain": [
       "<Figure size 432x288 with 1 Axes>"
      ]
     },
     "metadata": {
      "needs_background": "light"
     },
     "output_type": "display_data"
    }
   ],
   "source": [
    "%pylab inline\n",
    "\n",
    "import matplotlib.pyplot as plt\n",
    "import seaborn as sns\n",
    "from sklearn.metrics import roc_curve, auc\n",
    "import numpy as np\n",
    "\n",
    "metrics = ['accuracy', 'f1', 'roc_auc']\n",
    "\n",
    "data_loader = DataLoader(sh_ds, batch_size=len(sh_ds), shuffle=False, num_workers=2)\n",
    "model.predict(data_loader=data_loader, metrics=metrics)\n",
    "print('score_map: %s' % eval_recoder.result_map['score_map'])\n",
    "\n",
    "input_labels  = np.array(eval_recoder.result_map['input_labels'])\n",
    "output_labels = np.array(eval_recoder.result_map['output_labels'])\n",
    "output_probs  = np.array(eval_recoder.result_map['output_probs'])\n",
    "\n",
    "fpr, tpr, _ = roc_curve(input_labels, output_probs)\n",
    "score = auc(fpr, tpr)\n",
    "plt.plot(fpr, tpr, color='darkorange', label='ROC curve (AUROC = %0.3f)' % score)\n",
    "plt.plot([0, 1], [0, 1], color='navy', linestyle='--')\n",
    "plt.xlim([0.0, 1.0])\n",
    "plt.ylim([0.0, 1.05])\n",
    "plt.xlabel('False Positive Rate')\n",
    "plt.ylabel('True Positive Rate')\n",
    "plt.legend(loc=\"lower right\")\n",
    "\n",
    "\n",
    "\n",
    "# Epitope-specific ROC curves\n",
    "# epitopes = sh_df[CN.epitope].unique()\n",
    "\n",
    "# fig, axes = plt.subplots(nrows=epitopes.shape[0], ncols=1)\n",
    "# fig.set_figwidth(5)\n",
    "# fig.set_figheight(4*len(epitopes))\n",
    "# plt.tight_layout(h_pad=5, w_pad=3)\n",
    "\n",
    "# for i, epitope in enumerate(epitopes):\n",
    "#     indices = np.where(sh_df[CN.epitope] == epitope)[0]\n",
    "# #     title = '%s-specific CDR3βs' % epitope\n",
    "#     print(indices, len(indices))\n",
    "#     title = None\n",
    "#     ax = axes[i] if epitopes.shape[0] > 1 else axes\n",
    "#     show_roc_curve(input_labels[indices], output_probs[indices], title=title, ax=ax)"
   ]
  },
  {
   "cell_type": "markdown",
   "metadata": {},
   "source": [
    "#### Investigating position-wise attention weights \n",
    "\n",
    "##### Selecting target CDR3β sequences with most common lengths and predicted as a binder"
   ]
  },
  {
   "cell_type": "code",
   "execution_count": 10,
   "metadata": {
    "scrolled": false
   },
   "outputs": [
    {
     "name": "stdout",
     "output_type": "stream",
     "text": [
      "2022-01-17 19:17:05 [DEBUG]: Loaded backend module://ipykernel.pylab.backend_inline version unknown.\n",
      "Populating the interactive namespace from numpy and matplotlib\n",
      "cum_ratio: 157/306=0.5130718954248366\n",
      "target_indices for 13: [  0   1   2   3   7  11  13  18  19  20  21  22  23  24  25  27  28  32\n",
      "  33  35  37  38  39  43  51  52  57  59  62  65  67  70  71  72  74  75\n",
      "  76  78  79  81  82  88  89  90  91  92  93  94  97  99 100 110 111 113\n",
      " 115 117 118 119 120 122 123 124 129 134 138 139 142 146 147 149 150 153\n",
      " 154 155 156 158 160 161 162 168 169 170 172 173 174 175 176 177 178 179\n",
      " 180 185 186 188 189 190 192 193 194 197 198 201 202 203 205 207 211 213\n",
      " 214 217 219 220 223 225 228 231 232 233 234 235 237 238 239 240 243 244\n",
      " 245 247 250 251 252 256 260 261 263 266 267 268 270 271 273 275 277 279\n",
      " 280 287 289 290 291 292 294 295 296 298 299 341 533](157)\n",
      "cum_ratio: 223/306=0.7287581699346405\n",
      "target_indices for 16: [  4  16  29  40  41  42  44  53  56  60  61  63  68  83  96 103 105 106\n",
      " 107 108 112 114 121 132 133 157 164 165 167 171 182 184 191 199 200 204\n",
      " 208 212 215 216 224 226 236 241 249 253 255 257 259 264 265 269 272 276\n",
      " 278 282 283 284 286 293 300 301 302 303 304 384](66)\n",
      "cum_ratio: 262/306=0.8562091503267973\n",
      "target_indices for 11: [  6   8  10  12  14  17  26  36  48  50  55  58  64  69  77  85  86  95\n",
      "  98 130 135 141 143 163 187 195 196 206 210 227 229 246 248 258 262 340\n",
      " 370 403 471](39)\n",
      "cum_ratio: 288/306=0.9411764705882353\n",
      "cum_ratio: 294/306=0.9607843137254902\n",
      "cum_ratio: 299/306=0.9771241830065359\n",
      "cum_ratio: 303/306=0.9901960784313726\n",
      "cum_ratio: 305/306=0.9967320261437909\n",
      "cum_ratio: 306/306=1.0\n"
     ]
    },
    {
     "data": {
      "image/png": "[encoded data removed]",
      "text/plain": [
       "<Figure size 432x288 with 1 Axes>"
      ]
     },
     "metadata": {
      "needs_background": "light"
     },
     "output_type": "display_data"
    }
   ],
   "source": [
    "%pylab inline\n",
    "\n",
    "import matplotlib.pyplot as plt\n",
    "import matplotlib.image as image\n",
    "\n",
    "import seaborn as sns\n",
    "from collections import Counter, OrderedDict\n",
    "\n",
    "pos_indices = np.where(output_labels == 1)[0]\n",
    "# print('pos_indices: %s(%s)' % (pos_indices, str(pos_indices.shape)))\n",
    "pos_cdr3b = sh_df[CN.cdr3b].values[pos_indices]\n",
    "\n",
    "##########################################\n",
    "lens, cnts = zip(*sorted(Counter(map(lambda x: len(x), pos_cdr3b)).items()))\n",
    "lens = np.array(lens)\n",
    "cnts = np.array(cnts)\n",
    "ax = sns.barplot(x=lens, y=cnts, color='blue')\n",
    "ax.set_title('Length distribution of postives')\n",
    "ax.set_xlabel('CDR3β sequence length')\n",
    "ax.set_ylabel('# of positives')\n",
    "\n",
    "# Select target indices by cdr3b sequence lenghts\n",
    "target_index_map = OrderedDict()\n",
    "order = np.argsort(cnts)[::-1]\n",
    "cum_cnt = 0\n",
    "for cur_len, cur_cnt in zip(lens[order], cnts[order]):\n",
    "    cum_cnt += cur_cnt\n",
    "    cum_ratio = cum_cnt/pos_indices.shape[0]\n",
    "    print('cum_ratio: %s/%s=%s' % (cum_cnt, pos_indices.shape[0], cum_ratio))\n",
    "    if cum_ratio < 0.9:\n",
    "        target_indices = np.where((output_labels == 1) & (sh_df[CN.cdr3b].map(lambda x: len(x) == cur_len)))[0]\n",
    "        print('target_indices for %s: %s(%s)' % (cur_len, target_indices, target_indices.shape[0]))\n",
    "        target_index_map[cur_len] = target_indices\n",
    "\n"
   ]
  },
  {
   "cell_type": "markdown",
   "metadata": {},
   "source": [
    "##### Marginalized position-wise attention weights for target YLQPRTFLL-CDR3b sequences \n",
    "\n",
    "- The output attention weights have the dimension $(L, N, H, S, S)$, where $L$ is the number of encoding layers, $N$ is the number of YLQPRTFLL-CDR3β sequence pairs, $H$ is the number of attention heads, and $S$ is the fixed-length of the sequences. The attention weights were marginalized into a one-dimensional vector of length of $S$. A value of the vector at the position $m$, $Am$ is given by the following equation:\n",
    "\n",
    "<img src='res/eq1.png' width='50%'>"
   ]
  },
  {
   "cell_type": "code",
   "execution_count": 11,
   "metadata": {
    "scrolled": false
   },
   "outputs": [
    {
     "name": "stdout",
     "output_type": "stream",
     "text": [
      "2022-01-17 19:17:11 [DEBUG]: Loaded backend module://ipykernel.pylab.backend_inline version unknown.\n",
      "Populating the interactive namespace from numpy and matplotlib\n",
      "attentions.shape: (12, 610, 12, 40, 40)\n",
      "Attention weights for 13: [0.01857969 0.01608891 0.01522762 0.02285156 0.01858175 0.01607358\n",
      " 0.01993643 0.01840888 0.01978891 0.02223462 0.01997541 0.03262524\n",
      " 0.0320103  0.03778747 0.04262293 0.05515851 0.03633889 0.0483207\n",
      " 0.02764955 0.0266127  0.02590605 0.03014962]\n",
      "Attention weights for 16: [0.01668394 0.01544639 0.01556776 0.0215202  0.01998964 0.01596806\n",
      " 0.01910153 0.01814754 0.01929475 0.02076946 0.01722507 0.02359793\n",
      " 0.03035075 0.04555447 0.04556603 0.03579038 0.03457143 0.05084242\n",
      " 0.04540806 0.02894336 0.03042705 0.02411234 0.02291851 0.02369691\n",
      " 0.02745543]\n",
      "Attention weights for 11: [0.01744298 0.01738786 0.01578622 0.02205473 0.01861345 0.01549458\n",
      " 0.02331311 0.01942356 0.01961776 0.02062225 0.01925286 0.02269144\n",
      " 0.02741531 0.06748258 0.04008263 0.0343192  0.03731755 0.04109722\n",
      " 0.03632968 0.032736  ]\n"
     ]
    },
    {
     "data": {
      "image/png": "[encoded data removed]",
      "text/plain": [
       "<Figure size 504x864 with 3 Axes>"
      ]
     },
     "metadata": {
      "needs_background": "light"
     },
     "output_type": "display_data"
    }
   ],
   "source": [
    "%pylab inline\n",
    "\n",
    "# n_layers = model.config.num_hidden_layers\n",
    "# n_data = len(eval_ds)\n",
    "# n_heads = model.config.num_attention_heads\n",
    "# max_len = eval_ds.max_len\n",
    "\n",
    "epitope_len = len(epitope)\n",
    "\n",
    "attentions = eval_recoder.result_map['attentions']\n",
    "# attentions.shape: (n_layers, n_data, n_heads, max_len, max_len)\n",
    "print('attentions.shape: %s' % str(attentions.shape))\n",
    "\n",
    "# target_attn_map = OrderedDict()\n",
    "\n",
    "fig, axes = plt.subplots(nrows=3, ncols=1)\n",
    "fig.set_figwidth(7)\n",
    "fig.set_figheight(12)\n",
    "plt.tight_layout(h_pad=3, w_pad=3)\n",
    "\n",
    "for i, (cur_len, cur_indices) in enumerate(target_index_map.items()):\n",
    "    attns = attentions[:, cur_indices]\n",
    "    sent_len = epitope_len + cur_len\n",
    "    \n",
    "    # Position-wise marginal attentions by mean\n",
    "    attns = np.mean(attns, axis=(0, 1, 2, 3))[1:sent_len+1]\n",
    "    print('Attention weights for %s: %s' % (cur_len, attns))\n",
    "    \n",
    "    ax = pd.Series(attns).plot(kind='bar', ax=axes[i], rot=0)\n",
    "    ax.set_title('%smer CDR3β sequences' % cur_len)\n",
    "\n",
    "    ticks = list(epitope) + list(range(1, cur_len + 1))\n",
    "    mark_ratio = 0.1\n",
    "    mark_pos = []\n",
    "\n",
    "    for rank, pos in enumerate(np.argsort(attns[:epitope_len])[::-1]):\n",
    "        if rank < (epitope_len*mark_ratio):\n",
    "            ticks[pos] = '%s\\n•' % (ticks[pos])\n",
    "            mark_pos.append(pos)\n",
    "\n",
    "    for rank, pos in enumerate(np.argsort(attns[epitope_len:])[::-1]):\n",
    "        if rank < (cur_len*mark_ratio):\n",
    "            ticks[epitope_len+pos] = '%s\\n•' % (ticks[epitope_len+pos])\n",
    "            mark_pos.append(epitope_len+pos)\n",
    "\n",
    "    ax.set_xticklabels(ticks) \n",
    "    for i, tick in enumerate(ax.get_xticklabels()):\n",
    "        if i < epitope_len:\n",
    "            tick.set_color('green')\n",
    "        else:\n",
    "            tick.set_color('black')\n",
    "        if i in mark_pos:\n",
    "            tick.set_color('darkred')"
   ]
  },
  {
   "cell_type": "markdown",
   "metadata": {},
   "source": [
    "### ImmuneCODE dataset\n",
    "\n",
    "-  The dataset contained 718 COVID-19 S-protein<sub>269-277</sub>-specific TCRs from the ImmuneRACE study launched by Adaptive Biotechnologies and Microsoft (https://immunerace.adaptivebiotech.com, June 10, 2020 dataset, from hereafter referred to as ImmuneCODE dataset"
   ]
  },
  {
   "cell_type": "markdown",
   "metadata": {},
   "source": [
    "#### Loading eval dataset"
   ]
  },
  {
   "cell_type": "code",
   "execution_count": 12,
   "metadata": {},
   "outputs": [
    {
     "name": "stdout",
     "output_type": "stream",
     "text": [
      "2022-01-17 19:17:27 [INFO]: immunecode dataset was loaded from ../output/immunecode.data.csv, df.shape: (742, 9)\n"
     ]
    },
    {
     "data": {
      "text/plain": [
       "'immunecode'"
      ]
     },
     "metadata": {},
     "output_type": "display_data"
    },
    {
     "data": {
      "text/plain": [
       "742"
      ]
     },
     "metadata": {},
     "output_type": "display_data"
    },
    {
     "name": "stdout",
     "output_type": "stream",
     "text": [
      "After removing duplicates, len(im_ds): 718\n"
     ]
    },
    {
     "data": {
      "text/html": [
       "<div>\n",
       "<style scoped>\n",
       "    .dataframe tbody tr th:only-of-type {\n",
       "        vertical-align: middle;\n",
       "    }\n",
       "\n",
       "    .dataframe tbody tr th {\n",
       "        vertical-align: top;\n",
       "    }\n",
       "\n",
       "    .dataframe thead th {\n",
       "        text-align: right;\n",
       "    }\n",
       "</style>\n",
       "<table border=\"1\" class=\"dataframe\">\n",
       "  <thead>\n",
       "    <tr style=\"text-align: right;\">\n",
       "      <th></th>\n",
       "      <th>epitope</th>\n",
       "      <th>epitope_gene</th>\n",
       "      <th>epitope_species</th>\n",
       "      <th>species</th>\n",
       "      <th>cdr3b</th>\n",
       "      <th>mhc</th>\n",
       "      <th>source</th>\n",
       "      <th>label</th>\n",
       "      <th>sentence</th>\n",
       "    </tr>\n",
       "  </thead>\n",
       "  <tbody>\n",
       "    <tr>\n",
       "      <th>YLQPRTFLL_CAKGLANTGELFF</th>\n",
       "      <td>YLQPRTFLL</td>\n",
       "      <td>Spike</td>\n",
       "      <td>SARS-CoV-2</td>\n",
       "      <td>human</td>\n",
       "      <td>CAKGLANTGELFF</td>\n",
       "      <td>NaN</td>\n",
       "      <td>ImmuneCODE</td>\n",
       "      <td>1</td>\n",
       "      <td>[2, 28, 15, 20, 19, 21, 23, 10, 15, 15, 7, 5, ...</td>\n",
       "    </tr>\n",
       "    <tr>\n",
       "      <th>YLQPRTFLL_RKQWQGEETQYF</th>\n",
       "      <td>YLQPRTFLL</td>\n",
       "      <td>Spike</td>\n",
       "      <td>SARS-CoV-2</td>\n",
       "      <td>human</td>\n",
       "      <td>RKQWQGEETQYF</td>\n",
       "      <td>NaN</td>\n",
       "      <td>ImmuneCODE</td>\n",
       "      <td>1</td>\n",
       "      <td>[2, 28, 15, 20, 19, 21, 23, 10, 15, 15, 21, 14...</td>\n",
       "    </tr>\n",
       "    <tr>\n",
       "      <th>YLQPRTFLL_CASSYRNTGELFF</th>\n",
       "      <td>YLQPRTFLL</td>\n",
       "      <td>Spike</td>\n",
       "      <td>SARS-CoV-2</td>\n",
       "      <td>human</td>\n",
       "      <td>CASSYRNTGELFF</td>\n",
       "      <td>NaN</td>\n",
       "      <td>ImmuneCODE</td>\n",
       "      <td>1</td>\n",
       "      <td>[2, 28, 15, 20, 19, 21, 23, 10, 15, 15, 7, 5, ...</td>\n",
       "    </tr>\n",
       "    <tr>\n",
       "      <th>YLQPRTFLL_CSARDNWAVNTGELFF</th>\n",
       "      <td>YLQPRTFLL</td>\n",
       "      <td>Spike</td>\n",
       "      <td>SARS-CoV-2</td>\n",
       "      <td>human</td>\n",
       "      <td>CSARDNWAVNTGELFF</td>\n",
       "      <td>NaN</td>\n",
       "      <td>ImmuneCODE</td>\n",
       "      <td>1</td>\n",
       "      <td>[2, 28, 15, 20, 19, 21, 23, 10, 15, 15, 7, 22,...</td>\n",
       "    </tr>\n",
       "    <tr>\n",
       "      <th>YLQPRTFLL_CSAREREGQGANTGELFF</th>\n",
       "      <td>YLQPRTFLL</td>\n",
       "      <td>Spike</td>\n",
       "      <td>SARS-CoV-2</td>\n",
       "      <td>human</td>\n",
       "      <td>CSAREREGQGANTGELFF</td>\n",
       "      <td>NaN</td>\n",
       "      <td>ImmuneCODE</td>\n",
       "      <td>1</td>\n",
       "      <td>[2, 28, 15, 20, 19, 21, 23, 10, 15, 15, 7, 22,...</td>\n",
       "    </tr>\n",
       "  </tbody>\n",
       "</table>\n",
       "</div>"
      ],
      "text/plain": [
       "                                epitope epitope_gene epitope_species species  \\\n",
       "YLQPRTFLL_CAKGLANTGELFF       YLQPRTFLL        Spike      SARS-CoV-2   human   \n",
       "YLQPRTFLL_RKQWQGEETQYF        YLQPRTFLL        Spike      SARS-CoV-2   human   \n",
       "YLQPRTFLL_CASSYRNTGELFF       YLQPRTFLL        Spike      SARS-CoV-2   human   \n",
       "YLQPRTFLL_CSARDNWAVNTGELFF    YLQPRTFLL        Spike      SARS-CoV-2   human   \n",
       "YLQPRTFLL_CSAREREGQGANTGELFF  YLQPRTFLL        Spike      SARS-CoV-2   human   \n",
       "\n",
       "                                           cdr3b  mhc      source  label  \\\n",
       "YLQPRTFLL_CAKGLANTGELFF            CAKGLANTGELFF  NaN  ImmuneCODE      1   \n",
       "YLQPRTFLL_RKQWQGEETQYF              RKQWQGEETQYF  NaN  ImmuneCODE      1   \n",
       "YLQPRTFLL_CASSYRNTGELFF            CASSYRNTGELFF  NaN  ImmuneCODE      1   \n",
       "YLQPRTFLL_CSARDNWAVNTGELFF      CSARDNWAVNTGELFF  NaN  ImmuneCODE      1   \n",
       "YLQPRTFLL_CSAREREGQGANTGELFF  CSAREREGQGANTGELFF  NaN  ImmuneCODE      1   \n",
       "\n",
       "                                                                       sentence  \n",
       "YLQPRTFLL_CAKGLANTGELFF       [2, 28, 15, 20, 19, 21, 23, 10, 15, 15, 7, 5, ...  \n",
       "YLQPRTFLL_RKQWQGEETQYF        [2, 28, 15, 20, 19, 21, 23, 10, 15, 15, 21, 14...  \n",
       "YLQPRTFLL_CASSYRNTGELFF       [2, 28, 15, 20, 19, 21, 23, 10, 15, 15, 7, 5, ...  \n",
       "YLQPRTFLL_CSARDNWAVNTGELFF    [2, 28, 15, 20, 19, 21, 23, 10, 15, 15, 7, 22,...  \n",
       "YLQPRTFLL_CSAREREGQGANTGELFF  [2, 28, 15, 20, 19, 21, 23, 10, 15, 15, 7, 22,...  "
      ]
     },
     "metadata": {},
     "output_type": "display_data"
    },
    {
     "data": {
      "text/plain": [
       "(718, 9)"
      ]
     },
     "metadata": {},
     "output_type": "display_data"
    }
   ],
   "source": [
    "im_ds = TCREpitopeSentenceDataset.from_key('immunecode')\n",
    "display(im_ds.name, len(im_ds))\n",
    "\n",
    "# Remove duplicated CDR3beta seqs with Shomuradova\n",
    "im_ds.df_enc = im_ds.df_enc[\n",
    "        im_ds.df_enc[CN.cdr3b].map(lambda seq: seq not in sh_df[CN.cdr3b].values)\n",
    "]\n",
    "im_df = im_ds.df_enc\n",
    "print('After removing duplicates, len(im_ds): %s' % len(im_ds))\n",
    "display(im_df.head(), im_df.shape)"
   ]
  },
  {
   "cell_type": "markdown",
   "metadata": {},
   "source": [
    "#### Performance evaluation for the ImmuneCODE dataset"
   ]
  },
  {
   "cell_type": "code",
   "execution_count": 13,
   "metadata": {},
   "outputs": [
    {
     "name": "stdout",
     "output_type": "stream",
     "text": [
      "2022-01-17 19:17:31 [DEBUG]: Loaded backend module://ipykernel.pylab.backend_inline version unknown.\n",
      "Populating the interactive namespace from numpy and matplotlib\n",
      "2022-01-17 19:17:31 [INFO]: ======================\n",
      "2022-01-17 19:17:31 [INFO]: Begin predict...\n",
      "2022-01-17 19:17:31 [INFO]: use_cuda, device: False, cpu\n",
      "2022-01-17 19:17:31 [INFO]: n_data: 718\n",
      "2022-01-17 19:17:31 [INFO]: batch_size: 718\n",
      "2022-01-17 19:17:31 [INFO]: [PredResultRecoder]: on_predict_begin...\n",
      "2022-01-17 19:17:31 [INFO]: Begin 0/1 prediction batch\n",
      "2022-01-17 19:17:42 [INFO]: End 0/1 prediction batch\n",
      "2022-01-17 19:17:42 [INFO]: [PredResultRecoder]: on_predict_end...\n",
      "2022-01-17 19:17:43 [INFO]: Done to predict...\n",
      "2022-01-17 19:17:43 [INFO]: ======================\n",
      "score_map: OrderedDict([('accuracy', 0.9554317548746518), ('f1', 0.9513677811550151), ('roc_auc', 0.9824616948092557)])\n"
     ]
    },
    {
     "data": {
      "image/png": "[encoded data removed]",
      "text/plain": [
       "<Figure size 432x288 with 1 Axes>"
      ]
     },
     "metadata": {
      "needs_background": "light"
     },
     "output_type": "display_data"
    }
   ],
   "source": [
    "%pylab inline\n",
    "\n",
    "from sklearn.metrics import roc_curve, auc\n",
    "\n",
    "data_loader = DataLoader(im_ds, batch_size=len(im_ds), shuffle=False, num_workers=2)\n",
    "model.predict(data_loader=data_loader, metrics=metrics)\n",
    "\n",
    "input_labels  = np.array(eval_recoder.result_map['input_labels'])\n",
    "output_labels = np.array(eval_recoder.result_map['output_labels'])\n",
    "output_probs  = np.array(eval_recoder.result_map['output_probs'])\n",
    "\n",
    "fpr, tpr, _ = roc_curve(input_labels, output_probs)\n",
    "score = auc(fpr, tpr)\n",
    "plt.plot(fpr, tpr, color='darkorange', label='ROC curve (AUROC = %0.3f)' % score)\n",
    "plt.plot([0, 1], [0, 1], color='navy', linestyle='--')\n",
    "plt.xlim([0.0, 1.0])\n",
    "plt.ylim([0.0, 1.05])\n",
    "plt.xlabel('False Positive Rate')\n",
    "plt.ylabel('True Positive Rate')\n",
    "plt.legend(loc=\"lower right\")\n",
    "\n",
    "print('score_map: %s' % eval_recoder.result_map['score_map'])"
   ]
  },
  {
   "cell_type": "markdown",
   "metadata": {},
   "source": [
    "#### Investigating position-wise attention weights\n",
    "\n",
    "##### Selecting target CDR3β sequences with most common lengths and predicted as a binder"
   ]
  },
  {
   "cell_type": "code",
   "execution_count": 14,
   "metadata": {},
   "outputs": [
    {
     "name": "stdout",
     "output_type": "stream",
     "text": [
      "2022-01-17 19:17:50 [DEBUG]: Loaded backend module://ipykernel.pylab.backend_inline version unknown.\n",
      "Populating the interactive namespace from numpy and matplotlib\n",
      "cum_ratio: 160/330=0.48484848484848486\n",
      "target_indices for 13: [  0   2   5   9  10  11  16  17  21  23  26  27  28  30  32  33  36  40\n",
      "  41  42  43  44  45  46  47  48  51  55  56  60  65  68  69  71  72  74\n",
      "  75  77  81  84  85  86  87  90  93  94 100 105 106 107 109 110 111 113\n",
      " 114 115 118 126 127 129 131 133 135 138 140 145 147 148 151 154 156 157\n",
      " 163 166 167 168 170 172 174 175 176 177 181 183 184 188 190 191 192 194\n",
      " 196 199 200 201 202 203 204 207 208 209 210 211 216 219 220 222 223 224\n",
      " 226 230 231 233 234 235 239 240 254 255 256 258 259 260 261 263 264 265\n",
      " 269 280 281 282 283 286 289 290 292 293 295 297 298 299 304 306 308 310\n",
      " 312 314 317 318 319 320 321 323 324 325 326 327 406 500 548 648](160)\n",
      "cum_ratio: 217/330=0.6575757575757576\n",
      "target_indices for 14: [  7  22  29  37  39  49  52  53  54  78  83  88 101 102 103 104 108 117\n",
      " 120 128 134 136 142 144 150 152 160 161 164 178 179 185 186 193 205 212\n",
      " 213 229 236 238 242 248 273 279 285 287 291 294 296 300 303 485 499 505\n",
      " 654 656 701](57)\n",
      "cum_ratio: 273/330=0.8272727272727273\n",
      "target_indices for 16: [  3  12  13  14  24  25  35  38  58  61  64  67  73  79  80  89  91  92\n",
      "  95  96  98 116 122 124 125 130 137 139 141 149 153 158 162 165 182 197\n",
      " 198 206 214 217 228 232 237 241 245 250 271 275 277 288 302 305 307 311\n",
      " 316 693](56)\n",
      "cum_ratio: 291/330=0.8818181818181818\n",
      "cum_ratio: 306/330=0.9272727272727272\n",
      "cum_ratio: 316/330=0.9575757575757575\n",
      "cum_ratio: 322/330=0.9757575757575757\n",
      "cum_ratio: 325/330=0.9848484848484849\n",
      "cum_ratio: 328/330=0.9939393939393939\n",
      "cum_ratio: 330/330=1.0\n"
     ]
    },
    {
     "data": {
      "image/png": "[encoded data removed]",
      "text/plain": [
       "<Figure size 432x288 with 1 Axes>"
      ]
     },
     "metadata": {
      "needs_background": "light"
     },
     "output_type": "display_data"
    }
   ],
   "source": [
    "%pylab inline\n",
    "\n",
    "import matplotlib.pyplot as plt\n",
    "import matplotlib.image as image\n",
    "\n",
    "import seaborn as sns\n",
    "from collections import Counter, OrderedDict\n",
    "\n",
    "pos_indices = np.where(output_labels == 1)[0]\n",
    "# print('pos_indices: %s(%s)' % (pos_indices, str(pos_indices.shape)))\n",
    "pos_cdr3b = im_df[CN.cdr3b].values[pos_indices]\n",
    "\n",
    "##########################################\n",
    "lens, cnts = zip(*sorted(Counter(map(lambda x: len(x), pos_cdr3b)).items()))\n",
    "lens = np.array(lens)\n",
    "cnts = np.array(cnts)\n",
    "ax = sns.barplot(x=lens, y=cnts, color='blue')\n",
    "ax.set_title('Length distribution of postives')\n",
    "ax.set_xlabel('Length')\n",
    "\n",
    "# Select target indices by cdr3b sequence lenghts\n",
    "target_index_map = OrderedDict()\n",
    "order = np.argsort(cnts)[::-1]\n",
    "cum_cnt = 0\n",
    "for cur_len, cur_cnt in zip(lens[order], cnts[order]):\n",
    "    cum_cnt += cur_cnt\n",
    "    cum_ratio = cum_cnt/pos_indices.shape[0]\n",
    "    print('cum_ratio: %s/%s=%s' % (cum_cnt, pos_indices.shape[0], cum_ratio))\n",
    "    if cum_ratio < 0.85:\n",
    "        target_indices = np.where((output_labels == 1) & (im_df[CN.cdr3b].map(lambda x: len(x) == cur_len)))[0]\n",
    "        print('target_indices for %s: %s(%s)' % (cur_len, target_indices, target_indices.shape[0]))\n",
    "        target_index_map[cur_len] = target_indices\n"
   ]
  },
  {
   "cell_type": "markdown",
   "metadata": {},
   "source": [
    "##### Marginalized position-wise attention weights for target YLQPRTFLL-CDR3b sequences "
   ]
  },
  {
   "cell_type": "code",
   "execution_count": 15,
   "metadata": {},
   "outputs": [
    {
     "name": "stdout",
     "output_type": "stream",
     "text": [
      "2022-01-17 19:18:04 [DEBUG]: Loaded backend module://ipykernel.pylab.backend_inline version unknown.\n",
      "Populating the interactive namespace from numpy and matplotlib\n",
      "attentions.shape: (12, 718, 12, 40, 40)\n",
      "Current attns for 13: [0.01609692 0.01436776 0.01488411 0.01865865 0.01734455 0.01548417\n",
      " 0.01684564 0.01673322 0.0185993  0.02003878 0.02078352 0.03398889\n",
      " 0.03523092 0.03877414 0.04921979 0.06128518 0.04138045 0.05139939\n",
      " 0.02828386 0.02826191 0.02514153 0.02958469]\n",
      "Current attns for 14: [0.01450143 0.01437897 0.01488407 0.01868124 0.01796681 0.01544771\n",
      " 0.01690106 0.01672353 0.01860502 0.01816808 0.02176429 0.03026599\n",
      " 0.03929647 0.04900951 0.0498584  0.04653533 0.05862032 0.03780203\n",
      " 0.04023939 0.02593344 0.02519988 0.02555866 0.02683307]\n",
      "Current attns for 16: [0.01378501 0.01367887 0.01553274 0.01802229 0.0185974  0.01591694\n",
      " 0.01604366 0.01628189 0.01784639 0.01817388 0.01758859 0.02384215\n",
      " 0.03162965 0.05057425 0.04514423 0.04008093 0.03969992 0.05278721\n",
      " 0.05383489 0.03045659 0.03284474 0.02505937 0.02276264 0.02214646\n",
      " 0.02584156]\n"
     ]
    },
    {
     "data": {
      "image/png": "[encoded data removed]",
      "text/plain": [
       "<Figure size 504x864 with 3 Axes>"
      ]
     },
     "metadata": {
      "needs_background": "light"
     },
     "output_type": "display_data"
    }
   ],
   "source": [
    "%pylab inline\n",
    "\n",
    "# n_layers = model.config.num_hidden_layers\n",
    "# n_data = len(eval_ds)\n",
    "# n_heads = model.config.num_attention_heads\n",
    "# max_len = eval_ds.max_len\n",
    "\n",
    "epitope_len = len(epitope)\n",
    "\n",
    "attentions = eval_recoder.result_map['attentions']\n",
    "# attentions.shape: (n_layers, n_data, n_heads, max_len, max_len)\n",
    "print('attentions.shape: %s' % str(attentions.shape))\n",
    "\n",
    "# target_attn_map = OrderedDict()\n",
    "\n",
    "fig, axes = plt.subplots(nrows=3, ncols=1)\n",
    "fig.set_figwidth(7)\n",
    "fig.set_figheight(12)\n",
    "plt.tight_layout(h_pad=3, w_pad=3)\n",
    "\n",
    "for i, (cur_len, cur_indices) in enumerate(target_index_map.items()):\n",
    "    attns = attentions[:, cur_indices]\n",
    "    sent_len = epitope_len + cur_len\n",
    "    \n",
    "    # Position-wise marginal attentions by mean\n",
    "    attns = np.mean(attns[-10:], axis=(0, 1, 2, 3))[1:sent_len+1]\n",
    "    print('Current attns for %s: %s' % (cur_len, attns))\n",
    "    \n",
    "    ax = pd.Series(attns).plot(kind='bar', ax=axes[i], rot=0)\n",
    "    ax.set_title('%smer CDR3β sequences' % cur_len)\n",
    "\n",
    "    ticks = list(epitope) + list(range(1, cur_len + 1))\n",
    "    mark_ratio = 0.1\n",
    "    mark_pos = []\n",
    "\n",
    "    for rank, pos in enumerate(np.argsort(attns[:epitope_len])[::-1]):\n",
    "        if rank < (epitope_len*mark_ratio):\n",
    "            ticks[pos] = '%s\\n•' % (ticks[pos])\n",
    "            mark_pos.append(pos)\n",
    "\n",
    "    for rank, pos in enumerate(np.argsort(attns[epitope_len:])[::-1]):\n",
    "        if rank < (cur_len*mark_ratio):\n",
    "            ticks[epitope_len+pos] = '%s\\n•' % (ticks[epitope_len+pos])\n",
    "            mark_pos.append(epitope_len+pos)\n",
    "\n",
    "    ax.set_xticklabels(ticks) \n",
    "    for i, tick in enumerate(ax.get_xticklabels()):\n",
    "        if i < epitope_len:\n",
    "            tick.set_color('darkgreen')\n",
    "        else:\n",
    "            tick.set_color('black')\n",
    "        if i in mark_pos:\n",
    "            tick.set_color('darkred')\n",
    "    "
   ]
  },
  {
   "cell_type": "markdown",
   "metadata": {},
   "source": [
    "### Performance evaluation for the dataset from Lu, T. et al\n",
    "\n",
    "- Performance evaluation for independent test dataset from the recent pMHC-TCR interaction study[Lu, T. et al, 2021]\n",
    "- The dataset contains 619 pMHC-TCR sequence pairs compiled from VDJdb\n",
    "- The same number of negative examples were added\n",
    "- Lu, T., Zhang, Z., Zhu, J. et al. Deep learning-based prediction of the T cell receptor–antigen binding specificity. Nat Mach Intell 3, 864–875 (2021). https://doi.org/10.1038/s42256-021-00383-2\n"
   ]
  },
  {
   "cell_type": "code",
   "execution_count": 17,
   "metadata": {
    "pycharm": {
     "name": "#%%\n"
    },
    "scrolled": true
   },
   "outputs": [
    {
     "name": "stdout",
     "output_type": "stream",
     "text": [
      "2022-01-17 19:19:32 [INFO]: pTMnet dataset was loaded from ../output/pTMnet.data.csv, df.shape: (1198, 10)\n"
     ]
    },
    {
     "data": {
      "text/plain": [
       "'pTMnet'"
      ]
     },
     "metadata": {},
     "output_type": "display_data"
    },
    {
     "data": {
      "text/plain": [
       "1198"
      ]
     },
     "metadata": {},
     "output_type": "display_data"
    },
    {
     "data": {
      "text/html": [
       "<div>\n",
       "<style scoped>\n",
       "    .dataframe tbody tr th:only-of-type {\n",
       "        vertical-align: middle;\n",
       "    }\n",
       "\n",
       "    .dataframe tbody tr th {\n",
       "        vertical-align: top;\n",
       "    }\n",
       "\n",
       "    .dataframe thead th {\n",
       "        text-align: right;\n",
       "    }\n",
       "</style>\n",
       "<table border=\"1\" class=\"dataframe\">\n",
       "  <thead>\n",
       "    <tr style=\"text-align: right;\">\n",
       "      <th></th>\n",
       "      <th>epitope</th>\n",
       "      <th>epitope_gene</th>\n",
       "      <th>epitope_species</th>\n",
       "      <th>species</th>\n",
       "      <th>cdr3b</th>\n",
       "      <th>mhc</th>\n",
       "      <th>source</th>\n",
       "      <th>ref_id</th>\n",
       "      <th>label</th>\n",
       "      <th>sentence</th>\n",
       "    </tr>\n",
       "  </thead>\n",
       "  <tbody>\n",
       "    <tr>\n",
       "      <th>SMLGIGIYPV_CASSLSFGTEAFF</th>\n",
       "      <td>SMLGIGIYPV</td>\n",
       "      <td>NaN</td>\n",
       "      <td>NaN</td>\n",
       "      <td>NaN</td>\n",
       "      <td>CASSLSFGTEAFF</td>\n",
       "      <td>A*02:01</td>\n",
       "      <td>pTMnet</td>\n",
       "      <td>lu2021deep</td>\n",
       "      <td>1</td>\n",
       "      <td>[2, 22, 16, 15, 11, 13, 11, 13, 28, 19, 25, 7,...</td>\n",
       "    </tr>\n",
       "    <tr>\n",
       "      <th>LMFDRGMSLL_CASSLSFGTEAFF</th>\n",
       "      <td>LMFDRGMSLL</td>\n",
       "      <td>NaN</td>\n",
       "      <td>NaN</td>\n",
       "      <td>NaN</td>\n",
       "      <td>CASSLSFGTEAFF</td>\n",
       "      <td>A*02:01</td>\n",
       "      <td>pTMnet</td>\n",
       "      <td>lu2021deep</td>\n",
       "      <td>1</td>\n",
       "      <td>[2, 15, 16, 10, 8, 21, 11, 16, 22, 15, 15, 7, ...</td>\n",
       "    </tr>\n",
       "    <tr>\n",
       "      <th>ILEDRGFNQV_CASSLSFGTEAFF</th>\n",
       "      <td>ILEDRGFNQV</td>\n",
       "      <td>NaN</td>\n",
       "      <td>NaN</td>\n",
       "      <td>NaN</td>\n",
       "      <td>CASSLSFGTEAFF</td>\n",
       "      <td>A*02:01</td>\n",
       "      <td>pTMnet</td>\n",
       "      <td>lu2021deep</td>\n",
       "      <td>1</td>\n",
       "      <td>[2, 13, 15, 9, 8, 21, 11, 10, 17, 20, 25, 7, 5...</td>\n",
       "    </tr>\n",
       "    <tr>\n",
       "      <th>MMWDRGLGMM_CASSLSFGTEAFF</th>\n",
       "      <td>MMWDRGLGMM</td>\n",
       "      <td>NaN</td>\n",
       "      <td>NaN</td>\n",
       "      <td>NaN</td>\n",
       "      <td>CASSLSFGTEAFF</td>\n",
       "      <td>A*02:01</td>\n",
       "      <td>pTMnet</td>\n",
       "      <td>lu2021deep</td>\n",
       "      <td>1</td>\n",
       "      <td>[2, 16, 16, 26, 8, 21, 11, 15, 11, 16, 16, 7, ...</td>\n",
       "    </tr>\n",
       "    <tr>\n",
       "      <th>NLSNLGILPV_CASSLSFGTEAFF</th>\n",
       "      <td>NLSNLGILPV</td>\n",
       "      <td>NaN</td>\n",
       "      <td>NaN</td>\n",
       "      <td>NaN</td>\n",
       "      <td>CASSLSFGTEAFF</td>\n",
       "      <td>A*02:01</td>\n",
       "      <td>pTMnet</td>\n",
       "      <td>lu2021deep</td>\n",
       "      <td>1</td>\n",
       "      <td>[2, 17, 15, 22, 17, 15, 11, 13, 15, 19, 25, 7,...</td>\n",
       "    </tr>\n",
       "  </tbody>\n",
       "</table>\n",
       "</div>"
      ],
      "text/plain": [
       "                             epitope  epitope_gene  epitope_species  species  \\\n",
       "SMLGIGIYPV_CASSLSFGTEAFF  SMLGIGIYPV           NaN              NaN      NaN   \n",
       "LMFDRGMSLL_CASSLSFGTEAFF  LMFDRGMSLL           NaN              NaN      NaN   \n",
       "ILEDRGFNQV_CASSLSFGTEAFF  ILEDRGFNQV           NaN              NaN      NaN   \n",
       "MMWDRGLGMM_CASSLSFGTEAFF  MMWDRGLGMM           NaN              NaN      NaN   \n",
       "NLSNLGILPV_CASSLSFGTEAFF  NLSNLGILPV           NaN              NaN      NaN   \n",
       "\n",
       "                                  cdr3b      mhc  source      ref_id  label  \\\n",
       "SMLGIGIYPV_CASSLSFGTEAFF  CASSLSFGTEAFF  A*02:01  pTMnet  lu2021deep      1   \n",
       "LMFDRGMSLL_CASSLSFGTEAFF  CASSLSFGTEAFF  A*02:01  pTMnet  lu2021deep      1   \n",
       "ILEDRGFNQV_CASSLSFGTEAFF  CASSLSFGTEAFF  A*02:01  pTMnet  lu2021deep      1   \n",
       "MMWDRGLGMM_CASSLSFGTEAFF  CASSLSFGTEAFF  A*02:01  pTMnet  lu2021deep      1   \n",
       "NLSNLGILPV_CASSLSFGTEAFF  CASSLSFGTEAFF  A*02:01  pTMnet  lu2021deep      1   \n",
       "\n",
       "                                                                   sentence  \n",
       "SMLGIGIYPV_CASSLSFGTEAFF  [2, 22, 16, 15, 11, 13, 11, 13, 28, 19, 25, 7,...  \n",
       "LMFDRGMSLL_CASSLSFGTEAFF  [2, 15, 16, 10, 8, 21, 11, 16, 22, 15, 15, 7, ...  \n",
       "ILEDRGFNQV_CASSLSFGTEAFF  [2, 13, 15, 9, 8, 21, 11, 10, 17, 20, 25, 7, 5...  \n",
       "MMWDRGLGMM_CASSLSFGTEAFF  [2, 16, 16, 26, 8, 21, 11, 15, 11, 16, 16, 7, ...  \n",
       "NLSNLGILPV_CASSLSFGTEAFF  [2, 17, 15, 22, 17, 15, 11, 13, 15, 19, 25, 7,...  "
      ]
     },
     "metadata": {},
     "output_type": "display_data"
    },
    {
     "data": {
      "text/plain": [
       "(1198, 10)"
      ]
     },
     "metadata": {},
     "output_type": "display_data"
    }
   ],
   "source": [
    "\n",
    "pm_ds = TCREpitopeSentenceDataset.from_key('pTMnet')\n",
    "display(pm_ds.name, len(pm_ds))\n",
    "\n",
    "pm_df = pm_ds.df_enc\n",
    "display(pm_df.head(), pm_df.shape)"
   ]
  },
  {
   "cell_type": "code",
   "execution_count": 18,
   "metadata": {
    "pycharm": {
     "name": "#%%\n"
    }
   },
   "outputs": [
    {
     "name": "stdout",
     "output_type": "stream",
     "text": [
      "2022-01-17 19:19:34 [DEBUG]: Loaded backend module://ipykernel.pylab.backend_inline version unknown.\n",
      "Populating the interactive namespace from numpy and matplotlib\n",
      "2022-01-17 19:19:34 [INFO]: ======================\n",
      "2022-01-17 19:19:34 [INFO]: Begin predict...\n",
      "2022-01-17 19:19:34 [INFO]: use_cuda, device: False, cpu\n",
      "2022-01-17 19:19:34 [INFO]: n_data: 1198\n",
      "2022-01-17 19:19:34 [INFO]: batch_size: 1198\n",
      "2022-01-17 19:19:34 [INFO]: [PredResultRecoder]: on_predict_begin...\n",
      "2022-01-17 19:19:35 [INFO]: Begin 0/1 prediction batch\n",
      "2022-01-17 19:19:54 [INFO]: End 0/1 prediction batch\n",
      "2022-01-17 19:19:55 [INFO]: [PredResultRecoder]: on_predict_end...\n",
      "2022-01-17 19:19:57 [INFO]: Done to predict...\n",
      "2022-01-17 19:19:57 [INFO]: ======================\n",
      "score_map: OrderedDict([('accuracy', 0.9649415692821369), ('f1', 0.964824120603015), ('roc_auc', 0.985157510709279)])\n"
     ]
    },
    {
     "data": {
      "image/png": "[encoded data removed]",
      "text/plain": [
       "<Figure size 432x288 with 1 Axes>"
      ]
     },
     "metadata": {
      "needs_background": "light"
     },
     "output_type": "display_data"
    }
   ],
   "source": [
    "%pylab inline\n",
    "\n",
    "from sklearn.metrics import roc_curve, auc\n",
    "\n",
    "data_loader = DataLoader(pm_ds, batch_size=len(pm_ds), shuffle=False, num_workers=2)\n",
    "model.predict(data_loader=data_loader, metrics=metrics)\n",
    "\n",
    "input_labels  = np.array(eval_recoder.result_map['input_labels'])\n",
    "output_labels = np.array(eval_recoder.result_map['output_labels'])\n",
    "output_probs  = np.array(eval_recoder.result_map['output_probs'])\n",
    "\n",
    "fpr, tpr, _ = roc_curve(input_labels, output_probs)\n",
    "score = auc(fpr, tpr)\n",
    "plt.plot(fpr, tpr, color='darkorange', label='ROC curve (AUROC = %0.3f)' % score)\n",
    "plt.plot([0, 1], [0, 1], color='navy', linestyle='--')\n",
    "plt.xlim([0.0, 1.0])\n",
    "plt.ylim([0.0, 1.05])\n",
    "plt.xlabel('False Positive Rate')\n",
    "plt.ylabel('True Positive Rate')\n",
    "plt.legend(loc=\"lower right\")\n",
    "print('score_map: %s' % eval_recoder.result_map['score_map'])\n"
   ]
  }
 ],
 "metadata": {
  "kernelspec": {
   "display_name": "Python 3",
   "language": "python",
   "name": "python3"
  },
  "language_info": {
   "codemirror_mode": {
    "name": "ipython",
    "version": 3
   },
   "file_extension": ".py",
   "mimetype": "text/x-python",
   "name": "python",
   "nbconvert_exporter": "python",
   "pygments_lexer": "ipython3",
   "version": "3.7.8"
  },
  "toc": {
   "base_numbering": 1,
   "nav_menu": {},
   "number_sections": true,
   "sideBar": true,
   "skip_h1_title": false,
   "title_cell": "Table of Contents",
   "title_sidebar": "Contents",
   "toc_cell": false,
   "toc_position": {},
   "toc_section_display": true,
   "toc_window_display": true
  },
  "varInspector": {
   "cols": {
    "lenName": 16,
    "lenType": 16,
    "lenVar": 40
   },
   "kernels_config": {
    "python": {
     "delete_cmd_postfix": "",
     "delete_cmd_prefix": "del ",
     "library": "var_list.py",
     "varRefreshCmd": "print(var_dic_list())"
    },
    "r": {
     "delete_cmd_postfix": ") ",
     "delete_cmd_prefix": "rm(",
     "library": "var_list.r",
     "varRefreshCmd": "cat(var_dic_list()) "
    }
   },
   "position": {
    "height": "639px",
    "left": "1740px",
    "right": "20px",
    "top": "120px",
    "width": "800px"
   },
   "types_to_exclude": [
    "module",
    "function",
    "builtin_function_or_method",
    "instance",
    "_Feature"
   ],
   "window_display": false
  }
 },
 "nbformat": 4,
 "nbformat_minor": 1
}
